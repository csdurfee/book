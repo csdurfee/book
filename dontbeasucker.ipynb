{
 "cells": [
  {
   "cell_type": "code",
   "execution_count": 5,
   "metadata": {},
   "outputs": [],
   "source": [
    "import numpy as np\n",
    "import matplotlib.pyplot as plt\n",
    "import pandas as pd\n",
    "import texttable\n",
    "import scipy"
   ]
  },
  {
   "cell_type": "code",
   "execution_count": 6,
   "metadata": {},
   "outputs": [],
   "source": [
    "import scrape_sbr"
   ]
  },
  {
   "cell_type": "code",
   "execution_count": 8,
   "metadata": {},
   "outputs": [],
   "source": [
    "# we must offer our prayers to RNGsus\n",
    "rng = np.random.default_rng(2718)\n",
    "np.random.seed(2718)"
   ]
  },
  {
   "cell_type": "markdown",
   "metadata": {},
   "source": [
    "# Don't Be a Sucker\n",
    "Casey Durfee\n",
    "\n",
    "## Intro\n",
    "This started because I got tired of people talking about their gambling losses online. Why talk about how you lost money doing something that you should have known would lose you money? Every season there are more ads and more talk about gambling, and it's definitely making sports worse. \n",
    "\n",
    "It contributes to this environment where the meta -- the stats, the highlights, the talking points -- are more important than the competition itself, and that's sad. Athletes shouldn't be treated like malfunctioning random number generators.\n",
    "\n",
    "So I was curious about how it worked. I am not a gambling expert. Before this project, my exposure to sports gambling was mainly being annoyed at the constant advertising.\n",
    "\n",
    "I'm trying to convey a little common sense and intuition about how this stuff works. There are a whole lot of thought experiments, dubious philosophical insights, and silly jokes.\n",
    "\n",
    "I've tried to avoid too much formal stuff, instead running little simulations to explain ideas. I hope it's fairly approachable, but not too much. Because gambling is all math after a couple of bets. So maybe I can help people transfer their irrational math anxiety into rational betting anxiety. Math can be your pal. The casinos can't.\n",
    "\n",
    "## The Disclaimer\n",
    "Gambling can be addictive. Anyone can become an addict. Addiction is not a question of intelligence or virtue. \n",
    "\n",
    "Maybe you're saying, \"I don't know I'm going to lose\". True, but you're also not going to bet one time, especially if you win. What happens over the long term? Betting is about statistics, not feelings, and the sportsbooks are better at that than you are, especially in the heat of the moment.\n",
    "\n",
    "Want to try betting without the losses? Just do it on paper. What's the downside? People play board games with fake money and trade stocks with fake money and still have fun. OK, a lot of family Monopoly games end in tears, but nobody's broke in real life at the end.\n",
    "\n",
    "As you'll see, the bets that sportsbooks push on naive gamblers are guaranteed losers in the long run, regardless of skill. Even if you know more about sports than the average bettor, you're still probably going to lose money. \n",
    "\n",
    "I would guess maybe 1% of bettors make money long term. The estimate I see online is 3% are successful, but that seems way too high. I would guess it's more like an MLM at less than 1% success rate. It's definitely not a 50/50 split between winners and losers. I wonder if that naive assumption drives some people to bet."
   ]
  },
  {
   "cell_type": "markdown",
   "metadata": {},
   "source": [
    "### Free Life Advice\n",
    "*Definition of Insanity (Casey's Version)*:\n",
    "\n",
    "> If you're doing what everybody else does, you'll get the results everybody else does. \n",
    "\n",
    "Do with that what you will. Maybe get that as a back tattoo. Everybody else isn't doing that!\n",
    "\n",
    "### Games of skill and chance\n",
    "Sports gambling was legalized on the premise that it's a game of skill. People were told it's not like \"real gambling\" where the winner is randomly decided. Of course, the lottery isn't a game of skill and that's legal almost everywhere.\n",
    "\n",
    "It's supposedly about who knows more about sports. And that's plausible. Sports-knowing is a sort of skill. Making predictions about the future that are better than random is a skill, too. Maybe there's some sort of American civic virtue in the combination of the two.\n",
    "\n",
    "Of course, \"Grifting the Rubes\" is also an American civic virtue, of a sort.\n",
    "\n",
    "![never give a sucker an even break movie poster, from wikipedia](img/sucker.jpg)\n",
    "\n",
    "\"You wanna bet on it\" is a primal reaction to somebody saying something you think is wrong about sports. I get it. \n",
    "\n",
    "I remember back in 2016, getting in a disagreement with somebody online over whether Andre Drummond or Nikola Jokic would be the better NBA player in the long run. He didn't want to make a bet on it, unfortunately. I think Drummond was an All-Star that year and Jokic was still a nobody. He would often get winded after about 5 minutes and commit a silly foul so he could get subbed out. I should've gotten pretty good odds on it. \n",
    "\n",
    "### Dutch Books\n",
    "\"You wanna bet on it\" is also the key to an idea in the area where philosophy and economics meet called Decision Theory [1].  Both economists and philosophers have a keen professional interest in what is or isn't rational behavior. It makes things way messier if you have to account for people who behave in ways that don't follow logical patterns. Economists need perfectly rational human beings even more than they need perfectly spherical cows. \n",
    "\n",
    "I've seen some awfully fat cows, but I've never seen a perfectly logical human.\n",
    "\n",
    "How do you determine whether an individual made the right choice for themselves? Sometimes, it's a subjective judgement based on what the individual values. But, the theory goes, if betting according to a person's stated beliefs would be guaranteed to lose them money, their beliefs are irrational. Not because you or I think they're irrational, but because they violate the rules of probability theory and logic, and lead to these guaranteed losing bets. Look, I'm not saying you're crazy, Abraham De Moivre is!\n",
    "\n",
    "This is called the Dutch Book Theorem. \"Making a book\" means a situation where you are guaranteed to win money no matter the outcome, and a Dutch Book is specifically when you'll make the exact same amount either way. A bookie with an equal amount of money on both sides of a bet has made a Dutch Book. They're getting paid the same amount regardless of who wins.\n",
    "\n",
    "It's basically a rigorous, formal definition of a sucker: someone who is guaranteed to lose money because of their garbage beliefs."
   ]
  },
  {
   "cell_type": "markdown",
   "metadata": {},
   "source": [
    "### Game Recognize Game Theory\n",
    "The Dutch Book Theorem was created by a guy named [Frank P. Ramsey](https://en.wikipedia.org/wiki/Frank_Ramsey_(mathematician)). He made major contributions to philosophy, economics, and math by the age of 26. He died in 1930 after swimming in a polluted river and contracting a disease. \n",
    "\n",
    "He's basically the Len Bias of math. It hurts to just imagine if he had lived another 10 years and got to play in the Computer Science era. Can you imagine him and Turing on the floor together? And [Russell](https://en.wikipedia.org/wiki/Bertrand_Russell) playing Center?  Good luck [halting](https://en.wikipedia.org/wiki/Halting_problem) that. Dude would have gotten 40 a night. \n",
    "\n",
    "No way [Nash](https://en.wikipedia.org/wiki/John_Forbes_Nash_Jr.) is  [winning](https://en.wikipedia.org/wiki/Abel_Prize) two [MVP's](https://en.wikipedia.org/wiki/Nobel_Memorial_Prize_in_Economic_Sciences) if Ramsey didn't die so young.\n",
    "\n",
    "![the homie, fp ramsey](img/homie.jpg)\n",
    "\n",
    "This won't be his only appearance."
   ]
  },
  {
   "cell_type": "markdown",
   "metadata": {},
   "source": [
    "\n",
    "### The pleasure is to play, makes no difference what you say\n",
    "Can you really do a Dutch Book argument against someone betting Nephew Doug's can't miss 4 team parlay? Aren't they getting pleasure out of it, regardless of outcome? \n",
    "\n",
    "I accept you can't really say it has a negative expected value for the individual. If a gambler's goal is to lose money in an entertaining fashion rather than make money, then maybe they aren't irrational for betting the Nephew Doug way. \n",
    "\n",
    "But there's a dark side to this. People aren't paying thousands of dollars to buy picks because they want to lose money in a more fun way. They do it because they think it will make them money in the long run.\n",
    "\n",
    "Here's a particularly egregious promise from one pick seller (who charges $1200 a year for his picks):\n",
    "\n",
    "> \" If you follow ______'s advice by playing his selections you are going to find yourself making a decent second income from gambling. If you are working full-time, have a family, or have other interests, then you can't possibly put in the time required to win at sports-betting. Don't let this opportunity pass you by, hop on board with ___ and start cashing now!\" [13]\n",
    "\n",
    "That's borderline criminal.\n",
    "\n",
    "Is a teaser that's almost guaranteed to lose money more entertaining than a bunch of regular bets? I don't know how you value that. Seems like 4 little thrills, each with a 50% of winning would be better than 1 big thrill with a 6.25% of winning. I only know that gamblers who bet regularly are supposedly doing it to make money.\n",
    "\n",
    "I don't know that betting small amounts every once in a while is all that irrational. You can do that knowing you'll probably lose money, and probably brings some extra fun to a game you'd enjoy anyway. If somebody's betting habitually with negative expected value despite saying they want to make money, I think that's a clear Dutch Book situation. \n",
    "\n",
    "By losing all the time, these people are also funding the sportsbooks making sports crappier for the rest of us. I'm sure a lot of them loved sports before they got co-opted by an addictive habit. So, hate the game, not the player, I guess.\n",
    "\n",
    "### Guaranteed Losers\n",
    "\n",
    "Some types of bets will lose money over the long term, even for skilled bettor. These are the ones that get pushed the hardest: parlays, prop bets, teasers, in-game betting.\n",
    "\n",
    "If nothine else, I hope you will understand why these types of bets are extra bad. Nobody actually trying to make money would take them. They are games of chance, not games of skill, and have negative expected value, often worse than playing craps or baccarat in a casino. \n",
    "\n",
    "They may as well be rigged carnival games. If you take the wrong types of bets, your skill or knowledge doesn't matter. They are losers for everybody who can't see the future. If you really can see the future, and you're using those magical powers to decide who's going to win a random Hornets-Pacers game, I don't know what to tell you."
   ]
  },
  {
   "cell_type": "markdown",
   "metadata": {},
   "source": [
    "\n",
    "### The spread and other gambling nonsense\n",
    "I will be discussing betting on point spreads on the NBA. The idea behind a point spread is that while both teams might not be equally likely to win the game, there's some difference in score, some handicap that could be given to the better team so that both outcomes are equally likely. \n",
    "\n",
    "If you're playing \"HORSE\" against a child, you might offer to start at \"HOR\" to make the contest more interesting. I mean, you're still hustling the kid, because little Billy has no way of knowing your jumper's [wet](https://www.espn.com/espnw/news/story/_/id/6608288/nba-playoffs-finals-word-nba-slang), but at least it's a contest on paper.\n",
    "\n",
    "Say a really good NBA team is playing a really bad one. The really good team might win 90% of the time, which isn't interesting to bet for most people. But they might beat the other team by over 10 points 50% of the time, though. So a fair point spread for that game would be -10. If the favorites win by more than 10, the favorite wins. if they win by less than 10 or lose outright, the underdog side wins. \n",
    "\n",
    "Both sides of the bet are more interesting if it's a 50/50 thing. The math is nicer, too!\n",
    "\n",
    "\"Handicapping\" is estimating the point spread, and sports bettors are really betting on whether the handicapper's estimate of the final point differential is too high or too low, rather than betting for a specific team. \n",
    "\n",
    "There are many other ways of betting on sports besides the spread, but it's probably the least bad option, as we shall see, and the math is the simplest to understand, which means the bookie has less of an inherent edge.\n",
    "\n",
    "\"Units\" are a way to talk about gains and losses in a way that isn't tied to the amount of money you started out with or the bet size you take.\n",
    "\n",
    "I will try to avoid other gambling lingo, which isn't necessary and really only serves to make betting seem like a cool activity that you can get good at by learning a bunch of gambling lore. It's not. It's all bullshit, and probably makes you worse."
   ]
  },
  {
   "cell_type": "markdown",
   "metadata": {},
   "source": [
    "### The Vig\n",
    "For the type of bets I'm discussing here, you have to risk slightly more than you win. That difference is called the vig and is the way the sportsbook makes money. Sometimes it is called \"the juice\".\n",
    "\n",
    "That means you have to win more often than you lose in order to just break even. [Your Uncle Juice](https://www.youtube.com/watch?v=726Ujz_KOHE) is not, in fact, a good man. How much more? \n",
    "\n",
    "Let's do the math. Let \"WP\" be winning percentage and \"LP\" be losing percentage. Those have to add up to 100. Let's find the break-even point where the winning percentage is high enough to cancel out the cost of the vig:\n",
    "\n",
    "$WP - (VIG * LP) > 0$\n",
    "\n",
    "We also know that\n",
    "\n",
    "$WP + LP = 100$\n",
    "\n",
    "so with a little algebra:\n",
    "\n",
    "$LP < 100/(1+VIG)$\n",
    "\n",
    "and\n",
    "\n",
    "$WP > 100 - (100/(1+VIG))$\n",
    "\n",
    "A standard bet on the spread has a vig of \"-110\" which means you have to risk 1.1x more than you win. If the \"-110\" looks funny to you, America uses different notation for betting than other countries. Luckily, the laws of probability are true everywhere, and my grandfathers didn't fight in WWII just for me to have to learn some other way of writing the odds.\n",
    "\n",
    "At -110, you have to win at least 52.4% of the time just to break even."
   ]
  },
  {
   "cell_type": "code",
   "execution_count": 8,
   "metadata": {},
   "outputs": [
    {
     "data": {
      "text/plain": [
       "52.38095238095238"
      ]
     },
     "execution_count": 8,
     "metadata": {},
     "output_type": "execute_result"
    }
   ],
   "source": [
    "vig = 1.1\n",
    "\n",
    "100 - (100/(1+vig))"
   ]
  },
  {
   "cell_type": "markdown",
   "metadata": {},
   "source": [
    "If there is the same amount of money on each side of the bet and the vig is -110, the sportsbook is going to get 5% of the total amount bet no matter who wins or loses. Pretty sweet business, right? 153,000,000 was bet on the Super Bowl in Las Vegas in 2023 [1], netting a profit for the casinos of 7.6 Million dollars at full vig."
   ]
  },
  {
   "cell_type": "code",
   "execution_count": 9,
   "metadata": {},
   "outputs": [
    {
     "data": {
      "text/plain": [
       "'7,650,000.0'"
      ]
     },
     "execution_count": 9,
     "metadata": {},
     "output_type": "execute_result"
    }
   ],
   "source": [
    "f\"{153000000 * .05:,}\""
   ]
  },
  {
   "cell_type": "markdown",
   "metadata": {},
   "source": [
    "A lot of Super Bowl betting is on prop bets, which have a higher vig, so the real number was probably higher than that."
   ]
  },
  {
   "cell_type": "markdown",
   "metadata": {},
   "source": [
    "### Various Vigs\n",
    "\n",
    "Even though they already have a license to print money, sportsbooks have come up with a whole slew of different ways to get people to pay more than the 5% per bet of a standard vig. If you had common sense, you'd assume that the types of bets most heavily promoted have the highest profit margins for the sportsbooks and are the worst for you. That's just capitalism, baby! But, if you had common sense, you probably wouldn't be betting in the first place. So here we are.\n",
    "\n",
    "Prop bets are where you bet on an individual player's performance, such as whether player X will score more or less than 20 points. These bets usually have a vig of -115 rather than -110. They also have a quirk that I will discuss later on.\n",
    "\n",
    "In-game betting is the worst, both for people who bet and people who just want to watch the game. It's impossible to avoid advertisements for it. \n",
    "\n",
    "Common sense would say anything that aggressively marketed must be insanely profitable to cover the advertising costs. And you'd be right. The vig on those bets is -120, twice a standard bet, which is crazy.\n",
    "\n",
    "Think about the vig a minute. Make sure these things are clear in your mind.\n",
    "\n",
    "1) the size of the vig will affect how much advantage or disadvantage the player has versus the house. It can turn a winner into a loser.\n",
    "1) If there's any vig at all, you have to win more than 50% of the time to not go broke in the long run. \n",
    "2) Even a tiny vig will eat up your bankroll if you win 50% of your bets. that money isn't lost on being wrong, it's lost on overhead.\n",
    "3) If a vig is high enough, there's no possible way to make money on betting in the long run, no matter how good you are. \n",
    "4) If you don't know the vig, you can't say you took the bet with a rational expectation of winning money. how would you know whether making money is even possible?\n",
    " \n",
    "Here's a plot of break-even winning percentage versus the vig."
   ]
  },
  {
   "cell_type": "code",
   "execution_count": 10,
   "metadata": {},
   "outputs": [
    {
     "data": {
      "image/png": "[encoded data removed]",
      "text/plain": [
       "<Figure size 640x480 with 1 Axes>"
      ]
     },
     "metadata": {},
     "output_type": "display_data"
    }
   ],
   "source": [
    "vig_range = np.arange(1.0, 10, .05)\n",
    "\n",
    "break_even_point = 100 - (100/(1+vig_range))\n",
    "\n",
    "vig_label = -100 * vig_range\n",
    "\n",
    "plt.plot(vig_label, break_even_point)\n",
    "plt.gca().invert_xaxis()\n",
    "plt.ylabel(\"winning percentage\")\n",
    "plt.xlabel(\"vig\")\n",
    "plt.grid()"
   ]
  },
  {
   "cell_type": "markdown",
   "metadata": {},
   "source": [
    "Here's the interesting part of the graph for the bets I'll be talking about:"
   ]
  },
  {
   "cell_type": "code",
   "execution_count": 11,
   "metadata": {},
   "outputs": [
    {
     "data": {
      "image/png": "[encoded data removed]",
      "text/plain": [
       "<Figure size 640x480 with 1 Axes>"
      ]
     },
     "metadata": {},
     "output_type": "display_data"
    }
   ],
   "source": [
    "vig_range = np.arange(1.00, 1.3, .01)\n",
    "\n",
    "break_even_point = 100 - (100/(1+vig_range))\n",
    "\n",
    "vig_label = -100 * vig_range\n",
    "\n",
    "plt.plot(vig_label, break_even_point)\n",
    "plt.gca().invert_xaxis()\n",
    "\n",
    "plt.ylabel(\"break even %\")\n",
    "plt.xlabel(\"vig\")\n",
    "plt.grid()"
   ]
  },
  {
   "cell_type": "code",
   "execution_count": 12,
   "metadata": {},
   "outputs": [
    {
     "name": "stdout",
     "output_type": "stream",
     "text": [
      "+------+---------+\n",
      "| Vig  | Win Pct |\n",
      "+======+=========+\n",
      "| -100 | 50.000  |\n",
      "+------+---------+\n",
      "| -105 | 51.220  |\n",
      "+------+---------+\n",
      "| -110 | 52.381  |\n",
      "+------+---------+\n",
      "| -115 | 53.488  |\n",
      "+------+---------+\n",
      "| -120 | 54.545  |\n",
      "+------+---------+\n",
      "| -125 | 55.556  |\n",
      "+------+---------+\n",
      "| -130 | 56.522  |\n",
      "+------+---------+\n",
      "| -135 | 57.447  |\n",
      "+------+---------+\n",
      "| -140 | 58.333  |\n",
      "+------+---------+\n",
      "| -145 | 59.184  |\n",
      "+------+---------+\n"
     ]
    }
   ],
   "source": [
    "table_vig = np.arange(1, 1.5, .05)\n",
    "table_wp = 100 - (100/(1+table_vig))\n",
    "\n",
    "table_vig = table_vig * -100\n",
    "\n",
    "table = texttable.Texttable()\n",
    "table.set_cols_dtype(['i','f'])\n",
    "\n",
    "data_list = list(zip(table_vig, table_wp))\n",
    "\n",
    "data_list.insert(0, [\"Vig\", \"Win Pct\"])\n",
    "\n",
    "table.add_rows(data_list)\n",
    "print(table.draw())"
   ]
  },
  {
   "cell_type": "markdown",
   "metadata": {},
   "source": [
    "## If you have to ask the price, it's probably more than you can afford.\n",
    "\n",
    "Predictions are hard, especially about the future. Is it reasonable to think someone could do better than the minimum 55% to break even on in-game betting? I don't know how to estimate that. But if we assume that the vast majority of bettors can't even win 52.4% of the time on the spread, [TODO Fix this sentence] then it seems crazy that a lot of people are making money on in-game bets. Especially since bets made during the game are more likely to be emotionally charged than a bet placed the morning before the game. And that's just to break even. I think anyone who was that good would know enough to just take normal bets.\n",
    "\n",
    "There's never a good reason to pay more vig without getting something in return. A rational bettor would always pay the lowest vig possible, and not take bets if the vig is high enough to make the bet have a negative expected value. \n",
    "\n",
    "### The Gambling Cartel\n",
    "Note how the major players in legal gambling don't compete on price at all. Why wouldn't DraftKings or FanDuel offer -109 vig instead of -110 to attract more customers? Shouldn't the explosion in legal gambling have driven the price of taking a bet down?\n",
    "\n",
    "It's sort of understandable why brick and mortar casinos would charge -110. They've got fancy buildings to pay for. Showgirls, Elvis impersonators, cocktail shrimp... I'm sure it adds up quick. And until recently, Vegas had a virtual monopoly on legal gambling, so no (legal) online competition.\n",
    "\n",
    "DraftKings and FanDuel are online only. Why do they charge as much as in-person casinos? It's as if online stock brokerages such as E-Trade or Ameritrade got big but they still charged as much as full service stock brokers did back in the 1970's.  It's hard for me to see how DraftKings and FanDuel aren't acting as a cartel when there's no price competition on the vig and they offer the same exact betting lines.\n",
    "\n",
    "Informed consent is important. If the sportsbooks aren't telling customers the expected value of the bet and what that means, people can't make rational choices because they don't know what the real cost of placing a bet is. Even if you think gambling should be legal, I think you should care about that."
   ]
  },
  {
   "cell_type": "markdown",
   "metadata": {},
   "source": [
    "## Silly stuff people do\n",
    "Sportsbooks have innovated many different ways to offer people crappier bets and hide the true cost. I already covered prop bets and in-game betting, but there are also teasers, parlays, money lines, pleasers, and buying points. And they let you combine them, for instance you can take a parlay of prop bets and money lines if you really want to do three stupid things at once.\n",
    "\n",
    "###  Money Lines\n",
    "[TODO: trim this down, it's not interesting enough to be this long. also, introduce the concept of the money line to spread conversion chart.]\n",
    "\n",
    "What if you don't want to bet the spread, you just want to bet on who wins the game outright? If you like the favorite, you risk much more than you win, and if you like the underdog, you win much more than you risk.\n",
    "\n",
    "At a high level, there has to be a way to convert between money lines and point spreads based on what real world data says. Based on real data, a -10 favorite wins ___ % of the time, which equates to a ___ money line, right? Without needing to know anything about statistics, you can assume there's a way to convert back and forth from a spread to a money line.\n",
    "\n",
    "Now, who do you think is better at doing that conversion, you or the sportsbooks? And why wouldn't they use that knowledge to make more profit for themselves?  Perhaps money lines feel better. But the casinos love it when it's their math versus your feelings.\n",
    "\n",
    "Money lines probably aren't that bad of a deal, except on extreme favorites or extreme underdogs, but they do make the math harder. The vig isn't obvious on money lines, and they have different probabilities. A bunch of bets against the spread or point totals all have a roughly 50/50 shot of winning. So you can add those together and analyze them cleanly. Money lines have different odds of winning, which makes the math hard if you're trying to assess performance. [14]\n",
    "\n",
    "So the win-loss record doesn't mean that much if you're taking a lot of money lines. And I think that has a psychological effect. You could easily go 4-1 on money lines betting the heavy favorites and lose money. Or, worse yet, think that 4-1 record means you have skill. There would have to be a lot of value on money lines to justify making the math and the psychology a mess, in my opinion.\n"
   ]
  },
  {
   "cell_type": "markdown",
   "metadata": {},
   "source": [
    "### Parlays\n",
    "\"Parlay\" means \"to talk\" in French, so it's no surprise dudes always want to talk about them online.\n",
    "\n",
    "The idea behind a parlay is that you can bet on multiple things at once and if they all win, you make a nice profit, otherwise you lose. \n",
    "\n",
    "Why would they be offering this bet if it was good for you?  \n",
    "\n",
    "Your profits are always going to be lower than if you just took the individual bets, assuming the bets are uncorrelated with each other.They're just a tax on not knowing what expected value is, or not caring about it: https://en.wikipedia.org/wiki/Expected_value. \n",
    "\n",
    "Expected value is  the weighted average of all the possible outcomes. You've already seen that with the vig when I calculated the break-even point -- how often do you have to win to break even on average?\n",
    "\n",
    "The standard payout on a 4 team parlay is 10:1 [3]. What is the expected value of such a play? is it higher or lower than taking the individual bets?\n",
    "\n",
    "It's easy to grind the math on this one, but maybe a simulation makes it more convincing. we'll do a bunch of bets and see whether the parlay or the individual bets are better. I can't say \"make us more money\" because both types of bets are guaranteed losers without some sort of edge. \n",
    "\n",
    "This is such a bad bet on the surface that to understand it, I have to give you a little taste of parlay culture first."
   ]
  },
  {
   "cell_type": "markdown",
   "metadata": {},
   "source": [
    "### Nephew Doug\n",
    "Say you have 4 \"can't miss\" bets you want to make. You just got into betting on sports, so as a newbie you're trying to learn from experts by listening to podcasts. You've listened to Nephew Doug's podcast, and wrote down his Locks of the Week. You're ready to enter them into your betting app, which has been hand-optimized to be as much of a dopamine and money sink as possible.\n",
    "\n",
    "Because you listen every week, you know Nephew Doug has been burdened by the Gods with the gift of prophecy. He's like a modern day Cassandra, only it's about how the Cowboys are always going to suck. \n",
    "\n",
    "Now, the Gods like a little competition. The Olympics were invented as a religious ceremony in their honor, after all. But they're not above making a call from on high to nudge the result a little bit. Zeus is definitely a Chiefs fan.\n",
    "\n",
    "So you believe ahead of time Nephew Doug's picks will win 60% of the time. Which way of betting these picks will bring you the most money in the long run?\n",
    "\n",
    "1) \"throw 'em all in a 4 team parlay\" like Doug and his buddy Jorts Guy always do\n",
    "2) randomly choose 3 of Nephew Doug's picks and bet them individually. Don't do anything with the 4th one."
   ]
  },
  {
   "cell_type": "markdown",
   "metadata": {},
   "source": [
    "Maybe option 2 seems insane to you. But let's game it out.\n",
    "\n",
    "You listen to Nephew Doug, but I don't. My assumption would be this guy sucks at his picks and only wins 50% of the time, or close to it. Let's see how that works out."
   ]
  },
  {
   "cell_type": "code",
   "execution_count": 13,
   "metadata": {},
   "outputs": [
    {
     "name": "stdout",
     "output_type": "stream",
     "text": [
      "parlay: -3,040,300, straight: -2,003,360.0000000002, ratio: 1.517600431275457\n"
     ]
    }
   ],
   "source": [
    "def do_some_bets(skill = .5, throw_one_out=False, random_fourth_bet=False):\n",
    "    BETS  = 100000\n",
    "    VIG = 1.1\n",
    "\n",
    "    straight_profit_loss = 0\n",
    "    parlay_profit_loss = 0\n",
    "\n",
    "\n",
    "    for b in range(BETS):    \n",
    "        bet1 = rng.random() < skill\n",
    "        bet2 = rng.random() < skill\n",
    "        bet3 = rng.random() < skill\n",
    "        bet4 = rng.random() < skill\n",
    "\n",
    "        if bet1 and bet2 and bet3 and bet4:\n",
    "            parlay_profit_loss = parlay_profit_loss + 1000 # 10x payout\n",
    "        else:\n",
    "            parlay_profit_loss = parlay_profit_loss - 100\n",
    "\n",
    "        for bet in [bet1, bet2, bet3]:\n",
    "            if bet:\n",
    "                straight_profit_loss = straight_profit_loss + 100\n",
    "            else:\n",
    "                straight_profit_loss = straight_profit_loss - (VIG * 100)\n",
    "\n",
    "        if not random_fourth_bet:\n",
    "            if not throw_one_out:\n",
    "                if bet4:\n",
    "                    straight_profit_loss = straight_profit_loss + 100\n",
    "                else:\n",
    "                    straight_profit_loss = straight_profit_loss - (VIG * 100)\n",
    "        else:\n",
    "            # what if the 4th bet is taken by flipping a coin?\n",
    "            alt_bet4 = rng.random() < .5\n",
    "            if alt_bet4:\n",
    "                straight_profit_loss = straight_profit_loss + 100\n",
    "            else:\n",
    "                straight_profit_loss = straight_profit_loss - (VIG * 100)\n",
    "\n",
    "    ratio = parlay_profit_loss/straight_profit_loss\n",
    "    print(f\"parlay: {parlay_profit_loss:,}, straight: {straight_profit_loss:,}, ratio: {ratio}\")\n",
    "    return ratio\n",
    "\n",
    "result = do_some_bets()\n"
   ]
  },
  {
   "cell_type": "markdown",
   "metadata": {},
   "source": [
    "At 50% win rate, if you take enough of these four team parlays, you're going to lose around 1.5x more taking the parlay than taking the individual bets. Which is what you'd expect given the payout is 10:1 instead of a fair $1/(2*2*2*2) = 15:1$.\n",
    "\n",
    "What if Nephew Doug truly has been partially blessed by the Gods, and can beat the lines 60% of the time? Now you're turning a profit either way, but maybe parlays offer a better return if you're that skilled? "
   ]
  },
  {
   "cell_type": "code",
   "execution_count": 14,
   "metadata": {},
   "outputs": [
    {
     "name": "stdout",
     "output_type": "stream",
     "text": [
      "parlay: 4,217,500, straight: 6,335,110.0, ratio: 0.6657342966420473\n"
     ]
    },
    {
     "data": {
      "text/plain": [
       "1.5021007705986957"
      ]
     },
     "execution_count": 14,
     "metadata": {},
     "output_type": "execute_result"
    }
   ],
   "source": [
    "ratio = do_some_bets(skill=.6)\n",
    "1/ratio"
   ]
  },
  {
   "cell_type": "markdown",
   "metadata": {},
   "source": [
    "Nope, if you're ridiculously good at betting, you'd make around 1.5x profit taking the individual bets rather than doing the 4 team parlay. \n",
    "\n",
    "What if you only take 3 individual bets and don't bet the fourth one, as I originally proposed? At 60% win rate, this is irrational. You're throwing away profit in the long run and betraying Nephew Doug. You may also be angering the gods with your hubris.\n",
    "\n",
    "Maybe the parlay would make more money in that case?"
   ]
  },
  {
   "cell_type": "code",
   "execution_count": 15,
   "metadata": {},
   "outputs": [
    {
     "name": "stdout",
     "output_type": "stream",
     "text": [
      "parlay: 4,384,700, straight: 4,885,680.0, ratio: 0.8974595143357731\n"
     ]
    },
    {
     "data": {
      "text/plain": [
       "1.1142563915433212"
      ]
     },
     "execution_count": 15,
     "metadata": {},
     "output_type": "execute_result"
    }
   ],
   "source": [
    "ratio = do_some_bets(skill=.6, throw_one_out=True)\n",
    "1/ratio"
   ]
  },
  {
   "cell_type": "markdown",
   "metadata": {},
   "source": [
    "No! You would still make 10% or so more by taking the individual bets and throwing out one.\n",
    "\n",
    "There is a win rate where parlays would make you more money than the straight bets. If we win 100% of the time, the parlay is definitely a better deal. 10x profits taking the parlay versus 4x taking the original bets. \n",
    "\n",
    "it's somewhere between 60 and 100%. 60% is already much higher than anybody can reasonably achieve betting on sports, a thing played by humans (unreliable, to put it mildly) in the future (also notoriously unreliable).\n",
    "\n",
    "OK, final thing to try. Instead of taking the fourth bet, or throwing it out, we choose the 4th one by flipping a coin. This bet has a negative expected value so maybe finally the parlay will win. \n",
    "\n",
    "It's still basically a tie."
   ]
  },
  {
   "cell_type": "code",
   "execution_count": 16,
   "metadata": {},
   "outputs": [
    {
     "name": "stdout",
     "output_type": "stream",
     "text": [
      "parlay: 4,249,400, straight: 4,339,270.0, ratio: 0.9792891431047158\n"
     ]
    }
   ],
   "source": [
    "ratio = do_some_bets(skill=.6, random_fourth_bet=True)"
   ]
  },
  {
   "cell_type": "markdown",
   "metadata": {},
   "source": [
    "What if Doug is not actually blessed by the gods, but is savvy and knows a lot about sports? 54.8% is a reasonable figure. You could make money at that level, which only 3% of bettors do."
   ]
  },
  {
   "cell_type": "code",
   "execution_count": 17,
   "metadata": {},
   "outputs": [
    {
     "name": "stdout",
     "output_type": "stream",
     "text": [
      "parlay: 51,800, straight: 1,584,480.0, ratio: 0.032692113500959304\n"
     ]
    }
   ],
   "source": [
    "ratio = do_some_bets(skill=.548, throw_one_out=True)"
   ]
  },
  {
   "cell_type": "markdown",
   "metadata": {},
   "source": [
    "The parlays make nothing. The straight bets make 1.5 Million dollars, *even in this idiotic scenario where we throw one bet in four out*.\n",
    "\n",
    "If a bet has negative expected value, it's always better for you not to take it. You should really throw out all four picks in that case. Take a zero team parlay. Go get yourself a nice bagel instead of turning your account balance into one. My lox of the week are way better than Doug's.\n",
    "\n",
    "### What is the implied vig?\n",
    "\n",
    "We can figure out the winning percentage required to break even betting parlays, and work backwards from that to get the implied vig.\n",
    "\n",
    "The payout is 10:1, so we need all four to be winners 1 time in 11 to break even. The one win covers the 10 losses.\n",
    "\n",
    "$ winRate^{4} > 1/11$\n",
    "\n",
    "$ 4 * log(winRate) > log(1/11)$\n",
    "\n",
    "$ winRate > e^{log(1/11)/4}$"
   ]
  },
  {
   "cell_type": "code",
   "execution_count": 18,
   "metadata": {},
   "outputs": [
    {
     "data": {
      "text/plain": [
       "np.float64(0.5491004867761125)"
      ]
     },
     "execution_count": 18,
     "metadata": {},
     "output_type": "execute_result"
    }
   ],
   "source": [
    "np.exp(np.log(1/11)/4)"
   ]
  },
  {
   "cell_type": "markdown",
   "metadata": {},
   "source": [
    "You have to win each leg 54.9% of the time just to break even on the parlays rather than the break even point 52.4% on the original bets. Since being bad means being right 50% of the time, 54.9% is more than twice as difficult as 52.4%.\n",
    "\n",
    "Based on a money line to spread conversion chart [15], that's the equivalent of giving up around 2-3 points on the line. Would you consider someone a savvy gambler if they did that? \"No, I don't want those points. Please give me a worse line than everyone else, so I can lose and then go complain about it.\"\n",
    "\n",
    "When it comes to betting gurus, years of experience doesn't matter if they never learn anything. It mostly seems to add up to a lot of experience trying to argue that the Universe got the outcome of that Wizards-Hornets game wrong, and finding patterns in random noise."
   ]
  },
  {
   "cell_type": "markdown",
   "metadata": {},
   "source": [
    "### parlay vous\n",
    "\n",
    "I'm trying to avoid getting too mathy, but this is how probability works. It shouldn't really be surprising. Why would combining two unrelated bets be better for you? Even if you take slightly correlated bets, it's going to be hard to go from 1/16 (the natural odds of winning all four, if there's no correlation between the outcomes) to 1/11 (the break even point for a parlay.)  \n",
    "\n",
    "\"But the guy on the podcast I listen to has been \"killing it\" on parlays this year\", I can hear you saying. As we saw, if they're really making money overall on parlays, they'd be making 1.5x profits taking the individual bets, so they're not that smart. And I'd love to see their betting records. All of them, not just the ones they brag about after they win. I doubt any of these guys are making money over long stretches of time off of gambling.\n",
    "\n",
    "Gambling ads, sure. Everybody's taking gambling money right now, regardless of how it will hurt their brand, their audience, and the sport long term. Clearly there's a lot of money in talking about it. \n",
    "\n",
    "Where's all that ad money coming from? Isn't it obvious why they're pushing teasers and parlays and \"profit boosters\"? I love that last one. It's like saying Idi Amin served mankind. [5]\n",
    "\n",
    "Why would they care about boosting YOUR profits? Unlike gamblers, they don't make negative expected value plays due to emotional reasons or lack of math skills."
   ]
  },
  {
   "cell_type": "markdown",
   "metadata": {},
   "source": [
    "### Buying/Selling points\n",
    "\n",
    "Say a team is favored by 10 against the spread, but you think they will only win by 7. You can buy points to get them at -7 instead of -10. \n",
    "\n",
    "This is special service the sportsbook offers where there is some math involved. Anytime you're demanding special treatment, you're going to have to pay more. The money line is essentially buying/selling points as well. But a lot of people bet the money line, so I'd expect that's not as bad of a value. \n",
    "\n",
    "The book is definitely taking more of a risk here, so the added cost is somewhat justified. They want equal money on whatever line people take so they make money no matter what. If the real line is +10/-10 and somebody places a huge bet at -7, they have to manage that risk somehow even though they can't get an equal amount of action on +7. The added vig could be seen as a form of insurance payment for the bookmaker. \n",
    "\n",
    " They don't incur that risk with money lines, because they have a lot of people on both sides of them.\n",
    "\n",
    "### Teasers\n",
    "\n",
    "More silly podcast nonsense. This is basically just a combination of a parlay and buying/selling points. Two bad ideas rolled into one! Again, why would anyone making money long term do teasers? They're complicated, so I guess it feels like you're doing something sophisticated, but you can't add value by taking them unless the different legs of the teaser were somehow correlated with each other. \n",
    "\n",
    "Do people who take them feel like when they lose, it's because they just haven't learned teasers yet? The game is rigged. It's not a skill issue.\n",
    "\n",
    "Scoring in American football goes in units of 2, 3, 6, 7, 8. That means some point differentials will be more common than others. It should be more common for a game to end with a difference of 3 points than 4 points.\n",
    "\n",
    "So \"getting a number\" by moving a line across some common point differential could be a thing. But why wouldn't the sportsbooks know that, and properly price it in?\n",
    "\n",
    "There are no \"magic numbers\" in NBA basketball. So I don't think there's an additional skill that can be learned to make them more profitable than straight bets. Even with NFL, without evidence, it's dubious to me that bettors are making more money on teasers."
   ]
  },
  {
   "cell_type": "markdown",
   "metadata": {},
   "source": [
    "## A shady line\n",
    "\n",
    "The line is a prediction about an outcome of a game. the difference between the predicted and actual value is called the error.  The error should be unbiased and randomly distributed. In practical terms, favorites and underdogs should win exactly 50% of the time over a long enough time span. \n",
    "\n",
    "Turns out, maybe they don't?\n",
    "\n",
    "I grabbed NBA odds data for this season from sportsbookreview.com [2]. Some of the games are missing scores, but among the ones that have them, underdogs are 189-172 against the spread (as of January 5th 2025). That's a 52.4% winning percentage. (does that number sound familiar?) \n",
    "\n",
    "At full vig, that means you would break even betting every underdog, lose 34 units betting on every favorite, and lose 18 units if your picks are right 50% of the time.\n",
    "\n",
    "This isn't statistically significant, but it is curious. Especially since it's right at that magic number that prevents arbitrage (making a profit by always taking the underdog.)"
   ]
  },
  {
   "cell_type": "code",
   "execution_count": 19,
   "metadata": {},
   "outputs": [
    {
     "name": "stdout",
     "output_type": "stream",
     "text": [
      "record:   189 - 172\n",
      "full vig (-110) units\t: -0.2\n",
      "reduced vig (-106) units: 6.68\n",
      "win pct: 52.35%, expected wins: 180.5 , excess: 8.5, profit %: -0.06\n",
      "z test: 0.8947368421052632, std: 9.5 , p: 0.18546388963734017\n"
     ]
    }
   ],
   "source": [
    "from scipy.stats import norm\n",
    "from scipy.stats import chisquare\n",
    "\n",
    "def win_loss_report(wins, losses, vig=1.1):\n",
    "    win_pct = wins / (wins+losses)\n",
    "    expected_wins = (wins + losses) /2\n",
    "    std = np.sqrt(wins + losses)/2\n",
    "    z_score = (wins-expected_wins) / std\n",
    "    p_value = norm.cdf(z_score)\n",
    "    profit_pct = 100 * (win_pct - (vig * (1-win_pct)))\n",
    "\n",
    "    print(f\"record:   {wins} - {losses}\")\n",
    "\n",
    "    print(f\"full vig (-110) units\\t: { round(wins - (1.1*losses),2) }\")\n",
    "    print(f\"reduced vig (-106) units: { round(wins - (1.06 * losses),2) }\")\n",
    "    if vig != 1.1:\n",
    "        print(f\"actual units: {wins - (vig*losses)}\")\n",
    "\n",
    "    print(f\"win pct: {round(100 *win_pct,2)}%, expected wins: {expected_wins} , excess: {wins - expected_wins}, profit %: {round(profit_pct,2)}\")\n",
    "    print(f\"z test: {z_score}, std: {std} , p: {1-p_value}\")\n",
    "\n",
    "\n",
    "win_loss_report(189,172)"
   ]
  },
  {
   "cell_type": "markdown",
   "metadata": {},
   "source": [
    "Sportsbooks are good at estimating the value of points, because they offer the ability for customers to buy and sell them. So they could produce an unbiased line, then add a little \"shade\" towards the underdog at the end (or just don't move the line despite having more money on one side). But not too much shade to make blindly taking underdogs profitable.\n",
    "\n",
    "Why would they want to do that? Say that 70% of people take the favorite and 30% take the underdog. How much more valuable is that? The math is obvious, but let's do it anyway.\n",
    "\n",
    "People who pick the favorites lose \\$10 per \\$100 bet instead of the usual 5."
   ]
  },
  {
   "cell_type": "code",
   "execution_count": 24,
   "metadata": {},
   "outputs": [
    {
     "data": {
      "text/plain": [
       "-10.040000000000006"
      ]
     },
     "execution_count": 24,
     "metadata": {},
     "output_type": "execute_result"
    }
   ],
   "source": [
    "# losing 52.4% of the time instead of 50%\n",
    "lose_rate = .524\n",
    "win_rate = 1-.524\n",
    "ev_favorites = (win_rate * 100) - (lose_rate * 110)\n",
    "\n",
    "ev_favorites"
   ]
  },
  {
   "cell_type": "markdown",
   "metadata": {},
   "source": [
    "So the bookie is making twice as much on favorites as they would with a fair line.\n",
    "\n",
    "What about underdogs? If dogs win 52.4% of the time, the casino will just break even on those bets."
   ]
  },
  {
   "cell_type": "code",
   "execution_count": 25,
   "metadata": {},
   "outputs": [
    {
     "data": {
      "text/plain": [
       "0.04000000000000625"
      ]
     },
     "execution_count": 25,
     "metadata": {},
     "output_type": "execute_result"
    }
   ],
   "source": [
    "win_rate = .524\n",
    "lose_rate = 1-.524\n",
    "ev_dogs = (win_rate * 100) - (lose_rate * 110)\n",
    "\n",
    "ev_dogs"
   ]
  },
  {
   "cell_type": "markdown",
   "metadata": {},
   "source": [
    "If they were taking equal money on both sides, it's a wash, but if 70% of the bets are on favorites, the casino will make \\$7 for every \\$100 bet instead of an honest \\$5:"
   ]
  },
  {
   "cell_type": "code",
   "execution_count": 22,
   "metadata": {},
   "outputs": [
    {
     "data": {
      "text/plain": [
       "-7.016000000000002"
      ]
     },
     "execution_count": 22,
     "metadata": {},
     "output_type": "execute_result"
    }
   ],
   "source": [
    "(.7 * ev_favorites) + (.3 * ev_dogs)"
   ]
  },
  {
   "cell_type": "markdown",
   "metadata": {},
   "source": [
    "We can convert that back to the effective vig. assume a 50% winning percentage (versus the fair line) and solve for the vig.\n",
    "\n",
    "\n",
    "$winPct - ((1-winPct) * vig) = -7$\n",
    "\n",
    "$ 50 - (50 * vig) = -7$\n",
    "\n",
    "$ vig = 57/50 = 1.14$\n",
    "\n",
    "So by shading the lines, a bookmaker could effectively get a -114 vig instead of a -110. That's pretty significant. Even though people betting on underdogs are effectively not paying the vig, there are fewer of them than people betting on the favorites and paying extra juice. So if a sportsbook could do this, it should. There's nothing stopping them, so maybe you should assume they are. They have to offer bets on both sides of a line, but they don't have to make the lines fair.\n",
    "\n",
    "More on this later. Everyone who's ever caught a fish knows you have to set the hook. I think this will do it."
   ]
  },
  {
   "cell_type": "markdown",
   "metadata": {},
   "source": [
    "## Math is Money and Money is Math\n",
    "\n",
    "The sportsbooks change the lines over time. On paper, this is so they can attract an equal amount of action on both sides. But usually, one side ends up with more money on it than the other. Over time, those should even out, but they don't have to if the heavier action is usually on the side that loses.\n",
    "\n",
    "sportsbookreview provides what percent of the money was placed on each side of the bet. It's not clear what sportsbook they're getting the data from. They don't have it for all games. This data is available before the game starts, though, so it would be possible to bet based on it.\n",
    "\n",
    "What if we used that data and always took the less popular side? If over 50% of the money is on the away team according to SBR, we will bet the home team, and vice versa. We'll ignore games where the money is 50/50.\n",
    "\n",
    "These numbers are from October 22, 2024 (start of the regular season) thru January 5, 2025."
   ]
  },
  {
   "cell_type": "code",
   "execution_count": 23,
   "metadata": {},
   "outputs": [
    {
     "ename": "AttributeError",
     "evalue": "module 'scrape_sbr' has no attribute 'fade_the_public'",
     "output_type": "error",
     "traceback": [
      "\u001b[1;31m---------------------------------------------------------------------------\u001b[0m",
      "\u001b[1;31mAttributeError\u001b[0m                            Traceback (most recent call last)",
      "Cell \u001b[1;32mIn[23], line 11\u001b[0m\n\u001b[0;32m      8\u001b[0m     \u001b[38;5;28mprint\u001b[39m(ct)\n\u001b[0;32m      9\u001b[0m     \u001b[38;5;28;01mreturn\u001b[39;00m ftp\n\u001b[1;32m---> 11\u001b[0m _trash \u001b[38;5;241m=\u001b[39m \u001b[43mtest_thresh\u001b[49m\u001b[43m(\u001b[49m\u001b[43m)\u001b[49m\n",
      "Cell \u001b[1;32mIn[23], line 3\u001b[0m, in \u001b[0;36mtest_thresh\u001b[1;34m(lower, upper)\u001b[0m\n\u001b[0;32m      1\u001b[0m \u001b[38;5;28;01mdef\u001b[39;00m\u001b[38;5;250m \u001b[39m\u001b[38;5;21mtest_thresh\u001b[39m(lower\u001b[38;5;241m=\u001b[39m\u001b[38;5;241m50\u001b[39m, upper\u001b[38;5;241m=\u001b[39m\u001b[38;5;241m50\u001b[39m):\n\u001b[1;32m----> 3\u001b[0m     ftp \u001b[38;5;241m=\u001b[39m \u001b[43mscrape_sbr\u001b[49m\u001b[38;5;241;43m.\u001b[39;49m\u001b[43mfade_the_public\u001b[49m(lower_thresh\u001b[38;5;241m=\u001b[39mlower, upper_thresh\u001b[38;5;241m=\u001b[39mupper)\n\u001b[0;32m      5\u001b[0m     ct \u001b[38;5;241m=\u001b[39m pd\u001b[38;5;241m.\u001b[39mcrosstab(ftp\u001b[38;5;241m.\u001b[39mfade, ftp\u001b[38;5;241m.\u001b[39mwinner_ats)\n\u001b[0;32m      6\u001b[0m     win_loss_report(ct\u001b[38;5;241m.\u001b[39miloc[\u001b[38;5;241m0\u001b[39m,\u001b[38;5;241m0\u001b[39m] \u001b[38;5;241m+\u001b[39m ct\u001b[38;5;241m.\u001b[39miloc[\u001b[38;5;241m1\u001b[39m,\u001b[38;5;241m1\u001b[39m], ct\u001b[38;5;241m.\u001b[39miloc[\u001b[38;5;241m0\u001b[39m,\u001b[38;5;241m1\u001b[39m] \u001b[38;5;241m+\u001b[39m ct\u001b[38;5;241m.\u001b[39miloc[\u001b[38;5;241m1\u001b[39m,\u001b[38;5;241m0\u001b[39m])\n",
      "\u001b[1;31mAttributeError\u001b[0m: module 'scrape_sbr' has no attribute 'fade_the_public'"
     ]
    }
   ],
   "source": [
    "def test_thresh(lower=50, upper=50):\n",
    "\n",
    "    ftp = scrape_sbr.fade_the_public(lower_thresh=lower, upper_thresh=upper)\n",
    "\n",
    "    ct = pd.crosstab(ftp.fade, ftp.winner_ats)\n",
    "    win_loss_report(ct.iloc[0,0] + ct.iloc[1,1], ct.iloc[0,1] + ct.iloc[1,0])\n",
    "    print(\"\\n\")\n",
    "    print(ct)\n",
    "    return ftp\n",
    "\n",
    "_trash = test_thresh()"
   ]
  },
  {
   "cell_type": "markdown",
   "metadata": {},
   "source": [
    "So this very basic strategy makes money. 27.2 units at reduced juice isn't bad. but 4% profit is pretty thin gruel. Even if this was a real trend, 54.3% win rate is low enough that there's a good chance of losing money, even after hundreds of bets. I'll show that in the section on random walks.\n",
    "\n",
    "The system is going 117-109 when taking HOME (note, the wins and losses are flipped in the bottom row.) Those will lose money with the full vig figured in.\n",
    "\n",
    "Taking just the AWAY teams goes 137-105. Profits on reduced juice went down by filtering the HOME bets out."
   ]
  },
  {
   "cell_type": "code",
   "execution_count": 313,
   "metadata": {},
   "outputs": [
    {
     "name": "stdout",
     "output_type": "stream",
     "text": [
      "record:   137 - 105\n",
      "full vig units: 21.5\n",
      "reduced juice units: 25.7\n",
      "win pct: 56.61%, expected wins: 121.0 , excess: 16.0, profit %: 8.88\n",
      "z test: 2.05703790890632, std: 7.7781745930520225 , p: 0.01984128975085442\n"
     ]
    }
   ],
   "source": [
    "win_loss_report(137,105)"
   ]
  },
  {
   "cell_type": "markdown",
   "metadata": {},
   "source": [
    "That's a pretty easy rule to explain given the predictive power. \"Bet the away team if they have less than 50% of the money on sportsbookreview.\"\n",
    "\n",
    "I'm assuming the home team is usually a worse value, so maybe we should be more choosy about when we take the home bet. Let's raise the threshold so that the away team has to get over 60% of the money for us to take the home team. Full disclosure: I just messed around with the upper threshold till I found the optimal value. Arbitrary decisions like that can lead to overfitting."
   ]
  },
  {
   "cell_type": "code",
   "execution_count": 314,
   "metadata": {},
   "outputs": [
    {
     "name": "stdout",
     "output_type": "stream",
     "text": [
      "record:   184 - 143\n",
      "full vig units: 26.7\n",
      "reduced juice units: 32.42\n",
      "win pct: 56.27%, expected wins: 163.5 , excess: 20.5, profit %: 8.17\n",
      "z test: 2.267305180798257, std: 9.041570660012562 , p: 0.011685794603592425\n",
      "\n",
      "\n",
      "winner_ats  AWAY  HOME\n",
      "fade                  \n",
      "AWAY         137   105\n",
      "HOME          38    47\n"
     ]
    }
   ],
   "source": [
    "bets_taken = test_thresh(upper=60)"
   ]
  },
  {
   "cell_type": "markdown",
   "metadata": {},
   "source": [
    "27 units and a 56% winning percentage is quite something. \n",
    "\n",
    "The record on bets where we predict 'HOME' isn't good as the AWAY ones, though both types are making money now."
   ]
  },
  {
   "cell_type": "code",
   "execution_count": null,
   "metadata": {},
   "outputs": [],
   "source": [
    "win_loss_report(137,105)\n",
    "print(\"=\" * 40)\n",
    "win_loss_report(47, 38)"
   ]
  },
  {
   "cell_type": "markdown",
   "metadata": {},
   "source": [
    "I came up with one other twist. It's a pretty good one!"
   ]
  },
  {
   "cell_type": "code",
   "execution_count": 318,
   "metadata": {},
   "outputs": [
    {
     "name": "stdout",
     "output_type": "stream",
     "text": [
      "record:   132 - 85\n",
      "full vig (-110) units\t: 38.5\n",
      "reduced vig (-106) units: 41.9\n",
      "win pct: 60.83%, expected wins: 108.5 , excess: 23.5, profit %: 17.74\n",
      "z test: 3.1905678965200144, std: 7.365459931328117 , p: 0.0007099673626923542\n"
     ]
    },
    {
     "data": {
      "text/html": [
       "<div>\n",
       "<style scoped>\n",
       "    .dataframe tbody tr th:only-of-type {\n",
       "        vertical-align: middle;\n",
       "    }\n",
       "\n",
       "    .dataframe tbody tr th {\n",
       "        vertical-align: top;\n",
       "    }\n",
       "\n",
       "    .dataframe thead th {\n",
       "        text-align: right;\n",
       "    }\n",
       "</style>\n",
       "<table border=\"1\" class=\"dataframe\">\n",
       "  <thead>\n",
       "    <tr style=\"text-align: right;\">\n",
       "      <th>winner_ats</th>\n",
       "      <th>AWAY</th>\n",
       "      <th>HOME</th>\n",
       "    </tr>\n",
       "    <tr>\n",
       "      <th>fade</th>\n",
       "      <th></th>\n",
       "      <th></th>\n",
       "    </tr>\n",
       "  </thead>\n",
       "  <tbody>\n",
       "    <tr>\n",
       "      <th>AWAY</th>\n",
       "      <td>98</td>\n",
       "      <td>61</td>\n",
       "    </tr>\n",
       "    <tr>\n",
       "      <th>HOME</th>\n",
       "      <td>24</td>\n",
       "      <td>34</td>\n",
       "    </tr>\n",
       "  </tbody>\n",
       "</table>\n",
       "</div>"
      ],
      "text/plain": [
       "winner_ats  AWAY  HOME\n",
       "fade                  \n",
       "AWAY          98    61\n",
       "HOME          24    34"
      ]
     },
     "execution_count": 318,
     "metadata": {},
     "output_type": "execute_result"
    }
   ],
   "source": [
    "superfade = scrape_sbr.superfade(play_dirty=\"yes\")\n",
    "ct = pd.crosstab(superfade.fade, superfade.winner_ats)\n",
    "win_loss_report(ct.iloc[0,0] + ct.iloc[1,1], ct.iloc[0,1] + ct.iloc[1,0])\n",
    "\n",
    "ct"
   ]
  },
  {
   "cell_type": "markdown",
   "metadata": {},
   "source": [
    "+41 units on the season *so far*. A 60% win rate, and 16% profit on every bet.  On both home and away teams. Are you not entertained?\n",
    "\n",
    "The only problem is I'm doing a bit of time travel to avoid work.\n",
    "\n",
    "### The Twist\n",
    "The extra twist I thought of is to not bet games where one of the top money getting teams is playing at home. We still might take them when they're away. The theory is that popular teams playing at home are unlikely to be a good value, even if they got a lower money% on one particular game. \n",
    "\n",
    "I'm using the money data as of 1/6/2024 to get the 152-101 result. Obviously that data wouldn't have been available at the beginning of the season, so it's cheating. \n",
    "\n",
    "But I was thinking I could do a running average, so it's always excluding the top 5 teams at that point in time. Or a hybrid approach where:\n",
    "\n",
    "1) for the first month of the season, take the basic strategy\n",
    "2) after that use the additional filtering to exclude public teams at home.\n",
    "\n",
    "I'm feeling kinda lazy, but the second one is easy to test. The basic strategy worked remarkably well at the beginning of the season:"
   ]
  },
  {
   "cell_type": "code",
   "execution_count": null,
   "metadata": {},
   "outputs": [],
   "source": [
    "early_data = scrape_sbr.clean_data(start=\"2024-10-22\", end=\"2024-11-22\")\n",
    "early_fader = scrape_sbr.fade_the_public(games=early_data)\n",
    "ct =pd.crosstab(early_fader.fade, early_fader.winner_ats)\n",
    "win_loss_report(ct.iloc[0,0] + ct.iloc[1,1], ct.iloc[0,1] + ct.iloc[1,0])\n",
    "ct"
   ]
  },
  {
   "cell_type": "markdown",
   "metadata": {},
   "source": [
    "Now the unfiltered results from 11/22/2024 to 1/5/2025."
   ]
  },
  {
   "cell_type": "code",
   "execution_count": null,
   "metadata": {},
   "outputs": [],
   "source": [
    "later_data = scrape_sbr.clean_data(start=\"11/23/2024\", end=\"1/05/2025\")\n",
    "later_fader = scrape_sbr.fade_the_public(games=later_data)\n",
    "sorta_super = scrape_sbr.superfade(base_picks=later_fader, play_dirty='sorta')\n",
    "\n",
    "ct =pd.crosstab(later_fader.fade, later_fader.winner_ats)\n",
    "win_loss_report(ct.iloc[0,0] + ct.iloc[1,1], ct.iloc[0,1] + ct.iloc[1,0])\n",
    "ct"
   ]
  },
  {
   "cell_type": "markdown",
   "metadata": {},
   "source": [
    "Now, applying the filter based on data available on 11/22."
   ]
  },
  {
   "cell_type": "code",
   "execution_count": null,
   "metadata": {},
   "outputs": [],
   "source": [
    "ct =pd.crosstab(sorta_super.fade, sorta_super.winner_ats)\n",
    "win_loss_report(ct.iloc[0,0] + ct.iloc[1,1], ct.iloc[0,1] + ct.iloc[1,0])\n",
    "ct"
   ]
  },
  {
   "cell_type": "markdown",
   "metadata": {},
   "source": [
    "we're only picking up a couple more units from the filtering."
   ]
  },
  {
   "cell_type": "code",
   "execution_count": null,
   "metadata": {},
   "outputs": [],
   "source": [
    "win_loss_report(92+76, 68+58)"
   ]
  },
  {
   "cell_type": "markdown",
   "metadata": {},
   "source": [
    "I'd guess that filtering in real time would give us more than a +2 units extra (from using the 11/22 data) but less than the +12 units from using the 1/5/2025 data.\n",
    "\n",
    "\n",
    "### Dirty Hands, Clean Heart\n",
    "Any time you're developing a model based on old data, there's no guarantee that it will work moving forwards. If you have enough data, even random data, there will be correlations in it just by chance (it would be weirder if it didn't have correlations.)\n",
    "\n",
    "So you should have a healthy skepticism of my results. But the fact that so much can be done with just the betting percentages is definitely something, isn't it?\n",
    "\n",
    "I can't tell you if this trend will hold 2 months from now, or even 2 days from now. \n",
    "\n",
    "But it's now 1/16/2025, and I can look at the games that have happened since I first started looking at the betting data on 1/6. I haven't seen this data until now."
   ]
  },
  {
   "cell_type": "code",
   "execution_count": null,
   "metadata": {},
   "outputs": [],
   "source": [
    "#scrape_sbr.get_all_data(start=\"1/5/2025\", end='1/16/2025')"
   ]
  },
  {
   "cell_type": "code",
   "execution_count": 307,
   "metadata": {},
   "outputs": [],
   "source": [
    "latest_data = scrape_sbr.clean_data(start=\"1/6/2025\", end=\"1/16/2025\")\n",
    "latest_fader = scrape_sbr.fade_the_public(games=latest_data)\n",
    "semi_super2 = scrape_sbr.superfade(base_picks=latest_fader, play_dirty='yes')"
   ]
  },
  {
   "cell_type": "markdown",
   "metadata": {},
   "source": [
    "the basic strategy is just barely profitable in this period:"
   ]
  },
  {
   "cell_type": "code",
   "execution_count": null,
   "metadata": {},
   "outputs": [],
   "source": [
    "ct =pd.crosstab(latest_fader.fade, latest_fader.winner_ats)\n",
    "win_loss_report(ct.iloc[0,0] + ct.iloc[1,1], ct.iloc[0,1] + ct.iloc[1,0])\n",
    "ct"
   ]
  },
  {
   "cell_type": "markdown",
   "metadata": {},
   "source": [
    "the extra filtering adds nearly 8 units."
   ]
  },
  {
   "cell_type": "code",
   "execution_count": null,
   "metadata": {},
   "outputs": [],
   "source": [
    "ct =pd.crosstab(semi_super2.fade, semi_super2.winner_ats)\n",
    "win_loss_report(ct.iloc[0,0] + ct.iloc[1,1], ct.iloc[0,1] + ct.iloc[1,0])\n",
    "ct"
   ]
  },
  {
   "cell_type": "markdown",
   "metadata": {},
   "source": [
    "### Should I bet this strategy?\n",
    "\n",
    "No. Don't be ridiculous. You probably shouldn't bet your own opinions, much less mine, much less a robot's. There's no reason to believe this trend will continue. Consider it an interesting thing I found about the NBA season *so far*.\n",
    "\n",
    "But I hope this convinces you that data is a more useful tool for potentially \"breaking Vegas\" than a bunch of made up betting lore. \n",
    "\n",
    "I found this pattern because I was following a suspicion I had based on the data, not just trying to cherry-pick correlations.  This is different from \"betting systems\", which I will discuss later on. These are where bettors look for patterns in the data without a specific question in mind, and find spurious correlations, like teams with more than 2 vowels in their name are 20-5 against the spread on Tuesdays. \n",
    "\n",
    "### What kind of bets does this strategy take?\n",
    "\n",
    "This is looking at the basic strategy that was +27 units on the year thru Jan 5th, with no additional filtering.\n",
    "\n",
    "I'm getting the records for and against each team. combining the net units will show which teams this strategy is making the most money off of.\n",
    "\n",
    "The top team is Sacramento. This method is 8-5 betting for Sacramento and 12-2 betting against them."
   ]
  },
  {
   "cell_type": "code",
   "execution_count": null,
   "metadata": {},
   "outputs": [],
   "source": [
    "ftp = scrape_sbr.fade_the_public()\n",
    "\n",
    "who_we_bet = scrape_sbr.analyze_fade(ftp)\n",
    "who_we_bet.sort_values('total_units', ascending=False)"
   ]
  },
  {
   "cell_type": "markdown",
   "metadata": {},
   "source": [
    "That's not really what I expected. I assumed most of the wins would be those \"ugly dogs\" like Charlotte, Utah and Washington.\n",
    "\n",
    "Based on the results, it's kind of a mishmash. Seems like it's more about who it's betting against rather than who it's betting for. For instance, it goes a combined 5-0 betting on OKC and Cleveland but 13-26 betting against them.\n",
    "\n",
    "Phoenix, Denver and Minnesota were hyped at the beginning of the year, but struggled. So it makes sense that there would be value in betting against them. Other than that, I don't see any big insights about betting or the NBA in general. "
   ]
  },
  {
   "cell_type": "markdown",
   "metadata": {},
   "source": [
    "## Interlude: Two Kinds of People\n",
    "Lots of sportsbooks publish the betting splits info. Here's Draftkings': https://dknetwork.draftkings.com/draftkings-sportsbook-betting-splits/\n",
    "\n",
    "It's a smart move. It's good for SEO. And I'm sure they get a lot of people who decide to take bets from that page. \n",
    "\n",
    "For example, the Pacers are playing Brooklyn tonight. 27% of the bets are on Brooklyn at +10.5. 73% are on Pacers -10.5. \n",
    "\n",
    "Somebody who sees that and decides to make a bet based on that information could bet either way. They could either tell themselves, \"Everybody's taking the Pacers, so it must be a good bet\" or \"everybody's taking the Pacers, so it must be a bad bet\". \n",
    "\n",
    "What are those two groups like when they're not betting on basketball, do you think? Do they use the same kind of toothpaste? Watch the same kind of TV shows? Vote for the same political parties?\n",
    "\n",
    "I saw someone online the other day saying a game was a \"massive upset\" because a team that was favored by 12 points only won by 3 points. How is that an upset? The favored team still won! Sure, they lost against the spread, but the athletes shouldn't know or care about that. The only thing that got upset was this gambler's feelings, because reality didn't conform to the scenario that was easiest for him to imagine. How many bets are placed due to lack of imagination?\n",
    "\n",
    "In theory, both sides of the bet have an equal chance of winning, and it's a binary outcome. If there are only two outcomes and they have roughly equal probability, then nothing can be all that surprising. If it's not a win, it's a loss, by definition. \n",
    "\n",
    "I get that a team losing by 9 to the spread is more surprising than them losing by 3 to the spread. The further the line is from the final outcome, the more surprising. But it shouldn't be more surprising than the other direction -- beating the spread by 9 points. One direction is a \"massive upset\", the other isn't, even though they should be roughly equally likely. I have a hunch Massive Upset Guy would take the Pacers.\n"
   ]
  },
  {
   "cell_type": "markdown",
   "metadata": {},
   "source": [
    "### Information Inspiration\n",
    "Let's say you're tracking a statistic and calculating the running average after every day. Maybe it's a new online business and it's sales per day.\n",
    "\n",
    "Each day's result could change the average by a huge margin. Say the list is [1,3,8,7,1000,4]. When you get to 1000, the average is going to go way up, right? \n",
    "\n",
    "Until we got to 1000, we'd have no way of assuming that numbers on the list could be that big. Imagine you were plotting the results on a piece of paper day by day. You're gonna have to redo the whole thing. The potential scale is way different now. This new piece of information told us that the statistic might have a higher mean and a much wider spread than we could have imagined up to that point.\n",
    "\n",
    "Now imagine you're adding up a bunch of 1's and 0's, like [0,1,1,0,1,0]. If you've got binary outcomes, each result only matters a bit, figuratively and literally. It can't affect the mean or variance much. If you think about it, no one bit can be *crazy* enough to affect the variance on its own. Only the rate of success and the number of trials should affect the variance.\n",
    "\n",
    "Maybe this represents days you went to the gym. You could mark these on a calendar, X out the days that you go. You're never going to have a crazy result that causes you to buy a new calendar with 1000 days in the month. And the winning percentage isn't going to change by that much after a while. There's only so much it can change at a time.\n",
    "\n",
    "Intuitively, we get even less \"real\" info per bit of information if the probability of the outcome is greater than .5. If the probability is .99, we're seeing 99 \"1\"s for every 1 \"0\". The single 0 is surprising, and conveys a lot of information, while each of the 99 1's is almost totally unsurprising."
   ]
  },
  {
   "cell_type": "markdown",
   "metadata": {},
   "source": [
    "### Signal vs. Noise\n",
    "\n",
    "There's a whole branch of math called Information Theory that covers how this digital \"surprise\" works. A good example is file compression, like ZIP files. How small can you shrink the size of a file? Not down to zero, obviously. It turns out some files can't be compressed at all! (There are more files of length $ 2^{n}$ than there are of lengths $1..2^{n-1}$).\n",
    "\n",
    "What if the file is just random noise? there's no way to extract any general rules from it to make the representation smaller. Imagine we replaced every unique word in this document with a number. So \"the\" is 1, \"a\", is 2, etc. We could definitely make the document smaller, because there are patterns to English language. Long words like \"distribution\" or \"figuratively\" get turned into at most 4 digit numbers. We can get the original text back by reversing the process.\n",
    "\n",
    "There's no structure to randomness. You can't make generalizations from it. You can fit a model to random data, but it's going to be useless at predicting anything else.\n",
    "\n",
    "The betting record of a bad bettor achieves a similar result as far as winning percentage, but is not a result of a random process. \n",
    "\n",
    "If you just have their picks, I don't know you could distinguish between the bad bettor and some coin flips. But with extra context, there would certainly be patterns. Maybe they always take the Knicks or something. But they would be crap rules, with no value for predicting the future. There's no point in trying to learn from random noise.\n",
    "\n",
    "I'll get back to the psychology of this stuff in a bit. Back to the money data."
   ]
  },
  {
   "cell_type": "markdown",
   "metadata": {},
   "source": [
    "## Where the Money Goes\n",
    "\n",
    "One bit of gambling lore is that there are \"public\" teams that get bet on more frequently, regardless of the line. Like, your cousin who's a Cowboys fan is going to bet the Cowboys on Thanksgiving regardless of whether it's a fair line or not.  He'd watch the game and root for the Cowboys anyway, but it's a little more fun that way. The Cowboys aren't just a random number generator to him.\n",
    "\n",
    "Who are the public teams in the NBA this season, according to the data I have?\n"
   ]
  },
  {
   "cell_type": "markdown",
   "metadata": {},
   "source": [
    "I took the median percent bet on each team when they are the away team and added to the avg % when they are the home team. This isn't ideal, because I don't know the amount bet on each game. So the average of all the percentages won't be a true mean. if each game is a pie, we know what % of the pie, but we don't know how big each pie is."
   ]
  },
  {
   "cell_type": "code",
   "execution_count": 33,
   "metadata": {},
   "outputs": [],
   "source": [
    "money_data = scrape_sbr.money_vs_ats()"
   ]
  },
  {
   "cell_type": "markdown",
   "metadata": {},
   "source": [
    "Here are the top 10 teams by money over the course of the whole season."
   ]
  },
  {
   "cell_type": "code",
   "execution_count": null,
   "metadata": {},
   "outputs": [],
   "source": [
    "money_data['money_percents'].sort_values(ascending=False)[:10]"
   ]
  },
  {
   "cell_type": "markdown",
   "metadata": {},
   "source": [
    "These are mostly teams that have been good in the past few years, plus Cleveland, this year's standout team. There aren't any obvious \"public\" teams on this list except maybe Golden State. I was shocked to see Brooklyn on here, and not the New York Knicks. The Knicks are fun, and very good this year. I expected them to be high on the list. Since Brooklyn is actually trying to lose games, I don't know why casuals would be betting on them.\n",
    "\n",
    "### Ugly dogs\n",
    "Here are the bottom 10: "
   ]
  },
  {
   "cell_type": "code",
   "execution_count": null,
   "metadata": {},
   "outputs": [],
   "source": [
    "money_data['money_percents'].sort_values(ascending=True)[:10]"
   ]
  },
  {
   "cell_type": "markdown",
   "metadata": {},
   "source": [
    "Utah makes sense, because they're awful this year and are in a state where gambling is illegal. The Clippers are actually kinda good. Detroit and Orlando are fun, pretty good teams, but a non-casual fan wouldn't know that. \n",
    "\n",
    "The rest of them are all basketball disasters. If you were a more casual fan and didn't understand how the lines worked, these would be good teams to pick against because you've heard they're bad.\n",
    "\n",
    "Just because a team is bad doesn't mean the line is bad. It's might be better -- that should be clear by now, right? If you're willing to bet on Charlotte, you might be getting free points from the oddsmakers. The public betting the other side might push the line up, which means more free points.\n",
    "\n",
    "If you wanted to bet against these teams, you'd want to get the bet down early because you'll have some company.\n",
    "\n",
    "I haven't dug into how state laws might be affecting this. https://www.sportsbookreview.com/news/legal-sports-betting-states-tracker/"
   ]
  },
  {
   "cell_type": "markdown",
   "metadata": {},
   "source": [
    "### Betting percentages vs the spread\n",
    "\n",
    "A natural question to ask is who's winning and losing versus the spread, and whether there's a correlation with these betting percentages. Do those \"ugly dogs\" actually get free points?"
   ]
  },
  {
   "cell_type": "code",
   "execution_count": 36,
   "metadata": {},
   "outputs": [],
   "source": [
    "money_vs_ats = scrape_sbr.money_vs_ats()"
   ]
  },
  {
   "cell_type": "code",
   "execution_count": null,
   "metadata": {},
   "outputs": [],
   "source": [
    "money_vs_ats.sort_values('ats_win_pct')"
   ]
  },
  {
   "cell_type": "markdown",
   "metadata": {},
   "source": [
    "There is no significant link between the two. there are public teams with high win % against the spread, and ones with low win %."
   ]
  },
  {
   "cell_type": "code",
   "execution_count": null,
   "metadata": {},
   "outputs": [],
   "source": [
    "from scipy.stats import spearmanr\n",
    "spearmanr(money_vs_ats.money_percents, money_vs_ats.ats_win_pct )\n"
   ]
  },
  {
   "cell_type": "markdown",
   "metadata": {},
   "source": [
    "The win percentages are pretty spread out. It's easy to see numbers like that and think you could just pick the top 3 teams and fade the bottom 3. Just play those 6 and have a great winning percentage on paper. But I don't know what would have told us those perfect 6 teams were before the season.\n",
    "\n",
    "[TODO: experiment whether this would happen with random data. create a new dataframe where winner/loser ATS are randomly assigned. then look at the ATS records.]\n",
    "\n",
    "### Who are you playing against?\n",
    "Are you trying to beat the book, or beat the other people betting?"
   ]
  },
  {
   "cell_type": "markdown",
   "metadata": {},
   "source": [
    "## The Paradox of Mediocrity\n",
    "[TODO: better title, or explain the idea better]\n",
    "\n",
    "Betting is weird from a psychological perspective. If the lines are unbiased, then choosing your bets by flipping a coin would lead to winning 50% of the time. Losing substantially more or less than 50% is equally improbable, for a coin or a human. \n",
    "\n",
    "Imagine an \"unlucky\" bettor who lost 60% of the time. They would actually be the greatest of all time, because you could just take the opposite side of their bets and win 60% of the time.\n",
    "\n",
    "Bad bettors don't go broke because they lose a lot. They go broke because they can't win often enough to beat the vig, or risk too much on each bet. They may do worse than flipping a coin, but not a lot worse. \n",
    "\n",
    "If a coin wins 50% of the time and somebody who is really into gambling also wins 50% of the time, then it's not really a game of skill. It's not a thing you can get better at by learning the lore and following the conventional wisdom.\n",
    "\n",
    "Being bad at betting means still being right half the time. Being good at betting means being right 56% of the time. I'm not sure how you would tell the difference, except on large volumes of bets. \n",
    "\n",
    "### Handicapper vs Coin\n",
    "\n",
    "Say that a skilled handicapper who wins 56% of the time decides on the bets they like, then they do another set of picks by flipping a coin and track who wins. There are usually around 7 NBA games a night. \n",
    "\n",
    "1) What percent of the time will the handicapper get more the wins than coin? \n",
    "2) What percent of the time will the coin get more wins? \n",
    "3) What percent of the time will they tie?\n",
    "4) What percent of the time does the coin have a winning day? \n",
    "5) What percent of the time does the handicapper have a winning day? "
   ]
  },
  {
   "cell_type": "code",
   "execution_count": null,
   "metadata": {},
   "outputs": [],
   "source": [
    "WIN_PCT = .56\n",
    "FAIR_COIN = .5\n",
    "NIGHTS = 100000\n",
    "GAMES_A_NIGHT = 7\n",
    "\n",
    "MIN_WIN_PCT = .524\n",
    "\n",
    "def handi_vs_coin(games, emotional_support_bet=False):\n",
    "    handi_wins = handi_losses = handi_ties = handi_winning_days = coin_winning_days = 0\n",
    "    handi_overall_wins = handi_overall_losses = coin_overall_wins = coin_overall_losses = 0\n",
    "\n",
    "    for x in range(NIGHTS):\n",
    "        handicapper_record = [(rng.random() < WIN_PCT) for x in range(games)] # 1 for win, 0 for loss\n",
    "        coin_record = [(rng.random() < FAIR_COIN) for x in range(games)]\n",
    "\n",
    "        if emotional_support_bet:\n",
    "            handicapper_record.append((rng.random() < FAIR_COIN))\n",
    "\n",
    "        handi_day_wins = sum(handicapper_record)\n",
    "        handi_day_losses = len(handicapper_record) - handi_day_wins\n",
    "        handi_overall_wins += handi_day_wins\n",
    "        handi_overall_losses += handi_day_losses\n",
    "\n",
    "        coin_day_wins = sum(coin_record)\n",
    "        coin_day_losses = len(coin_record) - coin_day_wins\n",
    "        coin_overall_wins += coin_day_wins\n",
    "        coin_overall_losses += coin_day_losses\n",
    "\n",
    "        # who won the day -- the handicapper or the coin?\n",
    "        if handi_day_wins > coin_day_wins:\n",
    "            handi_wins += 1\n",
    "        elif handi_day_wins== coin_day_wins:\n",
    "            handi_ties += 1\n",
    "        else:\n",
    "            handi_losses += 1\n",
    "\n",
    "        # who had a winning day (including cost of the vig)\n",
    "        if handi_day_wins > (MIN_WIN_PCT * games):\n",
    "            handi_winning_days += 1\n",
    "        if coin_day_wins > (MIN_WIN_PCT * games):\n",
    "            coin_winning_days += 1 \n",
    "\n",
    "    handi_profit_loss = handi_overall_wins - (1.1 * handi_overall_losses)\n",
    "\n",
    "    print(f\"w/l/t%: {handi_wins/1000}-{handi_losses/1000}-{handi_ties/1000}\")\n",
    "    print(f\"handicapper winning days: {handi_winning_days/1000}%, coin winning days: {coin_winning_days/1000}%\")\n",
    "    print(f\"handicapper overall record: {handi_overall_wins}-{handi_overall_losses} ({100*handi_overall_wins/(handi_overall_wins+handi_overall_losses):.2f} %)\")\n",
    "    print(f\"handicapper profit {handi_profit_loss:.2f}\")\n",
    "    print(f\"coin overall record:\\t{coin_overall_wins}-{coin_overall_losses}\")\n",
    "    \n",
    "\n",
    "handi_vs_coin(7)"
   ]
  },
  {
   "cell_type": "markdown",
   "metadata": {},
   "source": [
    "The handicapper beats the coin half the time. About 30% of the time (around twice a week), the coin wins. The other 20% percent they tie. \n",
    "\n",
    "\n",
    "On 7 games a day, the handicapper has a winning day about 63% of the time. The coin has a winning day 50% of the time. With the vig figured in, the coin would be losing money long term, while having winning days half the time.\n",
    "\n",
    "### Getting Good Odds on Odd Goods\n",
    "\n",
    "The fact that 7 is odd is significant. If there are an even number of bets per day, the proportion of winning days is going to change dramatically. Hitting 4/7 or better is going to be easier than 5/8 or better, or 4/6 or better. Almost half the time, someone who went 4/7 is going to lose that 8th bet and not have a winning day.\n",
    "\n",
    "Let's see how this plays out."
   ]
  },
  {
   "cell_type": "code",
   "execution_count": null,
   "metadata": {},
   "outputs": [],
   "source": [
    "for x in range(3,9):\n",
    "    print(f\">>>>>>>>>> betting {x} games\")\n",
    "    handi_vs_coin(x)\n",
    "    print(\"\\n\")\n",
    "\n",
    "\n",
    "### FIXME: there is something"
   ]
  },
  {
   "cell_type": "markdown",
   "metadata": {},
   "source": [
    "As the sample size gets bigger, the handicapper wins more often against the coin. As I said at the top, there's no such thing as luck, just small sample size.\n",
    "\n",
    "Even with a sample size of 47, the coin still wins about a quarter of the time, though. And they both look more skilled (as judged by % winning days) with odd sample sizes than even ones."
   ]
  },
  {
   "cell_type": "code",
   "execution_count": null,
   "metadata": {},
   "outputs": [],
   "source": [
    "handi_vs_coin(47)"
   ]
  },
  {
   "cell_type": "code",
   "execution_count": null,
   "metadata": {},
   "outputs": [],
   "source": [
    "handi_vs_coin(48)"
   ]
  },
  {
   "cell_type": "markdown",
   "metadata": {},
   "source": [
    "There's a nugget of betting psychology in this. If you bet every day and wanted to optimize for the number of days per week you have a winning day, you should take an odd number of bets. Even a coin can have winning days half the time.\n",
    "\n",
    "No, this isn't one weird trick that statisticans hate. It all comes out in the wash. None of this changes the overall winning percentage or whether the bettor makes money in the long run, as you can see.\n"
   ]
  },
  {
   "cell_type": "markdown",
   "metadata": {},
   "source": [
    "### The emotional support bet\n",
    "\n",
    "Say the handicapper from the above example has 6 bets they want to make. Each will win 56% of the time. They want to have as many winning days as possible. What if they took a seventh bet by flipping a coin?"
   ]
  },
  {
   "cell_type": "code",
   "execution_count": null,
   "metadata": {},
   "outputs": [],
   "source": [
    "handi_vs_coin(6)"
   ]
  },
  {
   "cell_type": "code",
   "execution_count": null,
   "metadata": {},
   "outputs": [],
   "source": [
    "handi_vs_coin(6, emotional_support_bet=True)"
   ]
  },
  {
   "cell_type": "code",
   "execution_count": null,
   "metadata": {},
   "outputs": [],
   "source": [
    "41087/45190"
   ]
  },
  {
   "cell_type": "code",
   "execution_count": null,
   "metadata": {},
   "outputs": [],
   "source": [
    "61.149/46.215"
   ]
  },
  {
   "cell_type": "markdown",
   "metadata": {},
   "source": [
    "This hare-brained strategy works. 30% more winning days, at the cost of 10% lower profits."
   ]
  },
  {
   "cell_type": "markdown",
   "metadata": {},
   "source": [
    "\n",
    "\n",
    "### Our pal, the binomial distribution\n",
    "Why are 63% of days winning days for the skilled handicapper? Shouldn't it be 56%? Where are those \"free\" winning days coming from? \n",
    "\n",
    "The number of winning bets in a week comes from something called the binomial distribution. It tells us the probability of a certain number of wins, given a certain rate of success. If you flip a coin 10 times, how likely is it that you get more than 7 heads?\n",
    "\n",
    "The binomial is the same thing as what I was approximating above -- flipping a coin with the `rng.random()` function and adding up the binary results.\n",
    "\n",
    "First, 7 coin flips (p=.5). the x axis is number of successes and the y axis is the probability of that number."
   ]
  },
  {
   "cell_type": "code",
   "execution_count": null,
   "metadata": {},
   "outputs": [],
   "source": [
    "coin = scipy.stats.binom(GAMES_A_NIGHT, FAIR_COIN)\n",
    "\n",
    "coin_df = pd.DataFrame({\n",
    "    'x': [x for x in range(GAMES_A_NIGHT+1)],\n",
    "    'y': [coin.pmf(x) for x in range(GAMES_A_NIGHT+1)]\n",
    "\n",
    "})\n",
    "plt.bar(coin_df.x, coin_df.y)\n"
   ]
  },
  {
   "cell_type": "markdown",
   "metadata": {},
   "source": [
    "Notice how nice and symmetrical it is. going 3-4 and 4-3 are equally likely. The mean is clearly 3.5\n",
    "\n",
    "What about the bettor, with a 56% chance of winning each bet?"
   ]
  },
  {
   "cell_type": "code",
   "execution_count": null,
   "metadata": {},
   "outputs": [],
   "source": [
    "bettor = scipy.stats.binom(GAMES_A_NIGHT, WIN_PCT)\n",
    "\n",
    "binomial_df = pd.DataFrame({\n",
    "    'x': [x for x in range(GAMES_A_NIGHT+1)],\n",
    "    'y': [bettor.pmf(x) for x in range(GAMES_A_NIGHT+1)]\n",
    "\n",
    "})\n",
    "plt.bar(binomial_df.x, binomial_df.y)\n"
   ]
  },
  {
   "cell_type": "markdown",
   "metadata": {},
   "source": [
    "The curve gets shifted to the right a little bit and now it's no longer symmetrical. Now the most likely outcome is 4. Since 4/7=57.1%, that makes sense. 2 and 6 are now roughly equally likely, instead of 2 and 5. though 2 is more likely than 6. \n",
    "\n",
    "If you think about it, it can't be symmetrical anymore. Our bell curve got shifted to the right because we increased the winning percentage. \n",
    "\n",
    "This is different from the normal distribution. There is nothing preventing someone from having an IQ of 400, because the normal distribution is infinite. But nobody can make 37 shots in 10 attempts, not matter how good they are.\n",
    "\n",
    "The bar chart for the fair coin sorta looks like a normal bell curve, or at least the Nintendo Gameboy version of one. The bar chart for the bettor doesn't, because it's been boxed in. It's just a bit taller in the left tail than the right tail. 3 is a bit bigger than 5, 2 is a bit bigger than 6, 1 is bigger than 7."
   ]
  },
  {
   "cell_type": "markdown",
   "metadata": {},
   "source": [
    "The 63% comes from adding up the probabilities of getting 4, 5, 6 or 7 wins."
   ]
  },
  {
   "cell_type": "code",
   "execution_count": null,
   "metadata": {},
   "outputs": [],
   "source": [
    "sum(binomial_df[binomial_df.x > 3].y)"
   ]
  },
  {
   "cell_type": "markdown",
   "metadata": {},
   "source": [
    "What if we were looking at number of games won in a week? In this case, the distribution doesn't get smushed and it looks more like a normal bell curve. But if you look really closely, it's not totally symmetrical either. If you compare the two tails and match up the bars with each other, the left is a bit taller than the right."
   ]
  },
  {
   "cell_type": "code",
   "execution_count": null,
   "metadata": {},
   "outputs": [],
   "source": [
    "GAMES_A_WEEK = 7 * 7\n",
    "\n",
    "bettor_week = scipy.stats.binom(GAMES_A_WEEK, WIN_PCT)\n",
    "\n",
    "binomial_week_df = pd.DataFrame({\n",
    "    'x': [x for x in range(GAMES_A_WEEK+1)],\n",
    "    'y': [bettor_week.pmf(x) for x in range(GAMES_A_WEEK+1)]\n",
    "\n",
    "})\n",
    "plt.bar(binomial_week_df.x, binomial_week_df.y)\n",
    "plt.grid()"
   ]
  },
  {
   "cell_type": "markdown",
   "metadata": {},
   "source": [
    "### Are you normal?\n",
    "\n",
    "I think we have a cognitive bias towards thinking everything is a normal distribution (the classic bell curve), where the left tail and right tail are the same.  \n",
    "\n",
    "That's true for average folks and stats newbies alike. It's great! You don't have to remember the difference between left-skewed and right-skewed, for one thing. And the equation for the normal distribution has $\\pi$ in it. Yeah, it's your old buddy from middle school geometry class! Small world, isn't it?\n",
    "\n",
    "The binomial distribution can be approximated by the normal distribution (or the poisson) under certain conditions. Approximations are fine when the number of trials are large, but prop bets are usually based on a fairly small number, where the difference can matter. Life is a game of inches, the inches are all around you, etc.\n",
    "\n",
    "### Being binomial doubles the chances of misunderstanding\n",
    "\n",
    "Say you want to predict the number of rebounds a player gets in a game. It's going to be a combination of the probability that player gets a rebound on the average possession (the rebounding rate), and the number of possessions the player is in the game for. The outcomes will have a binomial distribution.\n",
    "\n",
    "What would that mean if you're thinking about taking a prop bet like Giannis over/under 9 rebounds? Just from a geometry standpoint, which is the slightly better deal in the area closest to the middle of the curve?\n",
    "\n",
    "That's actually a trick question. I showed you a binomial distribution that was heavier on the left (making the under a slightly better value), but they can be heavier on the right as well.\n",
    "\n",
    "Let's say we're looking at a prop bet on CJ McCollum over 3.5 rebounds. \n",
    "\n",
    "![cj mccollum prop bet from covers.com](img/cj.png)"
   ]
  },
  {
   "cell_type": "markdown",
   "metadata": {},
   "source": [
    "we could model this as a binomial with p=rebounds per possession, n=number of possessions:"
   ]
  },
  {
   "cell_type": "code",
   "execution_count": null,
   "metadata": {},
   "outputs": [],
   "source": [
    "reb_per_100 = 5.3 # per 100 possessions numbers from bbref\n",
    "reb_per_possession  = reb_per_100/ 100 \n",
    "reb_per_game = 3.6\n",
    "poss_per_game = round(100 * (reb_per_game/reb_per_100))\n",
    "\n",
    "cj2 = scipy.stats.binom(poss_per_game, reb_per_possession)\n",
    "\n",
    "\n",
    "cj2_df = pd.DataFrame({\n",
    "    'x': [x for x in range(0,10)],\n",
    "    'y': [cj2.pmf(x) for x in range(0,10)]\n",
    "\n",
    "})\n",
    "plt.bar(cj2_df.x, cj2_df.y)"
   ]
  },
  {
   "cell_type": "code",
   "execution_count": null,
   "metadata": {},
   "outputs": [],
   "source": [
    "cj2.mean()"
   ]
  },
  {
   "cell_type": "code",
   "execution_count": null,
   "metadata": {},
   "outputs": [],
   "source": [
    "cj2_result = sum(cj2_df[cj2_df.x < 3.5].y)\n",
    "cj2_result"
   ]
  },
  {
   "cell_type": "markdown",
   "metadata": {},
   "source": [
    "this model gives a 51.1% chance of the under. you would then have to convert that percentage to a fair money line (around -105), then add vig on top of that. \n",
    "\n",
    "Taking the under at a vig -109 looks like a fair to good deal based on this process, but I wouldn't swear I did it right. \n",
    "\n",
    "He's playing against Chicago, which is a very fast paced team. If we decided that CJ will play 10% more possessions than usual, due to faster pace, or a teammate being injured, the model changes:"
   ]
  },
  {
   "cell_type": "code",
   "execution_count": null,
   "metadata": {},
   "outputs": [],
   "source": [
    "reb_per_100 = 5.3 # per 100 possessions numbers from bbref\n",
    "reb_per_possession  = reb_per_100/ 100 \n",
    "reb_per_game = 3.6\n",
    "## increase possessions per game by 10%\n",
    "poss_per_game = round(1.1 * 100 * (reb_per_game/reb_per_100))\n",
    "\n",
    "cj3 = scipy.stats.binom(poss_per_game, reb_per_possession)\n",
    "\n",
    "\n",
    "cj3_df = pd.DataFrame({\n",
    "    'x': [x for x in range(0,10)],\n",
    "    'y': [cj3.pmf(x) for x in range(0,10)]\n",
    "\n",
    "})\n",
    "plt.bar(cj3_df.x, cj3_df.y)"
   ]
  },
  {
   "cell_type": "code",
   "execution_count": null,
   "metadata": {},
   "outputs": [],
   "source": [
    "sum(cj3_df[cj3_df.x < 3.5].y)"
   ]
  },
  {
   "cell_type": "markdown",
   "metadata": {},
   "source": [
    "Now the under should hit 42% of the time making a fair price around +135, so betting the under at -109 is a terrible idea.\n",
    "\n",
    "To rationally be betting props you'd have to be doing all this binomial nonsense to figure out if the vig is fair or not on every single bet. It's a multiple step calculation process with lots of assumptions. \n",
    "\n",
    "I'd guess there are apps and websites that can help, but it's still betting on whether you did your math homework right or not. \n",
    "\n",
    "It's not really a bet on whether CJ McCollum will have a good game tonight. He played poorly in the last game but got 4 rebounds, so the over would have paid. McCollum got 38 points the game before that, and only got 3 rebounds. He scored 50 points a month ago and got 3 rebounds.\n",
    "\n",
    "It's really a bet on whether the player gets more minutes than average, the team plays at a certain pace, what the opponent's rebounding rate is, etc. \n",
    "\n",
    "If you're a sicko like me, that could be fun, but do you think people are doing this big math problem every time they place a prop bet? \n",
    "\n",
    "Of course not. They're probably just taking the over regardless of price, because overs are more fun. Rooting against CJ McCollum getting his 4th rebound at the end of a meaningless game where he already scored 50 points is pathological.\n",
    "\n",
    "The vig on prop bets is high enough on these bets that I don't know if savvy bettors could make money through arbitrage opportunities, and keep the lines honest. What I've seen is that when a line on a prop bet moves, the books also increase the size of the vig.\n",
    "\n",
    "The big idea I'm trying to convey is that one side of a prop bet will pretty much always be *slightly* more than 50%. Our naive mental model of probabilities assumes that things are symmetrical, but it's not, because the results have to be whole numbers. CJ McCollum is going to get 3 or 4 rebounds tonight, not 3.6. \n",
    "\n",
    "The smaller the counts, the crazier the vig. Here's one for Brook Lopez over/under 1.5 assists.\n",
    "\n",
    "![brook lopez assists](img/brolo.png)"
   ]
  },
  {
   "cell_type": "markdown",
   "metadata": {},
   "source": [
    "You should really be converting the +155/-190 to probabilities, then comparing to the binomial distribution. The sides aren't even close to equal (+155 vs -190) so intuition is likely to be terrible.\n",
    "\n",
    "If you're betting the point spread, you can assume the lines are somewhat fair, and the vig is going to be a constant -110. With these prop bets, you can't. It's not really obvious what the bookie's cut is on a bet like the Brook Lopez one.\n",
    "\n",
    "Every bet is a little math problem. And the win loss record is meaningless now. Is going 25-20 on prop bets good or bad? Depends on the prices paid.\n",
    "\n",
    "These prop bets \"ideas\" come from a site called [Covers](https://www.covers.com/sport/basketball/nba/player-props). They don't show any history of their picks, so maybe they're just too modest to brag about how well they do. Yeah, that's it.\n",
    "\n",
    "Tip your waiter, don't tip your bookie. Definitely don't let your bookie calculate the tip for you."
   ]
  },
  {
   "cell_type": "markdown",
   "metadata": {},
   "source": [
    "\n",
    "## How to not go broke betting\n",
    "\n",
    "Don't bet. As you will see, it is possible to have an advantage over the house and still lose money. Failure is always an option, and unlikely things happen all the time when you're dealing with large amounts of randomness. Time for a couple thought experiments.\n",
    "\n",
    "### Coin Flipping Contests\n",
    "\n",
    "### March Madness 2.0\n",
    "Another example. The NCAA holds the March Madness tournament every year to determine who the best college basketball team is. It's a single elimination tournament of 64 teams, arranged into a big bracket.\n",
    "\n",
    "Say we do a March Madness style bracket with coin flippers instead of basketball teams. We randomly assign them places in the bracket. For each matchup, the coin flipper at the top of the matchup flips a coin. If they get heads, they survive and advance. If they get tails, they lose.\n",
    "\n",
    "Somebody's going to go 7-0 and win that tournament, right?\n",
    "\n",
    "### The Coin Flipping Olympics\n",
    "[TODO: rewrite, not that interesting]\n",
    "There are 10 billion people on the planet. Let's say they all flip a coin 20 times today. How many people will get 20 heads in a row? The odds are (1/2)^20, around 1 in a million. So we'd expect around 10,000 people to get 20 heads in a row. Losing 20 bets in a row is crazy, but it's not that crazy. The people who \"won\" didn't do it because of skill. They did it because, statistically, somebody had to.\n",
    "\n",
    "We could take those 10,000 people to a basketball stadium and nearly fill it with competitors in the Coin Flipping Olympics. \n",
    "\n",
    "Then we have each of those 10,000 flip coins. As soon as they get tails, they are eliminated. We'd expect this to go on for at least 13 more rounds. At last, someone emerges from this probabilistic *kumite* with 33 or more heads in a row. They must be the greatest coin flipper on earth.\n",
    "\n",
    "Even when skill isn't a factor, some people will get much better results than others. There's no way to eliminate all the risk when there is randomness involved. But we can math it up and at least ensure success is far more likely than failure over the long run while maximizing potential profits.\n",
    "\n",
    "## Maximizing Profits: Kelly Criterion\n",
    "Even if you have an advantage over the house, you could still go broke if you bet too much at once.  Suppose we can beat the lines 56% of the time but we bet 25% of our bankroll on each bet. What happens after 200 bets?  200 bets is not a lot, roughly 1 month of NBA games."
   ]
  },
  {
   "cell_type": "code",
   "execution_count": 52,
   "metadata": {},
   "outputs": [],
   "source": [
    "RUNS = 100000\n",
    "BETS = 200\n",
    "WIN_PCT = .56\n",
    "BET_SIZE = .25\n",
    "VIG = 1.1\n",
    "\n",
    "def simulate_bankroll():\n",
    "    print(f\"simulating {BETS} bets at win percent {WIN_PCT}, vig {VIG}, bet size {BET_SIZE:.3f}\\n\")\n",
    "    results = []\n",
    "    for run in range(RUNS):\n",
    "        bankroll = 100\n",
    "        for bet_count in range(BETS):\n",
    "            result = rng.random()\n",
    "            if result < WIN_PCT:\n",
    "                ## we won!\n",
    "                bankroll = bankroll + (BET_SIZE * bankroll)\n",
    "            else:\n",
    "                ## we lost =(\n",
    "                bankroll = bankroll - (VIG * BET_SIZE * bankroll)\n",
    "        results.append(bankroll)\n",
    "    return pd.Series(results)\n",
    "\n",
    "def simulation_report(results):\n",
    "    times_broke = sum(results < 5)\n",
    "    print(f\"We went broke {100 *times_broke / RUNS}% of the time\")\n",
    "    print(f\"Best result {max(results):,}, Worst {min(results)}, \\nmean {results.mean():,}, median {results.median():,} \")"
   ]
  },
  {
   "cell_type": "code",
   "execution_count": null,
   "metadata": {},
   "outputs": [],
   "source": [
    "results = simulate_bankroll()\n"
   ]
  },
  {
   "cell_type": "code",
   "execution_count": null,
   "metadata": {},
   "outputs": [],
   "source": [
    "simulation_report(results)"
   ]
  },
  {
   "cell_type": "markdown",
   "metadata": {},
   "source": [
    "### You know I'm only in it for the gold\n",
    "\n",
    "I've defined \"going broke\" as being down to less than 5% of the original bankroll, which I will also call ruin. Mathematicians can be emo with their vocabulary -- surprise, loss, regret and ruin are all technical terms.\n",
    "\n",
    "Once in a blue moon we end up a big winner, but most of the time we're left with less than 5% of our bankroll after 200 bets even though we have advantage. So it's still a game of chance rather than skill, even though it would require a lot of mental labor to make the picks, and time to actually bet the picks. The mean rate of return is quite impressive, but the median result is bankruptcy.\n",
    "\n",
    "Intuitively, there has to be some connection between the betting advantage and the optimal amount to risk on each bet. If you only have a tiny advantage, you should only be making tiny bets. The better you are, the more you can risk. And if you have no advantage, you shouldn't bet actual money.\n",
    "\n",
    "That intuition is correct. https://en.wikipedia.org/wiki/Kelly_criterion\n",
    "\n",
    "Let's see what happens when we bet the amount recommended by the Kelly criterion.\n"
   ]
  },
  {
   "cell_type": "code",
   "execution_count": null,
   "metadata": {},
   "outputs": [],
   "source": [
    "p = WIN_PCT\n",
    "q = 1 - WIN_PCT\n",
    "b = 1 / VIG \n",
    "\n",
    "BET_SIZE = p - (q/b)\n",
    "\n",
    "results = simulate_bankroll()\n",
    "simulation_report(results)\n"
   ]
  },
  {
   "cell_type": "markdown",
   "metadata": {},
   "source": [
    "That's a lot better. But notice how we can still go broke! Maybe if we do more bets with Kelly betting, we'll reduce the risk. That would be a reasonable assumption."
   ]
  },
  {
   "cell_type": "code",
   "execution_count": null,
   "metadata": {},
   "outputs": [],
   "source": [
    "BETS = 1000\n",
    "\n",
    "results = simulate_bankroll()\n",
    "simulation_report(results)"
   ]
  },
  {
   "cell_type": "markdown",
   "metadata": {},
   "source": [
    "There's a bit of a paradox with kelly betting. Your chances of going broke actually increase as you take more bets, rather than decrease. In my testing, you'll go broke about 12x as often on 1000 bets as 200. "
   ]
  },
  {
   "cell_type": "code",
   "execution_count": null,
   "metadata": {},
   "outputs": [],
   "source": [
    "1.411 / .114"
   ]
  },
  {
   "cell_type": "markdown",
   "metadata": {},
   "source": [
    "Isn't that surprising? \n",
    "\n",
    "I think with some basic dampening (in other words, never take a bet larger than a certain amount of money), the risk of ruin could be greatly lowered. But it's there.\n",
    "\n",
    "It's like Mario Kart: the longer the race, the more likely you are to get hit by a blue shell and totally wiped out.\n",
    "\n",
    "### Random Walks\n",
    "Imagine going on a walk. Every time you get to an intersection, you flip a coin. [TODO: clean this up] If it's heads, you turn north, walk a block, and then turn right (east). If it's tails, you turn south, walk a block, then turn left (east). This is called a random walk. If going north is making profits, and south is losing profits, it's a bit like a bettor's profits or losses plotted on a graph.\n",
    "\n",
    "The vig kinda breaks the analogy, because you can't go 1.1 blocks south when you lose.\n",
    "\n",
    "I think there's a huge value in knowing what random walks look like. Do they remind you of anything?"
   ]
  },
  {
   "cell_type": "code",
   "execution_count": 6,
   "metadata": {},
   "outputs": [
    {
     "data": {
      "image/png": "[encoded data removed]",
      "text/plain": [
       "<Figure size 640x480 with 9 Axes>"
      ]
     },
     "metadata": {},
     "output_type": "display_data"
    }
   ],
   "source": [
    "RANDOM_WALK_VIG = -1.1\n",
    "def plot_random_walk(p, n=1000):\n",
    "    fig, axs = plt.subplots(3,3, sharey='all')\n",
    "    plt.suptitle(f\"random walk with p={p}\")\n",
    "    for x in range(3):\n",
    "        for y in range(3):\n",
    "            win_or_lose = (np.random.rand(n) < p).astype(\"float\")\n",
    "            win_or_lose[win_or_lose==0] = RANDOM_WALK_VIG\n",
    "            random_walk = np.cumsum(win_or_lose)\n",
    "            axs[x,y].plot(random_walk)\n",
    "            axs[x,y].axhline(0)\n",
    "    \n",
    "\n",
    "plot_random_walk(.5)\n"
   ]
  },
  {
   "cell_type": "markdown",
   "metadata": {},
   "source": [
    "These are 1000 bets at 50% win rate and -110 vig. A couple of times, the bettor finishes with more money than they started with. But usually, they end up massively down at the end of the season.\n",
    "\n",
    "Here's the same thing with a 54.1% win rate, like one of the pro pick sellers I discuss later on."
   ]
  },
  {
   "cell_type": "code",
   "execution_count": null,
   "metadata": {},
   "outputs": [],
   "source": [
    "plot_random_walk(.541)"
   ]
  },
  {
   "cell_type": "markdown",
   "metadata": {},
   "source": [
    "2/9 lost money after 1000 bets. 5/9 were at zero profit after several hundred bets. Imagine buying hundreds of picks, making hundreds of bets, and being back at zero. (That's not even factoring in the cost of the picks.)\n",
    "\n",
    "And here's someone who is right 60% of the time. Success is pretty boring. You can sort of see them breaking the surly bonds of earth's gravity and heading to the stars. They're all steadily gaining +1 unit per 10 bets."
   ]
  },
  {
   "cell_type": "code",
   "execution_count": null,
   "metadata": {},
   "outputs": [],
   "source": [
    "plot_random_walk(.6)"
   ]
  },
  {
   "cell_type": "markdown",
   "metadata": {},
   "source": [
    "How about right at the break even point with the vig?"
   ]
  },
  {
   "cell_type": "code",
   "execution_count": null,
   "metadata": {},
   "outputs": [],
   "source": [
    "plot_random_walk(.524)"
   ]
  },
  {
   "cell_type": "markdown",
   "metadata": {},
   "source": [
    "### The Axe Forgets, The Tree Remembers\n",
    "\n",
    "If you look at the random walks for p=.524, you could assign stories to all of those graphs. Some of them \"got off to a hot start\", then hit a rough patch. One of them \"killed it\" from the get-go.  Pretty much all of them had long winning and losing streaks a times. If you've heard of technical analysis, do you see any technical analysis \"signals\" in these graphs? \n",
    "\n",
    "If the 9 graphs were stock prices, which one would you consider the best investment? \n",
    "\n",
    "They're equally bad investments. All have the same expected value moving forwards, which is zero, because they're winning just enough to pay the vig, but not make profits.\n",
    "\n",
    "The previous results are meaningless and have no bearing on whether the next step will be up or down. Every step is essentially a new random walk. The coin doesn't remember what has happened in the past. We do.\n",
    "\n",
    "This is what's known in math as a Martingale, named after a \"betting system\" that was popular in France hundreds of years ago. The basic idea behind all these betting systems is to \"chase\" losses by betting more when you're losing.\n",
    "\n",
    "Hopefully it's obvious that these chase systems are crazy, though formally proving it led to a lot of interesting math. \n",
    "\n",
    "\n",
    "### The Doctrine of Chances\n",
    "TODO: discuss history of martindale, de moivre, etc.\n",
    "\n",
    "### The Gambler's Ruin\n",
    "\n",
    "If each bet you make has a negative expected value, you can't fix that by betting MORE. People do these chase systems on paper and end up taking million dollar bets to try to get out of a million dollar hole. \"If I keep doubling down, eventually I'll win it all back.\" Maybe if you have infinite capital and unlimited time. Otherwise the Gambler's Ruin [16] is certain. The market can stay liquid longer than you can stay irrational."
   ]
  },
  {
   "cell_type": "markdown",
   "metadata": {},
   "source": [
    "There are many paradoxical things that happen on random walks, a lot of bad neighborhoods you might find yourself in. The longer you random walk, the higher the chances you end up in a bad part of town.\n",
    "\n",
    "So maybe the fact that your chances of ruin go up the longer you Kelly bet should not be all that surprising. There are a whole host of surprising results around randomness but I'll save those for another time."
   ]
  },
  {
   "cell_type": "markdown",
   "metadata": {},
   "source": [
    "### Partial Kelly Betting\n",
    "\n",
    "Remember, to make this work, the player has to have an advantage over the house, know the exact size of the advantage, and consistently bet the right amounts. \n",
    "\n",
    "Kelly Betting is the optimal way to maximize profits, but what about lower risk? Here's what happens when we Kelly bet 2% of our bankroll."
   ]
  },
  {
   "cell_type": "code",
   "execution_count": null,
   "metadata": {},
   "outputs": [],
   "source": [
    "BET_SIZE = .02\n",
    "BETS = 1000\n",
    "\n",
    "results = simulate_bankroll()\n",
    "simulation_report(results)"
   ]
  },
  {
   "cell_type": "code",
   "execution_count": null,
   "metadata": {},
   "outputs": [],
   "source": [
    "sum((results > 5) & (results < 100)) / RUNS"
   ]
  },
  {
   "cell_type": "markdown",
   "metadata": {},
   "source": [
    "We didn't go broke in 100,000 simulations. Not bad. Mean rate of return on 1000 bets is 4.6x, and the median is 3.7x. So most of the time, it is a nice return on investment.\n",
    "\n",
    "We still lost money 2.6% of the time, though. Being conservative, betting a lot of games at positive expected value, and betting the right way greatly increase the chances of success, but nothing can eliminate the possibility of failure.\n",
    "\n",
    ">Failure is always an option.\n",
    "\n",
    "If you've still got room on your back, maybe get that one tattooed, too.\n",
    "\n",
    "Imagine doing 1000 bets at 56% win percentage and a conservative bet size, and still losing money. Wild, isn't it? \n",
    "\n",
    "### Betting a constant amount\n",
    "You wouldn't have that problem with betting a constant amount, right? Say you have a bankroll of $1000 and you bet to win $20 on each game. 1000 games, 56 win %."
   ]
  },
  {
   "cell_type": "code",
   "execution_count": 9,
   "metadata": {},
   "outputs": [
    {
     "name": "stdout",
     "output_type": "stream",
     "text": [
      "expected: 2520.000000000002\n",
      "min: -252.0, max: 5586.0\n",
      "hit expected value 100000\n"
     ]
    }
   ],
   "source": [
    "def constant_ev():\n",
    "    games = 1000\n",
    "    bankroll = 1000\n",
    "    win_rate = .56\n",
    "    wins = win_rate * games\n",
    "    losses = (1 - win_rate) * games\n",
    "    bet_size = 20\n",
    "    vig = 1.1\n",
    "\n",
    "    constant_amt = bankroll + (wins * bet_size) - (losses * bet_size * vig)\n",
    "\n",
    "    print(f\"expected: {constant_amt}\")\n",
    "    return constant_amt\n",
    "\n",
    "\n",
    "def actual_simulation(sims=100000, games=1000, init_bankroll=1000, skill=.56, bet_size=20, vig=1.1):\n",
    "    outcomes = []\n",
    "    for sim in range(sims):\n",
    "        bankroll=init_bankroll\n",
    "        ## this code is inefficient, but I want to make it clear there's no 'funny business'\n",
    "        for game in range(games):\n",
    "            if rng.random() < skill:\n",
    "                # we won! =)\n",
    "                bankroll += bet_size\n",
    "            else:\n",
    "                bankroll -= (bet_size * vig)\n",
    "        outcomes.append(bankroll)\n",
    "    return outcomes\n",
    "        \n",
    "ev = constant_ev()\n",
    "\n",
    "outcomes = pd.Series(actual_simulation())\n",
    "print(f\"min: {outcomes.min()}, max: {outcomes.max()}\")"
   ]
  },
  {
   "cell_type": "markdown",
   "metadata": {},
   "source": [
    "It only hits the exact expected value about 2.6% of the time. It's within 5% of the EV about 13% of the time."
   ]
  },
  {
   "cell_type": "code",
   "execution_count": 15,
   "metadata": {},
   "outputs": [
    {
     "data": {
      "text/plain": [
       "2.561"
      ]
     },
     "execution_count": 15,
     "metadata": {},
     "output_type": "execute_result"
    }
   ],
   "source": [
    "100 * sum(round(outcomes) == round(ev)) / len(outcomes)"
   ]
  },
  {
   "cell_type": "code",
   "execution_count": 20,
   "metadata": {},
   "outputs": [
    {
     "data": {
      "text/plain": [
       "12.952"
      ]
     },
     "execution_count": 20,
     "metadata": {},
     "output_type": "execute_result"
    }
   ],
   "source": [
    "100 * sum((round(.95*ev) < round(outcomes)) & ( round(outcomes) < round(1.05*ev))) / len(outcomes)"
   ]
  },
  {
   "cell_type": "code",
   "execution_count": 16,
   "metadata": {},
   "outputs": [
    {
     "data": {
      "text/plain": [
       "<Axes: >"
      ]
     },
     "execution_count": 16,
     "metadata": {},
     "output_type": "execute_result"
    },
    {
     "data": {
      "image/png": "[encoded data removed]",
      "text/plain": [
       "<Figure size 640x480 with 1 Axes>"
      ]
     },
     "metadata": {},
     "output_type": "display_data"
    }
   ],
   "source": [
    "outcomes.hist()"
   ]
  },
  {
   "cell_type": "markdown",
   "metadata": {},
   "source": [
    "This expected value calculation doesn't have any randomness in it. It's just a simple algebra problem. According to EV, we'll end up with $2520 at the end of the season, for a profit of $1520.\n",
    "\n",
    "But you can't take the randomness out of the real world. In 100,000 simulations of this scenario, on very rare occasions, you end up losing all your money and more.\n",
    "\n",
    "Nobody should take a bet with negative expected value. If you do that, a philosopher or economist will throw a copy of _Hans Brinker and the Silver Skates_ at your head, and yell, \"that's irrational!\"\n",
    "\n",
    "But it's open to interpretation whether taking a bunch of positive expected value bets is rational. You could still lose money in aggregate. Our life isn't the average of all possible outcomes. We only get one."
   ]
  },
  {
   "cell_type": "markdown",
   "metadata": {},
   "source": [
    "### Caveats\n",
    "NBA games don't happen one by one. There are usually several games starting at the same time. You can't adjust the bet size after every bet. So you'd have to bet the same amount on the entire batch of games, not adjust the amount bet on the 2nd game based on whether the 1st one won or lost."
   ]
  },
  {
   "cell_type": "markdown",
   "metadata": {},
   "source": [
    "## What are pick sellers really selling?\n",
    "\n",
    "We still don't know what is a reasonable winning percentage for a human. People can't see the future so there has to be a practical limit, even if there's no theoretical limit. \n",
    "\n",
    "What if we were trying to figure out how high humans can jump? It might be possible to work out the maximum force human muscles can create and so on. But I would probably just find some of the best jumpers in the world and see what they can do. They're probably pretty close to the actual limit, whatever that is.\n",
    "\n",
    "There's no end to people hawking picks. Amateurs on social media. Betting sites offering their \"best bets\" of the day. Come on, they're not running a charity. If the sportsbook somehow knew what bets were more likely to win, which way would they want you betting? \n",
    "\n",
    "If you want a job done right, you call a professional. How do the people selling picks for money do?\n",
    "\n",
    "### Vegas Insider\n",
    "\n",
    "![vi](img/vegasinsider.png)\n",
    "\n",
    "Vegas Insider is a site that sells picks from a large number of handicappers. Kudos to them for making records available, but their picks don't appear to be much better than guessing.\n",
    "\n",
    "These are the 2024 NBA records of all handicappers on the site."
   ]
  },
  {
   "cell_type": "code",
   "execution_count": null,
   "metadata": {},
   "outputs": [],
   "source": [
    "from io import StringIO\n",
    "\n",
    "\n",
    "VEGAS_INSIDER_DATA = \"\"\"\n",
    "Handicapper,Year,Wins,Losses,Avg Odds,Profit,net units,win percentage\n",
    "Bill Marzano,2024,161,168,-111,-2861,-23.8,48.94%\n",
    "Brian Edwards,2024,138,143,-110,-1891,-19.3,49.11%\n",
    "Bruce Marshall,2024,287,249,-110,1244,13.1,53.54%\n",
    "Chip Chirimbes,2024,173,145,-111,1208,13.5,54.40%\n",
    "Daniel Dobish,2024,110,116,-108,-1596,-17.6,48.67%\n",
    "Jonny Reno Jorcin,2024,46,35,-110,746,7.5,56.79%\n",
    "Jorge Gonzalez,2024,129,150,107,-3195,-36,46.24%\n",
    "Mark Franco,2024,81,89,-110,-1662,-16.9,47.65%\n",
    "Micah Roberts,2024,187,188,-112,-2274,-19.8,49.87%\n",
    "Nick Parsons,2024,84,87,-111,-1306,-11.7,49.12%\n",
    "Paul Bovi,2024,76,70,-114,-360,-1,52.05%\n",
    "Ray Monohan,2024,133,122,-111,-187,-1.2,52.16%\n",
    "Stephen Nover,2024,154,136,-112,223,4.4,53.10%\n",
    "Vince Akins,2024,189,153,-110,2056,20.7,55.26%\n",
    "Zack Cimini,2024,43,49,-110,-1093,-10.9,46.74%\n",
    "\"\"\"\n",
    "\n",
    "vi_df = pd.read_csv(StringIO(VEGAS_INSIDER_DATA))\n",
    "\n",
    "vi_df"
   ]
  },
  {
   "cell_type": "markdown",
   "metadata": {},
   "source": [
    "if you took every single NBA bet offered on the site in 2024, you'd be down 99 units. In reality you wouldn't do that because you'd probably end up taking both sides of the same bet on occasion due to handicappers disagreeing.\n",
    "\n",
    "But even if you just picked one guy to follow, only 5 out of 14 handicappers actually made money. Only one hit a winning percentage over 55% on high volume.\n",
    "\n",
    "The average winning percentage on Vegas Insider is too low to make money, even on reduced juice."
   ]
  },
  {
   "cell_type": "code",
   "execution_count": null,
   "metadata": {},
   "outputs": [],
   "source": [
    "print(vi_df['Wins'].sum())\n",
    "print(vi_df['Losses'].sum())\n",
    "\n",
    "print(vi_df['net units'].sum())\n",
    "print(vi_df['Profit'].sum())\n",
    "\n",
    "print(vi_df['Wins'].sum()/(vi_df['Wins'].sum() + vi_df['Losses'].sum()))\n"
   ]
  },
  {
   "cell_type": "markdown",
   "metadata": {},
   "source": [
    "Also note the average odds taken. Except for two, they are all taking bets with an average vig greater than or equal to -110, which makes the records even worse. That may be due to them taking the money lines in close games. They don't have historical information on the individual picks, but I saw several recent examples of that in their free picks.\n",
    "\n",
    "### Sportscapping\n",
    "\n",
    "Another pick site seems to have slightly better cappers, though they charge a lot more for their picks: https://www.sportscapping.com/top-nba-all-trends.html\n",
    "\n",
    "The top individual on that site has gone 2,828-2,390 with an average odds of -108. That's legit:"
   ]
  },
  {
   "cell_type": "code",
   "execution_count": null,
   "metadata": {},
   "outputs": [],
   "source": [
    "win_loss_report(2828, 2390, vig=1.08)"
   ]
  },
  {
   "cell_type": "markdown",
   "metadata": {},
   "source": [
    "[TODO: fix win_loss_report, the actual units part is confusing.]\n",
    "\n",
    "Give the man his flowers. This is the first solid proof I've found that people can actually beat Vegas over a long period of time.\n",
    "\n",
    "The winning percentage is very low, but that's partially due to taking bets at an average of -108. Notice how just going from -110 to -108 on the vig leads to 48 more units of profit. \n",
    "\n",
    "\"Reduced juice\" for basketball is -106. Going from -110 to -106 adds almost 100 units in wins. See why I've been hammering this vig stuff?\n"
   ]
  },
  {
   "cell_type": "code",
   "execution_count": null,
   "metadata": {},
   "outputs": [],
   "source": [
    "win_loss_report(2828, 2390, vig=1.06)"
   ]
  },
  {
   "cell_type": "markdown",
   "metadata": {},
   "source": [
    "247 units over 16 years of handicapping is +15 units a year, which isn't a lot.\n",
    "\n",
    "He charges $35 a pick. Let's say we bought every single one of them. That would cost us $182,630. That's $739 per unit won. So we'd need to risk (1.1 * 739) = $813 on every one of his 5,218 picks just to cover the *cost of the picks themselves*. Anything less than that and we would be losing money.\n",
    "\n",
    "The cost of the picks is basically another vig you have to overcome to make profits. If we're betting $100, then the pick cost is $35 and the vig is $10. So it's basically like taking every bet at -145. you're guaranteed to lose money if you do that. If we're betting $1000, then the pick cost is still $35 but the vig is $100. So it's like taking the bet at -113.5 instead of -110. Which is awfully hard to beat at a 54.1% winning percentage.\n",
    "\n",
    "There's also a huge labor cost to placing 5,200 bets over a 16 year period. Imagine having to make bets every day of the NBA season for 16 years."
   ]
  },
  {
   "cell_type": "code",
   "execution_count": null,
   "metadata": {},
   "outputs": [],
   "source": [
    "print(2828+2390)\n",
    "print((2828+2390)/16)\n",
    "print(247/16)\n",
    "print(813/247)\n",
    "\n",
    "total_pick_cost = (2828 + 2390) * 35\n",
    "\n",
    "print(total_pick_cost)\n",
    "\n",
    "print(total_pick_cost /247)\n",
    "print(1.1 * total_pick_cost /247)"
   ]
  },
  {
   "cell_type": "markdown",
   "metadata": {},
   "source": [
    "### Backtesting, counterfactuals and survivorship bias\n",
    "\n",
    "There's an obvious problem with taking someone's 15 year record and calculating possible profits off it.\n",
    "\n",
    "Nobody knew this guy was going to go 2828-2390 over the next 15 years back when he started in 2009. \"We could have made __ if we had done __\" is a counterfactual. If you could send a note back in time to yourself in 2009, it would probably say \"buy bitcoin\" or something, not \"buy the picks of this guy who will win 54% of his bets over the next 15 years\".\n",
    "\n",
    "The Sportscapping site doesn't seem to have any handicappers with a win percentage below 52.4%. Do you think that's because they've never had a handicapper with a long term losing record? \n",
    "\n",
    "It seems more likely to me that Vegas Insider is just more honest about it. This is classic survivorship bias: https://en.wikipedia.org/wiki/Survivorship_bias\n",
    "\n",
    "What if we picked the wrong handicapper in 2009? There were a lot of other guys on that site back then:\n",
    "\n",
    "https://web.archive.org/web/20090306055251/http://sportscapping.com/handicappers.html\n",
    "\n",
    "How would you have known that this was \"the\" guy to follow? \n",
    "\n",
    "The final problem here is that we'd need to know the win rate in order to do Kelly betting. If we thought the picks would win at a 56% rate instead o a 54% rate, we could be in trouble."
   ]
  },
  {
   "cell_type": "markdown",
   "metadata": {},
   "source": [
    "## Philosophical Interlude: Bros Need Cool Stories\n",
    "\n",
    "People selling picks always write a little story to go with them justifying their pick. They give a paragraph saying \"Dallas hasn't been playing well on Tuesday nights when it's a full moon\" or whatever. Seems like that's what dudes are really paying for.\n",
    "\n",
    "I love these stories as a micro-genre of speculative fiction. Not because they're well written, but because they have to find something to say to go with hundreds of picks. A lot of it is stuff like \"Pacers are 9-3 ATS in their last 12 games following a ATS loss.\" \n",
    "\n",
    "Do you think the coach is going, \"we lost against the spread last night, so even though we won that game, we gotta pull out all the stops tonight! Gentlemen, think of the gamblers!\"\n",
    "\n",
    "It's really a combination of bad sportswriting and astrology. People don't go to psychics because psychics can see the future. They go for a coherent story about the future. \"Truth is a luxury; fiction a necessity.\" \n",
    "\n",
    "Handicappers these days tend towards a bit more realistic-sounding analysis rather than statistical fallacies. Stuff like \"I think they'll be tired after a long road trip.\" Or \"the vibes have seemed wrong with this team.\" Or \"this team is bad on defense when ___ doesn't play\". \n",
    "\n",
    "It leads to a slightly better literary product. As an NBA fan, the analysis isn't all that deep, but I can read some of them and go, \"that's reasonable\". Most NBA analysis isn't all that deep in general, and they all promote and talk about gambling now, so it's kinda just like a mediocre NBA podcast. \n",
    "\n",
    "But if these cool bro stories don't seem to lead to the picks winning more, so what's the point? The only thing a customer should care about is the winning percentage of the handicapper, not their literary talents.\n",
    "\n",
    "I say \"dudes\" deliberately. The whole thing is very dude-centric. Over 70% of sports gamblers are men: https://www.statista.com/statistics/1105283/sport-gambling-interest-gender/ . Almost all the handicappers and podcasters that push gambling are men. The language they use to sell the picks is very, shall we say, male coded.\n",
    "\n",
    "Some recent examples:\n",
    "\n",
    "> \"Experience the thrill of winning with confidence with the help of razor-sharp predictions. We're your secret weapon for CRUSHING THE ODDS!\" [12]\n",
    "\n",
    "> \"Sean Higgs has been crushing 'The Man' since the early 90s...\" [13]\n",
    "\n",
    "Some colorful ones from 2009.\n",
    "\n",
    "> \"CRUSH YOUR MAN on the weekends with The Widow's 3-Day Weekend Warrior Package! \" [9]\n",
    "\n",
    "> \"Beat your man all week long with every single play released from The Widow for 7 days!\" [9]\n",
    "\n",
    "> \"It's time for a new NBA season and Rob is ready to dominate the odds makers all season long.\" [10]\n",
    "\n",
    "> \"Take your book to the slaughterhouse on New Year's Day with World Champion Handicapper Jeff Alexander as he continues his Rock Solid 34-19 NCAAF Sides Run (64%) with his Ohio State/Oregon 5* Wiseguy Rose Bowl MONSTER (ABC), his LSU/Penn State 4* Major Capital One Bowl BOMB (ABC), and his Cincinnati/Florida 4* Major Sugar Bowl BOMB (FOX)! \" [11]\n"
   ]
  },
  {
   "cell_type": "markdown",
   "metadata": {},
   "source": [
    "I have a lot of books, dude. Which one should I take with you to the slaughterhouse? Is Upton Sinclair's _The Jungle_ too obvious? Why are we going to the slaughterhouse on New Year's Day, anyway? Is that an Irish thing?\n",
    "\n",
    "### Timberwolves you used to know\n",
    "Time for me to get on my middle aged man soapbox for a minute about you kids these days.  Betting is now a Thing For Guys To Talk About. Guys used to make things. Now they make bets. Instead of lore about nature and the world, men now trade gambling lore. Instead of stories about the migrations of birds, the names of the ancestors, and the creation of the Universe, it's stories about how Jimmy G will always ruin your parlay.\n",
    "\n",
    "There's so much vocabulary and quasi-technical stuff to learn. How a teaser works. What a \"stay away\" team is. \"Laying the points\". Who's on a \"hot streak\". What \"Vegas is trying to tell us\". Who you shouldn't bet on in cold weather. Taking scalps. \"Chasing steam\". Great, now I have something I can say in both a sportsbook and a [Phish](https://phish.in/2013-12-28/steam) parking lot!\n",
    "\n",
    "Perhaps it feels like secret knowledge, like absorbing all this lore is how you get skilled at betting. But hopefully by now you understand it's not actually a skill for most guys. What are they learning from all this lore?\n",
    "\n",
    "It might be called an anti-skill. What's another situation where the more information you have, the more lingo you know, the worse you are at it? \n",
    "\n",
    "Based on the \"fade the public\" experiment, someone betting the popular money would always be on the other side. That means they would go 145-180 (44%) against the spread on basketball so far this year. That's 19 games below .500!\n",
    "\n",
    "I don't know how a strategy like \"pick the team with the mascot that would win in a fight\" would do, but I would guess better than 44%. Like I said a while back, it would be a talent to consistently lose 56% of the time instead of 50% of the time.  But if \"betting the conventional wisdom\" and \"betting with the majority\" are the same thing, then following the conventional wisdom gives you anti-skills, because people who bet with the majority lose bad. \n",
    "\n",
    "Specifically, I think the anti-skill is in rationalizing continuing to bet with the majority, even though it does worse than flipping a coin. I realize I'm creating a bit of a strawman here, because I'm sure some percent of the time, the pick sellers and the guys posting 5 paragraph essays on reddit about why each of their bets lost *are* choosing the less popular side.\n",
    "\n",
    "The intermingling of money and emotions adds an extra element to gambling addiction -- I don't think anyone starts doing hard drugs because they think it will make them rich."
   ]
  },
  {
   "cell_type": "markdown",
   "metadata": {},
   "source": [
    "\n",
    "### Explanatory Fictions and Imaginary Relationships\n",
    "A parasocial relationship with a guy selling picks or talking about gambling on a podcast causes guys to want to form social relationships around gambling. They're Gambling Guys now. Which leads to an endless parade of dudes complaining about their parlays online, and, I would wager, annoying the heck out of their significant others. \"It's a whole lifestyle, Sherri! Of course I had to get my tips frosted! I'm a Gambling Guy now!\"\n",
    "\n",
    "It's all imaginary. An imaginary relationship with a betting guru in the form of a \"hot tip\". An imaginary relationship with the sporting event or player in the form of a bet. An imaginary relationship with reality itself in the form of the rationalization about why the \"hot tip\" didn't win. An imaginary relationship between winning and skill. \n",
    "\n",
    "Being a sports fan is already ridiculous enough.\n",
    "\n",
    "Dudes do the storytelling in reverse when a bet loses. A whole paragraph about \"I thought that Durant was gonna blah blah blah but instead blah blah\". This is silly. A rational bettor wouldn't try to learn too much from any one data point, much less post a whole essay about it to the internet. This is known as overfitting. It's bad!\n",
    "\n",
    "### Robot, Teach Thyself\n",
    "I couldn't stand reading too many explanations of losses, but the thinking seems to be that if you just, like, learn a rule from every bet you take, eventually you will have this system of rules that will never steer you wrong.\n",
    "\n",
    "I got interested in AI well ahead of the curve, in the late 90's. So learning by creating a bunch of rules is fascinating to me because that's kind of how AI started out, and that's definitely not where it is now. \n",
    "\n",
    "Proto-AI researchers created what are called Expert Systems [7]. Some mushrooms are poisonous, and some are not. There are books that will help you classify mushrooms you find. If it's brown and smaller than this size and has this type of cap and that type of spore print, it's edible.  Otherwise, it's not. You can put all these rules into a decision tree. If brown, take the left branch, if not brown, take the right. Eventually, after a series of decisions, you get to either \"eat it\" or \"don't eat it\".\n",
    "\n",
    "Dude Betting Stories are similar. \"Never throw the Chargers in a money line parlay, unless they're going against a team with an interim coach when it's raining.\" It's a reasonable way for trying to model the thinking of an expert, something a non-expert could use to approximate their talents on Sunday afternoons. But it's a limited technique in practice. It's weird to see the folk psychology version of this old AI thing that doesn't work well.\n",
    "\n",
    "There are better techniques for classification now. But they can't really tell you a story the way a decision tree can. \"Explainable AI\" is a big thing now because deep learning is like an oracle that Just Knows Stuff, and it can't really tell you why.\n",
    "\n",
    "### Learning the Right Amount\n",
    "In case I haven't said it enough times, nobody cares about your terrible bets, especially when you took the more obvious side. No, LeFraud didn't betray you by failing to cover by one point. More likely the line was one point too generous on the side of the underdog because most people bet the Lakers.\n",
    "\n",
    "Based on all I've seen, someone who can actually do this is still only winning 55ish percent of the time. Which means that 45% of the time they're going to lose even if they pick the side of the bet that was more likely to win. Maybe it's a really strong bet and for some reason they know it has a 66% chance of winning. Should they be surprised if it loses? No. That's a totally normal thing to happen one time in three.\n",
    "\n",
    "Imagine I took the simple \"fade the public\" strategy and sold those picks. (of course, there was no way to know this strategy would work at the beginning of the year). I could certainly write a little story for each one, maybe in the style of Raymond Carver. \"Will You Please Take The Over, Please?\"\n",
    "\n",
    "The story doesn't make the bet more likely to be true, though, right? A factual story would be the same for every bet, and not very interesting: \"there is slightly more value on this side of the bet.\" \n",
    "\n",
    "Bros need stories, though.\n"
   ]
  },
  {
   "cell_type": "markdown",
   "metadata": {},
   "source": [
    "### Timing is everything\n",
    "It seems like people who sell picks have to get them out well before the start of the game. If you accept the \"fade the squares\" premise, then you would probably want to take your bets at the last possible minute because that's when the line should be most favorable to you. So they have to look for different bets.\n",
    "\n",
    "Lines move, so to get the exact same bet as the pick seller, you would need to place your picks at the same time they do.  Say they recommend betting on Denver when the line is DEN -3.5. A bunch of people take the bet, so the sportsbook moves the line to DEN -4.5. Denver wins by 4 points. It was a win for the pick seller and a loss for people who bet the same side.\n",
    "\n",
    "It could cut the other way as well. The pick seller recommends Orlando +7. A bunch of bets come in on the other side, it closes at ORL +9. The team loses by 8.\n",
    "\n",
    "But if you believe in the efficiency of the market, the price for the winning side should get more expensive from the opening line to the closing line. Which means that if you don't take the pick seller's picks right away, you could get a worse number.\n",
    "\n",
    "## Efficiency of Markets\n",
    "\n",
    "The efficient market hypothesis says that markets are, given enough time and competition, able to establish the correct price for a commodity. In this case, we could think of it as the price of a money line bet. If CLE -300 is a good value, people will rationally want to take it, driving the price up. If it is a bad value, people will rationally want to take the other side. These rational actors will collectively push the price towards the best possible estimate that humans can do.\n",
    "\n",
    "Under this theory, the final lines should be more accurate than the opening lines. Are they? Indeed they are."
   ]
  },
  {
   "cell_type": "code",
   "execution_count": null,
   "metadata": {},
   "outputs": [],
   "source": [
    "open_errors = ftp['open_with_line'].to_numpy()\n",
    "close_errors = ftp['with_line'].to_numpy()"
   ]
  },
  {
   "cell_type": "markdown",
   "metadata": {},
   "source": [
    "These errors can be positive or negative. We're interested in how big they are, not which direction they point. Mean Squared Error is the standard way to compare two predictions. Lower error is better."
   ]
  },
  {
   "cell_type": "code",
   "execution_count": null,
   "metadata": {},
   "outputs": [],
   "source": [
    "(open_errors ** 2).mean()"
   ]
  },
  {
   "cell_type": "code",
   "execution_count": null,
   "metadata": {},
   "outputs": [],
   "source": [
    "(close_errors ** 2).mean()"
   ]
  },
  {
   "cell_type": "code",
   "execution_count": null,
   "metadata": {},
   "outputs": [],
   "source": [
    "open_errors.shape"
   ]
  },
  {
   "cell_type": "markdown",
   "metadata": {},
   "source": [
    "So the closing lines are better, 186.37 \"things\" to 193.2 \"things\" on the open line.\n",
    "\n",
    "Red dots are the opening line. Blue dots are the closing line. if the markets are efficient, the distance from the horizontal 0 line should go down.  The x axis are games in the order played."
   ]
  },
  {
   "cell_type": "code",
   "execution_count": null,
   "metadata": {},
   "outputs": [],
   "source": [
    "plt.scatter(range(len(open_errors)), open_errors, color='r')\n",
    "plt.scatter(range(len(close_errors)), close_errors, color='b')\n",
    "plt.axhline(y=0)"
   ]
  },
  {
   "cell_type": "markdown",
   "metadata": {},
   "source": [
    "### Decision Boundaries\n",
    "\n",
    "This is a classic dataset in the field of machine learning. From data about the shape of the petals and sepals of a flower, can you predict which of 3 species of iris it belongs to?\n",
    "\n",
    "![courtesy scikit-learn.org](img/iris_svc.png)\n",
    "\n",
    "[TODO: all this shit about \"classes\" and \"labels\" won't make sense to the average joe]\n",
    "\n",
    "A lot of machine learning boils down to: \n",
    "\n",
    "1) turn the data that we know the labels for (in this case, which species of iris it is) into numerical vectors.\n",
    "2) do some math \"tricks\" so that all the datapoints for the same class end up close together in space and can be easily separated from each other\n",
    "3) use more tricks to establish decision boundaries -- the borders between classes. Each class will end up with its own regions. nearly all the points in the dataset will be in the region corresponding to its actual class.\n",
    "\n",
    "If we're given new data and asked to predict which class it's in, do step 2 to the new data, then figure out what class its location in space corresponds to, and predict that class.\n",
    "\n",
    "### Illusions, Michael\n",
    "I'm not being colloquial when I describe step 2 as a \"trick\". With the SVM algorithm, it's literally called \"the kernel trick\". Never go trick or treating at a mathematician's house. They might just hand you a linear algebra textbook. And those things are heavy. Bound to slow you down the rest of the night.\n",
    "\n",
    "The big thing to understand is that establishing good decision boundaries is really, really important. Imagine we're classifying mushrooms. If we classify a poisonous mushroom as non poisonous because the decision boundary is wrong, that would be bad.\n",
    "\n",
    "The closer a datapoint is to the decision boundary, the more important it is to get it right. If you're going mushroom picking, you'd want to pay close attention to mushrooms that look very similar, but one is poisonous and one isn't, because those are the ones you'd worry about the most. If we were testing mushroom pickers, those would be the ones we'd ask them about. Anyone can classify the obvious ones.\n",
    "\n",
    "These are the ones that would be closest to the decision boundary in a machine learning algorithm. When establishing the decision boundary, the most logical way to do that is to draw it so there are an equal number of misclassifications in each region. The decision boundaries should be unbiased. We can't really say the algorithm made the \"best guess\" if they're biased. We're not using the data we've been given optimally.\n",
    "\n",
    "With all this windup, you're probably hoping I have something good to show you. And I do. Because the point spread is also a sort of decision boundary. [TODO: not sure this analogy works]\n",
    "\n",
    "Because the same thing should be true of the point spreads. Underdogs and favorites should win equal amounts of close games against the spread.\n",
    "\n",
    "Let's look at what happens in games where the final score is within 3 points of the line."
   ]
  },
  {
   "cell_type": "code",
   "execution_count": null,
   "metadata": {},
   "outputs": [],
   "source": [
    "close_games = ftp[ftp.with_line.abs() < 3]\n",
    "close_games.fave_dog.value_counts()"
   ]
  },
  {
   "cell_type": "markdown",
   "metadata": {},
   "source": [
    "The underdog wins close games against the line 57.4% of the time this season.\n",
    "\n",
    "What about games where the line was off by less than a point? The underdogs are 19-5. 79% win percentage. It's a small sample, but that difference is significant."
   ]
  },
  {
   "cell_type": "code",
   "execution_count": null,
   "metadata": {},
   "outputs": [],
   "source": [
    "ftp[ftp.with_line.abs() < 1].fave_dog.value_counts()"
   ]
  },
  {
   "cell_type": "code",
   "execution_count": 78,
   "metadata": {},
   "outputs": [],
   "source": [
    "super_tight = ftp[ftp.with_line.abs() < 1]"
   ]
  },
  {
   "cell_type": "code",
   "execution_count": null,
   "metadata": {},
   "outputs": [],
   "source": [
    "super_tight.fade.value_counts()"
   ]
  },
  {
   "cell_type": "code",
   "execution_count": null,
   "metadata": {},
   "outputs": [],
   "source": [
    "pd.crosstab(super_tight['fave_dog'].to_numpy(), super_tight['fade'].to_numpy())"
   ]
  },
  {
   "cell_type": "code",
   "execution_count": 81,
   "metadata": {},
   "outputs": [],
   "source": [
    "tight_appearances = super_tight.away_names.value_counts() + super_tight.home_names.value_counts()"
   ]
  },
  {
   "cell_type": "code",
   "execution_count": null,
   "metadata": {},
   "outputs": [],
   "source": [
    "super_tight.away_names.value_counts() "
   ]
  },
  {
   "cell_type": "code",
   "execution_count": null,
   "metadata": {},
   "outputs": [],
   "source": [
    "super_tight"
   ]
  },
  {
   "cell_type": "code",
   "execution_count": null,
   "metadata": {},
   "outputs": [],
   "source": [
    "tight_appearances.sort_values(ascending=False)"
   ]
  },
  {
   "cell_type": "markdown",
   "metadata": {},
   "source": [
    "OK, so there's strong evidence of a bias towards underdogs. They win 52% of the time overall. The closer the game is vs. the spread, the more frequently they win.\n",
    "\n",
    "There's also a possible bias against away teams."
   ]
  },
  {
   "cell_type": "code",
   "execution_count": null,
   "metadata": {},
   "outputs": [],
   "source": [
    "ftp.winner_ats.value_counts()"
   ]
  },
  {
   "cell_type": "markdown",
   "metadata": {},
   "source": [
    "Away teams beat the spread 52% of the time. Like we saw with underdogs, that's enough for the sportsbook to make a little easy money if most of the bets are on the home team, but not enough to allow arbitrage by always picking the underdog.\n",
    "\n",
    "\n",
    "What about close games?"
   ]
  },
  {
   "cell_type": "code",
   "execution_count": null,
   "metadata": {},
   "outputs": [],
   "source": [
    "close_games.winner_ats.value_counts()"
   ]
  },
  {
   "cell_type": "markdown",
   "metadata": {},
   "source": [
    "56% win percentage for away teams in close games. Not statistically significant, but very :thinking_face_emoji: given all we've seen now.\n",
    "\n",
    "Some of this is probably coincidence, but it points to both the lines being non-ideal, and the marketplace not doing very well at correcting these mistakes."
   ]
  },
  {
   "cell_type": "markdown",
   "metadata": {},
   "source": [
    "### Adam Smith, Handicapper"
   ]
  },
  {
   "cell_type": "markdown",
   "metadata": {},
   "source": [
    "On 123 games, the closing line was better than the opening line (the blue dot is closer to ideal than the red). On 110 games, the opening line was better (the red dot is closer to ideal than the blue.)"
   ]
  },
  {
   "cell_type": "code",
   "execution_count": null,
   "metadata": {},
   "outputs": [],
   "source": [
    "sum(abs(open_errors) > abs(close_errors))"
   ]
  },
  {
   "cell_type": "code",
   "execution_count": null,
   "metadata": {},
   "outputs": [],
   "source": [
    "sum(abs(close_errors) > abs(open_errors))"
   ]
  },
  {
   "cell_type": "code",
   "execution_count": null,
   "metadata": {},
   "outputs": [],
   "source": [
    "sum(abs(open_errors) == abs(close_errors))"
   ]
  },
  {
   "cell_type": "markdown",
   "metadata": {},
   "source": [
    "Imagine we can bet on whether the closing line will beat the opening line. How do we feel about 123-110-97 as a handicapper record?"
   ]
  },
  {
   "cell_type": "code",
   "execution_count": 311,
   "metadata": {},
   "outputs": [
    {
     "name": "stdout",
     "output_type": "stream",
     "text": [
      "record:   123 - 110\n",
      "full vig units: 2.0\n",
      "reduced juice units: 6.4\n",
      "win pct: 52.79%, expected wins: 116.5 , excess: 6.5, profit %: 0.86\n",
      "z test: 0.851658316704544, std: 7.632168761236874 , p: 0.19720188109739745\n"
     ]
    }
   ],
   "source": [
    "win_loss_report( 123, 110)"
   ]
  },
  {
   "cell_type": "markdown",
   "metadata": {},
   "source": [
    "so less than 53% of the time, the market moves the bet in the right direction. You could lose a lot of money taking capitalism in a 4 team teaser. Nephew Doug would never recommend it.\n",
    "\n",
    "that's not really a glowing endorsement of the free market, is it? If the sports betting market were a handicapper on one of these pick selling sites, would you buy its picks? \n",
    ">\"Bet with 4* Handicapper Adam Smith (123-110 +2u) and get an invisible hand up on your man! Take your book to the charnel house with these picks!\"\n",
    "\n",
    "Probably not.\n",
    "\n",
    "### What would \"perfect\" lines look like?\n",
    "I decided the closing lines were better than the opening lines based on Mean Squared Error. The opening lines were at 193 and the closing lines were at 188. What would it take for the lines to be at zero error?\n",
    "\n",
    "It's rare to see NBA lines that are bigger than +15/-15 points. there have only been 3 so far this season:"
   ]
  },
  {
   "cell_type": "code",
   "execution_count": null,
   "metadata": {},
   "outputs": [],
   "source": [
    "ftp[(ftp.away_spread > 15) | (ftp.away_spread < -15)]"
   ]
  },
  {
   "cell_type": "markdown",
   "metadata": {},
   "source": [
    "In the first game, Washington vs. OKC, the line was OKC -17.5. They won by 18. Wild. That's as good as they can do (they put the line on the half-point to avoid ties. If the game ties versus the spread, it's called a \"push\" and everybody gets their money back. They really, really don't like giving money back.)\n",
    "\n",
    "IN the second game, the line was BOS -16.5. They won by 54 points. Should the line have been BOS -53.5 instead of -16.5?"
   ]
  },
  {
   "cell_type": "markdown",
   "metadata": {},
   "source": [
    "While there were only 3 lines that large, there were 93 games where the final score differential was bigger than 15. That's 28% of all games this season!"
   ]
  },
  {
   "cell_type": "code",
   "execution_count": null,
   "metadata": {},
   "outputs": [],
   "source": [
    "sum(abs(ftp.score_diff) > 15) / len(ftp)"
   ]
  },
  {
   "cell_type": "markdown",
   "metadata": {},
   "source": [
    "The line was off by over 15 points compared to the final result 28% of the time for the opening lines and 27% of the time for the closing lines."
   ]
  },
  {
   "cell_type": "code",
   "execution_count": null,
   "metadata": {},
   "outputs": [],
   "source": [
    "print(sum(abs(open_errors) > 15) / len(ftp))  \n",
    "print(sum(abs(close_errors) > 15) / len(ftp))\n"
   ]
  },
  {
   "cell_type": "markdown",
   "metadata": {},
   "source": [
    "Imagine checking the NBA odds, and a quarter of them were over -15/+15?\n",
    "\n",
    "The problem is that we're working with a sample size of one game. Boston isn't going to beat Toronto by 54 points every time. Earlier this season, Boston only beat them by 3 points in overtime.\n",
    "\n",
    "So the fact that the lines are way off a lot of the time shouldn't be surprising. The line is a single number that should represent the mid-way point of a distribution of possible outcomes. We only get to see one result, so it's hard to say how perfect the lines could be.\n",
    "\n",
    "There's a lot more analysis of the lines I could do, but I'll save that for future work."
   ]
  },
  {
   "cell_type": "markdown",
   "metadata": {},
   "source": [
    "## Can an amateur do it?\n",
    "\n",
    "### The Odd Case of Oddspedia\n",
    "I found a site called oddspedia, where people can make fake bets: https://oddspedia.com/\n",
    "\n",
    "There are people on that site have made thousands of fake bets. Nearly everyone is terrible at it, yet they persist. There are small prizes for being the best bettor one month, but otherwise I don't really understand the incentives. But if there are people who can consistently beat the lines, oddspedia seemed the best place to find them.\n",
    "\n",
    "And hey, there are people on the site who can really do it. This is the current top user:\n",
    "\n",
    "https://oddspedia.com/u/s00n/stats\n",
    "\n",
    "6535-4984 all time, which is a staggering volume. And they're not taking safe bets - the average odds taken is 2.25, which is +125 in freedom units. They're taking longer odds and winning. with 10K picks, if it's legit, I would hope it's an algorithmic strategy.\n",
    "\n",
    "The actual bets taken are fascinating. Most of them are on soccer. I don't know where the lines are coming from, because a lot of them are incredibly obscure. \n",
    "\n",
    "The Ugandan Police soccer team (seems like a weird team to bet against, but OK). Something called an \"Asian Handicap\" bet on Clube de Albergaria, a Portuguese women's soccer team with 10,000 likes on Facebook. A bet on Ermis Shimatariou, a Greek 2nd division basketball team that plays in what looks like a small high school gym. A bet on a team called \"MC Oran\", who I guarantee you has a SoundCloud.\n",
    "\n",
    "I'm skeptical anyone could really take these bets in the real world. I couldn't find them being offered anywhere.\n",
    "\n",
    "I was curious enough to make an account and it looks like the lines they use are substantially different from the sportsbooks, especially on non-standard bets like the 1st quarter score. The vig is also unrealistically low, like [-105/+103]. It's a lot easier to look smart when you're paying a vig like -101 instead of -110.\n",
    "\n",
    "So there might be something to oddspedia, but it's not realistic. It's notable with all these advantages to the player that most of the users of the site still lose, massively, over the long term. Better that than real money. But it makes me rethink my stance that there's no potential downside to making fake bets. At some point don't you realize this isn't your thing?\n",
    "\n",
    "### reddit\n",
    "Reddit has its own community of amateur handicappers on the /r/sportsbook forum.\n",
    "\n",
    "Here's [one example](https://www.reddit.com/r/sportsbook/comments/1i0u91i/pick_of_the_day_11425_tuesday/)\n",
    "\n",
    "![betting systems](img/reddit1.png)\n",
    "\n",
    "[The Mavs lost, real bad](https://plaintextsports.com/nba/2025-01-14/den-dal). The game was basically over from the start. But you should judge people on process, rather than outcomes. Especially binary outcomes. Rather, let's count the fallacies.\n",
    "\n",
    "First, showing \"recent form\" -- the bettor's pattern of wins and losses -- is somehow significant. There's no reason why it should be. I think it's part of the bias towards thinking people are *streaky* -- if a handicapper has won their last 4 in a row, they're more likely to win the next bet, and vice versa. That's just not how things work.\n",
    "\n",
    "Let's say a person has good skill weeks and bad skill weeks. Or some other period of time. Some periods, their picks are just good enough to beat the vig at 52.4%, other periods their picks are excellent at 57.4%\n"
   ]
  },
  {
   "cell_type": "code",
   "execution_count": null,
   "metadata": {},
   "outputs": [],
   "source": [
    "RANDOM_WALK_VIG = -1.1\n",
    "\n",
    "\n",
    "def generate_alternating(skill_levels, determinate=False, period_length=100, periods=10):\n",
    "    assert len(skill_levels) == 2, \"must have 2 skill levels.\"\n",
    "\n",
    "    base_data = []\n",
    "    ticks_up = []\n",
    "    ticks_down = []\n",
    "\n",
    "    prev_skill = skill_levels[0]\n",
    "    for x in range(periods):\n",
    "        # every `period_length` days, the skill level can change.\n",
    "        if determinate:\n",
    "            # take the other one. not the nicest way to do it.\n",
    "            skill_copy = skill_levels.copy()\n",
    "            skill_copy.remove(prev_skill)\n",
    "            current_skill = skill_copy[0]\n",
    "        else:\n",
    "            current_skill = np.random.choice(skill_levels)\n",
    "\n",
    "        # mark every time we switch skill_levels\n",
    "        if current_skill != prev_skill:\n",
    "            if current_skill > prev_skill:\n",
    "                ticks_up.append(x * period_length)\n",
    "            elif current_skill < prev_skill:\n",
    "                ticks_down.append(x * period_length)\n",
    "        \n",
    "        win_or_lose = (np.random.rand(period_length) < current_skill).astype(\"float\")\n",
    "        win_or_lose[win_or_lose==0] = RANDOM_WALK_VIG\n",
    "        base_data.extend(win_or_lose)\n",
    "\n",
    "        prev_skill = current_skill\n",
    "\n",
    "    return [np.cumsum(base_data), ticks_up, ticks_down]\n",
    "\n",
    "def plot_random_walk2(random_walks, show_partitions=False, ticks_up=None, ticks_down=None):\n",
    "    fig, axs = plt.subplots(3,3, sharey='all')\n",
    "\n",
    "    walk_counter = 0\n",
    "    first_axis = None\n",
    "    for x in range(3):\n",
    "        for y in range(3):\n",
    "            axs[x,y].set_ylim(bottom=-50, top=75)\n",
    "            axs[x,y].set_xticks([])\n",
    "            axs[x,y].plot(random_walks[walk_counter][0])\n",
    "            axs[x,y].axhline(0)\n",
    "            if show_partitions:\n",
    "                axs[x,y].vlines(random_walks[walk_counter][1], 0,50, 'g')\n",
    "                axs[x,y].vlines(random_walks[walk_counter][2], 0, 50, 'r')   \n",
    "            walk_counter += 1\n",
    "    \n",
    "data = []\n",
    "skill_levels = [.50, .574]\n",
    "for x in range(9):\n",
    "    walk = generate_alternating(skill_levels, determinate=True)\n",
    "    data.append(walk)\n",
    "\n",
    "plot_random_walk2(data)"
   ]
  },
  {
   "cell_type": "markdown",
   "metadata": {},
   "source": [
    "Can you tell that the skill level is alternating every 100 bets between good and bad?\n",
    "\n",
    "Let's draw lines every time the skill level changes. A red line means the lower skill level is now in effect, and green means the higher skill level."
   ]
  },
  {
   "cell_type": "code",
   "execution_count": null,
   "metadata": {},
   "outputs": [],
   "source": [
    "plot_random_walk2(data, True)"
   ]
  },
  {
   "cell_type": "markdown",
   "metadata": {},
   "source": [
    "Once you see the lines, maybe you notice the patterns, but did you notice them before?\n",
    "\n",
    "here are random walks at the equivalent probability:"
   ]
  },
  {
   "cell_type": "code",
   "execution_count": null,
   "metadata": {},
   "outputs": [],
   "source": [
    "plot_random_walk(.549)\n",
    "\n",
    "#TODO make this match the scale of the other one."
   ]
  },
  {
   "cell_type": "markdown",
   "metadata": {},
   "source": [
    "I don't think you could really tell the difference. It's even less obvious if the period we switch between is 10 games instead of 100 games. This is simulating toggling between a 50% and 58% win percentage every 10 games for 1,000 games."
   ]
  },
  {
   "cell_type": "code",
   "execution_count": null,
   "metadata": {},
   "outputs": [],
   "source": [
    "data = []\n",
    "skill_levels = [.50, .58]\n",
    "for x in range(9):\n",
    "    walk = generate_alternating(skill_levels, determinate=True, period_length=10, periods=100)\n",
    "    data.append(walk)\n",
    "plot_random_walk2(data)"
   ]
  },
  {
   "cell_type": "markdown",
   "metadata": {},
   "source": [
    "\n",
    "Maybe there are small details that a random walk enthusiast could notice, but the entire 1,000 game random walks just look like other random walks. There are long trends that last for hundreds of games and multiple switches between probabilities. These longer trends aren't caused by anything, they just emerge when you take a bunch of random data and turn it into a random walk.\n",
    "\n",
    "There's no reason to act as though hot streaks exist if natural variation explains the data just as well. We still get \"hot streak\" like behavior even though half the time we're essentially making the pick with a coin flip.\n",
    "\n",
    "This is where the paradox of mediocrity comes in again. A true *cold streak* would be getting 50% wins for a long period of time, not losing 8 out of 10, or some smaller pattern. But there's no way to conclude you're at 50% winning instead of 57% winning in just a few games.\n",
    "\n",
    "Of course, this scenario is ludicrous. If someone is switching between \"good at betting\" and \"bad at betting\" it's not happening exactly every 100 games, right? If we made the switches at random times instead of a regular schedule, it would be even harder to tell.\n",
    "\n",
    "If you really don't know exactly when these changes happen, then the best estimate is going to be the global average, not estimating if you're in the *good bettor* or *bad bettor* phase. \n",
    "\n",
    "So the last 10 results doesn't matter, only the global win rate.\n",
    "\n",
    "Now, I am sort of assuming the player's edge over the house stays constant -- they can always find lines that are a little off throughout the season. Maybe that's not a safe assumption -- perhaps the lines are closer to the truth in the middle of the season than they are at the beginning. But I think that's something you could only notice way after the fact."
   ]
  },
  {
   "cell_type": "markdown",
   "metadata": {},
   "source": [
    "\n",
    "### Variable Units\n",
    "Another problem is the idea of betting variable units on different bets. the rules of that reddit sub are that you recommend wagering a certain number of \"units\" on each bet, from 1-5 units. The custom appears to be betting in whole units. The idea is to bet higher stakes on games where you feel more confident, and lower stakes when you feel less confident. \n",
    "\n",
    "Is that actually useful? That's an additional decision that the bettor could end up getting wrong. That will add more random variation to the outcomes. \n",
    "\n",
    "Essentially this turns the problem from making a binary decision of \"the line is too high\" vs. \"the line is too low\" into estimating the exact probability of the prediction coming true, and estimating where the dividing lines should be between 0/1/2/3/4/5 unit bets. Seems like a lot to ask of one little brain.\n",
    "\n",
    "A machine learning system could probably do it. A binary classifier trained to decide a question like \"is this a good bet or not\" is usually going to output a raw number between 0 and 1, and then you round up or down to get the yes/no. \n",
    "\n",
    "One could use the raw result -- it is a sort of confidence level. But some scaling would have to be done to get it to a 1..5. A machine learning system that returns a value of \".79\" isn't really saying it will win 79% of the time. Machines can't see the future, either. A \".79\" is probably more likely to win than a \".62\", but that's another thing to estimate. With a machine learning system, we could go back and train it on old data from previous seasons to get that tuning right (or at least, not making things worse.)\n",
    "\n",
    "Humans can't do that, and there's a huge emotional aspect, too. If your best bets usually win 60% of the time then you should always bet the same amount, regardless of whether you've been on a losing streak or a winning streak or you cat died or whatever. It's just another way for emotions to muck up the process.\n",
    "\n",
    "It's certainly possible that people could learn to scale their bets correctly. But it would have to be deliberate practice -- seeing whether variable betting size actually helps over hundreds of bets. I think you'd want to track your emotions as well, and control for that if possible in the analysis.\n",
    "\n",
    "The thing is, it's hard to beat the fact the best estimate is to take a global average, not slice and dice it. Once again, to the thought lab.\n",
    "\n",
    "### Do Variable Units Make More Money?\n",
    "\n",
    "I'm gonna make some assumptions. The great thing about code is you can change it and see for yourself, if you think my assumptions are bad.\n",
    "\n",
    "I'm doing 3 classes of bets, A, B and F. Let's assume that a bettor can produce picks of different quality levels. And all categories have a positive expected value.\n",
    "\n",
    "`thresholds` is the average win rate for each class of bet.\n",
    "`units_map` controls number of units bet for each class.\n",
    "`frequencies` controls how frequent each grade is. I figure A's are rarer than B's which are rarer than F's.\n",
    "\n",
    "I will then score the bets weighted by class versus betting the same amount on each bet (the sum of grade_frequencies * units_map).\n",
    "\n",
    "Guess how often the weighted system beats the unweighted system."
   ]
  },
  {
   "cell_type": "code",
   "execution_count": 75,
   "metadata": {},
   "outputs": [
    {
     "name": "stdout",
     "output_type": "stream",
     "text": [
      "wins: 804, losses: 196\n",
      "mean diff: 17.168499999999998\n"
     ]
    }
   ],
   "source": [
    "### generate a list of A's, B's, and F's.\n",
    "### then show that they will have different records.\n",
    "\n",
    "thresholds = {\n",
    "    'A': .60,\n",
    "    'B': .57,\n",
    "    'F': .54\n",
    "}\n",
    "\n",
    "grade_frequencies = {\n",
    "    'A': .2,\n",
    "    'B': .3,\n",
    "    'F': .5\n",
    "}\n",
    "\n",
    "units_map = {\n",
    "    'A': 3,\n",
    "    'B': 2,\n",
    "    'F': 1\n",
    "}\n",
    "\n",
    "def create_df(num_bets, freq=grade_frequencies, thresh=thresholds):\n",
    "    results = []\n",
    "    grades = rng.choice([\"A\", \"B\", \"F\"], size=num_bets, p=list(freq.values()))\n",
    "    for x in range(num_bets):\n",
    "        grade = grades[x]\n",
    "        if rng.random() < thresh[grade]:\n",
    "            results.append(\"W\")\n",
    "        else:\n",
    "            results.append(\"L\")\n",
    "\n",
    "    graded_df = pd.DataFrame(dict(grades=grades, result=results))\n",
    "\n",
    "    return graded_df\n",
    "\n",
    "def score_bets_with_grade(record, units=units_map):\n",
    "    units_won = 0\n",
    "    for grade in units.keys():\n",
    "        net_wins = record[grade]['W'] - (1.1 * record[grade]['L'])\n",
    "        units_won += (net_wins * units[grade])\n",
    "\n",
    "    return units_won\n",
    "\n",
    "\n",
    "def get_unit_multiplier(base_df):\n",
    "    # average number of units bet\n",
    "    # need to use record.grades\n",
    "\n",
    "    ###FIXME? shouldn't this be using the actual generated data to get the\n",
    "    ### average unit multiplier?\n",
    "#    return (pd.Series(units_map) * pd.Series(grade_frequencies)).sum()\n",
    "    actual_frequencies = base_df.grades.value_counts() / len(base_df.grades)\n",
    "    return (pd.Series(units_map) * actual_frequencies).sum()\n",
    "    \n",
    "    #sum(df.grades.value_counts() * pd.Series(units_map)) / len(df.grades)\n",
    "\n",
    "\n",
    "\n",
    "def score_bets_normally(base_df, unit_multiplier=None):\n",
    "    record = base_df.groupby(\"grades\").value_counts()\n",
    "    if 'W' in record:\n",
    "        total_wins = record[:,'W'].sum()\n",
    "    else:\n",
    "        total_wins = 0\n",
    "    if 'L' in record:\n",
    "        total_losses = record[:,'L'].sum()\n",
    "    else:\n",
    "        total_losses = 0\n",
    "\n",
    "    units_won = total_wins - (1.1 * total_losses)\n",
    "\n",
    "    if unit_multiplier is None:\n",
    "        unit_multiplier = get_unit_multiplier(base_df) #FIXME: this should take units_map as an argument.\n",
    "\n",
    "    return unit_multiplier * units_won\n",
    "    \n",
    "\n",
    "def perturb(df):\n",
    "    ### gonna randomly change some of the grades, to simulate imperfect grading.\n",
    "    pass\n",
    "\n",
    "def graded_vs_ungraded(perturb=False):\n",
    "    grade_wins = 0\n",
    "    grade_losses = 0\n",
    "    diffs = []\n",
    "\n",
    "    for x in range(1000):\n",
    "        base_df = create_df(100)\n",
    "        if perturb:\n",
    "            base_df = perturb(base_df)\n",
    "\n",
    "        record = base_df.groupby(\"grades\").value_counts()\n",
    "        with_grade = score_bets_with_grade(record)\n",
    "        normally = score_bets_normally(base_df)\n",
    "        if with_grade > normally:\n",
    "            grade_wins += 1\n",
    "        else:\n",
    "            grade_losses += 1\n",
    "        diffs.append(with_grade - normally)\n",
    "\n",
    "    print(f\"wins: {grade_wins}, losses: {grade_losses}\")\n",
    "    print(f\"mean diff: { np.mean(diffs) }\")\n",
    "\n",
    "graded_vs_ungraded()"
   ]
  },
  {
   "cell_type": "code",
   "execution_count": 59,
   "metadata": {},
   "outputs": [],
   "source": [
    "df = create_df(100)"
   ]
  },
  {
   "cell_type": "code",
   "execution_count": 64,
   "metadata": {},
   "outputs": [
    {
     "data": {
      "text/plain": [
       "1.59"
      ]
     },
     "execution_count": 64,
     "metadata": {},
     "output_type": "execute_result"
    }
   ],
   "source": [
    "sum(df.grades.value_counts() * pd.Series(units_map)) / len(df.grades)"
   ]
  },
  {
   "cell_type": "markdown",
   "metadata": {},
   "source": [
    "There's a reason why the grading isn't working very well. It's the scale. The convention on reddit and another betting forum I looked at is to post in whole units, usually 1 or 2. \n",
    "\n",
    "The three probabilities of success are .54, .57 and .60. Based on rates of return, that would correspond to a 1/3/5 mapping."
   ]
  },
  {
   "cell_type": "code",
   "execution_count": 320,
   "metadata": {},
   "outputs": [
    {
     "name": "stdout",
     "output_type": "stream",
     "text": [
      "1\n",
      "2.8529411764705928\n",
      "4.7058823529411855\n"
     ]
    }
   ],
   "source": [
    "fifty_four = .54 - (1.1 * .46)\n",
    "\n",
    "print(1) \n",
    "print((.57 - (1.1 * .43))/fifty_four) \n",
    "print((.6 - (1.1 * .4))/fifty_four) "
   ]
  },
  {
   "cell_type": "code",
   "execution_count": 21,
   "metadata": {},
   "outputs": [
    {
     "name": "stdout",
     "output_type": "stream",
     "text": [
      "wins: 681, losses: 319\n",
      "mean diff: 7.7004800000000015\n"
     ]
    }
   ],
   "source": [
    "units_map = {\n",
    "    'A': 5,\n",
    "    'B': 3,\n",
    "    'F': 1\n",
    "}\n",
    "\n",
    "graded_vs_ungraded()"
   ]
  },
  {
   "cell_type": "code",
   "execution_count": 77,
   "metadata": {},
   "outputs": [],
   "source": [
    "def do_some_grades(n):\n",
    "    good = []\n",
    "    bad = []\n",
    "    normal = []\n",
    "\n",
    "    for x in range(n):\n",
    "        bets = create_df(1000)\n",
    "        bad_grading = bets.copy()\n",
    "\n",
    "        # Simulate imperfect grading\n",
    "        # I'm not sure what a reasonable number of each class is to change.\n",
    "        # seems like it should match proportion of actual sample.\n",
    "        ### select indexes to change\n",
    "        idx_f = np.random.choice(bets.index, 150)\n",
    "        idx_b = np.random.choice(bets.index, 100)\n",
    "        idx_a = np.random.choice(bets.index, 50)\n",
    "        bad_grading.loc[idx_f, 'grades'] = 'F'\n",
    "        bad_grading.loc[idx_b, 'grades'] = 'B'\n",
    "        bad_grading.loc[idx_a, 'grades'] = 'A'\n",
    "\n",
    "        bad_score = score_bets_with_grade(bad_grading.groupby(\"grades\").value_counts())\n",
    "        bad.append(bad_score)\n",
    "\n",
    "        normal_score = score_bets_normally(bets)\n",
    "        normal.append(normal_score)\n",
    "\n",
    "        good_score = score_bets_with_grade(bets.groupby(\"grades\").value_counts())\n",
    "        good.append(good_score)\n",
    "    return pd.DataFrame({'good': good, 'bad': bad, 'normal': normal})\n",
    "\n",
    "\n",
    "scores = do_some_grades(500)"
   ]
  },
  {
   "cell_type": "code",
   "execution_count": 78,
   "metadata": {},
   "outputs": [
    {
     "data": {
      "text/plain": [
       "3"
      ]
     },
     "execution_count": 78,
     "metadata": {},
     "output_type": "execute_result"
    }
   ],
   "source": [
    "sum(scores.normal>scores.good)"
   ]
  },
  {
   "cell_type": "code",
   "execution_count": 80,
   "metadata": {},
   "outputs": [
    {
     "data": {
      "text/plain": [
       "493"
      ]
     },
     "execution_count": 80,
     "metadata": {},
     "output_type": "execute_result"
    }
   ],
   "source": [
    "sum(scores.bad> scores.normal)"
   ]
  },
  {
   "cell_type": "code",
   "execution_count": 36,
   "metadata": {},
   "outputs": [
    {
     "data": {
      "text/plain": [
       "np.float64(88.19999999999997)"
      ]
     },
     "execution_count": 36,
     "metadata": {},
     "output_type": "execute_result"
    }
   ],
   "source": [
    "score_bets_with_grade(bad_grading.groupby(\"grades\").value_counts())"
   ]
  },
  {
   "cell_type": "code",
   "execution_count": 37,
   "metadata": {},
   "outputs": [
    {
     "data": {
      "text/plain": [
       "np.float64(114.6)"
      ]
     },
     "execution_count": 37,
     "metadata": {},
     "output_type": "execute_result"
    }
   ],
   "source": [
    "score_bets_with_grade(p_original.groupby(\"grades\").value_counts())"
   ]
  },
  {
   "cell_type": "code",
   "execution_count": 38,
   "metadata": {},
   "outputs": [
    {
     "data": {
      "text/plain": [
       "np.float64(86.87999999999997)"
      ]
     },
     "execution_count": 38,
     "metadata": {},
     "output_type": "execute_result"
    }
   ],
   "source": [
    "score_bets_normally(p_original.groupby(\"grades\").value_counts())"
   ]
  },
  {
   "cell_type": "markdown",
   "metadata": {},
   "source": [
    "\n",
    "This is assuming a person really can tell if the bet is coming from the \"54%\" part of their brain, the \"57%\" part, or the \"60%\" part.\n",
    "\n",
    "I just don't think anyone's like that. If even a small number of the labels is wrong, the weighted betting is gonna do worse.\n",
    "\n",
    "Informally, \"take this bet\" vs \"don't take this bet\" is one bit of information. A good bettor can only get that right 57% of the time. \n",
    "\n",
    "If there are three grades of bet, they now need to estimate 2 bits of information. (\"00\" - don't take, \"01\" - F, \"10\" - B, \"11\" - A). How often are they going to get both bits right?  If you estimate a bet as a \"B\" when it's really an \"A\", then you've lost out on a unit of gains, almost the same as if you estimated a bet as an \"F\" that should have been a \"don't take\"."
   ]
  },
  {
   "cell_type": "markdown",
   "metadata": {},
   "source": [
    "\n",
    "### Why can't us?\n",
    "Back in November, I needed a bit of a distraction, for some odd reason. So I started betting on paper without really knowing a lot of this stuff. I figured I'd do it till I got bored or proved I couldn't do it (which admittedly isn't the best experimental design). \n",
    "\n",
    "I did pretty well, finishing 158-121 by the end of the year. I didn't beat the \"fade the public\" strategy on number of units won, which was a little disappointing. Dr Frankenstein should probably be able to beat Frankenstein's Monster on NBA trivia night. Does that dude even know who Trevelin Queen is?\n",
    "\n",
    "Maybe I'll talk more about it and share my janky spreadsheet of virtual bets if this piece gets any interest.  I suspect my theoretical gains aren't more interesting than other peoples' actual losses, though."
   ]
  },
  {
   "cell_type": "markdown",
   "metadata": {},
   "source": [
    "# Conclusions\n",
    "I was skeptical that anybody could make money on betting sports. Hopefully I've shown that's impossible, or close to impossible, for most types of bets. It's not due to lack of skill on the bettor's part. They're just sucker bets. Don't be a sucker.\n",
    "\n",
    "If you:\n",
    "* bet reduced vig\n",
    "* bet a rational amount (don't chase losses, etc.)\n",
    "* are genuinely playing to win rather than for thrills\n",
    "* have enough emotional control\n",
    "* have a way to generate positive expected value bets\n",
    "* understand why ALL the above are requirements\n",
    "\n",
    "then I think it can be done as a game of skill. For the vast majority of people, it's not going to be. Too many \"ifs\". I think doing it on paper is a necessary step.\n",
    "\n",
    "### Once more, for the people in the back\n",
    "Anyone considering betting real money should seriously consider the risk of addiction on top of the risk of losing money. Do the things you bring into your life have positive expected value or not?\n",
    "\n",
    "Betting on paper offers a way to get some of the thrills of betting without losing anything, and could become a gateway to learning some statistics and data science. A crippling data addiction might be more satisfying and lucrative in the long run."
   ]
  },
  {
   "cell_type": "markdown",
   "metadata": {},
   "source": [
    "### Epilogue/Apologia\n",
    "\n",
    "I am aware that _Hans Brinker_ is actually an American story, not a true Dutch book. Write more famous books, Dutch people.\n",
    "\n",
    "If you found this piece useful, please consider never telling me one of your dumb betting stories. Yes, I know the Celtics have \"this one kid\" who's a \"wicked fackin shootah\". That's not a reason to take the over on the Payton Pritchard prop bets every night, my man.\n",
    "\n",
    "There's no such thing as luck, just sampling error."
   ]
  },
  {
   "cell_type": "markdown",
   "metadata": {},
   "source": [
    "# References\n",
    "\n",
    "[1] https://en.wikipedia.org/wiki/Dutch_book_theorems   \n",
    "[1] https://www.oddsshark.com/nfl/super-bowl/how-much-is-bet     \n",
    "[2] https://www.sportsbookreview.com/betting-odds/nba-basketball/    \n",
    "[3] https://www.vegasinsider.com/parlay-calculator/    \n",
    "[4] https://www.vegasinsider.com/picks/expert-records/   \n",
    "[5] https://www.iwmf.org/reporting/ghost-stories-idi-amins-torture-chambers/    \n",
    "     \n",
    "[7] https://en.wikipedia.org/wiki/Expert_system     \n",
    "[8] https://en.wikipedia.org/wiki/Impossibility_of_a_gambling_system      \n",
    "[9] https://web.archive.org/web/20090216002309/http://sportscapping.com/handicappers.html?capper/279/Black%20Widow    \n",
    "[10] https://web.archive.org/web/20081224010345/http://sportscapping.com/handicappers.html?capper/294/Rob%20Vinciletti  \n",
    "[11] https://web.archive.org/web/20091231234929/http://sportscapping.com/handicappers.html?capper/271/Jeff%20Alexander   \n",
    "[12] https://www.sportscapping.com/sal-michaels.html         \n",
    "[13] https://experts.winnersandwhiners.com/cappers/37     \n",
    "[14] https://en.wikipedia.org/wiki/Poisson_binomial_distribution      \n",
    "[15] https://www.betfirm.com/nba-point-spread-money-line-conversion-chart/      \n",
    "[16] https://mathworld.wolfram.com/GamblersRuin.html         \n",
    "\n",
    "# Further Reading\n",
    "\n",
    "https://archive.org/details/fractalschaospow0000schr   \n",
    "\n"
   ]
  }
 ],
 "metadata": {
  "kernelspec": {
   "display_name": "Python 3",
   "language": "python",
   "name": "python3"
  },
  "language_info": {
   "codemirror_mode": {
    "name": "ipython",
    "version": 3
   },
   "file_extension": ".py",
   "mimetype": "text/x-python",
   "name": "python",
   "nbconvert_exporter": "python",
   "pygments_lexer": "ipython3",
   "version": "3.11.9"
  }
 },
 "nbformat": 4,
 "nbformat_minor": 2
}
