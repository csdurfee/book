{
 "cells": [
  {
   "cell_type": "markdown",
   "metadata": {},
   "source": [
    "# [Math is Money](https://www.youtube.com/watch?v=uyHanXCGmsM), And Money Is Math\n",
    "\n",
    "by Casey Durfee    \n",
    "Copyright 2025"
   ]
  },
  {
   "cell_type": "code",
   "execution_count": 1,
   "metadata": {},
   "outputs": [],
   "source": [
    "import numpy as np\n",
    "rng = np.random.default_rng(2718)\n",
    "np.random.seed(2718)\n",
    "\n",
    "import matplotlib.pyplot as plt\n",
    "import pandas as pd\n",
    "import texttable\n",
    "import scipy\n"
   ]
  },
  {
   "cell_type": "markdown",
   "metadata": {},
   "source": [
    "## Two Kinds of People\n",
    "Lots of sportsbooks publish info on how much \"action\" they've gotten on each side.\n",
    "\n",
    "Here's DraftKings':  https://dknetwork.draftkings.com/draftkings-sportsbook-betting-splits/"
   ]
  },
  {
   "cell_type": "markdown",
   "metadata": {},
   "source": [
    "It's a smart move. It's good for SEO. And I'm sure they get a lot of people who decide to take bets from that page. \n",
    "\n",
    "For example, the Pacers are playing Brooklyn tonight. 27% of the bets are on Brooklyn at +10.5. 73% are on Pacers -10.5. \n",
    "\n",
    "Somebody who sees that and decides to make a bet based on that information could bet either way. They could either tell themselves, \"Everybody's taking the Pacers, so it must be a good bet\" or \"everybody's taking the Pacers, so it must be a bad bet\". \n",
    "\n",
    "What are those two groups like when they're not betting on basketball, do you think? Do they use the same kind of toothpaste? Watch the same kind of TV shows? Vote for the same political parties?\n",
    "\n",
    "I saw someone online the other day saying a game was a \"massive upset\" because a team that was favored by 12 points only won by 3 points. How is that an upset? The favored team still won! Sure, they lost against the spread, but the athletes shouldn't know or care about that. The only thing that got upset was this gambler's feelings, because reality didn't conform to the scenario that was easiest for him to imagine. How many bets are placed due to lack of imagination?\n",
    "\n",
    "In theory, both sides of the bet have an equal chance of winning, and it's a binary outcome. If there are only two outcomes and they have roughly equal probability, then nothing can be all that surprising. If it's not a win, it's a loss, by definition. \n",
    "\n",
    "I get that a team losing by 9 to the spread is more surprising than them losing by 3 to the spread. Though as far as heartbreak goes, maybe losing by one to the spread is worse.\n",
    "\n",
    "[TODO: this isn't good enough]\n",
    "\n",
    "The further the line is from the final outcome, the more surprising. But it shouldn't be much more surprising than the other direction -- beating the spread by 9 points. One direction is a \"massive upset\", the other isn't. I have a hunch Massive Upset Guy would take the Pacers.\n"
   ]
  },
  {
   "cell_type": "markdown",
   "metadata": {},
   "source": [
    "### Information Inspiration\n",
    "Let's say you're tracking a statistic and calculating the running average after every day. Maybe it's a new online business and it's sales per day.\n",
    "\n",
    "Each day's result could change the average by a huge margin. Say the list is [1,3,8,7,1000,4]. When you get to 1000, the average is going to go way up, right? \n",
    "\n",
    "Until we got to 1000, we'd have no way of assuming that numbers on the list could be that big. Imagine you were plotting the results on a piece of paper day by day. You're gonna have to redo the whole thing. The potential scale is way different now. This new piece of information told us that the statistic might have a higher mean and a much wider spread than we could have imagined up to that point.\n",
    "\n",
    "Now imagine you're adding up a bunch of 1's and 0's, like [0,1,1,0,1,0]. If you've got binary outcomes, each result only matters a bit, figuratively and literally. It can't affect the mean or variance much. If you think about it, no one bit can be *crazy* enough to affect the variance on its own. Only the rate of success and the number of trials should affect the variance.\n",
    "\n",
    "Maybe this represents days you went to the gym. You could mark these on a calendar, X out the days that you go. You're never going to have a crazy result that causes you to buy a new calendar with 1000 days in the month. And the winning percentage isn't going to change by that much after a while. There's only so much it can change at a time.\n",
    "\n",
    "Intuitively, we get even less \"real\" info per bit of information if the probability of the outcome is greater than .5. If the probability is .99, we're seeing 99 \"1\"s for every 1 \"0\". The single 0 is surprising, and conveys a lot of information, while each of the 99 1's is almost totally unsurprising."
   ]
  },
  {
   "cell_type": "markdown",
   "metadata": {},
   "source": [
    "### Signal vs. Noise\n",
    "\n",
    "There's a whole branch of math called Information Theory that covers how this digital \"surprise\" works. A good example is file compression, like ZIP files. How small can you shrink the size of a file? Not down to zero, obviously. It turns out some files can't be compressed at all! (There are more files of length $ 2^{n}$ than there are of lengths $1..2^{n-1}$).\n",
    "\n",
    "What if the file is just random noise? there's no way to extract any general rules from it to make the representation smaller. Imagine we replaced every unique word in this document with a number. So \"the\" is 1, \"a\", is 2, etc. We could definitely make the document smaller, because there are patterns to English language. Long words like \"distribution\" or \"figuratively\" get turned into at most 4 digit numbers. We can get the original text back by reversing the process.\n",
    "\n",
    "There's no structure to randomness. You can't make generalizations from it. You can fit a model to random data, but it's going to be useless at predicting anything else. At best, it can find spurious trends and memorize randomness.\n",
    "\n",
    "The betting record of a bad bettor achieves a similar result as far as winning percentage, but is not a result of a random process. Taking all favorites, and prop bet overs, isn't random.\n",
    "\n",
    "If you just have their picks, I don't know you could distinguish between the bad bettor and some coin flips. But with extra context, there would certainly be patterns. Maybe they always take the Knicks or something. But they would be crap rules, with no value for predicting the future. There's no point in trying to learn from random noise."
   ]
  },
  {
   "cell_type": "markdown",
   "metadata": {},
   "source": [
    "## There's a Hole in My Phone Where the Money Goes\n",
    "\n",
    "One bit of gambling lore is that there are \"public\" teams that get bet on more frequently, regardless of the line. Like, your cousin who's a Cowboys fan is going to bet the Cowboys on Thanksgiving regardless of whether it's a fair line or not.  He'd watch the game and root for the Cowboys anyway, but it's a little more fun that way. The Cowboys aren't just a random number generator to him.\n",
    "\n",
    "I decided to scrape data from [sportsbookreview](https://www.sportsbookreview.com/betting-odds/nba-basketball/) (SBR). I don't know where they get the betting percentages from. Their numbers seemed to indicate more \"action\" overall than a couple other sources I found -- the betting percentages were closer together. Other sites had games where there's 10% action on one side and 90% on the other, which seems implausible on a large volume of bets.\n",
    "\n",
    "These numbers are as of Feb 5, 2025. Unfortunately, there is about a week of data missing around Thanksgiving.\n",
    "\n",
    "Who are the public teams in the NBA this season, according to the SBR data?"
   ]
  },
  {
   "cell_type": "code",
   "execution_count": 2,
   "metadata": {},
   "outputs": [],
   "source": [
    "import scrape_sbr"
   ]
  },
  {
   "cell_type": "code",
   "execution_count": 3,
   "metadata": {},
   "outputs": [
    {
     "name": "stdout",
     "output_type": "stream",
     "text": [
      "missing scores from 13 games\n",
      "missing scores from 13 games\n"
     ]
    }
   ],
   "source": [
    "money_data = scrape_sbr.money_vs_ats()\n",
    "game_data = scrape_sbr.clean_data()"
   ]
  },
  {
   "cell_type": "markdown",
   "metadata": {},
   "source": [
    "These are the top 10 teams over the course of the whole season."
   ]
  },
  {
   "cell_type": "code",
   "execution_count": 4,
   "metadata": {},
   "outputs": [
    {
     "data": {
      "text/plain": [
       "Cleveland        117.5\n",
       "Denver           116.5\n",
       "Memphis          115.5\n",
       "Dallas           111.0\n",
       "Milwaukee        111.0\n",
       "Golden State     111.0\n",
       "Indiana          109.0\n",
       "Oklahoma City    108.0\n",
       "Brooklyn         108.0\n",
       "Minnesota        106.0\n",
       "Name: money_percents, dtype: float64"
      ]
     },
     "execution_count": 4,
     "metadata": {},
     "output_type": "execute_result"
    }
   ],
   "source": [
    "money_data['money_percents'].sort_values(ascending=False)[:10]"
   ]
  },
  {
   "cell_type": "markdown",
   "metadata": {},
   "source": [
    "These are mostly teams that have been good in the past few years, plus Cleveland, this year's standout team. There aren't any obvious \"public\" teams on this list except maybe Golden State. No LA Lakers. No New York Knicks.\n",
    "\n",
    "### Ugly dogs\n",
    "Here are the bottom 10: "
   ]
  },
  {
   "cell_type": "code",
   "execution_count": 5,
   "metadata": {},
   "outputs": [
    {
     "data": {
      "text/plain": [
       "New Orleans      75.5\n",
       "Charlotte        80.5\n",
       "Miami            81.0\n",
       "Utah             82.0\n",
       "Portland         86.0\n",
       "Philadelphia     87.5\n",
       "L.A. Clippers    91.0\n",
       "Orlando          93.5\n",
       "Boston           94.5\n",
       "Detroit          95.5\n",
       "Name: money_percents, dtype: float64"
      ]
     },
     "execution_count": 5,
     "metadata": {},
     "output_type": "execute_result"
    }
   ],
   "source": [
    "money_data['money_percents'].sort_values(ascending=True)[:10]"
   ]
  },
  {
   "cell_type": "markdown",
   "metadata": {},
   "source": [
    "As a fan, the bottom 10 mostly makes sense to me. A lot of these teams are kinda disasters, brought down by injury or incompetence, or both. There are a few fun teams sprinkled in here -- Portland, LA Clippers, Detroit -- but the rest have been kind of sad.\n",
    "\n",
    "But if the lines are even, there should be equal opportunity on these \"trash\" teams. [TODO: expand/transfer existing]\n",
    "\n",
    "\n",
    "Every team should have close to a .500 record against the spread. Let's see if there's any connection between records against the spread and betting percentages."
   ]
  },
  {
   "cell_type": "code",
   "execution_count": 6,
   "metadata": {},
   "outputs": [
    {
     "name": "stdout",
     "output_type": "stream",
     "text": [
      "missing scores from 13 games\n"
     ]
    },
    {
     "data": {
      "text/html": [
       "<div>\n",
       "<style scoped>\n",
       "    .dataframe tbody tr th:only-of-type {\n",
       "        vertical-align: middle;\n",
       "    }\n",
       "\n",
       "    .dataframe tbody tr th {\n",
       "        vertical-align: top;\n",
       "    }\n",
       "\n",
       "    .dataframe thead th {\n",
       "        text-align: right;\n",
       "    }\n",
       "</style>\n",
       "<table border=\"1\" class=\"dataframe\">\n",
       "  <thead>\n",
       "    <tr style=\"text-align: right;\">\n",
       "      <th></th>\n",
       "      <th>winner</th>\n",
       "      <th>loser</th>\n",
       "      <th>ats_win_pct</th>\n",
       "      <th>money_percents</th>\n",
       "    </tr>\n",
       "  </thead>\n",
       "  <tbody>\n",
       "    <tr>\n",
       "      <th>Phoenix</th>\n",
       "      <td>15</td>\n",
       "      <td>31</td>\n",
       "      <td>0.326087</td>\n",
       "      <td>103.0</td>\n",
       "    </tr>\n",
       "    <tr>\n",
       "      <th>Minnesota</th>\n",
       "      <td>17</td>\n",
       "      <td>29</td>\n",
       "      <td>0.369565</td>\n",
       "      <td>106.0</td>\n",
       "    </tr>\n",
       "    <tr>\n",
       "      <th>Philadelphia</th>\n",
       "      <td>18</td>\n",
       "      <td>28</td>\n",
       "      <td>0.391304</td>\n",
       "      <td>87.5</td>\n",
       "    </tr>\n",
       "    <tr>\n",
       "      <th>Miami</th>\n",
       "      <td>17</td>\n",
       "      <td>26</td>\n",
       "      <td>0.395349</td>\n",
       "      <td>81.0</td>\n",
       "    </tr>\n",
       "    <tr>\n",
       "      <th>Washington</th>\n",
       "      <td>19</td>\n",
       "      <td>28</td>\n",
       "      <td>0.404255</td>\n",
       "      <td>101.0</td>\n",
       "    </tr>\n",
       "    <tr>\n",
       "      <th>Atlanta</th>\n",
       "      <td>19</td>\n",
       "      <td>27</td>\n",
       "      <td>0.413043</td>\n",
       "      <td>103.0</td>\n",
       "    </tr>\n",
       "    <tr>\n",
       "      <th>Sacramento</th>\n",
       "      <td>19</td>\n",
       "      <td>27</td>\n",
       "      <td>0.413043</td>\n",
       "      <td>102.0</td>\n",
       "    </tr>\n",
       "    <tr>\n",
       "      <th>Boston</th>\n",
       "      <td>20</td>\n",
       "      <td>27</td>\n",
       "      <td>0.425532</td>\n",
       "      <td>94.5</td>\n",
       "    </tr>\n",
       "    <tr>\n",
       "      <th>New Orleans</th>\n",
       "      <td>20</td>\n",
       "      <td>27</td>\n",
       "      <td>0.425532</td>\n",
       "      <td>75.5</td>\n",
       "    </tr>\n",
       "    <tr>\n",
       "      <th>Chicago</th>\n",
       "      <td>22</td>\n",
       "      <td>27</td>\n",
       "      <td>0.448980</td>\n",
       "      <td>96.0</td>\n",
       "    </tr>\n",
       "    <tr>\n",
       "      <th>Milwaukee</th>\n",
       "      <td>21</td>\n",
       "      <td>25</td>\n",
       "      <td>0.456522</td>\n",
       "      <td>111.0</td>\n",
       "    </tr>\n",
       "    <tr>\n",
       "      <th>New York</th>\n",
       "      <td>22</td>\n",
       "      <td>26</td>\n",
       "      <td>0.458333</td>\n",
       "      <td>96.0</td>\n",
       "    </tr>\n",
       "    <tr>\n",
       "      <th>Dallas</th>\n",
       "      <td>22</td>\n",
       "      <td>26</td>\n",
       "      <td>0.458333</td>\n",
       "      <td>111.0</td>\n",
       "    </tr>\n",
       "    <tr>\n",
       "      <th>Orlando</th>\n",
       "      <td>22</td>\n",
       "      <td>25</td>\n",
       "      <td>0.468085</td>\n",
       "      <td>93.5</td>\n",
       "    </tr>\n",
       "    <tr>\n",
       "      <th>San Antonio</th>\n",
       "      <td>22</td>\n",
       "      <td>23</td>\n",
       "      <td>0.488889</td>\n",
       "      <td>96.5</td>\n",
       "    </tr>\n",
       "    <tr>\n",
       "      <th>Denver</th>\n",
       "      <td>24</td>\n",
       "      <td>24</td>\n",
       "      <td>0.500000</td>\n",
       "      <td>116.5</td>\n",
       "    </tr>\n",
       "    <tr>\n",
       "      <th>Golden State</th>\n",
       "      <td>24</td>\n",
       "      <td>23</td>\n",
       "      <td>0.510638</td>\n",
       "      <td>111.0</td>\n",
       "    </tr>\n",
       "    <tr>\n",
       "      <th>Detroit</th>\n",
       "      <td>23</td>\n",
       "      <td>22</td>\n",
       "      <td>0.511111</td>\n",
       "      <td>95.5</td>\n",
       "    </tr>\n",
       "    <tr>\n",
       "      <th>Utah</th>\n",
       "      <td>23</td>\n",
       "      <td>21</td>\n",
       "      <td>0.522727</td>\n",
       "      <td>82.0</td>\n",
       "    </tr>\n",
       "    <tr>\n",
       "      <th>Indiana</th>\n",
       "      <td>24</td>\n",
       "      <td>21</td>\n",
       "      <td>0.533333</td>\n",
       "      <td>109.0</td>\n",
       "    </tr>\n",
       "    <tr>\n",
       "      <th>Charlotte</th>\n",
       "      <td>24</td>\n",
       "      <td>20</td>\n",
       "      <td>0.545455</td>\n",
       "      <td>80.5</td>\n",
       "    </tr>\n",
       "    <tr>\n",
       "      <th>Brooklyn</th>\n",
       "      <td>26</td>\n",
       "      <td>20</td>\n",
       "      <td>0.565217</td>\n",
       "      <td>108.0</td>\n",
       "    </tr>\n",
       "    <tr>\n",
       "      <th>L.A. Clippers</th>\n",
       "      <td>27</td>\n",
       "      <td>19</td>\n",
       "      <td>0.586957</td>\n",
       "      <td>91.0</td>\n",
       "    </tr>\n",
       "    <tr>\n",
       "      <th>L.A. Lakers</th>\n",
       "      <td>26</td>\n",
       "      <td>18</td>\n",
       "      <td>0.590909</td>\n",
       "      <td>103.0</td>\n",
       "    </tr>\n",
       "    <tr>\n",
       "      <th>Houston</th>\n",
       "      <td>29</td>\n",
       "      <td>19</td>\n",
       "      <td>0.604167</td>\n",
       "      <td>105.5</td>\n",
       "    </tr>\n",
       "    <tr>\n",
       "      <th>Oklahoma City</th>\n",
       "      <td>28</td>\n",
       "      <td>18</td>\n",
       "      <td>0.608696</td>\n",
       "      <td>108.0</td>\n",
       "    </tr>\n",
       "    <tr>\n",
       "      <th>Portland</th>\n",
       "      <td>29</td>\n",
       "      <td>18</td>\n",
       "      <td>0.617021</td>\n",
       "      <td>86.0</td>\n",
       "    </tr>\n",
       "    <tr>\n",
       "      <th>Cleveland</th>\n",
       "      <td>30</td>\n",
       "      <td>17</td>\n",
       "      <td>0.638298</td>\n",
       "      <td>117.5</td>\n",
       "    </tr>\n",
       "    <tr>\n",
       "      <th>Toronto</th>\n",
       "      <td>30</td>\n",
       "      <td>16</td>\n",
       "      <td>0.652174</td>\n",
       "      <td>100.0</td>\n",
       "    </tr>\n",
       "    <tr>\n",
       "      <th>Memphis</th>\n",
       "      <td>31</td>\n",
       "      <td>15</td>\n",
       "      <td>0.673913</td>\n",
       "      <td>115.5</td>\n",
       "    </tr>\n",
       "  </tbody>\n",
       "</table>\n",
       "</div>"
      ],
      "text/plain": [
       "               winner  loser  ats_win_pct  money_percents\n",
       "Phoenix            15     31     0.326087           103.0\n",
       "Minnesota          17     29     0.369565           106.0\n",
       "Philadelphia       18     28     0.391304            87.5\n",
       "Miami              17     26     0.395349            81.0\n",
       "Washington         19     28     0.404255           101.0\n",
       "Atlanta            19     27     0.413043           103.0\n",
       "Sacramento         19     27     0.413043           102.0\n",
       "Boston             20     27     0.425532            94.5\n",
       "New Orleans        20     27     0.425532            75.5\n",
       "Chicago            22     27     0.448980            96.0\n",
       "Milwaukee          21     25     0.456522           111.0\n",
       "New York           22     26     0.458333            96.0\n",
       "Dallas             22     26     0.458333           111.0\n",
       "Orlando            22     25     0.468085            93.5\n",
       "San Antonio        22     23     0.488889            96.5\n",
       "Denver             24     24     0.500000           116.5\n",
       "Golden State       24     23     0.510638           111.0\n",
       "Detroit            23     22     0.511111            95.5\n",
       "Utah               23     21     0.522727            82.0\n",
       "Indiana            24     21     0.533333           109.0\n",
       "Charlotte          24     20     0.545455            80.5\n",
       "Brooklyn           26     20     0.565217           108.0\n",
       "L.A. Clippers      27     19     0.586957            91.0\n",
       "L.A. Lakers        26     18     0.590909           103.0\n",
       "Houston            29     19     0.604167           105.5\n",
       "Oklahoma City      28     18     0.608696           108.0\n",
       "Portland           29     18     0.617021            86.0\n",
       "Cleveland          30     17     0.638298           117.5\n",
       "Toronto            30     16     0.652174           100.0\n",
       "Memphis            31     15     0.673913           115.5"
      ]
     },
     "execution_count": 6,
     "metadata": {},
     "output_type": "execute_result"
    }
   ],
   "source": [
    "money_vs_ats = scrape_sbr.money_vs_ats()\n",
    "money_vs_ats.sort_values('ats_win_pct')"
   ]
  },
  {
   "cell_type": "code",
   "execution_count": 7,
   "metadata": {},
   "outputs": [
    {
     "data": {
      "text/plain": [
       "<Axes: >"
      ]
     },
     "execution_count": 7,
     "metadata": {},
     "output_type": "execute_result"
    },
    {
     "data": {
      "image/png": "[encoded data removed]",
      "text/plain": [
       "<Figure size 640x480 with 1 Axes>"
      ]
     },
     "metadata": {},
     "output_type": "display_data"
    }
   ],
   "source": [
    "money_vs_ats.winner.hist()"
   ]
  },
  {
   "cell_type": "code",
   "execution_count": 13,
   "metadata": {},
   "outputs": [
    {
     "data": {
      "text/plain": [
       "np.int64(15)"
      ]
     },
     "execution_count": 13,
     "metadata": {},
     "output_type": "execute_result"
    }
   ],
   "source": [
    "money_vs_ats.winner.min()"
   ]
  },
  {
   "cell_type": "code",
   "execution_count": 15,
   "metadata": {},
   "outputs": [
    {
     "data": {
      "text/plain": [
       "np.int64(31)"
      ]
     },
     "execution_count": 15,
     "metadata": {},
     "output_type": "execute_result"
    }
   ],
   "source": [
    "money_vs_ats.winner.max()"
   ]
  },
  {
   "cell_type": "markdown",
   "metadata": {},
   "source": [
    "Is 31-15 a plausible record? Why can't Vegas seem to get Memphis right? Toronto and Portland are kinda bad teams. Is Vegas just underestimating them?\n",
    "\n",
    "I started off talking about randomness because if you have enough data, there will be patterns. There's a whole branch of mathematics called [Ramsey Theory](https://en.wikipedia.org/wiki/Ramsey_theory) that deals with these types of patterns. Yep, it's the Len Bias of math again.\n",
    "\n",
    "[TODO improve this prose]\n",
    "\n",
    "Some of the variation in record is due to small sample size.  How about a quick simulation? Time for our buddy, the binomial distribution, to pop up again. "
   ]
  },
  {
   "cell_type": "code",
   "execution_count": 8,
   "metadata": {},
   "outputs": [
    {
     "data": {
      "text/plain": [
       "<Axes: >"
      ]
     },
     "execution_count": 8,
     "metadata": {},
     "output_type": "execute_result"
    },
    {
     "data": {
      "image/png": "[encoded data removed]",
      "text/plain": [
       "<Figure size 640x480 with 1 Axes>"
      ]
     },
     "metadata": {},
     "output_type": "display_data"
    }
   ],
   "source": [
    "GAMES_IN_SEASON = 46 # so far\n",
    "\n",
    "team_names = money_vs_ats.index\n",
    "win_counts = []\n",
    "for t in team_names:\n",
    "    team_wins = scipy.stats.binom.rvs(GAMES_IN_SEASON, .5)\n",
    "    win_counts.append(team_wins)\n",
    "\n",
    "win_counts_series = pd.Series(win_counts)\n",
    "win_counts_series.hist()"
   ]
  },
  {
   "cell_type": "code",
   "execution_count": 10,
   "metadata": {},
   "outputs": [
    {
     "data": {
      "text/plain": [
       "np.int64(14)"
      ]
     },
     "execution_count": 10,
     "metadata": {},
     "output_type": "execute_result"
    }
   ],
   "source": [
    "win_counts_series.min()"
   ]
  },
  {
   "cell_type": "code",
   "execution_count": 11,
   "metadata": {},
   "outputs": [
    {
     "data": {
      "text/plain": [
       "np.int64(29)"
      ]
     },
     "execution_count": 11,
     "metadata": {},
     "output_type": "execute_result"
    }
   ],
   "source": [
    "win_counts_series.max()"
   ]
  },
  {
   "cell_type": "markdown",
   "metadata": {},
   "source": [
    "the simulated data gives win totals against the spread ranging from 14-29. the real data ranges from 15 to 31. So it's a similar range of values. Memphis being 31-15 and Phoenix being 15-31 are plausible solely due to randomness, not due to Vegas having a bias or something. The number of wins against the spread should follow a binomial distribution with p=0.5, which has a wider spread than we might assume."
   ]
  },
  {
   "cell_type": "markdown",
   "metadata": {},
   "source": [
    "TODO: figure out how much of the project DEMAR stuff I want to keep."
   ]
  }
 ],
 "metadata": {
  "kernelspec": {
   "display_name": "Python 3",
   "language": "python",
   "name": "python3"
  },
  "language_info": {
   "codemirror_mode": {
    "name": "ipython",
    "version": 3
   },
   "file_extension": ".py",
   "mimetype": "text/x-python",
   "name": "python",
   "nbconvert_exporter": "python",
   "pygments_lexer": "ipython3",
   "version": "3.11.9"
  }
 },
 "nbformat": 4,
 "nbformat_minor": 2
}
