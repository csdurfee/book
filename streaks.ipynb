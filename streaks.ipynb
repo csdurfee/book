{
 "cells": [
  {
   "cell_type": "code",
   "execution_count": 15,
   "metadata": {},
   "outputs": [],
   "source": [
    "import numpy as np\n",
    "import matplotlib.pyplot as plt\n",
    "import pandas as pd\n",
    "import re\n",
    "\n",
    "rng = np.random.default_rng(2718)\n",
    "np.random.seed(2718)"
   ]
  },
  {
   "cell_type": "markdown",
   "metadata": {},
   "source": [
    "# Streaks\n",
    "\n",
    "Streaks are really common. This iis one of those places where our intuitive notion of randomness and actual randomness collide. Imagine I asked you to try and randomly write a sequence of \"W\"'s and \"L\"'s to simulate a team's win-loss record. I could probably tell that it was fake. You might get the winning percentage correct, but your results would probably be less \"streaky\" than an actual sequence of winners. [Joseph Buchdal](https://www.football-data.co.uk/blog/Wald_Wolfowitz.php) actually did an experiment, and found that he couldn't create a win-loss record that would fool a statistical test called the Wald-Wolfowitz test. \n",
    "\n",
    "The frequency of streaks of wins and losses follows regular mathematical laws, ones our brains don't want to follow when asked to do the exercise. It seems natural to put stories to long streaks of wins or losses, because they don't seem \"natural\" to our brains.\n",
    "\n",
    "To see this in action, let's generate some streaks."
   ]
  },
  {
   "cell_type": "code",
   "execution_count": 16,
   "metadata": {},
   "outputs": [],
   "source": [
    "\n",
    "\n",
    "def streaks(skill=.5, season_length=1000):\n",
    "    # this will give us 1's and zeroes\n",
    "    fake_season = pd.Series(np.random.rand(season_length) < skill).astype(\"float\")\n",
    "    as_win_loss = fake_season.replace(0.0, \"L\").replace(1.0, \"W\")\n",
    "    as_str = \"\".join(as_win_loss)\n",
    "    win_streaks = re.findall(\"(W{1,}+)\", as_str)\n",
    "    lose_streaks = re.findall(\"(L{1,}+)\", as_str)\n",
    "\n",
    "    win_lengths = pd.Series(map(len, win_streaks))\n",
    "    lose_lengths = pd.Series(map(len, lose_streaks))\n",
    "\n",
    "    return {\n",
    "        'win_lengths': win_lengths.value_counts(),\n",
    "        'lose_lengths': lose_lengths.value_counts(),\n",
    "        'win_streaks': win_streaks,\n",
    "        'lose_streaks': lose_streaks\n",
    "        }\n",
    "\n",
    "\n"
   ]
  },
  {
   "cell_type": "markdown",
   "metadata": {},
   "source": [
    "First off, a mathematical intuition check. Does the win rate affect the number of winning versus losing streaks? A team or a gambler that is good will have fewer losing streaks, right?\n",
    "\n",
    "In one sense, yes, in another, no. There can be at most one more winning streak than losing streak no matter the win rate. Every time a winning streak ends, a losing streak begins, and vice versa.\n",
    "\n",
    "But there will definitely be fewer streaks total as the win rate goes up. The winning streaks will be longer, the losing streaks shorter. There will be fewer opportunities for the winners to metaphorically pass the baton to the losers, and vice versa."
   ]
  },
  {
   "cell_type": "code",
   "execution_count": 32,
   "metadata": {},
   "outputs": [],
   "source": [
    "ok_bettor = streaks(skill=.5, season_length=10000000)"
   ]
  },
  {
   "cell_type": "code",
   "execution_count": 18,
   "metadata": {},
   "outputs": [
    {
     "data": {
      "text/plain": [
       "2274207"
      ]
     },
     "execution_count": 18,
     "metadata": {},
     "output_type": "execute_result"
    }
   ],
   "source": [
    "len(ok_bettor['win_streaks'])"
   ]
  },
  {
   "cell_type": "code",
   "execution_count": 19,
   "metadata": {},
   "outputs": [
    {
     "data": {
      "text/plain": [
       "2274206"
      ]
     },
     "execution_count": 19,
     "metadata": {},
     "output_type": "execute_result"
    }
   ],
   "source": [
    "len(ok_bettor['lose_streaks'])"
   ]
  },
  {
   "cell_type": "code",
   "execution_count": 33,
   "metadata": {},
   "outputs": [],
   "source": [
    "lose_frequencies = ok_bettor['lose_lengths'] * ok_bettor['lose_lengths'].index /100000"
   ]
  },
  {
   "cell_type": "code",
   "execution_count": 34,
   "metadata": {},
   "outputs": [],
   "source": [
    "win_frequencies = ok_bettor['win_lengths'] * ok_bettor['win_lengths'].index /100000"
   ]
  },
  {
   "cell_type": "code",
   "execution_count": 35,
   "metadata": {},
   "outputs": [],
   "source": [
    "lose_frequencies.index = lose_frequencies.index * -1"
   ]
  },
  {
   "cell_type": "code",
   "execution_count": 36,
   "metadata": {},
   "outputs": [],
   "source": [
    "win_and_lose = pd.concat([win_frequencies, lose_frequencies]).sort_index()"
   ]
  },
  {
   "cell_type": "code",
   "execution_count": 37,
   "metadata": {},
   "outputs": [
    {
     "data": {
      "text/plain": [
       "<Axes: >"
      ]
     },
     "execution_count": 37,
     "metadata": {},
     "output_type": "execute_result"
    },
    {
     "data": {
      "image/png": "[encoded data removed]",
      "text/plain": [
       "<Figure size 640x480 with 1 Axes>"
      ]
     },
     "metadata": {},
     "output_type": "display_data"
    }
   ],
   "source": [
    "win_and_lose.plot.bar()"
   ]
  },
  {
   "cell_type": "markdown",
   "metadata": {},
   "source": [
    "we can create the probability that you will be in a losing streak of a particular length at a particular time."
   ]
  },
  {
   "cell_type": "code",
   "execution_count": 25,
   "metadata": {},
   "outputs": [
    {
     "ename": "NameError",
     "evalue": "name 'x' is not defined",
     "output_type": "error",
     "traceback": [
      "\u001b[1;31m---------------------------------------------------------------------------\u001b[0m",
      "\u001b[1;31mNameError\u001b[0m                                 Traceback (most recent call last)",
      "Cell \u001b[1;32mIn[25], line 1\u001b[0m\n\u001b[1;32m----> 1\u001b[0m \u001b[43mx\u001b[49m[\u001b[38;5;124m'\u001b[39m\u001b[38;5;124mwin_lengths\u001b[39m\u001b[38;5;124m'\u001b[39m] \u001b[38;5;241m*\u001b[39m x[\u001b[38;5;124m'\u001b[39m\u001b[38;5;124mwin_lengths\u001b[39m\u001b[38;5;124m'\u001b[39m]\u001b[38;5;241m.\u001b[39mindex \u001b[38;5;241m/\u001b[39m\u001b[38;5;241m10000\u001b[39m\n",
      "\u001b[1;31mNameError\u001b[0m: name 'x' is not defined"
     ]
    }
   ],
   "source": [
    "x['win_lengths'] * x['win_lengths'].index /10000"
   ]
  },
  {
   "cell_type": "code",
   "execution_count": null,
   "metadata": {},
   "outputs": [],
   "source": [
    "strk = streaks(skill=.57, season_length=1000, iterations=1) "
   ]
  },
  {
   "cell_type": "code",
   "execution_count": null,
   "metadata": {},
   "outputs": [],
   "source": [
    "sum(strk * strk.index)"
   ]
  },
  {
   "cell_type": "code",
   "execution_count": null,
   "metadata": {},
   "outputs": [],
   "source": [
    "6291/5992"
   ]
  },
  {
   "cell_type": "code",
   "execution_count": null,
   "metadata": {},
   "outputs": [],
   "source": [
    "2 * 10 * 10 / (10 + 10)"
   ]
  },
  {
   "cell_type": "code",
   "execution_count": null,
   "metadata": {},
   "outputs": [],
   "source": [
    "foo = pd.Series(map(len, win_streaks))"
   ]
  },
  {
   "cell_type": "code",
   "execution_count": null,
   "metadata": {},
   "outputs": [],
   "source": [
    "foo.value_counts()"
   ]
  },
  {
   "cell_type": "code",
   "execution_count": null,
   "metadata": {},
   "outputs": [],
   "source": [
    "from itertools import map"
   ]
  },
  {
   "cell_type": "code",
   "execution_count": null,
   "metadata": {},
   "outputs": [],
   "source": [
    "type(fake_season)"
   ]
  },
  {
   "cell_type": "code",
   "execution_count": null,
   "metadata": {},
   "outputs": [],
   "source": []
  }
 ],
 "metadata": {
  "kernelspec": {
   "display_name": "Python 3",
   "language": "python",
   "name": "python3"
  },
  "language_info": {
   "codemirror_mode": {
    "name": "ipython",
    "version": 3
   },
   "file_extension": ".py",
   "mimetype": "text/x-python",
   "name": "python",
   "nbconvert_exporter": "python",
   "pygments_lexer": "ipython3",
   "version": "3.11.9"
  }
 },
 "nbformat": 4,
 "nbformat_minor": 2
}
