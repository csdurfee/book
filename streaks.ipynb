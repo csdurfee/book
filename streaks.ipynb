{
 "cells": [
  {
   "cell_type": "code",
   "execution_count": 1,
   "metadata": {},
   "outputs": [],
   "source": [
    "import numpy as np\n",
    "import matplotlib.pyplot as plt\n",
    "import pandas as pd\n",
    "import re\n",
    "\n",
    "rng = np.random.default_rng(2718)\n",
    "np.random.seed(2718)"
   ]
  },
  {
   "cell_type": "markdown",
   "metadata": {},
   "source": [
    "# Streaks\n",
    "\n",
    "Streaks are really common. This iis one of those places where our intuitive notion of randomness and actual randomness collide. Imagine I asked you to try and randomly write a sequence of \"W\"'s and \"L\"'s to simulate a team's win-loss record. I could probably tell that it was fake. You might get the winning percentage correct, but your results would probably be less \"streaky\" than an actual sequence of winners. [Joseph Buchdal](https://www.football-data.co.uk/blog/Wald_Wolfowitz.php) actually did an experiment, and found that he couldn't create a win-loss record that would fool a statistical test called the Wald-Wolfowitz test. \n",
    "\n",
    "Streaks of wins and losses in randomly generated data follow regular mathematical laws, ones our brains don't want to follow when asked to do the exercise. At some level, we're almost physically incapable of generating truly random data, so it makes sense to me that our intuitions about randomness are a little off.\n",
    "\n",
    "To see this in action, let's generate some streaks."
   ]
  },
  {
   "cell_type": "code",
   "execution_count": null,
   "metadata": {},
   "outputs": [],
   "source": [
    "def streaks(skill=.5, season_length=1000):\n",
    "    # this will give us 1's and zeroes\n",
    "    fake_season = pd.Series(np.random.rand(season_length) < skill).astype(\"float\")\n",
    "    as_win_loss = fake_season.replace(0.0, \"L\").replace(1.0, \"W\")\n",
    "    as_str = \"\".join(as_win_loss)\n",
    "    win_streaks  = re.findall(r\"(W{1,}+)\", as_str)\n",
    "    lose_streaks = re.findall(r\"(L{1,}+)\", as_str)\n",
    "\n",
    "    win_lengths = pd.Series(map(len, win_streaks))\n",
    "    lose_lengths = pd.Series(map(len, lose_streaks))\n",
    "\n",
    "    return {\n",
    "        'win_lengths': win_lengths.value_counts(),\n",
    "        'lose_lengths': lose_lengths.value_counts(),\n",
    "        'win_streaks': win_streaks,\n",
    "        'lose_streaks': lose_streaks,\n",
    "        'wins': as_str.count(\"W\"),\n",
    "        'losses': as_str.count(\"L\")\n",
    "        }\n",
    "\n",
    "\n"
   ]
  },
  {
   "cell_type": "markdown",
   "metadata": {},
   "source": [
    "First off, a mathematical intuition check. Does the win rate affect the number of winning versus losing streaks? A team or a gambler that is good will have fewer losing streaks, right?\n",
    "\n",
    "In one sense, yes, in another, no. There can be at most one more winning streak than losing streak no matter the win rate. Every time a winning streak ends, a losing streak begins, and vice versa.\n",
    "\n",
    "But there will definitely be fewer streaks total as the win rate goes up. The winning streaks will be longer, the losing streaks shorter. There will be fewer opportunities for the winners to metaphorically pass the baton to the losers, and vice versa."
   ]
  },
  {
   "cell_type": "markdown",
   "metadata": {},
   "source": [
    "How many streaks total should we expect? Over the course of this simulated 1000 game season, we get 498 streaks, roughly half the number of total games. Seems like a lot, right?"
   ]
  },
  {
   "cell_type": "code",
   "execution_count": null,
   "metadata": {},
   "outputs": [],
   "source": [
    "ok_bettor_season = streaks(skill=.55, season_length=1000)"
   ]
  },
  {
   "cell_type": "code",
   "execution_count": null,
   "metadata": {},
   "outputs": [
    {
     "data": {
      "text/plain": [
       "498"
      ]
     },
     "execution_count": 27,
     "metadata": {},
     "output_type": "execute_result"
    }
   ],
   "source": [
    "len(ok_bettor_season['win_streaks']) + len(ok_bettor_season['lose_streaks'])"
   ]
  },
  {
   "cell_type": "markdown",
   "metadata": {},
   "source": [
    "Our theoretical gambler has a 55% win rate but only managed to win 53.2% of them in this simulation."
   ]
  },
  {
   "cell_type": "code",
   "execution_count": null,
   "metadata": {},
   "outputs": [
    {
     "data": {
      "text/plain": [
       "532"
      ]
     },
     "execution_count": 24,
     "metadata": {},
     "output_type": "execute_result"
    }
   ],
   "source": [
    "ok_bettor_season['wins']"
   ]
  },
  {
   "cell_type": "code",
   "execution_count": null,
   "metadata": {},
   "outputs": [
    {
     "data": {
      "text/plain": [
       "468"
      ]
     },
     "execution_count": 25,
     "metadata": {},
     "output_type": "execute_result"
    }
   ],
   "source": [
    "ok_bettor_season['losses']"
   ]
  },
  {
   "cell_type": "markdown",
   "metadata": {},
   "source": [
    "The theoretical number of streaks for a 532-468 win loss record is 498, matching the actual number exactly."
   ]
  },
  {
   "cell_type": "code",
   "execution_count": null,
   "metadata": {},
   "outputs": [
    {
     "data": {
      "text/plain": [
       "497.952"
      ]
     },
     "execution_count": 26,
     "metadata": {},
     "output_type": "execute_result"
    }
   ],
   "source": [
    "(2 * (532 * 468) / 1000) + 1"
   ]
  },
  {
   "cell_type": "markdown",
   "metadata": {},
   "source": [
    "We could take the random results and shuffle around wins and losses to create more or fewer streaks but keep the same win rate. The more we try to \"cook\" the books, the more we come up with a record that is unlikely to be created by randomness, which makes sense.\n",
    "\n",
    "This statistical test has been used to try to prove or disprove the \"hot hand\" -- the idea that some shooters are streaky. In this context, being \"streaky\" would mean more makes in a row and more misses in a row than expected by chance. In other words, fewer streaks in general because the wins and losses tend to cluster together more.\n",
    "\n",
    "Although [the original paper](https://www.sciencedirect.com/science/article/abs/pii/0010028585900106) found that the hot hand doesn't exist, it has remained a topic of debate for decades, one that I'm not going to get into here!"
   ]
  },
  {
   "cell_type": "markdown",
   "metadata": {},
   "source": [
    "How frequently will a 55% win rate gambler see different length streaks over the course of 1000 bets on the NBA?"
   ]
  },
  {
   "cell_type": "code",
   "execution_count": 5,
   "metadata": {},
   "outputs": [],
   "source": [
    "ok_bettor = streaks(skill=.55, season_length=10000000)"
   ]
  },
  {
   "cell_type": "markdown",
   "metadata": {},
   "source": [
    "This gives us an idea of the expected number of streaks over the course of 1000 bets. A bettor should expect about 10 five game winning streaks and 12 streaks longer than five."
   ]
  },
  {
   "cell_type": "code",
   "execution_count": 35,
   "metadata": {},
   "outputs": [
    {
     "data": {
      "text/plain": [
       "1     111.3708\n",
       "2      61.1969\n",
       "3      33.6722\n",
       "4      18.5548\n",
       "5      10.1693\n",
       "6       5.6057\n",
       "7       3.1057\n",
       "8       1.6762\n",
       "9       0.9285\n",
       "10      0.5265\n",
       "11      0.2794\n",
       "12      0.1509\n",
       "13      0.0883\n",
       "14      0.0500\n",
       "15      0.0251\n",
       "16      0.0154\n",
       "17      0.0081\n",
       "18      0.0040\n",
       "19      0.0024\n",
       "20      0.0010\n",
       "21      0.0006\n",
       "22      0.0002\n",
       "23      0.0002\n",
       "25      0.0001\n",
       "Name: count, dtype: float64"
      ]
     },
     "execution_count": 35,
     "metadata": {},
     "output_type": "execute_result"
    }
   ],
   "source": [
    "win_streak_ev = ok_bettor['win_lengths'] / 10000\n",
    "win_streak_ev"
   ]
  },
  {
   "cell_type": "code",
   "execution_count": 32,
   "metadata": {},
   "outputs": [
    {
     "data": {
      "text/plain": [
       "12.4683"
      ]
     },
     "execution_count": 32,
     "metadata": {},
     "output_type": "execute_result"
    }
   ],
   "source": [
    "sum(win_streak_ev[win_streak_ev.index > 5])"
   ]
  },
  {
   "cell_type": "markdown",
   "metadata": {},
   "source": [
    "As expected, if we take the streak counts times the streak lengths and sum those up, we get the expected number of wins in 1000 bets (550)."
   ]
  },
  {
   "cell_type": "code",
   "execution_count": 12,
   "metadata": {},
   "outputs": [
    {
     "data": {
      "text/plain": [
       "549.9065"
      ]
     },
     "execution_count": 12,
     "metadata": {},
     "output_type": "execute_result"
    }
   ],
   "source": [
    "sum(win_streak_ev * win_streak_ev.index)"
   ]
  },
  {
   "cell_type": "markdown",
   "metadata": {},
   "source": [
    "On the losing side, a pretty good bettor should expect at least 4 or 5 stretches every season where they lose 6 or more games in a row."
   ]
  },
  {
   "cell_type": "code",
   "execution_count": 28,
   "metadata": {},
   "outputs": [
    {
     "data": {
      "text/plain": [
       "1     136.0270\n",
       "2      61.2545\n",
       "3      27.5563\n",
       "4      12.4264\n",
       "5       5.5860\n",
       "6       2.5070\n",
       "7       1.1446\n",
       "8       0.5138\n",
       "9       0.2318\n",
       "10      0.1010\n",
       "11      0.0450\n",
       "12      0.0218\n",
       "13      0.0099\n",
       "14      0.0040\n",
       "15      0.0014\n",
       "16      0.0009\n",
       "17      0.0008\n",
       "19      0.0001\n",
       "Name: count, dtype: float64"
      ]
     },
     "execution_count": 28,
     "metadata": {},
     "output_type": "execute_result"
    }
   ],
   "source": [
    "lose_streak_ev = ok_bettor['lose_lengths'] / 10000\n",
    "lose_streak_ev"
   ]
  },
  {
   "cell_type": "code",
   "execution_count": 29,
   "metadata": {},
   "outputs": [
    {
     "data": {
      "text/plain": [
       "4.582099999999999"
      ]
     },
     "execution_count": 29,
     "metadata": {},
     "output_type": "execute_result"
    }
   ],
   "source": [
    "sum(lose_streak_ev[lose_streak_ev.index >= 6])"
   ]
  },
  {
   "cell_type": "markdown",
   "metadata": {},
   "source": [
    "And they can expect to have a 10 or more game losing streak once every 5.4 seasons."
   ]
  },
  {
   "cell_type": "code",
   "execution_count": 20,
   "metadata": {},
   "outputs": [
    {
     "data": {
      "text/plain": [
       "5.408328826392644"
      ]
     },
     "execution_count": 20,
     "metadata": {},
     "output_type": "execute_result"
    }
   ],
   "source": [
    "1 /sum(lose_streak_ev[lose_streak_ev.index >= 10])"
   ]
  },
  {
   "cell_type": "markdown",
   "metadata": {},
   "source": [
    "[FIXME: clean up!]\n",
    "\n",
    "So if I plot the probability of each streak by the streak length, that would give the proportion of the time that the bettor spent within each streak length. \n",
    "\n",
    "This produces a really odd graph, where the individual probabilities make sense but the overall shape is weird.\n"
   ]
  },
  {
   "cell_type": "code",
   "execution_count": 21,
   "metadata": {},
   "outputs": [],
   "source": [
    "lose_frequencies = ok_bettor['lose_lengths'] * ok_bettor['lose_lengths'].index /100000\n",
    "win_frequencies = ok_bettor['win_lengths'] * ok_bettor['win_lengths'].index /100000\n",
    "\n",
    "lose_frequencies.index = lose_frequencies.index * -1\n",
    "\n",
    "win_and_lose = pd.concat([win_frequencies, lose_frequencies]).sort_index()\n"
   ]
  },
  {
   "cell_type": "code",
   "execution_count": 24,
   "metadata": {},
   "outputs": [
    {
     "data": {
      "text/plain": [
       "<Axes: >"
      ]
     },
     "execution_count": 24,
     "metadata": {},
     "output_type": "execute_result"
    },
    {
     "data": {
      "image/png": "[encoded data removed]",
      "text/plain": [
       "<Figure size 640x480 with 1 Axes>"
      ]
     },
     "metadata": {},
     "output_type": "display_data"
    }
   ],
   "source": [
    "win_and_lose[(win_and_lose.index > -10) & (win_and_lose.index < 10) ].plot.bar()"
   ]
  }
 ],
 "metadata": {
  "kernelspec": {
   "display_name": "Python 3",
   "language": "python",
   "name": "python3"
  },
  "language_info": {
   "codemirror_mode": {
    "name": "ipython",
    "version": 3
   },
   "file_extension": ".py",
   "mimetype": "text/x-python",
   "name": "python",
   "nbconvert_exporter": "python",
   "pygments_lexer": "ipython3",
   "version": "3.11.9"
  }
 },
 "nbformat": 4,
 "nbformat_minor": 2
}
