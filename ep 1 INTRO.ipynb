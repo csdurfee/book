{
 "cells": [
  {
   "cell_type": "markdown",
   "metadata": {},
   "source": [
    "# Don't Be a Sucker\n",
    "by Casey Durfee <csdurfee@gmail.com>\n",
    "\n",
    "Copyright 2025.\n",
    "\n",
    "## Intro\n",
    "This started because I got tired of people talking about their gambling losses online. Why talk about how you lost money doing something that you should have known would lose you money? Every season there are more ads and more talk about gambling, and it's definitely making sports worse. How does it work, and what do people get out of it?\n",
    "\n",
    "It contributes to this environment where the meta -- the stats, the highlights, the talking points -- are more important than the competition itself, and that's sad. Athletes shouldn't be treated like malfunctioning random number generators. If sports aren't interesting on their own, then why bother? Someone could take the jersey numbers of their favorite athletes and buy a lotto ticket with those numbers and it's almost the same thing.\n",
    "\n",
    "So I was curious about how it worked.  I'm trying to convey a little common sense and intuition about how this stuff actually works, as a math problem and a cultural phenomenon. There are a whole lot of thought experiments, dubious philosophical insights, and silly jokes.\n",
    "\n",
    "I've tried to avoid too much formal mathy stuff, instead running little simulations to illustrate ideas. I hope it's fairly approachable, but not too much. Gambling is all math after a couple of bets. So maybe I can help some people transfer their irrational math anxiety into rational betting anxiety. Math can be your pal. The casinos can't.\n",
    "\n",
    "There are a lot of books about gambling on sports. A few of them are even good! I will have a recommended reading list at the end. I'm mostly sticking to topics that haven't been talked about, or have been explained poorly, in other books. Plus jokes! There's a timeless quality to books that teach you how to think better, versus perform specific tasks. The betting landscape may change dramatically, but there will alays be suckers and sucker bets.\n",
    "\n",
    "## The Disclaimer\n",
    "Gambling can be addictive. Anyone can become an addict. Addiction is not a question of intelligence or virtue. \n",
    "\n",
    "Maybe you're saying, \"I don't know I'm going to lose\". True, but you're also not going to bet one time, especially if you win. Success is the worst teacher. What happens over the long term? Betting is about statistics, not feelings.\n",
    "\n",
    "Want to try betting without the losses? Just do it on paper. What's the downside? People play board games with fake money and trade stocks with fake money and still have fun (sometimes). A lot of family Monopoly games end in tears, but nobody's broke in real life at the end.\n",
    "\n",
    "As you'll see, the bets that sportsbooks push on naive gamblers are guaranteed losers in the long run, regardless of skill. Even if you know more about sports than the average bettor, you're still going to lose money taking them.\n",
    "\n",
    "Although I think it is possible to make money on betting, maximizing profits requires knowing how much of an edge you have over the sportsbook. So someone who wants to be successful needs to start on paper. Someone who wants to lose money should buy as many copies of this book as possible, and not read any of them.\n",
    "\n",
    "I would guess maybe 1% of bettors make money long term. The estimate I see online is 3%, but that seems way too high, given the massive influx of new bettors and the rise of crappier types of bets.\n",
    "\n",
    "It's definitely not a 50/50 split between winners and losers. I think that naive assumption drives some people to bet. For a lot of things in life, being slightly above average is good enough. This isn't one of those things."
   ]
  },
  {
   "cell_type": "markdown",
   "metadata": {},
   "source": [
    "### Free Life Advice\n",
    "*Definition of Insanity (Casey's Version)*:\n",
    "\n",
    "> If you do what everybody else does, you should expect to get the results everybody else does. \n",
    "\n",
    "Do with that what you will. Maybe get that as a back tattoo. Everybody else isn't doing that!\n",
    "\n",
    "If 97% of sports bettors are losing money on it, going with the conventional wisdom will definitely lead to failure. Is that fun? Wouldn't winning be more fun? Why play a game that will just make you feel bad?\n",
    "\n",
    "### Games of skill and chance\n",
    "Sports gambling was legalized on the premise that it's a game of skill. People were told it's not like \"real gambling\" where the winner is randomly decided. Of course, the lottery isn't a game of skill and that's legal almost everywhere, but that's not run for-profit.\n",
    "\n",
    "It's supposedly about who knows more about sports. And that's plausible. Sports-knowing is a sort of skill. Making predictions about the future that are better than random is a skill, too. Maybe there's some sort of American civic virtue in the combination of the two.\n",
    "\n",
    "Of course, \"Grifting the Rubes\" is also an American civic virtue, in some circles.\n",
    "\n",
    "![never give a sucker an even break movie poster, from wikipedia](img/sucker.jpg)\n",
    "\n",
    "\"You wanna bet on it\" is a primal reaction to somebody saying something you think is wrong about sports. I get it. \n",
    "\n",
    "I remember back in early 2017, getting in a disagreement with somebody online over whether Andre Drummond or Nikola Jokic would be the better NBA player in the long run. He didn't want to make a bet on it, unfortunately. I think Drummond was an All-Star that year and Jokic was still a nobody. He would often get winded after about 5 minutes and commit a silly foul so he could get subbed out. I should've gotten pretty good odds on it.\n",
    "\n",
    "The distinction between games of skill and games of chance is significant to me. Many things have an element of chance to them. Certainly sports. Despite the randomness, most of the time, the team that plays better wins the game. It's possible to win the game through merit. \n",
    "\n",
    "That's not true of some types of sports bets. Skilled bettors will lose less often, but they will still lose over the long run."
   ]
  },
  {
   "cell_type": "markdown",
   "metadata": {},
   "source": [
    "### Dutch Books\n",
    "\"You wanna bet on it\" is also the key to an idea in the area where philosophy and economics meet called [Decision Theory](https://en.wikipedia.org/wiki/Decision_theory).  Both economists and philosophers have a keen professional interest in what is or isn't rational behavior. It makes things way messier if you have to account for people who behave in ways that don't follow logical patterns. Economists need perfectly rational human beings even more than they need [spherical cows](https://en.wikipedia.org/wiki/Spherical_cow). I've seen some awfully fat cows, but I've never seen a perfectly logical human.\n",
    "\n",
    "How do you determine whether an individual made the right choice for themselves? Sometimes, it's a subjective judgement based on what the individual values. But, the theory goes, if betting according to a person's stated beliefs would be guaranteed to lose them money, their beliefs are irrational. Not because you or I think they're irrational, but because they violate the rules of probability theory and logic, and lead to these guaranteed losing bets. Look, I'm not saying you're crazy, [Abraham De Moivre](https://en.wikipedia.org/wiki/Abraham_de_Moivre) is!\n",
    "\n",
    "This is called the Dutch Book Theorem. \"Making a book\" means a situation where a bookmaker is guaranteed to win money no matter the outcome, and a Dutch Book is specifically when they'll make the exact same amount either way. They're getting paid the same amount regardless of who wins.\n",
    "\n",
    "It's basically a rigorous, formal definition of a *sucker*: someone who is guaranteed to lose money because of their garbage beliefs.\n",
    "\n",
    "I have feelings about the morality of betting, but for the most part they're not really relevant to how the math works."
   ]
  },
  {
   "cell_type": "markdown",
   "metadata": {},
   "source": [
    "### Game Recognize Game Theory\n",
    "The Dutch Book Theorem was created by a guy named [Frank P. Ramsey](https://en.wikipedia.org/wiki/Frank_Ramsey_(mathematician)). He made major contributions to philosophy, economics, and math by the age of 26. He died in 1930 after swimming in a polluted river. \n",
    "\n",
    "He's basically the Len Bias of math. It hurts to just imagine if he had lived another 10 years and got to play in the Computer Science era. Can you imagine him and Turing on the floor together? With [Russell](https://en.wikipedia.org/wiki/Bertrand_Russell) playing Center?  Good luck [halting](https://en.wikipedia.org/wiki/Halting_problem) that. Dude would have gotten 40 a night. \n",
    "\n",
    "No way [Nash](https://en.wikipedia.org/wiki/John_Forbes_Nash_Jr.) is  [winning](https://en.wikipedia.org/wiki/Abel_Prize) two [MVP's](https://en.wikipedia.org/wiki/Nobel_Memorial_Prize_in_Economic_Sciences) if Ramsey didn't die so young.\n",
    "\n",
    "![the homie, fp ramsey](img/homie.jpg)\n",
    "\n",
    "This probably won't be his only appearance."
   ]
  },
  {
   "cell_type": "markdown",
   "metadata": {},
   "source": [
    "\n",
    "### The pleasure is to play, makes no difference what you say\n",
    "Can you really do a Dutch Book argument against someone putting down a few bets for fun? Aren't they getting pleasure out of it, regardless of outcome? \n",
    "\n",
    "I accept you can't really say it has no value for the individual. If a gambler's goal is to lose money in an entertaining fashion rather than make money, then maybe they aren't irrational for betting the way every other loser does. \n",
    "\n",
    "But there's a dark side to this. People aren't going bankrupt chasing their losses or paying thousands of dollars to buy picks because they want to lose money in a more fun way. They do it because they think it will make them money in the long run. \n",
    "\n",
    "Here's [a particularly egregious promise](https://experts.winnersandwhiners.com/cappers/37) from one tout (who charges $1200 a year for his picks):\n",
    "\n",
    "> \" If you follow ______'s advice by playing his selections you are going to find yourself making a decent second income from gambling. If you are working full-time, have a family, or have other interests, then you can't possibly put in the time required to win at sports-betting. Don't let this opportunity pass you by, hop on board with ___ and start cashing now!\"\n",
    "\n",
    "That's borderline criminal to me.\n",
    "\n",
    "I don't know that betting small amounts every once in a while is especially irrational. You can do that knowing you'll probably lose money, and it might bring some extra fun if it's a game you'd enjoy anyway. I only know that gamblers who bet regularly are supposedly doing it to make money. \n",
    "\n",
    "If somebody's habitually taking sucker bets despite expecting they will make money, I think that's a clear Dutch Book situation. It also makes gambling a potentially more addictive habit than drugs. I don't think anyone starts using drugs because they think it will make them rich.\n",
    "\n",
    "Unfortunately, the entity making money betting against rationality isn't some starving philosophy grad student, it's DraftKings. By losing all the time, these habitual gamblers are funding the companies making sports crappier for the rest of us. \n",
    "\n",
    "### Guaranteed Losers\n",
    "\n",
    "Some types of bets will lose money over the long term, even for moderately skilled bettor. These are the ones that get pushed the hardest: parlays, prop bets, teasers, in-game betting.\n",
    "\n",
    "If nothing else, I hope you will understand why these types of bets are extra bad. Nobody rationally trying to make money would take them. They are games of chance, not games of skill, and have negative expected value, often worse than playing craps or baccarat in a casino. \n",
    "\n",
    "These bets may as well be rigged carnival games. If you take the wrong types of bets, your skill or knowledge doesn't matter. They are losers for everybody who can't see the future. I'm pretty sure that's everybody. \n",
    "\n",
    "If you really can see the future, and you're using those magical powers to figure out who's going to win a random Hornets-Pacers game, I don't know what to tell you."
   ]
  },
  {
   "cell_type": "markdown",
   "metadata": {},
   "source": [
    "\n",
    "### The spread and other gambling nonsense\n",
    "I will be discussing betting on point spreads on the NBA. The idea behind a point spread is that while both teams might not be equally likely to win the game, there's some difference in score, some handicap that could be given to the better team so that both outcomes are equally likely. \n",
    "\n",
    "If you're playing \"HORSE\" against a child, you might offer to start at \"HOR\" to make the contest more interesting. I mean, you're still hustling the kid, because little Billy has no way of knowing your jumper's [wet](https://www.espn.com/espnw/news/story/_/id/6608288/nba-playoffs-finals-word-nba-slang), but at least it's a contest on paper.\n",
    "\n",
    "Say a really good NBA team is playing a really bad one. The really good team might win 90% of the time, which isn't interesting to bet for most people. But they might beat the other team by over 10 points 50% of the time, though. So a fair point handicap, or *spread*, for that game would be -10. If the favorites win by more than 10, the favorite wins. if they win by less than 10 or lose outright, the underdog side wins. \n",
    "\n",
    "Both sides of the bet are more interesting if it's a 50/50 thing. The math is nicer, too!\n",
    "\n",
    "\"Handicapping\" is estimating the point spread, and sports bettors are really betting on whether the handicapper's estimate of the final point differential is too high or too low, rather than betting for a specific team. \n",
    "\n",
    "There are many other ways of betting on sports besides the spread, but it's probably the least bad option, as we shall see, and the math is the simplest to understand, which means the bookie has less of an inherent edge.\n",
    "\n",
    "\"Units\" are a way to talk about gains and losses in a way that isn't tied to the amount of money you started out with or the bet size you take. A wise bettor will wager a constant percentage of their total bankroll on each bet. [TODO: do I need to expand this]\n",
    "\n",
    "I will try to avoid other gambling lingo, which isn't necessary and really only serves to make betting seem like a cool activity that you can get good at by learning a bunch of gambling lore. It's not. It's all bullshit, and probably makes you worse by reinforcing cognitive biases and losing behaviors. Not only worse at gambling, but at life. Like life, you can't control the outcomes, but you can try to maximize your success."
   ]
  },
  {
   "cell_type": "markdown",
   "metadata": {},
   "source": [
    "### Expected Value and other statistical sense\n",
    "\n",
    "I know math is kind of a bummer for a lot of people. But a lot of this is basic arithmetic and common sense.\n",
    "\n",
    "Say you have a chance to bet Jaylen Brunson over 45 points in tonight's game. What's a fair payout for that bet? Well, how often does Brunson have a burner of a game like that? He's done it once in 60 games this year, and did it twice last season. Twice a season is 1 per 41 games, let's say. So a fair payout would be 40 to 1, right? 40 times you lose, then one time you win 40x. Over the long run, you would break even.\n",
    "\n",
    "Does Brunson have an equal chance to go over 45 points in every game? Of course not. If other high scorers on the team are injured, that might increase his chances. If he is playing versus a good defensive team, that will decrease his chances. If the other team plays at a slow pace, his team will have fewer possessions, which will decrease his chances.\n",
    "\n",
    "Let's say we tweak the chances back and forth due to every factor we can think of and decide the true odds are 1 in 50. Could we make money betting this at a +4500 payout (risk 100 to win 4500)?\n",
    "\n",
    "No! This is an algebra problem you don't need to do algebra to solve. If you play 51 times, you will probably win once, for +4500, and lose 50 times, for -5000. The amount to win would have to be at least +5000, right?\n",
    "\n",
    "The idea here is called Expected Value. Take every possible outcome, multiply the probability of the outcome times the size of the payout, then add those all together. If it's positive, you will make money over the long run. If it's negative, you will lose money.\n",
    "\n",
    "Simple, right?\n"
   ]
  },
  {
   "cell_type": "markdown",
   "metadata": {},
   "source": [
    "### The Vig\n",
    "For the type of bets I'm discussing here, you have to risk slightly more than you win. That difference is called the vig and is the way the sportsbook makes money. Sometimes it is called \"the juice\".\n",
    "\n",
    "That means you have to win more often than you lose in order to just break even: you gotta be right 11 times for every 10 times you are wrong. [Your Uncle Juice](https://www.youtube.com/watch?v=726Ujz_KOHE) is not, in fact, a good man. \n",
    "\n",
    "How much more often? Let's do the math. Let \"WP\" be winning percentage and \"LP\" be losing percentage. Those have to add up to 100. Let's find the break-even point where the winning percentage is high enough to cancel out the cost of the vig:\n",
    "\n",
    "$WP - (VIG * LP) > 0$\n",
    "\n",
    "We also know that\n",
    "\n",
    "$WP + LP = 100$\n",
    "\n",
    "so with a little algebra:\n",
    "\n",
    "$LP < 100/(1+VIG)$\n",
    "\n",
    "and\n",
    "\n",
    "$WP > 100 - (100/(1+VIG))$\n",
    "\n",
    "A standard bet on the spread has a vig of \"-110\" which means you have to risk 1.1x more than you win. If the \"-110\" looks funny to you, America uses different notation for betting than other countries. Luckily, the laws of probability are true everywhere, and my grandfathers didn't fight in WWII just for me to have to learn some other way of writing the odds.\n",
    "\n",
    "At -110, you have to win at least 52.4% of the time just to break even."
   ]
  },
  {
   "cell_type": "code",
   "execution_count": 6,
   "metadata": {},
   "outputs": [
    {
     "data": {
      "text/plain": [
       "52.38095238095238"
      ]
     },
     "execution_count": 6,
     "metadata": {},
     "output_type": "execute_result"
    }
   ],
   "source": [
    "vig = 1.1\n",
    "\n",
    "100 - (100/(1+vig))"
   ]
  },
  {
   "cell_type": "markdown",
   "metadata": {},
   "source": [
    "If there is the same amount of money on each side of the bet and the vig is -110, the sportsbook is going to get 5% of the total amount bet no matter who wins or loses. Pretty sweet business, right?"
   ]
  },
  {
   "cell_type": "markdown",
   "metadata": {},
   "source": [
    "Even though they already have a license to print money, sportsbooks continue to come up with ways to get people to pay more than the 5% per bet of a standard vig. If you had common sense, you'd assume that the types of bets most heavily promoted have the highest profit margins for the sportsbooks and are the worst for you. That's just capitalism, baby! But, if you had common sense, you probably wouldn't be betting in the first place. So here we are.\n",
    "\n",
    "The higher the vig, the harder it is to make money taking that type of bet. If you win 50% of the time, then your wins cancel out your losses. \n",
    "\n",
    "The vig is actually what makes people go broke. It sets the floor for how right you have to be in order to not go broke. Somebody could make money taking bets at low prices, and lose massively taking bets at standard sportsbook prices.\n",
    "\n",
    "There is always a heavy element of chance and unpredictability in sports. When two teams meet in a 7 game playoff series, even if one team is much better than the other, it's not uncommon for the worse team to win one or two games in convincing fashion. If you only watched one game, you might think the roles were reversed.\n",
    "\n",
    "An example would be [Game 4 of the 1996 NBA Finals](https://www.basketball-reference.com/boxscores/199606120SEA.html) between the Chicago Buls and the Seattle SuperSonics. Michael Jordan and Scottie Pippen went a combined 10-36 from the field. The game was basically over in the 2nd quarter. Jordan looks like maybe the 3rd or 4th best player in the game. Over the series, and the decade, Jordan was clearly the best player and the Bulls the best team. But anything can happen in one game.\n",
    "\n",
    "Imagine how Michael Jordan would've gotten killed online if sports betting were legal in the USA at the time. He would have blown so many parlays! And, the counter-narrative from Jordan fans: Pippen scored 9 points on 17 shots. Larry Bird never had to carry a team the way Jordan did, which is why Jordan is the GOAT. When will the Bulls finally get Jordan the help he deserves?\n",
    "\n",
    "All sports bets are like flipping a coin, or rolling dice. If the gambler is skilled, they're flipping a weighted coin that comes up heads more often than tails, but there is an element of randomness no matter what. There is a fundamental unknowability about the future of the world. This random aspect makes every game a little disconnected from history, living in its own stateless world.\n",
    "\n",
    "The more skill the gambler has, the more often they will win. But losing is always very likely, no matter what. The margins are very small, so tiny differences in the vig matter, and if it's high enough, it can make people with actual skill into losers over the long run.\n",
    "\n",
    "Here's a plot of break-even winning percentage versus the vig."
   ]
  },
  {
   "cell_type": "code",
   "execution_count": 7,
   "metadata": {},
   "outputs": [
    {
     "data": {
      "image/png": "[encoded data removed]",
      "text/plain": [
       "<Figure size 640x480 with 1 Axes>"
      ]
     },
     "metadata": {},
     "output_type": "display_data"
    }
   ],
   "source": [
    "import numpy as np\n",
    "import matplotlib.pyplot as plt\n",
    "\n",
    "vig_range = np.arange(1.0, 10, .05)\n",
    "\n",
    "break_even_point = 100 - (100/(1+vig_range))\n",
    "\n",
    "vig_label = -100 * vig_range\n",
    "\n",
    "plt.plot(vig_label, break_even_point)\n",
    "plt.gca().invert_xaxis()\n",
    "plt.ylabel(\"winning percentage\")\n",
    "plt.xlabel(\"vig\")\n",
    "plt.grid()"
   ]
  },
  {
   "cell_type": "markdown",
   "metadata": {},
   "source": [
    "Notice that the graph is curved, not straight. Going from -100 to -200 changes the break-even percentage much more than going from -600 to -700. This is a huge disadvantage of the American way of writing bets. \"100 points\" on the spread means totally different things at different places on the graph.\n",
    "\n",
    "Here's the interesting part of the graph for the bets I'll be talking about:"
   ]
  },
  {
   "cell_type": "code",
   "execution_count": 8,
   "metadata": {},
   "outputs": [
    {
     "data": {
      "image/png": "[encoded data removed]",
      "text/plain": [
       "<Figure size 640x480 with 1 Axes>"
      ]
     },
     "metadata": {},
     "output_type": "display_data"
    }
   ],
   "source": [
    "vig_range = np.arange(1.00, 1.3, .01)\n",
    "\n",
    "break_even_point = 100 - (100/(1+vig_range))\n",
    "\n",
    "vig_label = -100 * vig_range\n",
    "\n",
    "plt.plot(vig_label, break_even_point)\n",
    "plt.gca().invert_xaxis()\n",
    "\n",
    "plt.ylabel(\"break even %\")\n",
    "plt.xlabel(\"vig\")\n",
    "plt.grid()"
   ]
  },
  {
   "cell_type": "markdown",
   "metadata": {},
   "source": [
    "Think about the vig a minute. Make sure these things are clear in your mind.\n",
    "\n",
    "1) The size of the vig will affect how much advantage or disadvantage the player has versus the house. It can turn a winner into a loser.\n",
    "2) If there's any vig at all, you have to win more than 50% of the time to not go broke in the long run. \n",
    "3) At 50% win rate, even the smallest vig will eat your bankroll up over enough bets.\n",
    "4) If a vig is high enough, there's no possible way to make money on betting in the long run, no matter how good you are. \n",
    "5) If you don't know the vig, you can't say you took the bet with a rational expectation of winning money. You can't know whether making money is even possible."
   ]
  },
  {
   "cell_type": "markdown",
   "metadata": {},
   "source": [
    "### Parlays\n",
    "\n",
    "The most popular way that sportsbooks get people to pay more vig is a type of bet called the parlay. \"Parlay\" means \"to talk\" in French, so it's no surprise dudes always want to talk about them online.\n",
    "\n",
    "The idea behind a parlay is that you can bet on multiple things at once and if they all win, you make a nice profit, otherwise you lose. \n",
    "\n",
    "Why would they be offering this bet if it was good for you?  \n",
    "\n",
    "Expected value (EV) is the weighted average of all the possible outcomes. You've already seen that with the vig when I calculated the break-even point -- how often do you have to win to break even on average? If the win percentage is higher than that, the expected value is positive; if it's lower, the EV is negative.\n",
    "\n",
    "[The standard payout on a 4 team parlay is 10:1](https://www.vegasinsider.com/parlay-calculator/). What is the expected value of such a play? is it higher or lower than taking the individual bets?\n",
    "\n",
    "It's easy to grind the math on this one, but maybe a simulation makes it more convincing. We'll do a bunch of bets and see whether the parlay or the individual bets are better. I can't say \"make us more money\" because both types of bets are guaranteed losers without some sort of edge. \n",
    "\n",
    "This is such a bad bet on the surface that to understand it, I have to give a little taste of parlay culture first.\n"
   ]
  },
  {
   "cell_type": "markdown",
   "metadata": {},
   "source": [
    "### Nephew Doug\n",
    "Say you have 4 \"can't miss\" bets you want to make. You just got into betting on sports, so as a newbie you're trying to learn from experts by listening to gambling podcasts. These guys have been gambling for decades. Surely they must know what's up. Their wisdom will give you the edge for sure.\n",
    "\n",
    "You've listened to Nephew Doug's podcast, and wrote down his Locks of the Week. You're ready to enter them into your betting app, which has been hand-optimized to be as much of a dopamine and money sink as possible.\n",
    "\n",
    "Because you listen every week, you know Nephew Doug has been burdened by the Gods with the gift of prophecy. He's like a modern day Cassandra, only it's about how the Cowboys are always going to suck. \n",
    "\n",
    "Now, the Gods like a little competition. The Olympics were invented as a religious ceremony in their honor, after all. But they're not above making a call from on high to nudge the result a little bit. Zeus is definitely a Chiefs fan.\n",
    "\n",
    "So you believe ahead of time Nephew Doug's picks will win 60% of the time. Which way of betting these picks will bring you the most money in the long run?\n",
    "\n",
    "1) \"throw 'em all in a 4 team parlay\" like Doug and his buddy Jorts Guy do\n",
    "2) randomly choose 3 of Nephew Doug's picks and bet them individually. Don't do anything with the 4th one."
   ]
  },
  {
   "cell_type": "markdown",
   "metadata": {},
   "source": [
    "Maybe option 2 seems insane to you. But let's game it out. \n",
    "\n",
    "You listen to Nephew Doug, but I don't. My assumption would be this guy sucks at his picks and only wins 50% of the time, or close to it. Parlays at old school casinos pay at 10:1 and online sportsbooks pay 12.28:1. Let's see how that works out at 10:1 payout."
   ]
  },
  {
   "cell_type": "code",
   "execution_count": 9,
   "metadata": {},
   "outputs": [],
   "source": [
    "import numpy as np\n",
    "import matplotlib.pyplot as plt\n",
    "import pandas as pd\n",
    "import texttable\n",
    "import scipy"
   ]
  },
  {
   "cell_type": "code",
   "execution_count": 44,
   "metadata": {},
   "outputs": [
    {
     "name": "stdout",
     "output_type": "stream",
     "text": [
      "parlay: -3,040,300.00, straight: -455,309.09, ratio: 0.14975794852732033\n"
     ]
    },
    {
     "data": {
      "text/plain": [
       "6.6774418976337016"
      ]
     },
     "execution_count": 44,
     "metadata": {},
     "output_type": "execute_result"
    }
   ],
   "source": [
    "## In both cases, we will risk $100\n",
    "## so the payout on each individual bet is $25.\n",
    "\n",
    "rng = np.random.default_rng(2718)\n",
    "np.random.seed(2718)\n",
    "\n",
    "def do_some_bets(skill = .5, payout=1000, vig=1.1, throw_one_out=False, random_fourth_bet=False):\n",
    "    BETS  = 100000\n",
    "\n",
    "    straight_profit_loss = 0\n",
    "    parlay_profit_loss = 0\n",
    "\n",
    "    for b in range(BETS):\n",
    "        bet1 = rng.random() < skill\n",
    "        bet2 = rng.random() < skill\n",
    "        bet3 = rng.random() < skill\n",
    "        bet4 = rng.random() < skill\n",
    "\n",
    "        if bet1 and bet2 and bet3 and bet4:\n",
    "            parlay_profit_loss = parlay_profit_loss + payout\n",
    "        else:\n",
    "            parlay_profit_loss = parlay_profit_loss - 100\n",
    "\n",
    "        for bet in [bet1, bet2, bet3]:\n",
    "            if bet:\n",
    "                straight_profit_loss = straight_profit_loss + (25 / vig)\n",
    "            else:\n",
    "                straight_profit_loss = straight_profit_loss - 25\n",
    "\n",
    "        if not random_fourth_bet:\n",
    "            if throw_one_out:\n",
    "                pass\n",
    "            else:\n",
    "                if bet4:\n",
    "                    straight_profit_loss = straight_profit_loss + (25/vig)\n",
    "                else:\n",
    "                    straight_profit_loss = straight_profit_loss - 25\n",
    "        else:\n",
    "            # what if the 4th bet is taken by flipping a coin?\n",
    "            alt_bet4 = rng.random() < .5\n",
    "            if alt_bet4:\n",
    "                straight_profit_loss = straight_profit_loss + (25/vig)\n",
    "            else:\n",
    "                straight_profit_loss = straight_profit_loss - 25\n",
    "\n",
    "    ratio = straight_profit_loss/parlay_profit_loss\n",
    "    print(f\"parlay: {parlay_profit_loss:,.2f}, straight: {straight_profit_loss:,.2f}, ratio: {ratio}\")\n",
    "    return ratio\n",
    "\n",
    "result = do_some_bets(skill=.5)\n",
    "1/result"
   ]
  },
  {
   "cell_type": "markdown",
   "metadata": {},
   "source": [
    "At 50% win rate, if you take enough of these four team parlays, you're going to lose around 1.5x more taking the parlay than taking the individual bets. Which is what you'd expect given the payout is 10:1 instead of a fair $1/(2*2*2*2) = 1/16 = 15:1$.\n",
    "\n",
    "What if Nephew Doug truly has been partially blessed by the Gods, and can beat the lines 60% of the time? Now you're turning a profit either way, but maybe parlays offer a better return if he's that skilled? "
   ]
  },
  {
   "cell_type": "code",
   "execution_count": 45,
   "metadata": {},
   "outputs": [
    {
     "name": "stdout",
     "output_type": "stream",
     "text": [
      "parlay: 4,217,500.00, straight: 1,439,797.73, ratio: 0.34138653877338365\n"
     ]
    }
   ],
   "source": [
    "ratio = do_some_bets(skill=.6)"
   ]
  },
  {
   "cell_type": "markdown",
   "metadata": {},
   "source": [
    "Nope, if Nephew Doug is ridiculously good at betting, you'd make around 1.5x profit taking the individual bets rather than doing the 4 team parlay. \n",
    "\n",
    "What if you only take 3 individual bets and don't bet the fourth one, as I proposed? At 60% win rate, this is irrational. You're throwing away profit in the long run, betraying Nephew Doug, and probably angering the gods with your hubris.\n",
    "\n",
    "Maybe the parlay would make more money in that case?"
   ]
  },
  {
   "cell_type": "code",
   "execution_count": 48,
   "metadata": {},
   "outputs": [
    {
     "name": "stdout",
     "output_type": "stream",
     "text": [
      "parlay: -1,267,100.00, straight: 104,863.64, ratio: -0.08275876912940254\n"
     ]
    }
   ],
   "source": [
    "ratio = do_some_bets(skill=.53, throw_one_out=True)"
   ]
  },
  {
   "cell_type": "markdown",
   "metadata": {},
   "source": [
    "No! You would still make 10% or so more by taking the individual bets and throwing out one.\n",
    "\n",
    "There is a win rate where parlays would make more money than the straight bets. If you win 100% of the time, the parlay is definitely a better deal, right? 10x profits taking the parlay versus 4x taking the original bets. \n",
    "\n",
    "It's somewhere between 60 and 100%. It's not hard to calculate, but 60% is already much higher than anybody can reasonably achieve betting on sports, a thing played, officiated, and coached by humans (unreliable, to put it mildly) in the future (also notoriously unreliable). \n",
    "\n",
    "The best handicappers who sell their picks are only winning around 55% of the time, as I will show later on. If you have to do better at something than people who do it for a living just to break even, that's not a great plan.\n",
    "\n",
    "OK, one final parlay with Nephew Doug. Instead of taking the fourth bet, or throwing it out, we choose the 4th one by flipping a coin. This 4th bet has a negative expected value so maybe finally the parlay (using all four good picks) will win?"
   ]
  },
  {
   "cell_type": "code",
   "execution_count": 36,
   "metadata": {},
   "outputs": [
    {
     "name": "stdout",
     "output_type": "stream",
     "text": [
      "parlay: 4,249,400.00, straight: 1,084,817.50, ratio: 0.25528721701887325\n"
     ]
    }
   ],
   "source": [
    "ratio = do_some_bets(skill=.6, random_fourth_bet=True)"
   ]
  },
  {
   "cell_type": "markdown",
   "metadata": {},
   "source": [
    "Nope, the parlay still loses.\n",
    "\n",
    "What if Doug is not actually blessed by the gods, but is savvy and knows a lot about sports? 54.7% is a reasonable win rate. A gambler could make money at that level, which is better than 97% of gamblers do."
   ]
  },
  {
   "cell_type": "code",
   "execution_count": 53,
   "metadata": {},
   "outputs": [
    {
     "name": "stdout",
     "output_type": "stream",
     "text": [
      "parlay: -221,000.00, straight: 331,234.09, ratio: -1.4987967914453506\n"
     ]
    }
   ],
   "source": [
    "ratio = do_some_bets(skill=.547, throw_one_out=True)"
   ]
  },
  {
   "cell_type": "markdown",
   "metadata": {},
   "source": [
    "The parlays lose money. The straight bets make 1.5 Million dollars, *even in this idiotic scenario where we throw one bet in four out*.\n",
    "\n",
    "It should be obvious that throwing out the 4th pick will also lose less money if Nephew Doug is no better than a coin flip. If a bet has negative expected value, it's always better for you not to take it. You should really throw out all four picks in that case. Take a zero team parlay. Go get yourself a nice bagel instead of turning your account balance into one. My lox of the week are way better than Doug's.\n",
    "\n",
    "### Online Parlays\n",
    "\n",
    "![parlay calculator from draftkings](img/parlay.png)\n",
    "\n",
    "FIXME: everything below this point is totally wrong.\n",
    "\n",
    "\n",
    "Online parlays have a higher payout, so they're less obviously bad. But they're still a worse deal in the range of success that I think a good sports bettor should expect. And they only look OK when compared to \"full juice\" bets.\n",
    "\n",
    "At 54.7% win rate, they're basically equal."
   ]
  },
  {
   "cell_type": "code",
   "execution_count": 52,
   "metadata": {},
   "outputs": [
    {
     "name": "stdout",
     "output_type": "stream",
     "text": [
      "parlay: -374,920.82, straight: -72,440.91, ratio: 0.19321655460699425\n"
     ]
    }
   ],
   "source": [
    "ONLINE_PAYOUT = 1228.33\n",
    "ratio = do_some_bets(skill=.52, payout=ONLINE_PAYOUT)"
   ]
  },
  {
   "cell_type": "markdown",
   "metadata": {},
   "source": [
    "While \"classic\" parlays have a break even point of 54.9%, online parlays have the same break-even point as the straight bets - 52.4%."
   ]
  },
  {
   "cell_type": "code",
   "execution_count": 40,
   "metadata": {},
   "outputs": [
    {
     "name": "stdout",
     "output_type": "stream",
     "text": [
      "classic parlay: 0.5491004867761125\n",
      "online parlay:  0.5238421994973542\n"
     ]
    }
   ],
   "source": [
    "\n",
    "print(\"classic parlay:\", np.exp(np.log(1/11)/4))\n",
    "print(\"online parlay: \", np.exp(np.log(1/13.28)/4))"
   ]
  },
  {
   "cell_type": "markdown",
   "metadata": {},
   "source": [
    "At a 60% win rate, the parlays are about 12% more profitable than straight bets."
   ]
  },
  {
   "cell_type": "code",
   "execution_count": 43,
   "metadata": {},
   "outputs": [
    {
     "name": "stdout",
     "output_type": "stream",
     "text": [
      "parlay: 7,203,201.83, straight: 1,598,845.00, ratio: 0.22196309887374427\n"
     ]
    },
    {
     "data": {
      "text/plain": [
       "0.22196309887374427"
      ]
     },
     "execution_count": 43,
     "metadata": {},
     "output_type": "execute_result"
    }
   ],
   "source": [
    "do_some_bets(skill=.6, payout=ONLINE_PAYOUT)"
   ]
  },
  {
   "cell_type": "markdown",
   "metadata": {},
   "source": [
    "Does that mean that parlays are actually a better deal for a reasonably skilled bettor (53-56% win rate)?"
   ]
  },
  {
   "cell_type": "markdown",
   "metadata": {},
   "source": [
    "### The actual math\n",
    "The probability of all 4 bets winning is $p^{4}$ and you earn 12.28. The house wins the rest of the time, and you lose -1.\n",
    "\n",
    "EV[parlay]  = $(12.28 * p^{4}) - (1-p^{4})$\n",
    "\n",
    "For the 4 straight bets, we can take the profit/loss of one bet and multiply by 4.\n",
    "\n",
    "EV[4 bets] = $4 * (p - (1.1 * (1-p)))$\n",
    "\n",
    "Let's plot both of those functions for a range of win rates (p). The red line is the parlay, the blue line is the 4 regular bets."
   ]
  },
  {
   "cell_type": "code",
   "execution_count": 31,
   "metadata": {},
   "outputs": [
    {
     "data": {
      "text/plain": [
       "[<matplotlib.lines.Line2D at 0x1e5b2ed7b10>]"
      ]
     },
     "execution_count": 31,
     "metadata": {},
     "output_type": "execute_result"
    },
    {
     "data": {
      "image/png": "[encoded data removed]",
      "text/plain": [
       "<Figure size 640x480 with 1 Axes>"
      ]
     },
     "metadata": {},
     "output_type": "display_data"
    }
   ],
   "source": [
    "def straight_ev(p):\n",
    "    return (p - (1.1 * (1-p)))\n",
    "\n",
    "def parlay_ev(p):\n",
    "    #\n",
    "    ## FIXME: testing 2 team parlays\n",
    "    #return (2.6 * (p**2)) - (1-p**2)\n",
    "    return (12.28 * (p**4)) - (1-p**4)\n",
    "\n",
    "x = np.linspace(.5, .6, num=100)\n",
    "straight = straight_ev(x)\n",
    "parlay = parlay_ev(x)\n",
    "\n",
    "plt.plot(x,straight)\n",
    "plt.plot(x,parlay, color=\"r\")"
   ]
  },
  {
   "cell_type": "markdown",
   "metadata": {},
   "source": [
    "here's the difference of the two."
   ]
  },
  {
   "cell_type": "code",
   "execution_count": 32,
   "metadata": {},
   "outputs": [
    {
     "data": {
      "text/plain": [
       "<matplotlib.lines.Line2D at 0x1e5b2eb5050>"
      ]
     },
     "execution_count": 32,
     "metadata": {},
     "output_type": "execute_result"
    },
    {
     "data": {
      "image/png": "[encoded data removed]",
      "text/plain": [
       "<Figure size 640x480 with 1 Axes>"
      ]
     },
     "metadata": {},
     "output_type": "display_data"
    }
   ],
   "source": [
    "plt.plot(x, parlay-straight)\n",
    "plt.xlabel(\"probability of winning\")\n",
    "plt.ylabel(\"change in profitability\")\n",
    "# TODO: label axes\n",
    "plt.axhline(0)"
   ]
  },
  {
   "cell_type": "markdown",
   "metadata": {},
   "source": [
    "Below the horizontal line is where the parlay does worse.\n",
    "\n",
    "So, compared to 4 bets at full vig, an online parlay will:\n",
    "1) lose less money in the range where both bets lose money (p=.5 to .524)\n",
    "2) make less money in the range of p=.524 to p=.56\n",
    "3) make more money when p>.56\n",
    "\n",
    "So even though they're not as bad as the classic parlay, they're still a bit worse in the region that a gambler should care about. Even at 60% win rate, they're not that much more profitable than the straight bets."
   ]
  },
  {
   "cell_type": "markdown",
   "metadata": {},
   "source": [
    "### Reduced Juice vs. Parlays\n",
    "\n",
    "Some online sportsbooks offer the ability to bet \"reduced juice\", which means risking <span class=\"tex2jax_ignore\">$105 (or $106, depending on the sportsbook) to make $100. That's -106 in American terms.</span> \n",
    "\n",
    "There are also betting exchanges, which I may go into later. A betting exchange (like matchbook.com) is just arranging bets between peers, so they don't take on any financial liability. They are sort of like eBay or Mastercard -- they don't sell products, they just help buyers and sellers complete their transaction, and collect 3% for the trouble. However, the person offering (\"laying\") the bet usually charges a little juice as well. So placing a bet on an exchange works out to around a -105 or -106 vig in total.\n",
    "\n",
    "Online parlays aren't bad compared to \"full juice\" (risk 110 to win 100), they do terribly against reduced juice."
   ]
  },
  {
   "cell_type": "code",
   "execution_count": 54,
   "metadata": {},
   "outputs": [
    {
     "data": {
      "text/plain": [
       "Text(0.5, 0, 'probability of winning')"
      ]
     },
     "execution_count": 54,
     "metadata": {},
     "output_type": "execute_result"
    },
    {
     "data": {
      "image/png": "[encoded data removed]",
      "text/plain": [
       "<Figure size 640x480 with 1 Axes>"
      ]
     },
     "metadata": {},
     "output_type": "display_data"
    }
   ],
   "source": [
    "def straight_ev_rj(p, juice=1.05):\n",
    "    return (p - (juice * (1-p))) / juice\n",
    "\n",
    "x = np.linspace(.5, .6, num=100)\n",
    "\n",
    "reduced_juice = straight_ev_rj(x)\n",
    "\n",
    "plt.plot(x, parlay_ev(x), color=\"r\")\n",
    "plt.plot(x, reduced_juice, color=\"b\")\n",
    "\n",
    "plt.xlabel(\"probability of winning\")"
   ]
  },
  {
   "cell_type": "markdown",
   "metadata": {},
   "source": [
    "Bets at reduced vig have a much lower break-even point, at 51.2% versus 52.4% for the online parlay and \"full juice\" bets. You need to be less than half as good to make money."
   ]
  },
  {
   "cell_type": "code",
   "execution_count": 22,
   "metadata": {},
   "outputs": [
    {
     "data": {
      "text/plain": [
       "51.21951219512195"
      ]
     },
     "execution_count": 22,
     "metadata": {},
     "output_type": "execute_result"
    }
   ],
   "source": [
    "vig = 1.05\n",
    "100 - (100/(1+vig))"
   ]
  },
  {
   "cell_type": "markdown",
   "metadata": {},
   "source": [
    "Here's the difference between the two. They're a significantly worse value everywhere. Almost 10% lower profits in the range of p=.53 to .56."
   ]
  },
  {
   "cell_type": "code",
   "execution_count": 23,
   "metadata": {},
   "outputs": [
    {
     "data": {
      "text/plain": [
       "Text(0.5, 0, 'probability of winning')"
      ]
     },
     "execution_count": 23,
     "metadata": {},
     "output_type": "execute_result"
    },
    {
     "data": {
      "image/png": "[encoded data removed]",
      "text/plain": [
       "<Figure size 640x480 with 1 Axes>"
      ]
     },
     "metadata": {},
     "output_type": "display_data"
    }
   ],
   "source": [
    "plt.plot(x, parlay - reduced_juice)\n",
    "plt.axhline(0)\n",
    "plt.xlabel(\"probability of winning\")\n"
   ]
  },
  {
   "cell_type": "markdown",
   "metadata": {},
   "source": [
    "The Nephew Doug situation applies here. Throwing out one of the four reduced juice bets is more profitable than taking the online parlay if the gambler has a 54.7% win rate."
   ]
  },
  {
   "cell_type": "code",
   "execution_count": 24,
   "metadata": {},
   "outputs": [
    {
     "name": "stdout",
     "output_type": "stream",
     "text": [
      "parlay: 1,790,257.08, straight: 2,150,955.00, ratio: 1.2014782815436722\n"
     ]
    }
   ],
   "source": [
    "ratio = do_some_bets(skill=.547, payout=ONLINE_PAYOUT, vig=1.05, throw_one_out=True)"
   ]
  },
  {
   "cell_type": "markdown",
   "metadata": {},
   "source": [
    "Flipping the coin for the fourth bet is likewise a slightly better option."
   ]
  },
  {
   "cell_type": "code",
   "execution_count": 25,
   "metadata": {},
   "outputs": [
    {
     "name": "stdout",
     "output_type": "stream",
     "text": [
      "parlay: 2,000,133.22, straight: 1,848,065.00, ratio: 0.9239709542946275\n"
     ]
    }
   ],
   "source": [
    "ratio = do_some_bets(skill=.547, payout=ONLINE_PAYOUT, vig=1.05, random_fourth_bet=True)"
   ]
  },
  {
   "cell_type": "markdown",
   "metadata": {},
   "source": [
    "At reduced juice, the gambler would have to achieve a win rate over 60% for the online parlays to make more money."
   ]
  },
  {
   "cell_type": "code",
   "execution_count": 26,
   "metadata": {},
   "outputs": [
    {
     "name": "stdout",
     "output_type": "stream",
     "text": [
      "parlay: 7,159,366.94, straight: 7,175,400.00, ratio: 1.002239452193689\n"
     ]
    }
   ],
   "source": [
    "ratio = do_some_bets(skill=.60, payout=ONLINE_PAYOUT, vig=1.05)"
   ]
  },
  {
   "cell_type": "markdown",
   "metadata": {},
   "source": [
    "### parlay vous\n",
    "\"But the guy on the podcast I listen to has been \"killing it\" on parlays this year\", I can hear you saying. I'm sure they've won a few, if they've taken enough of them. As we saw, if they're really making money overall on parlays, they'd be making more profits taking the individual bets, so they're not that smart. And I'd love to see their betting records. All of them, not just the ones they brag about after they win. I doubt any of these guys are making money over long stretches of time off of gambling.\n",
    "\n",
    "Gambling ads, sure. Everybody's taking gambling money right now, regardless of how it will hurt their brand, their audience, and the sport long term. Clearly there's a lot of money in talking about it. \n",
    "\n",
    "Where's all that ad money coming from? Isn't it obvious why they're pushing teasers and parlays and \"profit boosters\"? I love that last one. It's like saying Idi Amin served mankind.\n",
    "\n",
    "Why would they care about boosting YOUR profits? Unlike gamblers, they don't make negative expected value plays due to emotions or lack of information. Your irrationality is their business.\n",
    "\n",
    "### 20 years experience being wrong\n",
    "Although parlays are portrayed as a cool, advanced betting strategy for savvy players, they aren't. Any self-styled gambling expert who is taking them or recommending parlays should be ignored. Likewise, ignore any expert that doesn't bet reduced juice, unless they have some other angle -- that they can prove with math -- to justify paying more.\n",
    "\n",
    "If you were at a footrace and one of the competitors was running in giant clown shoes, you would assume that person wasn't really concerned with winning the race. They've willingly put themselves at a disadvantage, for some reason. Imagine if they told you they were going to teach you what they've learned about running. Would you still take their advice? If they haven't figured out it's easier to run in normal shoes, their years of experience are a mark against them.\n"
   ]
  },
  {
   "cell_type": "markdown",
   "metadata": {},
   "source": [
    "### Newbie Mistakes\n",
    "I've been interested in a lot of hobbies over the years. It seems like every time I take up a new hobby, I end up spending a lot of money on stupid stuff at the beginning. Then I get into it more, and realize what matters. For example, if you're getting into photography, you'll probably learn more from a $100 heavily used camera than a $1000 new one.  And if you end up not liking it, you've spent a lot less.\n",
    "\n",
    "There is an adverse selection process, where people who are new to a hobby have no idea what's actually good, or what things should actually cost, so they end up overpaying for inferior goods. Same thing for travelling in a new country. The guys at the train station trying to hustle you into a taxi are probably not hooking you up with the cheapest way to get around.\n",
    "\n",
    "Betting experts, the kind who have podcasts and big followings on social media, are supposed to know more about this stuff than the average person. They're supposed to be like the guidebooks telling you to walk 2 blocks and take the metro for $2 instead of paying $100 for a taxi. Yet they're pushing parlays and other sucker bets and sportsbooks that charge full vig. The \"experts\" are pushing beginners into bets that it's impossible to reasonably make money on long term."
   ]
  },
  {
   "cell_type": "markdown",
   "metadata": {},
   "source": [
    "\n",
    "### Same game parlays\n",
    "Same game parlays (SGPs) are a new type of bet where a person can combine a bunch of bets on the same game. For instance Team X wins AND Player Y on team X scores over 30 points AND the point total is over 230 in the same game.\n",
    "\n",
    "Normal parlays are supposed to be on uncorrelated events. They shouldn't allow you to take parlays where one leg winning increases the likelihood of another leg winning. For example, betting the under point total for the 1st half parlayed with the under for the whole game. If the 1st half goes under, it's a lot more likely that the whole game goes under.\n",
    "\n",
    "With SGPs, the events are necessarily going to be correlated with each other. These correlations are going to alter the fair payout of the bet. For instance team X might win more often when Player Y scores over 30 points. So the payout on an SGP is lower than the parlays we've looked at so far.\n",
    "\n",
    "Theoretically, there could be value on SGPs. If they price a parlay at +1200 but it wins 10% of the time, that's a nice return. But the payout for every single one is a huge math calculation that the sportsbook does for the bettor. The player would need to do those same calculations to know whether they're getting a fair price (positive expected value on the bet). But why would a sportsbook give the player a fair price? \n",
    "\n",
    "Maybe there's some way to break the SGP calculator, or find correlations it doesn't know how to factor it, but that feels more like hacking than knowing stuff about sports.\n",
    "\n",
    "On the point spreads, bettors can take either side of the line. So the action of the free market helps to set the price. If a line is too high, a bettor can take the underdog and make a bet with positive expected value. Likewise if it is too low, they can take the favorite. The sportsbook's easiest way of making money is to attract an equal amount of bets on both sides, so they make money no matter who wins. You're not betting against them, they're just facilitating the bet. If the spreads are way off, people can exploit that.\n",
    "\n",
    "SGPs are a \"take it or leave it\" scenario. There is no way for the market to correct or punish bad prices, so there's no reason to believe they are ever fair, except by mistake. And why wouldn't they limit any bettor taking advantage of those mistakes? They could just track how often players are using the SGP pricing tool and limit or block anyone who is using it too much, or simply winning too much on them.\n",
    "\n",
    "Multiple sportsbooks offer SGPs, so there may be some competition on price, but there's no incentive to make the price fair. If FanKings is offering the SGP at +600 and DraftDuel is offering it at +550, a naive bettor might take the +600 and think they're smart for bargain hunting. But if the SGP will only win 5% of the time, they're both horrible choices.\n",
    "\n",
    "I'll talk SGPs as a phenomenon later on. They're clearly a sucker bet, really no different than buying a lotto ticket. They're not beatable by skill -- if they were, they wouldn't let you take them -- so doing the math isn't that exciting. But for now just think of them as the vape pens of betting. They're obviously super addictive, extremely popular with younger people, and you can't really know what's in them, but it's probably bad.\n",
    "\n",
    "Next up: I just assumed that the free market can correct pricing mistakes on point spreads. Is that really true, though? How fair are the lines? What would a fair line even look like?"
   ]
  }
 ],
 "metadata": {
  "kernelspec": {
   "display_name": "Python 3",
   "language": "python",
   "name": "python3"
  },
  "language_info": {
   "codemirror_mode": {
    "name": "ipython",
    "version": 3
   },
   "file_extension": ".py",
   "mimetype": "text/x-python",
   "name": "python",
   "nbconvert_exporter": "python",
   "pygments_lexer": "ipython3",
   "version": "3.11.9"
  }
 },
 "nbformat": 4,
 "nbformat_minor": 2
}
