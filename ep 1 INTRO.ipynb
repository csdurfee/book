{
 "cells": [
  {
   "cell_type": "code",
   "execution_count": 2,
   "metadata": {},
   "outputs": [],
   "source": [
    "import intro\n",
    "import numpy as np\n",
    "import pandas as pd"
   ]
  },
  {
   "cell_type": "markdown",
   "metadata": {},
   "source": [
    "# Don't Be a Sucker\n",
    "by Casey Durfee <csdurfee@gmail.com>\n",
    "\n",
    "Copyright 2025.\n",
    "\n",
    "## Intro\n",
    "This started because I got tired of people talking about their gambling losses online. Why talk about how you lost money doing something that you should have known would lose you money? Every season there are more ads and more talk about gambling, and it's definitely making sports worse. How does it work, and what do people get out of it?\n",
    "\n",
    "It contributes to this environment where the meta -- the stats, the highlights, the talking points -- are more important than the competition itself, and that's sad. Athletes shouldn't be treated like malfunctioning random number generators. If sports aren't interesting on their own, then why bother? Someone could take the jersey numbers of their favorite athletes and buy a lotto ticket with those numbers and it's almost the same thing.\n",
    "\n",
    "So I was curious about how it worked.  I'm trying to convey a little common sense and intuition about how this stuff actually works, as a math problem and a cultural phenomenon. There are a whole lot of thought experiments, dubious philosophical insights, and silly jokes.\n",
    "\n",
    "I've tried to avoid too much formal mathy stuff, instead running little simulations to illustrate ideas. I hope it's fairly approachable, but not too much. Gambling is all math after a couple of bets. So maybe I can help some people transfer their irrational math anxiety into rational betting anxiety. Math can be your pal. The casinos can't.\n",
    "\n",
    "There are a lot of books about gambling on sports. A few of them are even good! I will have a recommended reading list at the end. I'm mostly sticking to topics that haven't been talked about, or have been explained poorly, in other books. Plus jokes! \n",
    "\n",
    "There's a timeless quality to books that teach you how to think better, versus perform specific tasks. The betting landscape may change dramatically, but there will alays be suckers and sucker bets.\n",
    "\n",
    "## The Disclaimer\n",
    "Gambling can be addictive. Anyone can become an addict. Addiction is not a question of intelligence or virtue. \n",
    "\n",
    "Maybe you're saying, \"I don't know I'm going to lose\". True, but you're also not going to bet one time, especially if you win. Success is the worst teacher. What happens over the long term? Betting is about statistics, not feelings.\n",
    "\n",
    "Want to try betting without the losses? Just do it on paper. What's the downside? People play board games with fake money and trade stocks with fake money and still have fun (sometimes). A lot of family Monopoly games end in tears, but nobody's broke in real life at the end.\n",
    "\n",
    "As you'll see, the bets that sportsbooks push on naive gamblers are guaranteed losers in the long run, regardless of skill. Even if you know more about sports than the average bettor, you're still going to lose money taking them.\n",
    "\n",
    "Although I it is possible to make money on betting, maximizing profits requires knowing how much of an edge you have over the sportsbook and eliminating anything that cuts into that edge. \n",
    "\n",
    "Someone who wants to be successful needs to start on paper first. Someone who wants to lose money should buy as many copies of this book as possible, and not read any of them.\n",
    "\n",
    "I would guess maybe 1% of bettors make money long term. The estimate I see online is 3%, but that seems way too high, given the massive influx of new bettors and the rise of crappier types of bets.\n",
    "\n",
    "It's definitely not a 50/50 split between winners and losers. I think that naive assumption drives some people to bet. For a lot of things in life, being slightly above average is good enough. This isn't one of those things."
   ]
  },
  {
   "cell_type": "markdown",
   "metadata": {},
   "source": [
    "### Free Life Advice\n",
    "*Definition of Insanity (Casey's Version)*:\n",
    "\n",
    "> If you do what everybody else does, you should expect to get the results everybody else does. \n",
    "\n",
    "Do with that what you will. Maybe get that as a back tattoo. Everybody else isn't doing that!\n",
    "\n",
    "If 97% of sports bettors are losing money on it, going with the conventional wisdom will definitely lead to failure. Is that fun? Wouldn't winning be more fun? Why play a game that will just make you feel bad?\n",
    "\n",
    "### Games of skill and chance\n",
    "Sports gambling was legalized on the premise that it's a game of skill. People were told it's not like \"real gambling\" where the winner is randomly decided. Of course, the lottery isn't a game of skill and that's legal almost everywhere, but that's not run for-profit.\n",
    "\n",
    "It's supposedly about who knows more about sports. And that's plausible. Sports-knowing is a sort of skill. Making predictions about the future that are better than random is a skill, too. Maybe there's some sort of American civic virtue in the combination of the two.\n",
    "\n",
    "Of course, \"Grifting the Rubes\" is also an American civic virtue, in some circles.\n",
    "\n",
    "![never give a sucker an even break movie poster, from wikipedia](img/sucker.jpg)\n",
    "\n",
    "\"You wanna bet on it\" is a primal reaction to somebody saying something you think is wrong about sports. I get it. \n",
    "\n",
    "I remember back in early 2017, getting in a disagreement with somebody online over whether Andre Drummond or Nikola Jokic would be the better NBA player in the long run. He didn't want to make a bet on it, unfortunately. I think Drummond was an All-Star that year and Jokic was still a nobody. He would often get winded after about 5 minutes and commit a silly foul so he could get subbed out. I should've gotten pretty good odds on it.\n",
    "\n",
    "The distinction between games of skill and games of chance is significant to me. Many things have an element of chance to them. Certainly sports. Despite the randomness, most of the time, the team that plays better wins the game. It's possible to win the game through merit. \n",
    "\n",
    "That's not true of some types of sports bets. Skilled bettors will lose less often, but they will still lose over the long run."
   ]
  },
  {
   "cell_type": "markdown",
   "metadata": {},
   "source": [
    "### Dutch Books\n",
    "\"You wanna bet on it\" is also the key to an idea in the area where philosophy and economics meet called [Decision Theory](https://en.wikipedia.org/wiki/Decision_theory).  Both economists and philosophers have a keen professional interest in what is or isn't rational behavior. It makes things way messier if you have to account for people who behave in ways that don't follow logical patterns. Economists need perfectly rational human beings even more than they need [spherical cows](https://en.wikipedia.org/wiki/Spherical_cow). I've seen some awfully fat cows, but I've never seen a perfectly logical human.\n",
    "\n",
    "How do you determine whether an individual made the right choice for themselves? Sometimes, it's a subjective judgement based on what the individual values. But, the theory goes, if betting according to a person's stated beliefs would be guaranteed to lose them money, their beliefs are irrational. Not because you or I think they're irrational, but because they violate the rules of probability theory and logic, and lead to these guaranteed losing bets. Look, I'm not saying you're crazy, [Abraham De Moivre](https://en.wikipedia.org/wiki/Abraham_de_Moivre) is!\n",
    "\n",
    "This is called the Dutch Book Theorem. \"Making a book\" means a situation where a bookmaker is guaranteed to win money no matter the outcome, and a Dutch Book is specifically when they'll make the exact same amount either way. They're getting paid the same amount regardless of who wins.\n",
    "\n",
    "It's basically a rigorous, formal definition of a *sucker*: someone who is guaranteed to lose money because of their garbage beliefs.\n",
    "\n",
    "I have feelings about the morality of betting, but for the most part they're not really relevant to how the math works."
   ]
  },
  {
   "cell_type": "markdown",
   "metadata": {},
   "source": [
    "### Game Recognize Game Theory\n",
    "The Dutch Book Theorem was created by a guy named [Frank P. Ramsey](https://en.wikipedia.org/wiki/Frank_Ramsey_(mathematician)). He made major contributions to philosophy, economics, and math by the age of 26. He died in 1930 after swimming in a polluted river. \n",
    "\n",
    "He's basically the Len Bias of math. It hurts to just imagine if he had lived another 10 years and got to play in the Computer Science era. Can you imagine him and Turing on the floor together? With [Russell](https://en.wikipedia.org/wiki/Bertrand_Russell) playing Center?  Good luck [halting](https://en.wikipedia.org/wiki/Halting_problem) that. Dude would have gotten 40 a night. \n",
    "\n",
    "No way [Nash](https://en.wikipedia.org/wiki/John_Forbes_Nash_Jr.) is  [winning](https://en.wikipedia.org/wiki/Abel_Prize) two [MVP's](https://en.wikipedia.org/wiki/Nobel_Memorial_Prize_in_Economic_Sciences) if Ramsey didn't die so young.\n",
    "\n",
    "![the homie, fp ramsey](img/homie.jpg)\n",
    "\n",
    "This probably won't be his only appearance."
   ]
  },
  {
   "cell_type": "markdown",
   "metadata": {},
   "source": [
    "\n",
    "### The pleasure is to play, makes no difference what you say\n",
    "Can you really do a Dutch Book argument against someone putting down a few bets for fun? Aren't they getting pleasure out of it, regardless of outcome? \n",
    "\n",
    "I accept you can't really say it has no value for the individual. If a gambler's goal is to lose money in an entertaining fashion rather than make money, then maybe they aren't irrational for betting the way every other loser does. \n",
    "\n",
    "But there's a dark side to this. People aren't going bankrupt chasing their losses or paying thousands of dollars to buy picks because they want to lose money in a more fun way. They do it because they think it will make them money in the long run. \n",
    "\n",
    "Here's [a particularly egregious promise](https://experts.winnersandwhiners.com/cappers/37) from one tout (who charges $1200 a year for his picks):\n",
    "\n",
    "> \" If you follow ______'s advice by playing his selections you are going to find yourself making a decent second income from gambling. If you are working full-time, have a family, or have other interests, then you can't possibly put in the time required to win at sports-betting. Don't let this opportunity pass you by, hop on board with ___ and start cashing now!\"\n",
    "\n",
    "That's borderline criminal to me.\n",
    "\n",
    "I don't know that betting small amounts every once in a while is especially irrational. You can do that knowing you'll probably lose money, and it might bring some extra fun if it's a game you'd enjoy anyway. I only know that gamblers who bet regularly are supposedly doing it to make money. [TODO: improve this]\n",
    "\n",
    "If somebody's habitually taking sucker bets despite expecting they will make money, I think that's a clear Dutch Book situation. It also makes gambling a potentially more addictive habit than drugs. I don't think anyone starts using drugs because they think it will make them rich.\n",
    "\n",
    "Unfortunately, the entity making money betting against rationality isn't some starving philosophy grad student, it's DraftKings. By losing all the time, these habitual gamblers are funding the companies making sports crappier for the rest of us. \n",
    "\n",
    "### Guaranteed Losers\n",
    "\n",
    "Some types of bets will lose money over the long term, even for moderately skilled bettor. These are the ones that get pushed the hardest: parlays, prop bets, teasers, in-game betting.\n",
    "\n",
    "If nothing else, I hope you will understand why these types of bets are extra bad. Nobody rationally trying to make money would take them. They are games of chance, not games of skill, and have negative expected value, often worse than playing craps or baccarat in a casino. \n",
    "\n",
    "These bets may as well be rigged carnival games. If you take the wrong types of bets, your skill or knowledge doesn't matter. They are losers for everybody who can't see the future. I'm pretty sure that's everybody. \n",
    "\n",
    "If you really can see the future, and you're using those magical powers to figure out who's going to win a random Hornets-Pacers game, I don't know what to tell you."
   ]
  },
  {
   "cell_type": "markdown",
   "metadata": {},
   "source": [
    "\n",
    "### The spread and other gambling nonsense\n",
    "I will be discussing betting on point spreads on the NBA. The idea behind a point spread is that while both teams might not be equally likely to win the game, there's some difference in score, some handicap that could be given to the better team so that both outcomes are equally likely. \n",
    "\n",
    "If you're playing \"HORSE\" against a child, you might offer to start at \"HOR\" to make the contest more interesting. I mean, you're still hustling the kid, because little Billy has no way of knowing your jumper's [wet](https://www.espn.com/espnw/news/story/_/id/6608288/nba-playoffs-finals-word-nba-slang), but at least it's a contest on paper.\n",
    "\n",
    "Say a really good NBA team is playing a really bad one. The really good team might win 90% of the time, which isn't interesting to bet for most people. But they might beat the other team by over 10 points 50% of the time, though. So a fair point handicap, or *spread*, for that game would be -10. If the favorites win by more than 10, the favorite wins. if they win by less than 10 or lose outright, the underdog side wins. \n",
    "\n",
    "Both sides of the bet are more interesting if it's a 50/50 thing. The math is nicer, too!\n",
    "\n",
    "\"Handicapping\" is estimating the point spread, and sports bettors are really betting on whether the handicapper's estimate of the final point differential is too high or too low, rather than betting for a specific team. \n",
    "\n",
    "There are many other ways of betting on sports besides the spread, but it's probably the least bad option, as we shall see, and the math is the simplest to understand, which means the bookie has less of an inherent edge.\n",
    "\n",
    "\"Units\" are a way to talk about gains and losses in a way that isn't tied to the amount of money you started out with or the bet size you take. A wise bettor will wager a constant percentage of their total bankroll on each bet. [TODO: do I need to expand this]\n",
    "\n",
    "I will try to avoid other gambling lingo, which isn't necessary and really only serves to make betting seem like a cool activity that you can get good at by learning a bunch of gambling lore. It's not. It's all bullshit, and probably makes you worse by reinforcing cognitive biases and losing behaviors. Not only worse at gambling, but at life. Like life, you can't control the outcomes, but you can try to maximize your success."
   ]
  },
  {
   "cell_type": "markdown",
   "metadata": {},
   "source": [
    "### Expected Value and other statistical sense\n",
    "\n",
    "I know math is kind of a bummer for a lot of people. But a lot of this is basic common sense.\n",
    "\n",
    "Say you have a chance to bet Jaylen Brunson over 45 points in tonight's game. What's a fair payout for that bet? Well, how often does Brunson have a burner of a game like that? He's done it once in 60 games this year, and did it twice last season. Twice a season is 1 per 41 games, let's say. So a fair payout would be 40 to 1, right? 40 times you lose, then one time you win 40x. Over the long run, you would break even.\n",
    "\n",
    "Does Brunson have an equal chance to go over 45 points in every game? Of course not. If other high scorers on the team are injured, that might increase his chances. If he is playing versus a good defensive team, that will decrease his chances. If the other team plays at a slow pace, his team will have fewer possessions, which will decrease his chances. Maybe he's getting better or worse due to age, conditioning, mental state, or whatever. Maybe the coach will tell him to pass the ball more, or less.\n",
    "\n",
    "Let's say we tweak the chances back and forth due to every factor we can think of and decide the true odds are 50:1. Could we make money betting this at a +4500 payout (risk 100 to win 4500)?\n",
    "\n",
    "No! This is an algebra problem you don't need to do algebra to solve. If you play 51 times, you expect it to win once, for +4500, and lose 50 times, for -5000. The amount to win would have to be at least +5000 to break even.\n",
    "\n",
    "The idea here is called Expected Value. Take every possible outcome, multiply the probability of the outcome times the size of the payout, then add those all together. If it's positive, you will make money over the long run. If it's negative, you will lose money.\n",
    "\n",
    "Simple, right?\n"
   ]
  },
  {
   "cell_type": "markdown",
   "metadata": {},
   "source": [
    "### The Vig\n",
    "For the type of bets I'm discussing here, you have to risk slightly more than you win. That difference is called the vig and is the way the sportsbook makes money. Sometimes it is called \"the juice\".\n",
    "\n",
    "That means you have to win more often than you lose in order to just break even: you gotta be right 11 times for every 10 times you are wrong. [Your Uncle Juice](https://www.youtube.com/watch?v=726Ujz_KOHE) is not, in fact, a good man. \n",
    "\n",
    "How much more often? Let's do the math. Let \"WP\" be winning percentage and \"LP\" be losing percentage. Those have to add up to 100. Let's find the break-even point where the winning percentage is high enough to cancel out the cost of the vig:\n",
    "\n",
    "$WP - (VIG * LP) > 0$\n",
    "\n",
    "We also know that\n",
    "\n",
    "$WP + LP = 100$\n",
    "\n",
    "so with a little algebra:\n",
    "\n",
    "$LP < 100/(1+VIG)$\n",
    "\n",
    "and\n",
    "\n",
    "$WP > 100 - (100/(1+VIG))$\n",
    "\n",
    "A standard bet on the spread has a vig of \"-110\" which means you have to risk 1.1x more than you win. If the \"-110\" looks funny to you, America uses different notation for betting than other countries. Luckily, the laws of probability are true everywhere, and my grandfathers didn't fight in WWII just for me to have to learn some other way of writing the odds.\n",
    "\n",
    "At -110, you have to win at least 52.4% of the time just to break even."
   ]
  },
  {
   "cell_type": "code",
   "execution_count": 3,
   "metadata": {},
   "outputs": [
    {
     "data": {
      "text/plain": [
       "52.38095238095238"
      ]
     },
     "execution_count": 3,
     "metadata": {},
     "output_type": "execute_result"
    }
   ],
   "source": [
    "vig = 1.1\n",
    "\n",
    "100 - (100/(1+vig))"
   ]
  },
  {
   "cell_type": "markdown",
   "metadata": {},
   "source": [
    "If there is the same amount of money on each side of the bet and the vig is -110, the sportsbook is going to get 5% of the total amount bet no matter who wins or loses. Pretty sweet business, right?"
   ]
  },
  {
   "cell_type": "markdown",
   "metadata": {},
   "source": [
    "## Stop Tipping Your Bookie\n",
    "\n",
    "Even though they already have a license to print money, sportsbooks continue to come up with ways to get people to pay more than the 5% per bet of a standard vig. If you had common sense, you'd assume that the types of bets most heavily promoted have the highest profit margins for the sportsbooks and are the worst for you. That's just capitalism, baby! But, if you had common sense, you probably wouldn't be betting in the first place. So here we are.\n",
    "\n",
    "The higher the vig, the harder it is to make money taking that type of bet. If you win 50% of the time, then your wins cancel out your losses. \n",
    "\n",
    "The vig is actually what makes people go broke. It sets the floor for how right you have to be in order to not go broke. Somebody could make money taking bets at low prices, and lose massively taking bets at standard sportsbook prices.\n",
    "\n",
    "There is always a heavy element of chance and unpredictability in sports. When two teams meet in a 7 game playoff series, even if one team is much better than the other, it's not uncommon for the worse team to win one or two games in convincing fashion. If you only watched one game, you might think the roles were reversed.\n",
    "\n",
    "An example would be [Game 4 of the 1996 NBA Finals](https://www.basketball-reference.com/boxscores/199606120SEA.html) between the Chicago Buls and the Seattle SuperSonics. Michael Jordan and Scottie Pippen went a combined 10-36 from the field. The game was basically over in the 2nd quarter.\n",
    "\n",
    "I watched it -- there are copies of the game up on YouTube. Jordan looks like maybe the 3rd or 4th best player in the game. Over the series, and the decade, Jordan was clearly the best player and the Bulls the best team. But anything can happen in one game.\n",
    "\n",
    "Imagine how Michael Jordan would've gotten killed online if sports betting were legal in the USA at the time. He would have blown so many parlays! And, the counter-narrative from Jordan fans: Larry Bird never had to carry a team the way Jordan did, which is why Jordan is the GOAT. When will the Bulls finally get Jordan the help he deserves?\n",
    "\n",
    "The question of what happens over the long run is far more important than one single outcome.\n",
    "\n",
    "All sports games, and sports bets are like flipping a coin, or rolling dice. If the gambler or team is skilled, they're flipping a weighted coin that comes up heads more often than tails, but there is an element of randomness no matter what. There is a fundamental unknowability about the future of the world. \n",
    "\n",
    "This random aspect makes every game a little disconnected from history, living in its own stateless world.\n",
    "\n",
    "The more skill the gambler has, the more often they will win. But losing is always very likely, no matter what. The margins are very small, so tiny differences in the vig matter, and if it's high enough, it can make people with actual skill into losers over the long run.\n",
    "\n",
    "Here's a plot of break-even winning percentage versus the vig."
   ]
  },
  {
   "cell_type": "code",
   "execution_count": 4,
   "metadata": {},
   "outputs": [
    {
     "data": {
      "image/png": "[encoded data removed]",
      "text/plain": [
       "<Figure size 640x480 with 1 Axes>"
      ]
     },
     "metadata": {},
     "output_type": "display_data"
    }
   ],
   "source": [
    "intro.vig_vs_win_pct()"
   ]
  },
  {
   "cell_type": "markdown",
   "metadata": {},
   "source": [
    "Notice that the graph is curved, not straight. Going from -100 to -200 changes the break-even percentage much more than going from -600 to -700. This is a huge disadvantage of the American way of writing bets. \"100 points\" on the spread means totally different things at different places on the graph.\n",
    "\n",
    "This makes it hard to eyeball the vig and see if it's fair. A straight bet is usually -110 vig on both sides of the bet (risk 110 to win 100), written as -110/-110. The sportsbook makes about 5% on this bet, assuming equal money on both sides. \n",
    "\n",
    "+155/-190 might seem unfair, like the sportsbook is really soaking the bettor somehow. The two sides are 35 \"things\" apart instead of 20 \"things\" apart for the -110/-110 bet. \n",
    "\n",
    "A line like +360/-490 might seem even worse. But those bets are no more profitable for the sportsbook than -110/-110. It's just the silly American way of doing things, and how the graph curves.\n",
    "\n",
    "Here's the interesting part of the graph for the bets I'll be talking about:"
   ]
  },
  {
   "cell_type": "code",
   "execution_count": 5,
   "metadata": {},
   "outputs": [
    {
     "data": {
      "image/png": "[encoded data removed]",
      "text/plain": [
       "<Figure size 640x480 with 1 Axes>"
      ]
     },
     "metadata": {},
     "output_type": "display_data"
    }
   ],
   "source": [
    "intro.vig_vs_win_pct(max=1.3, step=0.01)"
   ]
  },
  {
   "cell_type": "markdown",
   "metadata": {},
   "source": [
    "Think about the vig a minute. Make sure these things are clear in your mind.\n",
    "\n",
    "1) The size of the vig will affect how much advantage or disadvantage the player has versus the house. It can turn a winner into a loser.\n",
    "2) If there's any vig at all, you have to win more than 50% of the time to not go broke in the long run. \n",
    "3) At 50% win rate, even the smallest vig will eat your bankroll up over enough bets.\n",
    "4) If a vig is high enough, there's no possible way to make money on betting in the long run, no matter how good you are. \n",
    "5) If you don't know the vig, you can't say you took the bet with a rational expectation of winning money. You can't know whether making money is even possible."
   ]
  },
  {
   "cell_type": "markdown",
   "metadata": {},
   "source": [
    "### Parlays\n",
    "\n",
    "The most popular way that sportsbooks get people to pay more vig is a type of bet called the parlay. \"Parlay\" means \"to talk\" in French, so it's no surprise dudes always want to talk about them online.\n",
    "\n",
    "The idea behind a parlay is that you can bet on multiple things at once and if they all win, you make a nice profit, otherwise you lose. \n",
    "\n",
    "I'm going to keep asking this question: why would they be offering this bet if it was good for you?  It might be more fun, but that just means they found a way to get you to part with your money easier, which sounds like a bad thing.\n",
    "\n",
    "Expected value (EV) is the weighted average of all the possible outcomes. You've already seen that with the vig when I calculated the break-even point -- how often do you have to win to break even on average? If the win percentage is higher than that, the expected value is positive; if it's lower, the EV is negative.\n",
    "\n",
    "[The standard payout on a 4 team parlay is 10:1](https://www.vegasinsider.com/parlay-calculator/). What is the expected value of such a play? is it higher or lower than taking the individual bets?\n",
    "\n",
    "It's easy to grind the math on this one, but maybe a simulation makes it more convincing. We'll do a bunch of bets and see whether the parlay or the individual bets are better. I can't say \"make us more money\" because both types of bets are guaranteed losers without some sort of edge. \n",
    "\n",
    "This is such a bad bet on the surface that to understand it, I have to give a little taste of parlay culture first.\n"
   ]
  },
  {
   "cell_type": "markdown",
   "metadata": {},
   "source": [
    "### Nephew Doug\n",
    "Say you want to place some bets. You just learned about betting on sports, so as a newbie you're trying to learn from experts by listening to gambling podcasts. These guys have been gambling for decades. Surely they must know what's up. Their wisdom will give you the edge for sure.\n",
    "\n",
    "You've listened to Nephew Doug's podcast, and wrote down his Locks of the Week. You're ready to enter them into your betting app, which has been hand-optimized to be as much of a dopamine and money sink as possible.\n",
    "\n",
    "Because you listen every week, you know Nephew Doug has been burdened by the Gods with the gift of prophecy. He's like a modern day Cassandra, only it's about how the Cowboys are always going to suck. \n",
    "\n",
    "Now, the Gods like a little competition. The Olympics were invented as a religious ceremony in their honor, after all. But they're not above making a call from on high to nudge the result a little bit. Zeus is definitely a Chiefs fan.\n",
    "\n",
    "So you believe ahead of time Nephew Doug's picks will win 60% of the time. Which way of betting these picks will bring you the most money in the long run?\n",
    "\n",
    "1) \"throw 'em all in a 4 team parlay\" like Doug and his buddy Jorts Guy do\n",
    "2) randomly choose 3 of Nephew Doug's picks and bet them individually. Don't do anything with the 4th one."
   ]
  },
  {
   "cell_type": "markdown",
   "metadata": {},
   "source": [
    "Maybe option 2 seems insane to you. But let's game it out. \n",
    "\n",
    "You listen to Nephew Doug, but I don't. My assumption would be this guy sucks at his picks and only wins 50% of the time, or close to it. Parlays at old school casinos pay at 10:1 and online sportsbooks pay 12.28:1. Let's see how that works out at 10:1 payout.\n",
    "\n",
    "There are two ways to do the comparison. We could bet $100 on the parlay, and compare to putting $25 on each leg. Or we could compare $100 on the parlay to $100 on each leg.\n",
    "\n",
    "Neither way of comparing is entirely fair, though, because the stakes increase throughout each leg of the parlay. If you bet $100 on a 4 team parlay, you're risking $100 on the first leg. If you win all 4 legs, you're risking $190 on the 2nd leg, $300ish dollars on the 3rd leg, and $600ish dollars on the 4th leg. \n",
    "\n",
    "If you wouldn't risk $600 on each of the 4 legs individually, you probably shouldn't be putting them in a parlay. For each leg of the parlay, the gambler should consider the risk of losing out on $600 if they took a 3 team parlay instead. Risking $100 on the 4 leg parlay is sort of like taking 4 different $600 bets, because each one could cost the gambler that much if it loses.\n",
    "\n",
    "I will be comparing risking $100 on the parlay versus $25 on each of the legs.\n",
    "\n",
    "This difference only matters for bettors with a high degree of skill. For the beginner, who we can reasonably assume will no better than a coin flip, the parlay is always a worse option. Like, 6x worse."
   ]
  },
  {
   "cell_type": "code",
   "execution_count": 6,
   "metadata": {},
   "outputs": [
    {
     "name": "stdout",
     "output_type": "stream",
     "text": [
      "parlay: -3,040,300.00, straight: -455,309.09, ratio: 0.14975794852732033\n"
     ]
    },
    {
     "data": {
      "text/plain": [
       "6.677441897633701"
      ]
     },
     "execution_count": 6,
     "metadata": {},
     "output_type": "execute_result"
    }
   ],
   "source": [
    "result = intro.do_some_bets(skill=.5)\n",
    "result[0]/ result[1]"
   ]
  },
  {
   "cell_type": "markdown",
   "metadata": {},
   "source": [
    "For the average gambler, parlays turn small losses into bigger ones. Instead of losing 4.5% per $100 bet, they're losing 30%, almost 7 times worse.\n",
    "\n",
    "Yikes. Maybe parlays are fun, but it's like blowing the whole week's vig budget on Sunday versus taking one regular bet at 4.5% vig a day.\n",
    "\n",
    "Even a stretch of good luck is going to get swallowed up real fast if you're losing 30% of the stake on average. Parlays are a sadness machine.\n",
    "\n",
    "What if Nephew Doug truly has been partially blessed by the Gods, and can beat the lines 55% of the time? That's pretty good.\n",
    "\n",
    "The gambler should turn a profit either way, but maybe parlays offer a better return? "
   ]
  },
  {
   "cell_type": "code",
   "execution_count": 7,
   "metadata": {},
   "outputs": [
    {
     "name": "stdout",
     "output_type": "stream",
     "text": [
      "parlay: 25,400.00, straight: 494,845.45, ratio: 19.48210450973871\n"
     ]
    }
   ],
   "source": [
    "result = intro.do_some_bets(skill=.55)"
   ]
  },
  {
   "cell_type": "markdown",
   "metadata": {},
   "source": [
    "Nope, at 55% win rate and the standard 10:1 payout, the individual bets are vastly better. The parlays just barely break even, and the individual bets are massively profitable.\n",
    "\n",
    "What about if we just don't play the 4th bet? We will bet $25 on the first three legs, and do nothing with the 4th one. We're just throwing out a bet with positive expected value. Perhaps that will tilt things in the gambler's favor."
   ]
  },
  {
   "cell_type": "code",
   "execution_count": 8,
   "metadata": {},
   "outputs": [
    {
     "name": "stdout",
     "output_type": "stream",
     "text": [
      "parlay: 164,000.00, straight: 385,690.91, ratio: 2.351773835925765\n"
     ]
    }
   ],
   "source": [
    "result = intro.do_some_bets(skill=.55, throw_one_out=True)"
   ]
  },
  {
   "cell_type": "markdown",
   "metadata": {},
   "source": [
    "The parlay still loses!\n",
    "\n",
    "There is a win rate where parlays would make more money than the straight bets. If you win 100% of the time, the parlay is definitely a better deal, right? 10x profits taking the parlay versus 4x taking the original bets. \n",
    "\n",
    "Successful handicappers who sell their picks are only winning around 55% of the time, as I will show later on. If you have to do as well at something as people who do it for a living just to break even, that's not a great plan.\n",
    "\n",
    "OK, one final parlay with Nephew Doug. Instead of taking the fourth bet, or throwing it out, we choose the 4th one by flipping a coin. This 4th bet has a negative expected value so maybe finally the parlay (using all four good picks) will win?"
   ]
  },
  {
   "cell_type": "code",
   "execution_count": 9,
   "metadata": {},
   "outputs": [
    {
     "name": "stdout",
     "output_type": "stream",
     "text": [
      "parlay: 77,100.00, straight: 266,422.73, ratio: 3.4555476948415933\n"
     ]
    }
   ],
   "source": [
    "ratio = intro.do_some_bets(skill=.55, random_fourth_bet=True)"
   ]
  },
  {
   "cell_type": "markdown",
   "metadata": {},
   "source": [
    "No! The parlays are still a terrible deal by comparison.\n",
    "\n",
    "It should be obvious that throwing out the 4th pick will also lose less money if Nephew Doug is no better than a coin flip. If a bet has negative expected value, it's always better for you not to take it. You should really throw out all four picks in that case. Take a zero team parlay. Go get yourself a nice bagel instead of turning your account balance into one. My lox of the week are way better than Doug's.\n",
    "\n",
    "### Online Parlays\n",
    "\n",
    "![parlay calculator from draftkings](img/parlay.png)\n",
    "\n",
    "Online parlays have a higher payout, so they're less obviously bad. \n",
    "\n",
    "At a 50% win rate, they're still way worse."
   ]
  },
  {
   "cell_type": "code",
   "execution_count": 10,
   "metadata": {},
   "outputs": [
    {
     "name": "stdout",
     "output_type": "stream",
     "text": [
      "parlay: -1,592,999.43, straight: -438,795.45, ratio: 0.2754523613006594\n"
     ]
    }
   ],
   "source": [
    "ONLINE_PAYOUT = 1228.33\n",
    "ratio = intro.do_some_bets(skill=.50, payout=ONLINE_PAYOUT)"
   ]
  },
  {
   "cell_type": "markdown",
   "metadata": {},
   "source": [
    "While \"classic\" parlays have a break even point of 54.9%, online parlays have the same break-even point as the straight bets - 52.4%."
   ]
  },
  {
   "cell_type": "code",
   "execution_count": 11,
   "metadata": {},
   "outputs": [
    {
     "name": "stdout",
     "output_type": "stream",
     "text": [
      "classic parlay: 0.5491004867761125\n",
      "online parlay:  0.5238421994973542\n"
     ]
    }
   ],
   "source": [
    "\n",
    "print(\"classic parlay:\", np.exp(np.log(1/11)/4))\n",
    "print(\"online parlay: \", np.exp(np.log(1/13.28)/4))"
   ]
  },
  {
   "cell_type": "markdown",
   "metadata": {},
   "source": [
    "That means that they can make a lot more money for a skilled bettor with a 55% win rate."
   ]
  },
  {
   "cell_type": "code",
   "execution_count": 12,
   "metadata": {},
   "outputs": [
    {
     "name": "stdout",
     "output_type": "stream",
     "text": [
      "parlay: 2,273,769.20, straight: 484,488.64, ratio: 0.2130773151318677\n"
     ]
    },
    {
     "data": {
      "text/plain": [
       "4.693132159005887"
      ]
     },
     "execution_count": 12,
     "metadata": {},
     "output_type": "execute_result"
    }
   ],
   "source": [
    "ONLINE_PAYOUT = 1228.33\n",
    "ratio = intro.do_some_bets(skill=.55, payout=ONLINE_PAYOUT)\n",
    "ratio[0] / ratio[1]"
   ]
  },
  {
   "cell_type": "markdown",
   "metadata": {},
   "source": [
    "### Smaller Windows\n",
    "\n",
    "Almost nobody can reach that level of success, though. And there's a huge amount of variance in possible outcomes. I've been simulating 100,000 parlays (so 400,000 individual bets). What are the range of outcomes over a smaller window, say 50 parlays/200 individual bets over the course of one season?\n",
    "\n",
    "Our theoretical gambler will risk $100 on each parlay, versus $25 on each of four bets, as we've been doing. \n",
    "\n",
    "I will define a \"big loss\" as losing $1000 or more at the end of the season."
   ]
  },
  {
   "cell_type": "code",
   "execution_count": null,
   "metadata": {},
   "outputs": [
    {
     "name": "stdout",
     "output_type": "stream",
     "text": [
      "parlay wins: 6091, straight: 3909\n",
      "parlay big losses: 3291, straight big losses: 2\n",
      "parlays made money: 6709, straights: 7846\n"
     ]
    }
   ],
   "source": [
    "results = intro.parlay_vs_straight(skill=.55)"
   ]
  },
  {
   "cell_type": "markdown",
   "metadata": {},
   "source": [
    "Almost 40% of the time, the straight bets make more money than the parlays do.\n",
    "\n",
    "Most importantly, about 34% of the time, the parlays end up massive losers on the season. The straight bets rarely do that.\n",
    "\n",
    "Expected Value collapses everything down to one value: what is the average, as n goes to infinity? But we don't live an infinite life. Our whole life is a small sample size, if the variance is high enough. Our bankrolls are always finite. The fact that we might make more money over 100 years is undercut by the fact that we'll die or go broke before then.\n",
    "\n",
    "Even for the skilled bettor, parlays make it more of a game of luck. \n",
    "\n",
    "Imagine having a 55% win rate, being better than almost everybody at handicapping, and still having massive losses one season in three? When you only make more money taking the parlays 60% of the seasons?\n",
    "\n",
    "There's a weird psychology to the parlay as well. These parlays only win once every couple of weeks, so they'd be kind of a grim strategy in practice. A good bettor taking the individual bets will have winning days over half the time. Is it better to feel like a winner most days, or once every other week?\n",
    "\n",
    "Most people don't have to consider that question, though. Without a huge amount of skill at betting, the only scenario where they might make sense is as a lottery: something that can deliver massive payouts without any skill.\n",
    "\n",
    "What happens if we do the above experiment, but the win rate is 50%, like a coin flip, or most sports bettors?"
   ]
  },
  {
   "cell_type": "code",
   "execution_count": 14,
   "metadata": {},
   "outputs": [
    {
     "name": "stdout",
     "output_type": "stream",
     "text": [
      "parlay wins: 3745, straight: 6255\n",
      "parlay big losses: 6172, straight big losses: 108\n",
      "parlays made money: 3828, straights: 2605\n"
     ]
    }
   ],
   "source": [
    "all_results = intro.parlay_vs_straight(skill=.5)"
   ]
  },
  {
   "cell_type": "code",
   "execution_count": 15,
   "metadata": {},
   "outputs": [],
   "source": [
    "parlay_profits, straight_profits = zip(*all_results)"
   ]
  },
  {
   "cell_type": "markdown",
   "metadata": {},
   "source": [
    "The parlays make money 37% of the time. Doesn't that seem kind of high?"
   ]
  },
  {
   "cell_type": "code",
   "execution_count": 16,
   "metadata": {},
   "outputs": [
    {
     "data": {
      "text/plain": [
       "<Axes: ylabel='Frequency'>"
      ]
     },
     "execution_count": 16,
     "metadata": {},
     "output_type": "execute_result"
    },
    {
     "data": {
      "image/png": "[encoded data removed]",
      "text/plain": [
       "<Figure size 640x480 with 1 Axes>"
      ]
     },
     "metadata": {},
     "output_type": "display_data"
    }
   ],
   "source": [
    "pd.Series(parlay_profits).plot.hist(bins=[-6000, -4000, -2000,  0,\n",
    "                                          2000, 4000, 6000])"
   ]
  },
  {
   "cell_type": "markdown",
   "metadata": {},
   "source": [
    "while it's surprising that someone flipping a coin can bullshit their way into profit 36% of the time, it's usually a modest profit. And when they lose money, they lose a lot. The most likely outcome is losing $2-4,000 on $5000 risked (50 parlays @ $100 a pop). In other words, losing massively.\n",
    "\n",
    "So parlays are worse on average, but more likely to make a player with zero skill a winner -- over 50 bets. Over a longer time frame, like 500 parlays, they only make money 12% of the time."
   ]
  },
  {
   "cell_type": "code",
   "execution_count": 17,
   "metadata": {},
   "outputs": [
    {
     "name": "stdout",
     "output_type": "stream",
     "text": [
      "parlay wins: 1698, straight: 8302\n",
      "parlay big losses: 8391, straight big losses: 8811\n",
      "parlays made money: 1213, straights: 174\n"
     ]
    }
   ],
   "source": [
    "all_results2 = intro.parlay_vs_straight(skill=.5, num_parlays=500)"
   ]
  },
  {
   "cell_type": "code",
   "execution_count": 21,
   "metadata": {},
   "outputs": [
    {
     "data": {
      "text/plain": [
       "<Axes: ylabel='Frequency'>"
      ]
     },
     "execution_count": 21,
     "metadata": {},
     "output_type": "execute_result"
    },
    {
     "data": {
      "image/png": "[encoded data removed]",
      "text/plain": [
       "<Figure size 640x480 with 1 Axes>"
      ]
     },
     "metadata": {},
     "output_type": "display_data"
    }
   ],
   "source": [
    "parlay_profits2, straight_profits2 = zip(*all_results2)\n",
    "pd.Series(parlay_profits2).plot.hist(bins=[-20000,-15000,-10000,-5000,0,5000,10000,15000,20000])"
   ]
  },
  {
   "cell_type": "markdown",
   "metadata": {},
   "source": [
    "Parlays and other long-odds bets (such as money line dogs) mask the true skill of the gambler. 12% is 1 in 8, which isn't that rare. 500 parlays could end up stretching over multiple seasons. That means somebody with no skill could end up looking like a pretty good bettor for a long stretch if they are taking parlays. Of course, 88% of people will lose money, far more money than the 12% of profitable bettors win. \n",
    "\n",
    "So it's sort of like a lottery where 12% of players win $5,000, but 88% lose $10,000.\n",
    "\n",
    "It's really, really hard to tell if someone taking bets at long odds is actually good at betting, not without thousands of documented bets. Over 50 parlays, or even 500, it's not that surprising for some people to look smart on parlays by luck alone."
   ]
  },
  {
   "cell_type": "markdown",
   "metadata": {},
   "source": [
    "### parlay vous\n",
    "\"But the guy on the podcast I listen to has been \"killing it\" on parlays this year\", I can hear you saying. I'm sure they've won a few, if they've taken enough of them. I'd love to see their betting records. It's hard to find records of people who can actually beat the spread over 55% of the time. Most people who sell picks for can't win that much, as we shall see.\n",
    "\n",
    "I doubt any of these guys are making money over long stretches of time off of gambling if they're taking their own advice. They do seem to crow when they're ahead, but get real quiet when they're behind.\n",
    "\n",
    "Gambling ads, sure. Everybody's taking gambling money right now, regardless of how it will hurt their brand, their audience, and the sport long term. Clearly there's a lot of money in talking about it. \n",
    "\n",
    "Where's all that ad money coming from? Isn't it obvious why they're pushing teasers and parlays and \"profit boosters\"? I love that last one. It's like saying Idi Amin served mankind.\n",
    "\n",
    "Why would they care about boosting YOUR profits? Unlike gamblers, they don't make negative expected value plays due to emotions or lack of information. Your irrationality is their business.\n",
    "\n",
    "### 20 years experience being wrong\n",
    "Although parlays are portrayed as a cool, advanced betting strategy to help players get an edge, they should be a red flag.\n",
    "\n",
    "Any self-styled gambling expert who is taking them or recommending parlays should be ignored, because either they don't know what they're talking about, or they are not giving good advice for most gamblers. \n",
    "\n",
    "Likewise, ignore any expert that doesn't bet reduced juice, unless they have some other angle -- that they can prove with math -- to justify paying more.\n",
    "\n",
    "If you were at marathon and one of the competitors was running in giant clown shoes, you would assume that person wasn't really concerned with winning the race. They've willingly put themselves at a disadvantage, for some reason, when running a marathon is already hard enough. \n",
    "\n",
    "Imagine if they told you they were going to teach you what they've learned about running. Would you still take their advice? If they haven't figured out it's easier to run in normal shoes, their years of experience are a mark against them.\n"
   ]
  },
  {
   "cell_type": "markdown",
   "metadata": {},
   "source": [
    "### Newbie Mistakes\n",
    "I've taken up lot of hobbies over the years. It seems like every time I take up a new hobby, I end up spending a lot of money on stupid stuff at the beginning. Then I get into it more, and realize what matters. For example, if you're getting into photography, you'll probably learn more from a $100 heavily used camera than a $1000 new one.  And if you end up not liking it, you've spent a lot less.\n",
    "\n",
    "There is an adverse selection process, where people who are new to a hobby have no idea what's actually good, or what things should actually cost, so they end up overpaying for inferior goods. Same thing for travelling in a new country. The guys at the train station trying to hustle you into a taxi are probably not hooking you up with the cheapest way to get around.\n",
    "\n",
    "Betting experts, the kind who have podcasts and big followings on social media, are supposed to know more about this stuff than the average person. They're supposed to be like the guidebooks telling you to walk 2 blocks and take the metro for $2 instead of paying $100 for a taxi. Yet they're pushing parlays and other sucker bets and sportsbooks that charge full vig. The \"experts\" are pushing beginners into bets that it's impossible to reasonably make money on long term.\n",
    "\n",
    "Even if just betting for fun, people should be concerned about the cost of the bets they place. If betting is fun, presumably more betting is more fun. Since the vig is what causes players to go broke, paying vig should be seen as the enemy of fun."
   ]
  },
  {
   "cell_type": "markdown",
   "metadata": {},
   "source": [
    "\n",
    "### Same game parlays\n",
    "Same game parlays (SGPs) are a new type of bet where a person can combine a bunch of bets on the same game. For instance Team X wins AND Player Y on team X scores over 30 points AND the point total is over 230 in the same game.\n",
    "\n",
    "Normal parlays are supposed to be on uncorrelated events. They shouldn't allow you to take parlays where one leg winning increases the likelihood of another leg winning. For example, betting the under point total for the 1st half parlayed with the under for the whole game. If the 1st half goes under, it's a lot more likely that the whole game goes under.\n",
    "\n",
    "With SGPs, the events are necessarily going to be correlated with each other because they're all happening in the same game. These correlations are going to alter the fair payout of the bet. For instance team X might win 23% more often when Player Y scores over 30 points. (As a basketball fan, I've seen it go the other way. Some teams seem to win less often when one player has a big game, because it's a sign that the rest of the team played poorly.) So the payout on an SGP is lower than the parlays we've looked at so far.\n",
    "\n",
    "Theoretically, there could be value on SGPs. If they price a parlay at +1200 but it will win 10% of the time, that's a nice return. Since every SGP is a bespoke calculation, it's certainly possible for the SGP pricing engines to make mistakes.\n",
    "\n",
    "For the beginner or someone betting on instinct rather than a bunch of math, the payout for every single one is a huge math calculation that the sportsbook does for the bettor. The player would need to do those same calculations to know whether they're getting a fair price (positive expected value on the bet). But why would a sportsbook give the player a fair price, except accidentally? \n",
    "\n",
    "Maybe there's some way to break the SGP calculator, or find correlations it doesn't know how to factor it, but that feels more like hacking than knowing stuff about sports. Most people taking SGPs aren'd doing it because they think they've hacked the matrix.\n",
    "\n",
    "On the point spreads, money lines or player prop bets, bettors can take either side of the line. So the action of the free market helps to set the price. If a line is too high, a bettor can take the underdog and make a bet with positive expected value. Likewise if it is too low, they can take the favorite. If the spreads are way off, people can exploit that.\n",
    "\n",
    "SGPs are a \"take it or leave it\" scenario. There is no way for the market to correct or punish bad prices, so there's no reason to believe they are ever fair, except by mistake. And why wouldn't they limit any bettor taking advantage of those mistakes? They could just track how often players are using the SGP pricing tool and limit or block anyone who is using it too much, or simply winning too much on them. Wouldn't you, if you were running a sportsbook?\n",
    "\n",
    "Multiple sportsbooks offer SGPs, so there may be some competition on price, but there's no incentive to make the price fair. If FanKings is offering the SGP at +600 and DraftDuel is offering it at +550, a naive bettor might take the +600 and think they're smart for bargain hunting. But if the SGP will only win 5% of the time, they're both horrible choices.\n",
    "\n",
    "I'll talk more about SGPs as a phenomenon later on. They're clearly a sucker bet, really no different than buying a lotto ticket for the average gambler. They're not really meant to be beatable by skill -- if they were, they wouldn't let you take them -- so doing the math isn't that exciting. But for now just think of them as the vape pens of betting. They're obviously super addictive, extremely popular with younger people, and you can't really know what's in them, but it's probably bad.\n",
    "\n",
    "Next up: I just assumed that the free market can correct pricing mistakes on point spreads. Is that really true, though? How fair are the lines? What would a fair line even look like?"
   ]
  }
 ],
 "metadata": {
  "kernelspec": {
   "display_name": "Python 3",
   "language": "python",
   "name": "python3"
  },
  "language_info": {
   "codemirror_mode": {
    "name": "ipython",
    "version": 3
   },
   "file_extension": ".py",
   "mimetype": "text/x-python",
   "name": "python",
   "nbconvert_exporter": "python",
   "pygments_lexer": "ipython3",
   "version": "3.11.9"
  }
 },
 "nbformat": 4,
 "nbformat_minor": 2
}
