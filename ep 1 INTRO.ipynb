{
 "cells": [
  {
   "cell_type": "markdown",
   "metadata": {},
   "source": [
    "# Don't Be a Sucker\n",
    "by Casey Durfee <csdurfee@gmail.com>\n",
    "\n",
    "Copyright 2025. This work is licensed under [CC BY-NC-SA 4.0](https://creativecommons.org/licenses/by-nc-sa/4.0/) \n",
    "\n",
    "## Intro\n",
    "This started because I got tired of people talking about their gambling losses online. Why talk about how you lost money doing something that you should have known would lose you money? Every season there are more ads and more talk about gambling, and it's definitely making sports worse. \n",
    "\n",
    "It contributes to this environment where the meta -- the stats, the highlights, the talking points -- are more important than the competition itself, and that's sad. Athletes shouldn't be treated like malfunctioning random number generators. If sports aren't interesting on their own, then why bother? You could take the jersey numbers of your favorite athletes and buy a lotto ticket with those numbers and it's almost the same thing.\n",
    "\n",
    "So I was curious about how it worked. I am not a gambling expert. Before this project, my exposure to sports gambling was being annoyed at the constant advertising.\n",
    "\n",
    "I'm trying to convey a little common sense and intuition about how this stuff actually works, as somebody with no emotional investment in it. There are a whole lot of thought experiments, dubious philosophical insights, and silly jokes.\n",
    "\n",
    "I've tried to avoid too much formal mathy stuff, instead running little simulations to illustrate ideas. I hope it's fairly approachable, but not too much. Because gambling is all math after a couple of bets. So maybe I can help people [FIX] transfer their irrational math anxiety into rational betting anxiety. Math can be your pal. The casinos can't.\n",
    "\n",
    "## The Disclaimer\n",
    "Gambling can be addictive. Anyone can become an addict. Addiction is not a question of intelligence or virtue. \n",
    "\n",
    "Maybe you're saying, \"I don't know I'm going to lose\". True, but you're also not going to bet one time, especially if you win. Success is the worst teacher. What happens over the long term? Betting is about statistics, not feelings.\n",
    "\n",
    "Want to try betting without the losses? Just do it on paper. What's the downside? People play board games with fake money and trade stocks with fake money and still have fun. OK, a lot of family Monopoly games end in tears, but nobody's broke in real life at the end.\n",
    "\n",
    "As you'll see, the bets that sportsbooks push on naive gamblers are guaranteed losers in the long run, regardless of skill. Even if you know more about sports than the average bettor, you're still going to lose money taking them.\n",
    "\n",
    "Although I think it is possible to make money on it, maximizing profits does require knowing how much of an edge you have over the sportsbook. So even someone who wants to be successful should probably start on paper.\n",
    "\n",
    "I would guess maybe 1% of bettors make money long term. The estimate I see online is 3%, but that seems way too high, given the massive influx of new bettors and the rise of crappier types of bets. I would guess it's more like an MLM at less than 1% success rate. \n",
    "\n",
    "It's definitely not a 50/50 split between winners and losers. I wonder if that naive assumption drives some people to bet. For a lot of things in life, being slightly above average is good enough. This isn't one of those things."
   ]
  },
  {
   "cell_type": "markdown",
   "metadata": {},
   "source": [
    "### Free Life Advice\n",
    "*Definition of Insanity (Casey's Version)*:\n",
    "\n",
    "> If you do what everybody else does, you should expect to get the results everybody else does. \n",
    "\n",
    "Do with that what you will. Maybe get that as a back tattoo. Everybody else isn't doing that!\n",
    "\n",
    "### Games of skill and chance\n",
    "Sports gambling was legalized on the premise that it's a game of skill. People were told it's not like \"real gambling\" where the winner is randomly decided. Of course, the lottery isn't a game of skill and that's legal almost everywhere.\n",
    "\n",
    "It's supposedly about who knows more about sports. And that's plausible. Sports-knowing is a sort of skill. Making predictions about the future that are better than random is a skill, too. Maybe there's some sort of American civic virtue in the combination of the two.\n",
    "\n",
    "Of course, \"Grifting the Rubes\" is also an American civic virtue, of a sort.\n",
    "\n",
    "![never give a sucker an even break movie poster, from wikipedia](img/sucker.jpg)\n",
    "\n",
    "\"You wanna bet on it\" is a primal reaction to somebody saying something you think is wrong about sports. I get it. \n",
    "\n",
    "I remember back in early 2017, getting in a disagreement with somebody online over whether Andre Drummond or Nikola Jokic would be the better NBA player in the long run. He didn't want to make a bet on it, unfortunately. I think Drummond was an All-Star that year and Jokic was still a nobody. He would often get winded after about 5 minutes and commit a silly foul so he could get subbed out. I should've gotten pretty good odds on it. "
   ]
  },
  {
   "cell_type": "markdown",
   "metadata": {},
   "source": [
    "### Dutch Books\n",
    "\"You wanna bet on it\" is also the key to an idea in the area where philosophy and economics meet called [Decision Theory](https://en.wikipedia.org/wiki/Decision_theory).  Both economists and philosophers have a keen professional interest in what is or isn't rational behavior. It makes things way messier if you have to account for people who behave in ways that don't follow logical patterns. Economists need perfectly rational human beings even more than they need [spherical cows](https://en.wikipedia.org/wiki/Spherical_cow). I've seen some awfully fat cows, but I've never seen a perfectly logical human.\n",
    "\n",
    "How do you determine whether an individual made the right choice for themselves? Sometimes, it's a subjective judgement based on what the individual values. But, the theory goes, if betting according to a person's stated beliefs would be guaranteed to lose them money, their beliefs are irrational. Not because you or I think they're irrational, but because they violate the rules of probability theory and logic, and lead to these guaranteed losing bets. Look, I'm not saying you're crazy, [Abraham De Moivre](https://en.wikipedia.org/wiki/Abraham_de_Moivre) is!\n",
    "\n",
    "This is called the Dutch Book Theorem. \"Making a book\" means a situation where a bookmaker is guaranteed to win money no matter the outcome, and a Dutch Book is specifically when they'll make the exact same amount either way. They're getting paid the same amount regardless of who wins.\n",
    "\n",
    "It's basically a rigorous, formal definition of a *sucker*: someone who is guaranteed to lose money because of their garbage beliefs.\n",
    "\n",
    "I have feelings about the morality of betting, but for the most part they're not really relevant to how the math works."
   ]
  },
  {
   "cell_type": "markdown",
   "metadata": {},
   "source": [
    "### Game Recognize Game Theory\n",
    "The Dutch Book Theorem was created by a guy named [Frank P. Ramsey](https://en.wikipedia.org/wiki/Frank_Ramsey_(mathematician)). He made major contributions to philosophy, economics, and math by the age of 26. He died in 1930 after swimming in a polluted river. \n",
    "\n",
    "He's basically the Len Bias of math. It hurts to just imagine if he had lived another 10 years and got to play in the Computer Science era. Can you imagine him and Turing on the floor together? With [Russell](https://en.wikipedia.org/wiki/Bertrand_Russell) playing Center?  Good luck [halting](https://en.wikipedia.org/wiki/Halting_problem) that. Dude would have gotten 40 a night. \n",
    "\n",
    "No way [Nash](https://en.wikipedia.org/wiki/John_Forbes_Nash_Jr.) is  [winning](https://en.wikipedia.org/wiki/Abel_Prize) two [MVP's](https://en.wikipedia.org/wiki/Nobel_Memorial_Prize_in_Economic_Sciences) if Ramsey didn't die so young.\n",
    "\n",
    "![the homie, fp ramsey](img/homie.jpg)\n",
    "\n",
    "This probably won't be his only appearance."
   ]
  },
  {
   "cell_type": "markdown",
   "metadata": {},
   "source": [
    "\n",
    "### The pleasure is to play, makes no difference what you say\n",
    "Can you really do a Dutch Book argument against someone betting Nephew Doug's can't miss 4 team parlay? Aren't they getting pleasure out of it, regardless of outcome? \n",
    "\n",
    "I accept you can't really say it has a negative expected value for the individual. If a gambler's goal is to lose money in an entertaining fashion rather than make money, then maybe they aren't irrational for betting the Nephew Doug way. \n",
    "\n",
    "But there's a dark side to this. People aren't paying thousands of dollars to buy picks because they want to lose money in a more fun way. They do it because they think it will make them money in the long run.\n",
    "\n",
    "Here's [a particularly egregious promise](https://experts.winnersandwhiners.com/cappers/37) from one pick seller (who charges $1200 a year for his picks):\n",
    "\n",
    "> \" If you follow ______'s advice by playing his selections you are going to find yourself making a decent second income from gambling. If you are working full-time, have a family, or have other interests, then you can't possibly put in the time required to win at sports-betting. Don't let this opportunity pass you by, hop on board with ___ and start cashing now!\"\n",
    "\n",
    "That's borderline criminal to me.\n",
    "\n",
    "I don't know that betting small amounts every once in a while is especially irrational. You can do that knowing you'll probably lose money, and it might bring some extra fun if it's a game you'd enjoy anyway. I only know that gamblers who bet regularly are supposedly doing it to make money. If somebody's habitually taking sucker bets despite expecting they will make money, I think that's a clear Dutch Book situation. It also makes gambling a potentially more addictive habit than drugs. I don't think anyone starts using drugs because they think it will get them high and make them rich.\n",
    "\n",
    "Unfortunately, the book isn't some starving philosophy grad student, it's DraftKings. By losing all the time, these habitual gamblers are funding the sportsbooks making sports crappier for the rest of us. I'm sure a lot of them loved sports before they got co-opted by an addictive habit. So, hate the game, not the player, I guess.\n",
    "\n",
    "### Guaranteed Losers\n",
    "\n",
    "Some types of bets will lose money over the long term, even for skilled bettor. These are the ones that get pushed the hardest: parlays, prop bets, teasers, in-game betting.\n",
    "\n",
    "If nothing else, I hope you will understand why these types of bets are extra bad. Nobody rationally trying to make money would take them. They are games of chance, not games of skill, and have negative expected value, often worse than playing craps or baccarat in a casino. \n",
    "\n",
    "If they're not games of skill, the people winning them haven't really done anything of merit. They definitely haven't learned anything. Anyone pushing them doesn't have any knowledge to impart, because their bets are no better than random, and there is nothing to be learned from randomness.\n",
    "\n",
    "These bets may as well be rigged carnival games. If you take the wrong types of bets, your skill or knowledge doesn't matter. They are losers for everybody who can't see the future. If you really can see the future, and you're using those magical powers to figure out who's going to win a random Hornets-Pacers game, I don't know what to tell you.\n",
    "\n",
    "Before I get in too deep, I feel I need to give you a motivating example. Parlays are a type of bet where if multiple things all happen, you win a big payout, but otherwise you win nothing. \"Parlay\" comes from the French word for \"to speak\", so perhaps it's unsurprising that dudes are always talking about them online. If you've encountered an annoying Gambling Guy online, they're probably complaining about their parlay."
   ]
  },
  {
   "cell_type": "markdown",
   "metadata": {},
   "source": [
    "### Nephew Doug\n",
    "Say you have 4 \"can't miss\" bets you want to make. You just got into betting on sports, so as a newbie you're trying to learn from experts by listening to gambling podcasts. You've listened to Nephew Doug's podcast, and wrote down his Locks of the Week. You're ready to enter them into your betting app, which has been hand-optimized to be as much of a dopamine and money sink as possible.\n",
    "\n",
    "Because you listen every week, you know Nephew Doug has been burdened by the Gods with the gift of prophecy. He's like a modern day Cassandra, only it's about how the Cowboys are always going to suck. \n",
    "\n",
    "Now, the Gods like a little competition. The Olympics were invented as a religious ceremony in their honor, after all. But they're not above making a call from on high to nudge the result a little bit. Zeus is definitely a Chiefs fan.\n",
    "\n",
    "So you believe ahead of time Nephew Doug's picks will win 60% of the time. Which way of betting these picks will bring you the most money in the long run?\n",
    "\n",
    "1) \"throw 'em all in a 4 team parlay\" like Doug and his buddy Jorts Guy do\n",
    "2) randomly choose 3 of Nephew Doug's picks and bet them individually. Don't do anything with the 4th one."
   ]
  },
  {
   "cell_type": "markdown",
   "metadata": {},
   "source": [
    "Maybe option 2 seems insane to you. But let's game it out. Parlays at old school casinos pay at 10/1; online pays 12.28/1.\n",
    "\n",
    "You listen to Nephew Doug, but I don't. My assumption would be this guy sucks at his picks and only wins 50% of the time, or close to it. Let's see how that works out at 10:1 payout."
   ]
  },
  {
   "cell_type": "code",
   "execution_count": 2,
   "metadata": {},
   "outputs": [],
   "source": [
    "import numpy as np\n",
    "import matplotlib.pyplot as plt\n",
    "import pandas as pd\n",
    "import texttable\n",
    "import scipy"
   ]
  },
  {
   "cell_type": "code",
   "execution_count": 49,
   "metadata": {},
   "outputs": [
    {
     "name": "stdout",
     "output_type": "stream",
     "text": [
      "parlay: -3,040,300.00, straight: -2,003,360.00, ratio: 0.6589349735223499\n"
     ]
    },
    {
     "data": {
      "text/plain": [
       "1.517600431275457"
      ]
     },
     "execution_count": 49,
     "metadata": {},
     "output_type": "execute_result"
    }
   ],
   "source": [
    "rng = np.random.default_rng(2718)\n",
    "np.random.seed(2718)\n",
    "\n",
    "def do_some_bets(skill = .5, payout=1000, vig=1.1, throw_one_out=False, random_fourth_bet=False):\n",
    "    BETS  = 100000\n",
    "\n",
    "    straight_profit_loss = 0\n",
    "    parlay_profit_loss = 0\n",
    "\n",
    "    for b in range(BETS):\n",
    "        bet1 = rng.random() < skill\n",
    "        bet2 = rng.random() < skill\n",
    "        bet3 = rng.random() < skill\n",
    "        bet4 = rng.random() < skill\n",
    "\n",
    "        if bet1 and bet2 and bet3 and bet4:\n",
    "            parlay_profit_loss = parlay_profit_loss + payout\n",
    "        else:\n",
    "            parlay_profit_loss = parlay_profit_loss - 100\n",
    "\n",
    "        for bet in [bet1, bet2, bet3]:\n",
    "            if bet:\n",
    "                straight_profit_loss = straight_profit_loss + 100\n",
    "            else:\n",
    "                straight_profit_loss = straight_profit_loss - (vig * 100)\n",
    "\n",
    "        if not random_fourth_bet:\n",
    "            if throw_one_out:\n",
    "                pass\n",
    "            else:\n",
    "                if bet4:\n",
    "                    straight_profit_loss = straight_profit_loss + 100\n",
    "                else:\n",
    "                    straight_profit_loss = straight_profit_loss - (vig * 100)\n",
    "        else:\n",
    "            # what if the 4th bet is taken by flipping a coin?\n",
    "            alt_bet4 = rng.random() < .5\n",
    "            if alt_bet4:\n",
    "                straight_profit_loss = straight_profit_loss + 100\n",
    "            else:\n",
    "                straight_profit_loss = straight_profit_loss - (vig * 100)\n",
    "\n",
    "    ratio = straight_profit_loss/parlay_profit_loss\n",
    "    print(f\"parlay: {parlay_profit_loss:,.2f}, straight: {straight_profit_loss:,.2f}, ratio: {ratio}\")\n",
    "    return ratio\n",
    "\n",
    "result = do_some_bets(skill=.5)\n",
    "1/result"
   ]
  },
  {
   "cell_type": "markdown",
   "metadata": {},
   "source": [
    "At 50% win rate, if you take enough of these four team parlays, you're going to lose around 1.5x more taking the parlay than taking the individual bets. Which is what you'd expect given the payout is 10:1 instead of a fair $1/(2*2*2*2) = 1/16 = 15:1$.\n",
    "\n",
    "What if Nephew Doug truly has been partially blessed by the Gods, and can beat the lines 60% of the time? Now you're turning a profit either way, but maybe parlays offer a better return if he's that skilled? "
   ]
  },
  {
   "cell_type": "code",
   "execution_count": 15,
   "metadata": {},
   "outputs": [
    {
     "name": "stdout",
     "output_type": "stream",
     "text": [
      "parlay: 4,217,500, straight: 6,335,110.0, ratio: 1.502100770598696\n"
     ]
    }
   ],
   "source": [
    "ratio = do_some_bets(skill=.6)"
   ]
  },
  {
   "cell_type": "markdown",
   "metadata": {},
   "source": [
    "Nope, if Nephew Doug is ridiculously good at betting, you'd make around 1.5x profit taking the individual bets rather than doing the 4 team parlay. \n",
    "\n",
    "What if you only take 3 individual bets and don't bet the fourth one, as I proposed? At 60% win rate, this is irrational. You're throwing away profit in the long run, betraying Nephew Doug, and angering the gods with your hubris.\n",
    "\n",
    "Maybe the parlay would make more money in that case?"
   ]
  },
  {
   "cell_type": "code",
   "execution_count": 16,
   "metadata": {},
   "outputs": [
    {
     "name": "stdout",
     "output_type": "stream",
     "text": [
      "parlay: 4,384,700, straight: 4,885,680.0, ratio: 1.114256391543321\n"
     ]
    }
   ],
   "source": [
    "ratio = do_some_bets(skill=.6, throw_one_out=True)"
   ]
  },
  {
   "cell_type": "markdown",
   "metadata": {},
   "source": [
    "No! You would still make 10% or so more by taking the individual bets and throwing out one.\n",
    "\n",
    "There is a win rate where parlays would make more money than the straight bets. If you win 100% of the time, the parlay is definitely a better deal, right? 10x profits taking the parlay versus 4x taking the original bets. \n",
    "\n",
    "It's somewhere between 60 and 100%. It's not hard to calculate, but 60% is already much higher than anybody can reasonably achieve betting on sports, a thing played by humans (unreliable, to put it mildly) in the future (also notoriously unreliable). \n",
    "\n",
    "The best handicappers who sell their picks are only winning around 55% of the time, as I will show later on. If you have to do better at something than people who do it for a living just to break even, that's not a great plan.\n",
    "\n",
    "OK, one final parlay with Nephew Doug. Instead of taking the fourth bet, or throwing it out, we choose the 4th one by flipping a coin. This 4th bet has a negative expected value so maybe finally the parlay will win?"
   ]
  },
  {
   "cell_type": "code",
   "execution_count": 9,
   "metadata": {},
   "outputs": [
    {
     "name": "stdout",
     "output_type": "stream",
     "text": [
      "parlay: 4,249,400, straight: 4,339,270.0, ratio: 1.021148868075493\n"
     ]
    }
   ],
   "source": [
    "ratio = do_some_bets(skill=.6, random_fourth_bet=True)"
   ]
  },
  {
   "cell_type": "markdown",
   "metadata": {},
   "source": [
    "Nope, the parlay still loses.\n",
    "\n",
    "What if Doug is not actually blessed by the gods, but is savvy and knows a lot about sports? 54.7% is a reasonable win rate. A gambler could make money at that level, which is better than 97% of gamblers do."
   ]
  },
  {
   "cell_type": "code",
   "execution_count": 6,
   "metadata": {},
   "outputs": [
    {
     "name": "stdout",
     "output_type": "stream",
     "text": [
      "parlay: -186,900.00, straight: 1,470,240.00, ratio: -7.8664526484751205\n"
     ]
    }
   ],
   "source": [
    "ratio = do_some_bets(skill=.547, throw_one_out=True)"
   ]
  },
  {
   "cell_type": "markdown",
   "metadata": {},
   "source": [
    "The parlays lose money. The straight bets make 1.5 Million dollars, *even in this idiotic scenario where we throw one bet in four out*.\n",
    "\n",
    "It should be obvious that throwing out the 4th pick will also lose less money if Nephew Doug is no better than a coin flip. If a bet has negative expected value, it's always better for you not to take it. You should really throw out all four picks in that case. Take a zero team parlay. Go get yourself a nice bagel instead of turning your account balance into one. My lox of the week are way better than Doug's.\n",
    "\n",
    "### Online Parlays\n",
    "\n",
    "![parlay calculator from draftkings](img/parlay.png)\n",
    "\n",
    "Online parlays have a higher payout, so they're less obviously bad. But they're still a worse deal in the range of success that I think a good sports bettor should expect."
   ]
  },
  {
   "cell_type": "code",
   "execution_count": 46,
   "metadata": {},
   "outputs": [
    {
     "name": "stdout",
     "output_type": "stream",
     "text": [
      "parlay: 1,903,165.13, straight: 1,893,610.00, ratio: 0.9949793479033452\n"
     ]
    }
   ],
   "source": [
    "ONLINE_PAYOUT = 1228.33\n",
    "ratio = do_some_bets(skill=.547, payout=ONLINE_PAYOUT)"
   ]
  },
  {
   "cell_type": "markdown",
   "metadata": {},
   "source": [
    "Perhaps surprisingly, they do a little less badly with a 50% win rate (no better than a coin flip.)"
   ]
  },
  {
   "cell_type": "code",
   "execution_count": 36,
   "metadata": {},
   "outputs": [
    {
     "name": "stdout",
     "output_type": "stream",
     "text": [
      "parlay: -1,639,490.98, straight: -1,927,970.00, ratio: 1.1759564544844927\n"
     ]
    }
   ],
   "source": [
    "ratio = do_some_bets(skill=.5, payout=ONLINE_PAYOUT)"
   ]
  },
  {
   "cell_type": "markdown",
   "metadata": {},
   "source": [
    "While \"classic\" parlays have a break even point of 54.9%, online parlays have the same break-even point as the straight bets."
   ]
  },
  {
   "cell_type": "code",
   "execution_count": 47,
   "metadata": {},
   "outputs": [
    {
     "name": "stdout",
     "output_type": "stream",
     "text": [
      "classic parlay: 0.5491004867761125\n",
      "online parlay:  0.5238421994973542\n"
     ]
    }
   ],
   "source": [
    "\n",
    "print(\"classic parlay:\", np.exp(np.log(1/11)/4))\n",
    "print(\"online parlay: \", np.exp(np.log(1/13.28)/4))"
   ]
  },
  {
   "cell_type": "markdown",
   "metadata": {},
   "source": [
    "At a 60% win rate, the parlays are about 12% more profitable."
   ]
  },
  {
   "cell_type": "code",
   "execution_count": 44,
   "metadata": {},
   "outputs": [
    {
     "name": "stdout",
     "output_type": "stream",
     "text": [
      "parlay: 7,310,796.56, straight: 6,431,080.00, ratio: 0.8796688496553229\n"
     ]
    },
    {
     "data": {
      "text/plain": [
       "0.8796688496553229"
      ]
     },
     "execution_count": 44,
     "metadata": {},
     "output_type": "execute_result"
    }
   ],
   "source": [
    "do_some_bets(skill=.6, payout=ONLINE_PAYOUT)"
   ]
  },
  {
   "cell_type": "markdown",
   "metadata": {},
   "source": [
    "### The actual math\n",
    "The parlay wins 1 in $p^{4}$ times and wins 12.28. The house wins the rest of the time and you lose -1.\n",
    "\n",
    "Parlay profit//loss  = $(12.28 * p^{4}) - (1-p^{4})$\n",
    "\n",
    "For the 4 straight bets, we can take the profit/loss of one bet and multiply by 4.\n",
    "\n",
    "single bet profit/loss = $p - (1.1 * (1-p))$\n",
    "\n",
    "Let's plot both of those functions for a range of win rates (p). The red line is the parlay, the blue line is the 4 regular bets."
   ]
  },
  {
   "cell_type": "code",
   "execution_count": 40,
   "metadata": {},
   "outputs": [
    {
     "data": {
      "text/plain": [
       "[<matplotlib.lines.Line2D at 0x2a724d85a50>]"
      ]
     },
     "execution_count": 40,
     "metadata": {},
     "output_type": "execute_result"
    },
    {
     "data": {
      "image/png": "[encoded data removed]",
      "text/plain": [
       "<Figure size 640x480 with 1 Axes>"
      ]
     },
     "metadata": {},
     "output_type": "display_data"
    }
   ],
   "source": [
    "def straight_ev(p):\n",
    "    return 4 * (p - (1.1 * (1-p)))\n",
    "\n",
    "def parlay_ev(p):\n",
    "    return (12.28 * (p**4)) - (1-p**4)\n",
    "\n",
    "x = np.linspace(.5, .6, num=100)\n",
    "straight = straight_ev(x)\n",
    "parlay = parlay_ev(x)\n",
    "\n",
    "plt.plot(x,straight)\n",
    "plt.plot(x,parlay, color=\"r\")"
   ]
  },
  {
   "cell_type": "markdown",
   "metadata": {},
   "source": [
    "here's the difference of the two."
   ]
  },
  {
   "cell_type": "code",
   "execution_count": 41,
   "metadata": {},
   "outputs": [
    {
     "data": {
      "text/plain": [
       "<matplotlib.lines.Line2D at 0x2a724d05a90>"
      ]
     },
     "execution_count": 41,
     "metadata": {},
     "output_type": "execute_result"
    },
    {
     "data": {
      "image/png": "[encoded data removed]",
      "text/plain": [
       "<Figure size 640x480 with 1 Axes>"
      ]
     },
     "metadata": {},
     "output_type": "display_data"
    }
   ],
   "source": [
    "plt.plot(x, parlay-straight)\n",
    "plt.axhline(0)"
   ]
  },
  {
   "cell_type": "markdown",
   "metadata": {},
   "source": [
    "Compared to 4 bets at \"full vig\", a parlay will:\n",
    "1) lose less money in the range where both bets lose money (p=.5 to .524)\n",
    "2) make less money in the range of p=.524 to p=.56\n",
    "3) make more money when p>.56"
   ]
  },
  {
   "cell_type": "markdown",
   "metadata": {},
   "source": [
    "\"Full vig\" means risking $110 to make $100. Some sportsbooks offer the ability to bet \"reduced juice\", which means risking $106 to make $100. \n",
    "\n",
    "At reduced juice, the parlay once again becomes much worse than taking the original bets."
   ]
  },
  {
   "cell_type": "code",
   "execution_count": 51,
   "metadata": {},
   "outputs": [
    {
     "data": {
      "text/plain": [
       "[<matplotlib.lines.Line2D at 0x2a724c4b550>]"
      ]
     },
     "execution_count": 51,
     "metadata": {},
     "output_type": "execute_result"
    },
    {
     "data": {
      "image/png": "[encoded data removed]",
      "text/plain": [
       "<Figure size 640x480 with 1 Axes>"
      ]
     },
     "metadata": {},
     "output_type": "display_data"
    }
   ],
   "source": [
    "def straight_ev(p):\n",
    "    ## redefine this function to have -106 vig instead of -110.\n",
    "    return 4 * (p - (1.06 * (1-p)))\n",
    "\n",
    "x = np.linspace(.5, .6, num=100)\n",
    "straight = straight_ev(x)\n",
    "parlay = parlay_ev(x)\n",
    "\n",
    "plt.plot(x,straight)\n",
    "plt.plot(x,parlay, color=\"r\")"
   ]
  },
  {
   "cell_type": "markdown",
   "metadata": {},
   "source": [
    "Note that in the 52-56% range is where parlays do the worst compared to straight bets."
   ]
  },
  {
   "cell_type": "code",
   "execution_count": 52,
   "metadata": {},
   "outputs": [
    {
     "data": {
      "text/plain": [
       "<matplotlib.lines.Line2D at 0x2a724ed9c50>"
      ]
     },
     "execution_count": 52,
     "metadata": {},
     "output_type": "execute_result"
    },
    {
     "data": {
      "image/png": "[encoded data removed]",
      "text/plain": [
       "<Figure size 640x480 with 1 Axes>"
      ]
     },
     "metadata": {},
     "output_type": "display_data"
    }
   ],
   "source": [
    "plt.plot(x, parlay-straight)\n",
    "plt.axhline(0)"
   ]
  },
  {
   "cell_type": "markdown",
   "metadata": {},
   "source": [
    "With reduced juice, the strategy of randomly throwing out one bet is better"
   ]
  },
  {
   "cell_type": "code",
   "execution_count": 54,
   "metadata": {},
   "outputs": [
    {
     "name": "stdout",
     "output_type": "stream",
     "text": [
      "parlay: 1,779,630.44, straight: 2,033,646.00, ratio: 1.1427350051395018\n"
     ]
    }
   ],
   "source": [
    "ratio = do_some_bets(skill=.547, payout=ONLINE_PAYOUT, vig=1.06, throw_one_out=True)"
   ]
  },
  {
   "cell_type": "markdown",
   "metadata": {},
   "source": [
    "### parlay vous\n",
    "\n",
    "I'm trying to avoid getting too mathy, but this is just how probability works. It shouldn't really be surprising. Why would combining two totally unrelated bets be better for you? Even if you take slightly correlated bets, it's going to be hard to go from 1/16 (the natural odds of winning all four, if there's no correlation between the outcomes) to 1/11 (the break even point for a parlay.)  \n",
    "\n",
    "\"But the guy on the podcast I listen to has been \"killing it\" on parlays this year\", I can hear you saying. As we saw, if they're really making money overall on parlays, they'd be making 1.5x profits taking the individual bets, so they're not that smart. And I'd love to see their betting records. All of them, not just the ones they brag about after they win. I doubt any of these guys are making money over long stretches of time off of gambling.\n",
    "\n",
    "Gambling ads, sure. Everybody's taking gambling money right now, regardless of how it will hurt their brand, their audience, and the sport long term. Clearly there's a lot of money in talking about it. \n",
    "\n",
    "Where's all that ad money coming from? Isn't it obvious why they're pushing teasers and parlays and \"profit boosters\"? I love that last one. It's like saying Idi Amin [served mankind](https://www.iwmf.org/reporting/ghost-stories-idi-amins-torture-chambers/).\n",
    "\n",
    "Why would they care about boosting YOUR profits? Unlike gamblers, they don't make negative expected value plays due to emotions or lack of math skills.\n"
   ]
  }
 ],
 "metadata": {
  "kernelspec": {
   "display_name": "Python 3",
   "language": "python",
   "name": "python3"
  },
  "language_info": {
   "codemirror_mode": {
    "name": "ipython",
    "version": 3
   },
   "file_extension": ".py",
   "mimetype": "text/x-python",
   "name": "python",
   "nbconvert_exporter": "python",
   "pygments_lexer": "ipython3",
   "version": "3.11.9"
  }
 },
 "nbformat": 4,
 "nbformat_minor": 2
}
