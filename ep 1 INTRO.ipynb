{
 "cells": [
  {
   "cell_type": "markdown",
   "metadata": {},
   "source": [
    "# Don't Be a Sucker\n",
    "by Casey Durfee <csdurfee@gmail.com>\n",
    "\n",
    "Copyright 2025.\n",
    "\n",
    "## Intro\n",
    "This started because I got tired of people talking about their gambling losses online. Why talk about how you lost money doing something that you should have known would lose you money? Every season there are more ads and more talk about gambling, and it's definitely making sports worse. \n",
    "\n",
    "It contributes to this environment where the meta -- the stats, the highlights, the talking points -- are more important than the competition itself, and that's sad. Athletes shouldn't be treated like malfunctioning random number generators. If sports aren't interesting on their own, then why bother? You could take the jersey numbers of your favorite athletes and buy a lotto ticket with those numbers and it's almost the same thing.\n",
    "\n",
    "So I was curious about how it worked. I am not a gambling expert. Before this project, my exposure to sports gambling was being annoyed at the constant advertising.\n",
    "\n",
    "I'm trying to convey a little common sense and intuition about how this stuff actually works, as somebody with no emotional investment in it. There are a whole lot of thought experiments, dubious philosophical insights, and silly jokes.\n",
    "\n",
    "I've tried to avoid too much formal mathy stuff, instead running little simulations to illustrate ideas. I hope it's fairly approachable, but not too much. Because gambling is all math after a couple of bets. So maybe I can help some people transfer their irrational math anxiety into rational betting anxiety. Math can be your pal. The casinos can't.\n",
    "\n",
    "## The Disclaimer\n",
    "Gambling can be addictive. Anyone can become an addict. Addiction is not a question of intelligence or virtue. \n",
    "\n",
    "Maybe you're saying, \"I don't know I'm going to lose\". True, but you're also not going to bet one time, especially if you win. Success is the worst teacher. What happens over the long term? Betting is about statistics, not feelings.\n",
    "\n",
    "Want to try betting without the losses? Just do it on paper. What's the downside? People play board games with fake money and trade stocks with fake money and still have fun. OK, a lot of family Monopoly games end in tears, but nobody's broke in real life at the end.\n",
    "\n",
    "As you'll see, the bets that sportsbooks push on naive gamblers are guaranteed losers in the long run, regardless of skill. Even if you know more about sports than the average bettor, you're still going to lose money taking them.\n",
    "\n",
    "Although I think it is possible to make money on it, maximizing profits does require knowing how much of an edge you have over the sportsbook. So even someone who wants to be successful should probably start on paper.\n",
    "\n",
    "I would guess maybe 1% of bettors make money long term. The estimate I see online is 3%, but that seems way too high, given the massive influx of new bettors and the rise of crappier types of bets. I would guess it's more like an MLM at less than 1% success rate. \n",
    "\n",
    "It's definitely not a 50/50 split between winners and losers. I wonder if that naive assumption drives some people to bet. For a lot of things in life, being slightly above average is good enough. This isn't one of those things."
   ]
  },
  {
   "cell_type": "markdown",
   "metadata": {},
   "source": [
    "### Free Life Advice\n",
    "*Definition of Insanity (Casey's Version)*:\n",
    "\n",
    "> If you do what everybody else does, you should expect to get the results everybody else does. \n",
    "\n",
    "Do with that what you will. Maybe get that as a back tattoo. Everybody else isn't doing that!\n",
    "\n",
    "### Games of skill and chance\n",
    "Sports gambling was legalized on the premise that it's a game of skill. People were told it's not like \"real gambling\" where the winner is randomly decided. Of course, the lottery isn't a game of skill and that's legal almost everywhere.\n",
    "\n",
    "It's supposedly about who knows more about sports. And that's plausible. Sports-knowing is a sort of skill. Making predictions about the future that are better than random is a skill, too. Maybe there's some sort of American civic virtue in the combination of the two.\n",
    "\n",
    "Of course, \"Grifting the Rubes\" is also an American civic virtue, in some circles.\n",
    "\n",
    "![never give a sucker an even break movie poster, from wikipedia](img/sucker.jpg)\n",
    "\n",
    "\"You wanna bet on it\" is a primal reaction to somebody saying something you think is wrong about sports. I get it. \n",
    "\n",
    "I remember back in early 2017, getting in a disagreement with somebody online over whether Andre Drummond or Nikola Jokic would be the better NBA player in the long run. He didn't want to make a bet on it, unfortunately. I think Drummond was an All-Star that year and Jokic was still a nobody. He would often get winded after about 5 minutes and commit a silly foul so he could get subbed out. I should've gotten pretty good odds on it.\n",
    "\n",
    "The distinction between games of skill and games of chance is significant to me. Many things have an element of chance to them. Certainly sports. Despite the randomness, most of the time, the team that plays better wins the game. It's possible to win the game through merit. That's not true of some types of sports bets. Skilled bettors will lose less often, but they will still lose over the long run."
   ]
  },
  {
   "cell_type": "markdown",
   "metadata": {},
   "source": [
    "### Dutch Books\n",
    "\"You wanna bet on it\" is also the key to an idea in the area where philosophy and economics meet called [Decision Theory](https://en.wikipedia.org/wiki/Decision_theory).  Both economists and philosophers have a keen professional interest in what is or isn't rational behavior. It makes things way messier if you have to account for people who behave in ways that don't follow logical patterns. Economists need perfectly rational human beings even more than they need [spherical cows](https://en.wikipedia.org/wiki/Spherical_cow). I've seen some awfully fat cows, but I've never seen a perfectly logical human.\n",
    "\n",
    "How do you determine whether an individual made the right choice for themselves? Sometimes, it's a subjective judgement based on what the individual values. But, the theory goes, if betting according to a person's stated beliefs would be guaranteed to lose them money, their beliefs are irrational. Not because you or I think they're irrational, but because they violate the rules of probability theory and logic, and lead to these guaranteed losing bets. Look, I'm not saying you're crazy, [Abraham De Moivre](https://en.wikipedia.org/wiki/Abraham_de_Moivre) is!\n",
    "\n",
    "This is called the Dutch Book Theorem. \"Making a book\" means a situation where a bookmaker is guaranteed to win money no matter the outcome, and a Dutch Book is specifically when they'll make the exact same amount either way. They're getting paid the same amount regardless of who wins.\n",
    "\n",
    "It's basically a rigorous, formal definition of a *sucker*: someone who is guaranteed to lose money because of their garbage beliefs.\n",
    "\n",
    "I have feelings about the morality of betting, but for the most part they're not really relevant to how the math works."
   ]
  },
  {
   "cell_type": "markdown",
   "metadata": {},
   "source": [
    "### Game Recognize Game Theory\n",
    "The Dutch Book Theorem was created by a guy named [Frank P. Ramsey](https://en.wikipedia.org/wiki/Frank_Ramsey_(mathematician)). He made major contributions to philosophy, economics, and math by the age of 26. He died in 1930 after swimming in a polluted river. \n",
    "\n",
    "He's basically the Len Bias of math. It hurts to just imagine if he had lived another 10 years and got to play in the Computer Science era. Can you imagine him and Turing on the floor together? With [Russell](https://en.wikipedia.org/wiki/Bertrand_Russell) playing Center?  Good luck [halting](https://en.wikipedia.org/wiki/Halting_problem) that. Dude would have gotten 40 a night. \n",
    "\n",
    "No way [Nash](https://en.wikipedia.org/wiki/John_Forbes_Nash_Jr.) is  [winning](https://en.wikipedia.org/wiki/Abel_Prize) two [MVP's](https://en.wikipedia.org/wiki/Nobel_Memorial_Prize_in_Economic_Sciences) if Ramsey didn't die so young.\n",
    "\n",
    "![the homie, fp ramsey](img/homie.jpg)\n",
    "\n",
    "This probably won't be his only appearance."
   ]
  },
  {
   "cell_type": "markdown",
   "metadata": {},
   "source": [
    "\n",
    "### The pleasure is to play, makes no difference what you say\n",
    "Can you really do a Dutch Book argument against someone putting down a few bets for fun? Aren't they getting pleasure out of it, regardless of outcome? \n",
    "\n",
    "I accept you can't really say it has a negative expected value for the individual. If a gambler's goal is to lose money in an entertaining fashion rather than make money, then maybe they aren't irrational for betting the way almost everybody does. \n",
    "\n",
    "But there's a dark side to this. People aren't paying thousands of dollars to buy picks because they want to lose money in a more fun way. They do it because they think it will make them money in the long run. Or at least make them back the money they have already lost.\n",
    "\n",
    "Here's [a particularly egregious promise](https://experts.winnersandwhiners.com/cappers/37) from one pick seller (who charges $1200 a year for his picks):\n",
    "\n",
    "> \" If you follow ______'s advice by playing his selections you are going to find yourself making a decent second income from gambling. If you are working full-time, have a family, or have other interests, then you can't possibly put in the time required to win at sports-betting. Don't let this opportunity pass you by, hop on board with ___ and start cashing now!\"\n",
    "\n",
    "That's borderline criminal to me.\n",
    "\n",
    "I don't know that betting small amounts every once in a while is especially irrational. You can do that knowing you'll probably lose money, and it might bring some extra fun if it's a game you'd enjoy anyway. I only know that gamblers who bet regularly are supposedly doing it to make money. If somebody's habitually taking sucker bets despite expecting they will make money, I think that's a clear Dutch Book situation. It also makes gambling a potentially more addictive habit than drugs. I don't think anyone starts using drugs because they think it will make them rich.\n",
    "\n",
    "Unfortunately, the book isn't some starving philosophy grad student, it's DraftKings. By losing all the time, these habitual gamblers are funding the companies making sports crappier for the rest of us. \n",
    "\n",
    "### Guaranteed Losers\n",
    "\n",
    "Some types of bets will lose money over the long term, even for skilled bettor. These are the ones that get pushed the hardest: parlays, prop bets, teasers, in-game betting.\n",
    "\n",
    "If nothing else, I hope you will understand why these types of bets are extra bad. Nobody rationally trying to make money would take them. They are games of chance, not games of skill, and have negative expected value, often worse than playing craps or baccarat in a casino. \n",
    "\n",
    "These bets may as well be rigged carnival games. If you take the wrong types of bets, your skill or knowledge doesn't matter. They are losers for everybody who can't see the future. If you really can see the future, and you're using those magical powers to figure out who's going to win a random Hornets-Pacers game, I don't know what to tell you."
   ]
  },
  {
   "cell_type": "markdown",
   "metadata": {},
   "source": [
    "\n",
    "### The spread and other gambling nonsense\n",
    "I will be discussing betting on point spreads on the NBA. The idea behind a point spread is that while both teams might not be equally likely to win the game, there's some difference in score, some handicap that could be given to the better team so that both outcomes are equally likely. \n",
    "\n",
    "If you're playing \"HORSE\" against a child, you might offer to start at \"HOR\" to make the contest more interesting. I mean, you're still hustling the kid, because little Billy has no way of knowing your jumper's [wet](https://www.espn.com/espnw/news/story/_/id/6608288/nba-playoffs-finals-word-nba-slang), but at least it's a contest on paper.\n",
    "\n",
    "Say a really good NBA team is playing a really bad one. The really good team might win 90% of the time, which isn't interesting to bet for most people. But they might beat the other team by over 10 points 50% of the time, though. So a fair point spread for that game would be -10. If the favorites win by more than 10, the favorite wins. if they win by less than 10 or lose outright, the underdog side wins. \n",
    "\n",
    "Both sides of the bet are more interesting if it's a 50/50 thing. The math is nicer, too!\n",
    "\n",
    "\"Handicapping\" is estimating the point spread, and sports bettors are really betting on whether the handicapper's estimate of the final point differential is too high or too low, rather than betting for a specific team. \n",
    "\n",
    "There are many other ways of betting on sports besides the spread, but it's probably the least bad option, as we shall see, and the math is the simplest to understand, which means the bookie has less of an inherent edge.\n",
    "\n",
    "\"Units\" are a way to talk about gains and losses in a way that isn't tied to the amount of money you started out with or the bet size you take.\n",
    "\n",
    "I will try to avoid other gambling lingo, which isn't necessary and really only serves to make betting seem like a cool activity that you can get good at by learning a bunch of gambling lore. It's not. It's all bullshit, and probably makes you worse by reinforcing cognitive biases."
   ]
  },
  {
   "cell_type": "markdown",
   "metadata": {},
   "source": [
    "### The Vig\n",
    "For the type of bets I'm discussing here, you have to risk slightly more than you win. That difference is called the vig and is the way the sportsbook makes money. Sometimes it is called \"the juice\".\n",
    "\n",
    "That means you have to win more often than you lose in order to just break even. [Your Uncle Juice](https://www.youtube.com/watch?v=726Ujz_KOHE) is not, in fact, a good man. \n",
    "\n",
    "How much more often? Let's do the math. Let \"WP\" be winning percentage and \"LP\" be losing percentage. Those have to add up to 100. Let's find the break-even point where the winning percentage is high enough to cancel out the cost of the vig:\n",
    "\n",
    "$WP - (VIG * LP) > 0$\n",
    "\n",
    "We also know that\n",
    "\n",
    "$WP + LP = 100$\n",
    "\n",
    "so with a little algebra:\n",
    "\n",
    "$LP < 100/(1+VIG)$\n",
    "\n",
    "and\n",
    "\n",
    "$WP > 100 - (100/(1+VIG))$\n",
    "\n",
    "A standard bet on the spread has a vig of \"-110\" which means you have to risk 1.1x more than you win. If the \"-110\" looks funny to you, America uses different notation for betting than other countries. Luckily, the laws of probability are true everywhere, and my grandfathers didn't fight in WWII just for me to have to learn some other way of writing the odds.\n",
    "\n",
    "At -110, you have to win at least 52.4% of the time just to break even."
   ]
  },
  {
   "cell_type": "code",
   "execution_count": 71,
   "metadata": {},
   "outputs": [
    {
     "data": {
      "text/plain": [
       "52.38095238095238"
      ]
     },
     "execution_count": 71,
     "metadata": {},
     "output_type": "execute_result"
    }
   ],
   "source": [
    "vig = 1.1\n",
    "\n",
    "100 - (100/(1+vig))"
   ]
  },
  {
   "cell_type": "markdown",
   "metadata": {},
   "source": [
    "If there is the same amount of money on each side of the bet and the vig is -110, the sportsbook is going to get 5% of the total amount bet no matter who wins or loses. Pretty sweet business, right? \\$[153,000,000](https://www.oddsshark.com/nfl/super-bowl/how-much-is-bet) was bet on the Super Bowl in Las Vegas in 2023, netting a profit for the casinos of 7.6 Million dollars at full vig."
   ]
  },
  {
   "cell_type": "markdown",
   "metadata": {},
   "source": [
    "Even though they already have a license to print money, sportsbooks have come up with a whole slew of different ways to get people to pay more than the 5% per bet of a standard vig. If you had common sense, you'd assume that the types of bets most heavily promoted have the highest profit margins for the sportsbooks and are the worst for you. That's just capitalism, baby! But, if you had common sense, you probably wouldn't be betting in the first place. So here we are.\n",
    "\n",
    "The higher the vig, the harder it is to make money taking that type of bet. If you win 50% of the time, then your wins cancel out your losses. The vig is actually what makes people go broke.\n",
    "\n",
    "Here's a plot of break-even winning percentage versus the vig."
   ]
  },
  {
   "cell_type": "code",
   "execution_count": 73,
   "metadata": {},
   "outputs": [
    {
     "data": {
      "image/png": "[encoded data removed]",
      "text/plain": [
       "<Figure size 640x480 with 1 Axes>"
      ]
     },
     "metadata": {},
     "output_type": "display_data"
    }
   ],
   "source": [
    "vig_range = np.arange(1.0, 10, .05)\n",
    "\n",
    "break_even_point = 100 - (100/(1+vig_range))\n",
    "\n",
    "vig_label = -100 * vig_range\n",
    "\n",
    "plt.plot(vig_label, break_even_point)\n",
    "plt.gca().invert_xaxis()\n",
    "plt.ylabel(\"winning percentage\")\n",
    "plt.xlabel(\"vig\")\n",
    "plt.grid()"
   ]
  },
  {
   "cell_type": "markdown",
   "metadata": {},
   "source": [
    "Here's the interesting part of the graph for the bets I'll be talking about:"
   ]
  },
  {
   "cell_type": "code",
   "execution_count": 74,
   "metadata": {},
   "outputs": [
    {
     "data": {
      "image/png": "[encoded data removed]",
      "text/plain": [
       "<Figure size 640x480 with 1 Axes>"
      ]
     },
     "metadata": {},
     "output_type": "display_data"
    }
   ],
   "source": [
    "vig_range = np.arange(1.00, 1.3, .01)\n",
    "\n",
    "break_even_point = 100 - (100/(1+vig_range))\n",
    "\n",
    "vig_label = -100 * vig_range\n",
    "\n",
    "plt.plot(vig_label, break_even_point)\n",
    "plt.gca().invert_xaxis()\n",
    "\n",
    "plt.ylabel(\"break even %\")\n",
    "plt.xlabel(\"vig\")\n",
    "plt.grid()"
   ]
  },
  {
   "cell_type": "markdown",
   "metadata": {},
   "source": [
    "Think about the vig a minute. Make sure these things are clear in your mind.\n",
    "\n",
    "1) the size of the vig will affect how much advantage or disadvantage the player has versus the house. It can turn a winner into a loser.\n",
    "2) If there's any vig at all, you have to win more than 50% of the time to not go broke in the long run. \n",
    "3) Even a tiny vig will eat up your bankroll if you win 50% of your bets. that money isn't lost on being wrong, it's lost on overhead.\n",
    "4) If a vig is high enough, there's no possible way to make money on betting in the long run, no matter how good you are. \n",
    "5) If you don't know the vig, you can't say you took the bet with a rational expectation of winning money. how would you know whether making money is even possible?"
   ]
  },
  {
   "cell_type": "markdown",
   "metadata": {},
   "source": [
    "The sportsbooks have a lot of ways to get people to pay more than the standard vig. It's not always obvious how much the vig is on some *fancy* bet types.\n",
    "\n",
    "The most popular type of *fancy* bet is the parlay.\n",
    "\n",
    "### Parlays\n",
    "\"Parlay\" means \"to talk\" in French, so it's no surprise dudes always want to talk about them online.\n",
    "\n",
    "The idea behind a parlay is that you can bet on multiple things at once and if they all win, you make a nice profit, otherwise you lose. \n",
    "\n",
    "Why would they be offering this bet if it was good for you?  \n",
    "\n",
    "Expected value (EV) is the weighted average of all the possible outcomes. You've already seen that with the vig when I calculated the break-even point -- how often do you have to win to break even on average? If the win percentage is higher than that, the expected value is positive; if it's lower, the EV is negative.\n",
    "\n",
    "The standard payout on a 4 team parlay is 10:1 [3]. What is the expected value of such a play? is it higher or lower than taking the individual bets?\n",
    "\n",
    "It's easy to grind the math on this one, but maybe a simulation makes it more convincing. we'll do a bunch of bets and see whether the parlay or the individual bets are better. I can't say \"make us more money\" because both types of bets are guaranteed losers without some sort of edge. \n",
    "\n",
    "This is such a bad bet on the surface that to understand it, I have to give you a little taste of parlay culture first.\n"
   ]
  },
  {
   "cell_type": "markdown",
   "metadata": {},
   "source": [
    "### Nephew Doug\n",
    "Say you have 4 \"can't miss\" bets you want to make. You just got into betting on sports, so as a newbie you're trying to learn from experts by listening to gambling podcasts. That's a natural thing to do. These guys have been gambling for decades. Surely they must know what's up.\n",
    "\n",
    "You've listened to Nephew Doug's podcast, and wrote down his Locks of the Week. You're ready to enter them into your betting app, which has been hand-optimized to be as much of a dopamine and money sink as possible.\n",
    "\n",
    "Because you listen every week, you know Nephew Doug has been burdened by the Gods with the gift of prophecy. He's like a modern day Cassandra, only it's about how the Cowboys are always going to suck. \n",
    "\n",
    "Now, the Gods like a little competition. The Olympics were invented as a religious ceremony in their honor, after all. But they're not above making a call from on high to nudge the result a little bit. Zeus is definitely a Chiefs fan.\n",
    "\n",
    "So you believe ahead of time Nephew Doug's picks will win 60% of the time. Which way of betting these picks will bring you the most money in the long run?\n",
    "\n",
    "1) \"throw 'em all in a 4 team parlay\" like Doug and his buddy Jorts Guy do\n",
    "2) randomly choose 3 of Nephew Doug's picks and bet them individually. Don't do anything with the 4th one."
   ]
  },
  {
   "cell_type": "markdown",
   "metadata": {},
   "source": [
    "Maybe option 2 seems insane to you. But let's game it out. Parlays at old school casinos pay at 10/1; online sportsbooks pay 12.28/1.\n",
    "\n",
    "You listen to Nephew Doug, but I don't. My assumption would be this guy sucks at his picks and only wins 50% of the time, or close to it. Let's see how that works out at 10:1 payout."
   ]
  },
  {
   "cell_type": "code",
   "execution_count": 2,
   "metadata": {},
   "outputs": [],
   "source": [
    "import numpy as np\n",
    "import matplotlib.pyplot as plt\n",
    "import pandas as pd\n",
    "import texttable\n",
    "import scipy"
   ]
  },
  {
   "cell_type": "code",
   "execution_count": 49,
   "metadata": {},
   "outputs": [
    {
     "name": "stdout",
     "output_type": "stream",
     "text": [
      "parlay: -3,040,300.00, straight: -2,003,360.00, ratio: 0.6589349735223499\n"
     ]
    },
    {
     "data": {
      "text/plain": [
       "1.517600431275457"
      ]
     },
     "execution_count": 49,
     "metadata": {},
     "output_type": "execute_result"
    }
   ],
   "source": [
    "rng = np.random.default_rng(2718)\n",
    "np.random.seed(2718)\n",
    "\n",
    "def do_some_bets(skill = .5, payout=1000, vig=1.1, throw_one_out=False, random_fourth_bet=False):\n",
    "    BETS  = 100000\n",
    "\n",
    "    straight_profit_loss = 0\n",
    "    parlay_profit_loss = 0\n",
    "\n",
    "    for b in range(BETS):\n",
    "        bet1 = rng.random() < skill\n",
    "        bet2 = rng.random() < skill\n",
    "        bet3 = rng.random() < skill\n",
    "        bet4 = rng.random() < skill\n",
    "\n",
    "        if bet1 and bet2 and bet3 and bet4:\n",
    "            parlay_profit_loss = parlay_profit_loss + payout\n",
    "        else:\n",
    "            parlay_profit_loss = parlay_profit_loss - 100\n",
    "\n",
    "        for bet in [bet1, bet2, bet3]:\n",
    "            if bet:\n",
    "                straight_profit_loss = straight_profit_loss + 100\n",
    "            else:\n",
    "                straight_profit_loss = straight_profit_loss - (vig * 100)\n",
    "\n",
    "        if not random_fourth_bet:\n",
    "            if throw_one_out:\n",
    "                pass\n",
    "            else:\n",
    "                if bet4:\n",
    "                    straight_profit_loss = straight_profit_loss + 100\n",
    "                else:\n",
    "                    straight_profit_loss = straight_profit_loss - (vig * 100)\n",
    "        else:\n",
    "            # what if the 4th bet is taken by flipping a coin?\n",
    "            alt_bet4 = rng.random() < .5\n",
    "            if alt_bet4:\n",
    "                straight_profit_loss = straight_profit_loss + 100\n",
    "            else:\n",
    "                straight_profit_loss = straight_profit_loss - (vig * 100)\n",
    "\n",
    "    ratio = straight_profit_loss/parlay_profit_loss\n",
    "    print(f\"parlay: {parlay_profit_loss:,.2f}, straight: {straight_profit_loss:,.2f}, ratio: {ratio}\")\n",
    "    return ratio\n",
    "\n",
    "result = do_some_bets(skill=.5)\n",
    "1/result"
   ]
  },
  {
   "cell_type": "markdown",
   "metadata": {},
   "source": [
    "At 50% win rate, if you take enough of these four team parlays, you're going to lose around 1.5x more taking the parlay than taking the individual bets. Which is what you'd expect given the payout is 10:1 instead of a fair $1/(2*2*2*2) = 1/16 = 15:1$.\n",
    "\n",
    "What if Nephew Doug truly has been partially blessed by the Gods, and can beat the lines 60% of the time? Now you're turning a profit either way, but maybe parlays offer a better return if he's that skilled? "
   ]
  },
  {
   "cell_type": "code",
   "execution_count": 15,
   "metadata": {},
   "outputs": [
    {
     "name": "stdout",
     "output_type": "stream",
     "text": [
      "parlay: 4,217,500, straight: 6,335,110.0, ratio: 1.502100770598696\n"
     ]
    }
   ],
   "source": [
    "ratio = do_some_bets(skill=.6)"
   ]
  },
  {
   "cell_type": "markdown",
   "metadata": {},
   "source": [
    "Nope, if Nephew Doug is ridiculously good at betting, you'd make around 1.5x profit taking the individual bets rather than doing the 4 team parlay. \n",
    "\n",
    "What if you only take 3 individual bets and don't bet the fourth one, as I proposed? At 60% win rate, this is irrational. You're throwing away profit in the long run, betraying Nephew Doug, and angering the gods with your hubris.\n",
    "\n",
    "Maybe the parlay would make more money in that case?"
   ]
  },
  {
   "cell_type": "code",
   "execution_count": 16,
   "metadata": {},
   "outputs": [
    {
     "name": "stdout",
     "output_type": "stream",
     "text": [
      "parlay: 4,384,700, straight: 4,885,680.0, ratio: 1.114256391543321\n"
     ]
    }
   ],
   "source": [
    "ratio = do_some_bets(skill=.6, throw_one_out=True)"
   ]
  },
  {
   "cell_type": "markdown",
   "metadata": {},
   "source": [
    "No! You would still make 10% or so more by taking the individual bets and throwing out one.\n",
    "\n",
    "There is a win rate where parlays would make more money than the straight bets. If you win 100% of the time, the parlay is definitely a better deal, right? 10x profits taking the parlay versus 4x taking the original bets. \n",
    "\n",
    "It's somewhere between 60 and 100%. It's not hard to calculate, but 60% is already much higher than anybody can reasonably achieve betting on sports, a thing played by humans (unreliable, to put it mildly) in the future (also notoriously unreliable). \n",
    "\n",
    "The best handicappers who sell their picks are only winning around 55% of the time, as I will show later on. If you have to do better at something than people who do it for a living just to break even, that's not a great plan.\n",
    "\n",
    "OK, one final parlay with Nephew Doug. Instead of taking the fourth bet, or throwing it out, we choose the 4th one by flipping a coin. This 4th bet has a negative expected value so maybe finally the parlay will win?"
   ]
  },
  {
   "cell_type": "code",
   "execution_count": 9,
   "metadata": {},
   "outputs": [
    {
     "name": "stdout",
     "output_type": "stream",
     "text": [
      "parlay: 4,249,400, straight: 4,339,270.0, ratio: 1.021148868075493\n"
     ]
    }
   ],
   "source": [
    "ratio = do_some_bets(skill=.6, random_fourth_bet=True)"
   ]
  },
  {
   "cell_type": "markdown",
   "metadata": {},
   "source": [
    "Nope, the parlay still loses.\n",
    "\n",
    "What if Doug is not actually blessed by the gods, but is savvy and knows a lot about sports? 54.7% is a reasonable win rate. A gambler could make money at that level, which is better than 97% of gamblers do."
   ]
  },
  {
   "cell_type": "code",
   "execution_count": 6,
   "metadata": {},
   "outputs": [
    {
     "name": "stdout",
     "output_type": "stream",
     "text": [
      "parlay: -186,900.00, straight: 1,470,240.00, ratio: -7.8664526484751205\n"
     ]
    }
   ],
   "source": [
    "ratio = do_some_bets(skill=.547, throw_one_out=True)"
   ]
  },
  {
   "cell_type": "markdown",
   "metadata": {},
   "source": [
    "The parlays lose money. The straight bets make 1.5 Million dollars, *even in this idiotic scenario where we throw one bet in four out*.\n",
    "\n",
    "It should be obvious that throwing out the 4th pick will also lose less money if Nephew Doug is no better than a coin flip. If a bet has negative expected value, it's always better for you not to take it. You should really throw out all four picks in that case. Take a zero team parlay. Go get yourself a nice bagel instead of turning your account balance into one. My lox of the week are way better than Doug's.\n",
    "\n",
    "### Online Parlays\n",
    "\n",
    "![parlay calculator from draftkings](img/parlay.png)\n",
    "\n",
    "Online parlays have a higher payout, so they're less obviously bad. But they're still a worse deal in the range of success that I think a good sports bettor should expect. And they only look OK when compared to \"full juice\" bets.\n",
    "\n",
    "At 54.7% win rate, they're basically equal."
   ]
  },
  {
   "cell_type": "code",
   "execution_count": 46,
   "metadata": {},
   "outputs": [
    {
     "name": "stdout",
     "output_type": "stream",
     "text": [
      "parlay: 1,903,165.13, straight: 1,893,610.00, ratio: 0.9949793479033452\n"
     ]
    }
   ],
   "source": [
    "ONLINE_PAYOUT = 1228.33\n",
    "ratio = do_some_bets(skill=.547, payout=ONLINE_PAYOUT)"
   ]
  },
  {
   "cell_type": "markdown",
   "metadata": {},
   "source": [
    "Perhaps surprisingly, parlays do a little less badly than straight bets if you're no better than a coin flip."
   ]
  },
  {
   "cell_type": "code",
   "execution_count": 36,
   "metadata": {},
   "outputs": [
    {
     "name": "stdout",
     "output_type": "stream",
     "text": [
      "parlay: -1,639,490.98, straight: -1,927,970.00, ratio: 1.1759564544844927\n"
     ]
    }
   ],
   "source": [
    "ratio = do_some_bets(skill=.5, payout=ONLINE_PAYOUT)"
   ]
  },
  {
   "cell_type": "markdown",
   "metadata": {},
   "source": [
    "While \"classic\" parlays have a break even point of 54.9%, online parlays have the same break-even point as the straight bets - 52.4%."
   ]
  },
  {
   "cell_type": "code",
   "execution_count": 47,
   "metadata": {},
   "outputs": [
    {
     "name": "stdout",
     "output_type": "stream",
     "text": [
      "classic parlay: 0.5491004867761125\n",
      "online parlay:  0.5238421994973542\n"
     ]
    }
   ],
   "source": [
    "\n",
    "print(\"classic parlay:\", np.exp(np.log(1/11)/4))\n",
    "print(\"online parlay: \", np.exp(np.log(1/13.28)/4))"
   ]
  },
  {
   "cell_type": "markdown",
   "metadata": {},
   "source": [
    "At a 60% win rate, the parlays are about 12% more profitable."
   ]
  },
  {
   "cell_type": "code",
   "execution_count": 44,
   "metadata": {},
   "outputs": [
    {
     "name": "stdout",
     "output_type": "stream",
     "text": [
      "parlay: 7,310,796.56, straight: 6,431,080.00, ratio: 0.8796688496553229\n"
     ]
    },
    {
     "data": {
      "text/plain": [
       "0.8796688496553229"
      ]
     },
     "execution_count": 44,
     "metadata": {},
     "output_type": "execute_result"
    }
   ],
   "source": [
    "do_some_bets(skill=.6, payout=ONLINE_PAYOUT)"
   ]
  },
  {
   "cell_type": "markdown",
   "metadata": {},
   "source": [
    "Does that mean that parlays are actually a better deal for the skilled bettor (53-56% win rate)?"
   ]
  },
  {
   "cell_type": "markdown",
   "metadata": {},
   "source": [
    "### The actual math\n",
    "The probability of all 4 bets winning is $p^{4}$ and you earn 12.28. The house wins the rest of the time, and you lose -1.\n",
    "\n",
    "EV[parlay]  = $(12.28 * p^{4}) - (1-p^{4})$\n",
    "\n",
    "For the 4 straight bets, we can take the profit/loss of one bet and multiply by 4.\n",
    "\n",
    "EV[4 bets] = $4 * (p - (1.1 * (1-p)))$\n",
    "\n",
    "Let's plot both of those functions for a range of win rates (p). The red line is the parlay, the blue line is the 4 regular bets."
   ]
  },
  {
   "cell_type": "code",
   "execution_count": 40,
   "metadata": {},
   "outputs": [
    {
     "data": {
      "text/plain": [
       "[<matplotlib.lines.Line2D at 0x2a724d85a50>]"
      ]
     },
     "execution_count": 40,
     "metadata": {},
     "output_type": "execute_result"
    },
    {
     "data": {
      "image/png": "[encoded data removed]",
      "text/plain": [
       "<Figure size 640x480 with 1 Axes>"
      ]
     },
     "metadata": {},
     "output_type": "display_data"
    }
   ],
   "source": [
    "def straight_ev(p):\n",
    "    return 4 * (p - (1.1 * (1-p)))\n",
    "\n",
    "def parlay_ev(p):\n",
    "    return (12.28 * (p**4)) - (1-p**4)\n",
    "\n",
    "x = np.linspace(.5, .6, num=100)\n",
    "straight = straight_ev(x)\n",
    "parlay = parlay_ev(x)\n",
    "\n",
    "plt.plot(x,straight)\n",
    "plt.plot(x,parlay, color=\"r\")"
   ]
  },
  {
   "cell_type": "markdown",
   "metadata": {},
   "source": [
    "here's the difference of the two."
   ]
  },
  {
   "cell_type": "code",
   "execution_count": 41,
   "metadata": {},
   "outputs": [
    {
     "data": {
      "text/plain": [
       "<matplotlib.lines.Line2D at 0x2a724d05a90>"
      ]
     },
     "execution_count": 41,
     "metadata": {},
     "output_type": "execute_result"
    },
    {
     "data": {
      "image/png": "[encoded data removed]",
      "text/plain": [
       "<Figure size 640x480 with 1 Axes>"
      ]
     },
     "metadata": {},
     "output_type": "display_data"
    }
   ],
   "source": [
    "plt.plot(x, parlay-straight)\n",
    "# TODO: label axes\n",
    "plt.axhline(0)"
   ]
  },
  {
   "cell_type": "markdown",
   "metadata": {},
   "source": [
    "Below the horizontal line is where the parlay does worse.\n",
    "\n",
    "So, compared to 4 bets at \"full vig\", an online parlay will:\n",
    "1) lose less money in the range where both bets lose money (p=.5 to .524)\n",
    "2) make less money in the range of p=.524 to p=.56\n",
    "3) make more money when p>.56\n",
    "\n",
    "So even though they're not as bad as the classic parlay, they're still a bit worse in the region that a gambler should care about. Even at 60% win rate, they're not that much more profitable than the straight bets."
   ]
  },
  {
   "cell_type": "markdown",
   "metadata": {},
   "source": [
    "### Reduced Juice vs. Parlays\n",
    "\n",
    "Some online sportsbooks offer the ability to bet \"reduced juice\", which means risking <span class=\"tex2jax_ignore\">$105 (or $106, depending on the sportsbook) to make $100.</span>\n",
    "\n",
    "Although the online parlays aren't bad compared to \"full juice\" (risk 110 to win 100), they do terribly against reduced juice."
   ]
  },
  {
   "cell_type": "code",
   "execution_count": 80,
   "metadata": {},
   "outputs": [
    {
     "data": {
      "text/plain": [
       "[<matplotlib.lines.Line2D at 0x2a728471a50>]"
      ]
     },
     "execution_count": 80,
     "metadata": {},
     "output_type": "execute_result"
    },
    {
     "data": {
      "image/png": "[encoded data removed]",
      "text/plain": [
       "<Figure size 640x480 with 1 Axes>"
      ]
     },
     "metadata": {},
     "output_type": "display_data"
    }
   ],
   "source": [
    "def straight_ev_rj(p, juice=1.05):\n",
    "    return 4 * (p - (juice * (1-p)))\n",
    "\n",
    "x = np.linspace(.5, .6, num=100)\n",
    "\n",
    "reduced_juice = straight_ev_rj(x)\n",
    "\n",
    "plt.plot(x, parlay_ev(x), color=\"r\")\n",
    "plt.plot(x, reduced_juice, color=\"b\")\n"
   ]
  },
  {
   "cell_type": "markdown",
   "metadata": {},
   "source": [
    "Bets at reduced vig have a much lower break-even point, at 51.2% versus 52.4% for the online parlay and \"full juice\" bets. You only need to be half as good to make money."
   ]
  },
  {
   "cell_type": "code",
   "execution_count": 90,
   "metadata": {},
   "outputs": [
    {
     "data": {
      "text/plain": [
       "51.21951219512195"
      ]
     },
     "execution_count": 90,
     "metadata": {},
     "output_type": "execute_result"
    }
   ],
   "source": [
    "vig = 1.05\n",
    "100 - (100/(1+vig))"
   ]
  },
  {
   "cell_type": "markdown",
   "metadata": {},
   "source": [
    "Here's the difference between the two. They're a significantly worse value everywhere. Almost 10% lower profits in the range of p=.53 to .56."
   ]
  },
  {
   "cell_type": "code",
   "execution_count": 88,
   "metadata": {},
   "outputs": [
    {
     "data": {
      "text/plain": [
       "<matplotlib.lines.Line2D at 0x2a7284c4590>"
      ]
     },
     "execution_count": 88,
     "metadata": {},
     "output_type": "execute_result"
    },
    {
     "data": {
      "image/png": "[encoded data removed]",
      "text/plain": [
       "<Figure size 640x480 with 1 Axes>"
      ]
     },
     "metadata": {},
     "output_type": "display_data"
    }
   ],
   "source": [
    "plt.plot(x, parlay - reduced_juice)\n",
    "plt.axhline(0)"
   ]
  },
  {
   "cell_type": "markdown",
   "metadata": {},
   "source": [
    "The Nephew Doug situation applies here. Throwing out one of the four reduced juice bets is more profitable than taking the online parlay if the gambler has a 54.7% win rate."
   ]
  },
  {
   "cell_type": "code",
   "execution_count": 68,
   "metadata": {},
   "outputs": [
    {
     "name": "stdout",
     "output_type": "stream",
     "text": [
      "parlay: 1,909,806.78, straight: 2,120,000.00, ratio: 1.1100599401997158\n"
     ]
    }
   ],
   "source": [
    "ratio = do_some_bets(skill=.547, payout=ONLINE_PAYOUT, vig=1.05, throw_one_out=True)"
   ]
  },
  {
   "cell_type": "markdown",
   "metadata": {},
   "source": [
    "Flipping the coin for the fourth bet is likewise a slightly better option."
   ]
  },
  {
   "cell_type": "code",
   "execution_count": 69,
   "metadata": {},
   "outputs": [
    {
     "name": "stdout",
     "output_type": "stream",
     "text": [
      "parlay: 1,897,851.81, straight: 1,987,055.00, ratio: 1.0470021892803911\n"
     ]
    }
   ],
   "source": [
    "ratio = do_some_bets(skill=.547, payout=ONLINE_PAYOUT, vig=1.05, random_fourth_bet=True)"
   ]
  },
  {
   "cell_type": "markdown",
   "metadata": {},
   "source": [
    "At reduced juice, the gambler would have to achieve a win rate over 60% for the online parlays to make more money."
   ]
  },
  {
   "cell_type": "code",
   "execution_count": 70,
   "metadata": {},
   "outputs": [
    {
     "name": "stdout",
     "output_type": "stream",
     "text": [
      "parlay: 7,199,216.84, straight: 7,209,225.00, ratio: 1.001390173434365\n"
     ]
    }
   ],
   "source": [
    "ratio = do_some_bets(skill=.60, payout=ONLINE_PAYOUT, vig=1.05)"
   ]
  },
  {
   "cell_type": "markdown",
   "metadata": {},
   "source": [
    "### parlay vous\n",
    "\"But the guy on the podcast I listen to has been \"killing it\" on parlays this year\", I can hear you saying. I'm sure they've won a few, if they've taken enough of them. As we saw, if they're really making money overall on parlays, they'd be making more profits taking the individual bets, so they're not that smart. And I'd love to see their betting records. All of them, not just the ones they brag about after they win. I doubt any of these guys are making money over long stretches of time off of gambling.\n",
    "\n",
    "Gambling ads, sure. Everybody's taking gambling money right now, regardless of how it will hurt their brand, their audience, and the sport long term. Clearly there's a lot of money in talking about it. \n",
    "\n",
    "Where's all that ad money coming from? Isn't it obvious why they're pushing teasers and parlays and \"profit boosters\"? I love that last one. It's like saying Idi Amin served mankind.\n",
    "\n",
    "Why would they care about boosting YOUR profits? Unlike gamblers, they don't make negative expected value plays due to emotions or lack of information. Your irrationality is their business.\n",
    "\n",
    "### 20 years experience being wrong\n",
    "Although parlays are portrayed as a cool, advanced betting strategy for savvy players, they aren't. Any self-styled gambling expert who is taking them or recommending parlays should be ignored. Likewise, ignore any expert that doesn't bet reduced juice. I think ayone concerned with winning would play that way. Maybe there are exceptions to that I don't know about as a betting novice. But it's hard to argue with the math.\n",
    "\n",
    "If you were at a footrace and one of the competitors was running in giant clown shoes, you would assume that person wasn't really concerned with winning the race. They've willingly put themselves at a disadvantage, for some reason. Imagine if they told you they were going to teach you what they've learned about running. Would you still take their advice? If they haven't figured out it's easier to run in normal shoes, their years of experience are a mark against them.\n",
    "\n",
    "### Same game parlays\n",
    "Same game parlays (SGPs) are a new type of bet where a person can combine a bunch of bets on the same game. For instance Team X wins AND Player Y on team X scores over 30 points AND the point total is over 230 in the same game.\n",
    "\n",
    "Normal parlays are supposed to be on uncorrelated events. With SGPs, the events are necessarily going to be correlated with each other. The payout from the bet changes based on how correlated the events are. For instance team X might win more often when Player Y scores over 30 points. So the payout on an SGP is lower than the parlays we've looked at so far.\n",
    "\n",
    "Theoretically, there could be value on SGPs. If they price a parlay at +1200 but it wins 10% of the time, that's a nice return. But the payout for every single one is a huge math calculation that the sportsbook does for the bettor. The player would need to do those same calculations to know whether they're getting a fair price (positive expected value on the bet). But why would a sportsbook give the player a fair price? \n",
    "\n",
    "On the point spreads, bettors can take either side of the line. So the action of the free(ish) market sets the price. If a line is too high, a bettor can take the underdog and make a bet with positive expected value. Likewise if it is too low, they can take the favorite. The sportsbook's easiest way of making money is to attract an equal amount of bets on both sides, so they make money no matter who wins. You're not betting against them, they're just facilitating the bet.\n",
    "\n",
    "SGPs are a \"take it or leave it\" scenario. There is no way for the market to correct or punish bad prices, so there's no reason to believe they are ever fair, unless the sportsbook made a mistake. And why wouldn't they ban any bettor taking advantage of those mistakes? They could just track how often players are using the SGP pricing tool and block anyone who is using it too much, or simply winning too much.\n",
    "\n",
    "Multiple sportsbooks offer SGPs, so there may be some competition on price, but there's no incentive to make the price fair. If FanKings is offering the SGP at +600 and DraftDuel is offering it at +550, a naive bettor might take the +600 and think they're smart for bargain hunting. But if the SGP will only win 5% of the time, they're both horrible choices.\n",
    "\n",
    "I'll talk SGPs as a phenomenon later on. They're clearly a sucker bet, so doing the math isn't that exciting. But for now just think of them as the vape pens of betting. They're obviously super addictive, extremely popular with younger people, and you can't really know what's in them, but it's probably bad.\n",
    "\n",
    "Next up: I just assumed that the free market can correct pricing mistakes on point spreads. Is that really true, though?"
   ]
  }
 ],
 "metadata": {
  "kernelspec": {
   "display_name": "Python 3",
   "language": "python",
   "name": "python3"
  },
  "language_info": {
   "codemirror_mode": {
    "name": "ipython",
    "version": 3
   },
   "file_extension": ".py",
   "mimetype": "text/x-python",
   "name": "python",
   "nbconvert_exporter": "python",
   "pygments_lexer": "ipython3",
   "version": "3.11.9"
  }
 },
 "nbformat": 4,
 "nbformat_minor": 2
}
