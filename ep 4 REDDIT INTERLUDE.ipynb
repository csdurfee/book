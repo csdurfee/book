{
 "cells": [
  {
   "cell_type": "markdown",
   "metadata": {},
   "source": [
    "# What reddit says about sports betting\n",
    "by Casey Durfee    \n",
    "copyright 2025\n",
    "\n",
    "\n",
    "I thought I'd take a break from the math and look at the psychology and culture of betting online. These comments are all coming from reddit's /r/sportsbook forum."
   ]
  },
  {
   "cell_type": "markdown",
   "metadata": {},
   "source": [
    "## Favorites Bias\n",
    "\n",
    "The most common fallacy I see is thinking that if the underdog wins against the spread, it's somehow an upset. Of course it's not. It should happen half the time, right? The best NBA teams lose 25% of their games, and the worst NBA teams win 25% of their games, so even a good team losing to a bad team isn't all that surprising, in a season with 82 games."
   ]
  },
  {
   "cell_type": "markdown",
   "metadata": {},
   "source": [
    "![i lost, therefore it must be scripted](img/scripts.png#foo)"
   ]
  },
  {
   "cell_type": "markdown",
   "metadata": {},
   "source": [
    "If a good majority of the players don't give a fuck (to use the parlance of our times), why would the dogs be competitive? Wouldn't their players also not give a fuck? Really, players on a bad team should give even fewer fucks than players on good teams. It kinda sucks to try your hardest and lose anyway.\n",
    "\n",
    "What's not a fallacy is that teams and players don't care about what the line is. Nobody in the locker room is sad because they won the game but didn't make a certain half of the bettors happy."
   ]
  },
  {
   "cell_type": "markdown",
   "metadata": {},
   "source": [
    "![detroit](img/detroit.png)"
   ]
  },
  {
   "cell_type": "markdown",
   "metadata": {
    "vscode": {
     "languageId": "plaintext"
    }
   },
   "source": [
    "Funny how it's never rigged the other way. Say you knew a game was rigged, but didn't know which direction. If you flipped a coin, you'd have a 50% chance of picking the side that's guaranteed to win. Do these same bettors ever think they won a bet because it was rigged?\n",
    "\n",
    "To clarify the betting lingo here, \"his starters were close to early covers\" means this bettor took the over on a prop bet like Cade Cunningham over 20 points. Somehow, supposedly, the coach knew that his starters were close to going over on the prop bets, and pulled them from the game to prevent it from happening. [Because of reasons](https://knowyourmeme.com/photos/1155728-three-word-phrase).\n",
    "\n",
    "Because I need no excuse to look things up on basketball-reference, I checked out the games mentioned and nothing remotely like that happened. \n",
    "\n",
    "In [Utah vs. Detroit on December 19th](https://www.basketball-reference.com/boxscores/202412190DET.html), the starters played most of the 4th quarter. Detroit lost, but the bettor doesn't care about that. \n",
    "\n",
    "In [Detroit vs. Sacramento on December 26th, 2024](https://www.basketball-reference.com/boxscores/202412260SAC.html), the starters only played about half the fourth quarter.  But Detroit was trailing by 14 points going into the 4th, and they ended up winning the game by one point on the road. That's quite impressive. Even if the coach did it to mess with people who took the over on prop bets, he still won the game by playing the bench guys who led the comeback.\n",
    "\n",
    "If you've watched a bajillion basketball games, you've seen this before. The team is losing bad. The backups come in and get the team back in the game. Often they're playing against the other team's backups, which makes it easier. As fans, we love to watch games like that. It's a team sport, after all. I always feel a little vindicated when I keep watching a game that isn't close and it becomes competitive at the end.\n",
    "\n",
    "Some of these gripes seem a little self-aware, at least."
   ]
  },
  {
   "cell_type": "markdown",
   "metadata": {},
   "source": [
    "![wwe](img/wwe.png)"
   ]
  },
  {
   "cell_type": "markdown",
   "metadata": {},
   "source": [
    "Are there really a lot of people betting the first half unders on a random NBA game in January? Enough to risk a criminal conspiracy? \n",
    "\n",
    "If there were millions of dollars on one side of a prop bet like that, people would notice. the line would move drastically, for one thing. Maybe a large event like the Super Bowl could be rigged without anybody noticing the money. But some random NBA game it would stick out like a sore thumb."
   ]
  },
  {
   "cell_type": "markdown",
   "metadata": {},
   "source": [
    "![banlist](img/banlist.png)"
   ]
  },
  {
   "cell_type": "markdown",
   "metadata": {},
   "source": [
    "This bettor took a parlay involving Steph Curry scoring over a certain number of points. Notice how this person like Curry personally dissappointed them. \n",
    "\n",
    "The prop bet is a sort off instant parasocial relationship with a player where you get to be crappy and abusive at the guy on the internet because you bet on them. You're their business partner, see? You just want to see them do well, after all. The great thing about being mad at your new parasocial buddy is that enemies can't betray you, only friends.\n",
    "\n",
    "For a non-bettor, \"Curry didn't show up\" means he didn't have a good game. Players often get blamed by naive fans for not \"showing up\" when really the other side played great defense. Steph Curry is the best player on the Warriors. \"Double team the best guy and make somebody else beat you\" is a common defensive strategy, and it works a lot of the time. Nothing unfair about that! It's a team sport. Teams win and lose, not individuals. \n",
    "\n",
    "So maybe that's what happened here. But at least this version of \"Curry didn't show up\" has to do with the game itself. For a bettor, it means he didn't hit the over on the prop bet. It's not about the actual game anymore, only this player's performance relative to some arbitrary statistical threshold.\n",
    "\n",
    "*The banlist* is a common expression on the internet for players and teams that should not be bet on, for some reason. They somehow lose more than 50% when you bet on them. Note how the onus is put on the player. They're on \"the banlist\" because the player underperforms relative to spreads/point totals. But if that were true, it would be the handicapper's fault for doing the spreads wrong, not the player's fault. The player doesn't set the lines.\n",
    "\n",
    "Obviously LeBron doesn't hit the over 90% of the time so it's this weird co-mingling of stuff people would say before gambling went mainstream, and bettor specific gripes. Players are no longer \"clutch\" or \"bums\" because they win or lose games, they are because their prop bets win or lose or their teams win and lose versus the spread.\n",
    "\n",
    "The lines are supposed to be fair. If a player was really going over on their prop bets a lot more or less than 50%, the oddsmakers would adjust the lines until they were only winning 50ish percent of the time. That's the name of the game!\n",
    "\n",
    "It doesn't make sense to say a player always screws bettors over. There are two sides to every bet. Maybe you could say that Curry always screws half of bettors over. But that's true of every bet and every player.\n",
    "\n",
    "I've never seen a losing bettor complain that the bookmakers set the line too high. It's always the player's fault, for not meeting this arbitrary threshold that some math nerd decided was the midway point of all possible outcomes on the game.\n",
    "\n"
   ]
  },
  {
   "cell_type": "markdown",
   "metadata": {},
   "source": [
    "### These Foolish Things (Remind Me Of Ricky Council IV)\n",
    "\n",
    "![throwing the game](img/throwin.png)\n",
    "\n",
    "These are from [a game](https://plaintextsports.com/nba/2025-02-02/bos-phi) where the defending champion Boston Celtics came from behind to beat the 76ers. \n",
    "\n",
    "Someone who loved the NBA and didn't bet would think \"the defending champs played bad at the beginning, but then they handled their business at the end once the undermanned 76ers got tired or regressed to the mean\". The 76ers have tons of injuries right now and have to field some players that I don't think would be playing for another NBA franchise. Kyle Lowry is 39 years old and is their backup point guard. They're definitely 19-29 for a reason. \n",
    "\n",
    "Even scrubs in the NBA are staggeringly athletic and have spent their whole lives perfecting their craft. So any team can play well in stretches even if they have a lot of injuries, but their best players remaining have have to come out at some point, otherwise they get tired and play worse (or get injured). The 76ers bench only played a combined 41 minutes in that game. All five starters played an average of 40 minutes. In essence, the 76ers ran a six man rotation. Even teams in the playoffs don't do that, because the game is so fast and athletic now. Having guys playing 44 minutes in the regular season is not sustainable.\n",
    "\n",
    "The 76ers coach did all he could to maximize the chances of his team winning this game. Probably to his team's detriment long-term. When 5 of your top 6 players are injured, you probably shouldn't be playing the best players you have left 40+ minutes a game versus the defending champs. Maybe just take the L and have all your guys rested for the next game. \n",
    "\n",
    "The 76ers coach, Nick Nurse, is known for overplaying his best guys and this is a perfect example of that. This bettor is mad because the 76ers lost a game that any fan would say they actually tried too hard to win. It would have been cool to beat the defending champs, but it would be cooler to not have to play even worse players in 2 weeks because even more guys got injured."
   ]
  },
  {
   "cell_type": "markdown",
   "metadata": {},
   "source": [
    "## Let (Nick) Nurse Give You a Shot\n",
    "\n",
    "![solo monk](img/solomonk.png)\n",
    "\n",
    "Nick Nurse actually has a [Ph.D in philosophy](https://www.gq.com/story/nick-nurse-interview). I would love to talk shop with him. I majored in philosophy and used to have the album sleeve for \"Solo Monk\", the album he recommends, hanging on my door in college. We'd probably be fast friends.\n",
    "\n",
    "By the way, I [made a playlist](https://listen.tidal.com/playlist/70dd82c0-fffb-4274-8abd-405d817ff528) of a bunch of songs mentioned in this piece. (I'm Generation X, so you have to understand that's considered a great honor in my culture.)\n",
    "\n",
    "I'm sure Nick Nurse would have some interesting things to say about the Dutch Book Theorem. But I think I'd struggle with not getting snarky and asking what's the long term expected value of playing Justin Edwards for 44 minutes in that game, and whether that choice maximizes the likelihood of him not getting fired this year.\n",
    "\n",
    "![sixers](img/sixers.png)\n",
    "\n",
    "The Celtics, on the other hand, are one of the best and deepest teams in the league. They're 35-15 but could easily be 40-10 right now. Based on SRS, a measurement of average win/loss margin adjusted by strength of schedule, the Celtics are 7.9 points better than the average team, and the 76ers are 3.28 points worse than the average. So, on a neutral court, the Celtics should be 11 point favorites. Subtract 2.5 points from Boston because the game is in Philly, and that gives a line of PHI +8.5, the exact opening line. (I doubt SRS is a great way to forecast lines overall, but it might be worth looking at.)\n",
    "\n",
    "Philly ended up losing by 8. The opening line couldn't be more accurate (as I talked about in the section on line movements, many sportsbooks, like MGM Grand, always keep the line at +.5 -- they would move the line from +7.5 to +8.5 without stopping at +8.) \n",
    "\n",
    "The closing line was PHI +11.5. Philly did 3.5 points better than the free market said they would do. 3.5 points is two possessions, which is pretty significant. Anyone who bet for Philly on the spread won their bet, regardless of which line they took.\n",
    "\n",
    "The only people unhappy here were bettors who took Philly to win the game outright. But a team that is an 11.5 point underdog [only wins around 12% of the time](https://www.boydsbets.com/nba-spread-to-moneyline-conversion/), meaning the fair money line would be +716. The actual Philly money line was as low as +450 at some books, which is a terrible price for such a risk! So it was a longshot bet, and overpriced. The opening Philly money line was even worse, at +285, even though the fair price of PHI +8.5 (the opening spread) should have been +381. \n",
    "\n",
    "I talked earlier about \"de-vigging\" and how I think it probably applies the vig to the side more likely to lose the bet. On NBA basketball, I think that's probably the underdog on the money line, the over on prop bets, and the favorite on spreads. Those are the sides that I see naive bettors usually take -- the most plentiful oranges to squeeze \"the juice\" from.\n",
    "\n",
    "I know I kind of beat that one to death, but I've never seen an instance so perfect. The underdog played hard with most of their best players out, then ended up losing by the exact amount that SRS predicts they would do with their average lineup. Hand it to the 76ers, for almost winning a game with a depleted roster. They outperformed expectations, even though they lost."
   ]
  },
  {
   "cell_type": "markdown",
   "metadata": {},
   "source": [
    "### The Public Wants What The Public Gets\n",
    "\n",
    "![the public gets what the public wants](img/thepublic.png)"
   ]
  },
  {
   "cell_type": "markdown",
   "metadata": {},
   "source": [
    "So many gripes come from people who clearly don't watch NBA at all. The Raptors have won 4 of their last 5 games (and 8 out of their last 10 against the spread). They're finally healthy as a team. And this game was in Toronto, who are always a great crowd. \n",
    "\n",
    "The line was LAC -5, giving them a 34% chance of winning. Is it surprising when a .340 hitter in baseball gets a hit? If I roll a 6 sided die and it comes up \"1\" or \"2\", is that shocking?\n",
    "\n",
    "Toronto only won by 8. Nothing surprising here as an NBA fan. Toronto's actually pretty good when they have all their guys.\n",
    "\n",
    "The Portland game was similar, to an almost uncanny degree. Their opponents, Phoenix, were only 5 point favorites. The game was in Portland, who are also a great crowd. And Portland's been hoopin' lately. They have won 4 out of their last 5 games outright, and 8 straight against the spread. It was also a bad matchup for Phoenix on paper.  Phoenix's big men are bad, and Portland's big men are good. Portland as a team is deep and young, and getting better every game. Phoenix is old and shallow as a team, and getting worse every game.\n",
    "\n",
    "\n",
    "### Tanking\n",
    "\"Tanking\" is when the management of a basketball team decides to deliberately be bad in order to get better draft picks later on. The NBA salary cap is structured so that teams pretty much need to do this once a decade. Teams go all in to try to win a championship, and are left with a ton of big contracts and aging players after the window has closed. At some point they have to build for the future instead of keeping fading players.\n",
    "\n",
    "But I would assume players and coaches don't tank, ever. They have absolutely no reason to. Maybe they perform worse because being on a tanking team is a bummer, but they're not trying to be bad on purpose. Imagine a marginal player on a team that bad, and as an organization is trying to tank. Why wouldn't he try hard? The worse the team is, the more likely they draft someone better than him and he loses his job. Every game is a potential to make a name for themselves and find the next job in basketball.\n",
    "\n",
    "I definitely don't think Portland is trying to tank. They have more young players than have playing time, and several guys who are finally coming into their own this season. They could be pretty good next year. In my opinion, they should really be trading \"five quarters for a dollar\" -- multiple young players for a veteran who can provide some leadership and clear up roster space. Teams coming out of a tank need to learn how to be a winning team again, so they should be going for that. Developing too many guys at once is a problem. But nobody asked my basketball opinion.\n",
    "\n",
    "Maybe Toronto is trying to tank, but it's awfully hard to to win in the NBA without a top notch point guard, and they're just kind of a weird team overall. sometimes bad teams are just bad, even though they're trying to be competitive.\n",
    "\n",
    "Low info NBA bettors don't understand any of this. They think that taking the favorite against a team they've heard is tanking is a sure bet. Free money. Anyone who takes the other side must be the stupidest person on the face of the earth. Thus when they lose, rather than learn from the experience, they have to convince themselves that the league is a \"shit product\" or somehow corrupt, because you don't know who is going to win beforehand. \n",
    "\n",
    "Let that sink in. The NBA is a \"shit product\"... because it's too competitive.\n",
    "\n",
    "I only follow the NBA, so I can't say whether some of the bets are good or bad due to domain knowledge. But it's easy tell if a bettor is serious based on the bets they take. \n",
    "\n",
    "### There is no longer good or bad, there just is.\n",
    "![nuggets](img/nuggs.png)"
   ]
  },
  {
   "cell_type": "markdown",
   "metadata": {},
   "source": [
    "On the internet, a \"unit\" is usually 1%. So this bettor has risked 10.4% (4.4% + 5.5% + .5%) of their entire bankroll on a single side in a single game. That's way too aggressive for even the best gamblers in the world, as I will show.\n",
    "\n",
    "The payout of the same game parlay is only +1250, because the legs are correlated. If every leg of the parlay were independent, a fair price for the parlay would be $1/2^{7} = +12800$, in other words over 10 times higher. The \"fair\" price is somewhere between +1250 and +12800, but we don't know where it is. I won't beat the parlay thing to death, but I've never seen a same game parlay that wasn't all overs and favorites, like this one, and that's clearly bad strategy. If 7 things all have to happen a certain way for you to win, you should probably be getting better than +1250, even if they are pretty highly correlated.\n",
    "\n",
    "If both sides have a roughly equal chance of winning, then a sophisticated bettor should probably be taking an equal amount of overs and unders, dogs and favorites. Not deliberately, but if we looked at their betting record over hundreds of bets, it should probably balance out\n",
    "\n",
    "Picking all overs for the same team on a single game is doubly bad strategy. There's only one basketball!\n",
    "\n",
    "### Just missing\n",
    "One of the most common types of posts on the internet is the parlay that just missed by one leg. This is a crazy \"parlay of parlays\" I saw.\n",
    "\n",
    "![justmissed](img/anotherparlay.png)"
   ]
  },
  {
   "cell_type": "markdown",
   "metadata": {},
   "source": [
    "Like the last parlay, notice how they took the over 20+ points for both Porzingis and Jayson Tatum. The \"only one basketball\" problem rears its head again -- they play on the same team, so if one of them scores on a possession, the other one can't. \n",
    "\n",
    "It's hard to estimate how strong the correlation between those two events are without actually doing a bunch of math. But it's a little weird to me to bet both of them to go over when the payout is only +383 for a 4 leg parlay (fair price at even odds would be +1600.)\n",
    "\n",
    "Why not just take one bet on the Celtics scoring a lot of points? Maybe do a 2 leg parlay that with an individual player you think will have a good game? Parlays are inherently stupid, as I've already covered. But there's a difference between a bet with -5% EV and one with -15% EV. There are different degrees of stupid.\n",
    "\n",
    "This parlay has at least 8 legs to it. One might think that winning 7/8 legs is only twice as likely as winning all 8. But that's incorrect.\n",
    "\n",
    "If the bets were all at even odds, it's 8x more likely for an 8 leg parlay to miss by one leg. There are 8 ways to miss by one leg, and only one way to win all 8 legs. \"Just barely missing\" on these huge parlays is going to be happen 4x more often than naive probability might indicate."
   ]
  },
  {
   "cell_type": "code",
   "execution_count": 25,
   "metadata": {},
   "outputs": [
    {
     "name": "stdout",
     "output_type": "stream",
     "text": [
      "won 3912, almost won 31337, ratio 8.010480572597137\n"
     ]
    }
   ],
   "source": [
    "\n",
    "import scipy.stats\n",
    "\n",
    "import numpy as np\n",
    "\n",
    "\n",
    "def sim_almost_winning(chance_of_winning=.5, games_in_parlay=8, num_bets=1000000):\n",
    "    games_won = 0\n",
    "    almost_missed = 0\n",
    "    for x in range(num_bets):\n",
    "        outcomes = np.random.random_sample(games_in_parlay) < chance_of_winning\n",
    "        num_won = sum(outcomes)\n",
    "        if num_won == 8:\n",
    "            games_won += 1\n",
    "        elif num_won == 7:\n",
    "            almost_missed += 1\n",
    "\n",
    "    print(f\"won {games_won}, almost won {almost_missed}, ratio {almost_missed/games_won}\")\n",
    "\n",
    "\n",
    "sim_almost_winning()"
   ]
  },
  {
   "cell_type": "markdown",
   "metadata": {},
   "source": [
    " I think someone who takes a lot of these is going to feel like they *could* win on parlays because of these frequent near-misses. If only they had taken a different bet for that 8th leg!"
   ]
  },
  {
   "cell_type": "markdown",
   "metadata": {},
   "source": [
    "The closer the odds of winning each leg are to 1, the lower the ratio will get, and intuitively, at some point it will flip. Imagine each leg had a 99% chance of winning. Then winning all 8 is going to be the most likely outcome. Not winning would only happen 7.7% of the time."
   ]
  },
  {
   "cell_type": "code",
   "execution_count": 36,
   "metadata": {},
   "outputs": [
    {
     "data": {
      "text/plain": [
       "0.07725530557207994"
      ]
     },
     "execution_count": 36,
     "metadata": {},
     "output_type": "execute_result"
    }
   ],
   "source": [
    "1 - (.99**8)"
   ]
  },
  {
   "cell_type": "markdown",
   "metadata": {},
   "source": [
    "\n",
    "If they were parlaying 8 bets with -400 odds (80% chance of winning) on each, the ratio is pretty close to the \"naive\" interpretation.\n",
    "\n",
    "But it's still higher than it \"should\" be if you really think about it. If the chance of winning the last bet is 80%, why should that \"last bet\" cause the parlay to lose half the time?"
   ]
  },
  {
   "cell_type": "code",
   "execution_count": 27,
   "metadata": {},
   "outputs": [
    {
     "name": "stdout",
     "output_type": "stream",
     "text": [
      "won 167617, almost won 335838, ratio 2.003603453110365\n"
     ]
    }
   ],
   "source": [
    "sim_almost_winning(chance_of_winning=.8)"
   ]
  },
  {
   "cell_type": "markdown",
   "metadata": {},
   "source": [
    "I put \"last bet\" in quotes because there's no inherent order to the legs of the bet. They're not complaining because the last one they put on the ticket lost, or the last game to finish lost. They're complaining because 1 out of 8, in any order, lost. The brain rearranges the results so it was 7 games won, and then the last one lost."
   ]
  },
  {
   "cell_type": "markdown",
   "metadata": {},
   "source": [
    "### The only move is not to play\n",
    "\n",
    "There are many, many people who say the same thing about every game they lose: the game is rigged, officials need to be investigated. They are going to quit gambling on the NBA because it is fake. And then they're back the next day saying the same thing, betting nothing but favorites and overs. It's clearly a way of externalizing their self-directed anger at losing.\n",
    "\n",
    "I collected a bunch of examples, but it's a bummer to see people rationalizing their addiction and blaming other people -- and finding a community of thousands of other gambling addicts to support those delusions. \n",
    "\n",
    "The worst thing you can do is point out basic stuff to these guys. I've never tried, but here's another brave soul fighting the good fight:\n",
    "\n",
    "![lol stfu](img/reason.png)"
   ]
  },
  {
   "cell_type": "markdown",
   "metadata": {},
   "source": [
    "### Learning to Lose\n",
    "If you lose, it was rigged. But if it's rigged, you can't really say you won or lost due to skill. You just happened to pick the \"rigged for\" side if you won, and the \"rigged against\" side if you lost. That definitely has nothing to do with understanding the NBA, or having skill as a gambler. These people are betting in what they believe is a rigged lottery, and losing. And still not stopping.\n",
    "\n",
    "It's hard to see any joy in that. I'm willing to believe a lot of people get more entertainment out of betting than it costs them, even if they're pretty bad at betting. But I feel certain those types of people aren't claiming the game is rigged when their bets lose. If it wasn't fun, they wouldn't do it.\n",
    "\n",
    "That's true of any vice, I suppose. Some people can do a little, have fun, and be fine, but other people will turn into addicts. The big difference with sports betting is that people do it with the expectation of getting money. I don't think many people start doing drugs or some other vice because they think it will make them rich. [TODO: check if I've said this before]\n",
    "\n",
    "I'll get back to the psychology in a bit, but it's time for more math. Which teams get the most money bet on them? Does that have anything to do with winning and losing against the spread?"
   ]
  }
 ],
 "metadata": {
  "kernelspec": {
   "display_name": "Python 3",
   "language": "python",
   "name": "python3"
  },
  "language_info": {
   "codemirror_mode": {
    "name": "ipython",
    "version": 3
   },
   "file_extension": ".py",
   "mimetype": "text/x-python",
   "name": "python",
   "nbconvert_exporter": "python",
   "pygments_lexer": "ipython3",
   "version": "3.11.9"
  }
 },
 "nbformat": 4,
 "nbformat_minor": 2
}
