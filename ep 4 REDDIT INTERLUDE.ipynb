{
 "cells": [
  {
   "cell_type": "markdown",
   "metadata": {},
   "source": [
    "# What reddit says about sports betting\n",
    "by Casey Durfee    \n",
    "copyright 2025\n",
    "\n",
    "\n",
    "I thought I'd take a break from the math and look at the psychology and culture of betting online. These comments are all coming from reddit's /r/sportsbook forum in late January to early February 2025.\n",
    "\n",
    "There is more swearing that math, a few self-indulgent digressions and some Patti Smith."
   ]
  },
  {
   "cell_type": "markdown",
   "metadata": {},
   "source": [
    "## Favorites Bias\n",
    "\n",
    "The most common fallacy I see is thinking that if the underdog wins, it's somehow an upset. Of course it's not. It should happen half the time against the spread, right? The best NBA teams lose 25% of their games, and the worst NBA teams win 25% of their games, so even a good team losing to a bad team isn't all that surprising over the course of an 82 game season."
   ]
  },
  {
   "cell_type": "markdown",
   "metadata": {},
   "source": [
    "![i lost, therefore it must be scripted](img/scripts.png#foo)"
   ]
  },
  {
   "cell_type": "markdown",
   "metadata": {},
   "source": [
    "If a good majority of the players don't give a single fuck (to use the parlance of our times), why would the underdogs be competitive? Wouldn't their players also not give a single fuck? Why would they be the underdogs if all it took to win was fuck-giving? I'd love to see the advanced stats on that -- this guy's got the most fucks per 36 since Wilt Chamberlain!\n",
    "\n",
    "Underdogs are \"so competitive\" because that's how the line works. The underdog is supposed to win 50% against the line. That's true regardless of how hard both teams are playing.\n",
    "\n",
    "I watch a lot of basketball and it's incredibly rare to see players on the court not trying, but it's incredibly common to see fans saying players \"don't care\" whenever the other team plays well on offense, or their team plays poorly on offense. I think it's a new basketball fan thing -- it takes a while to understand how to watch defense. \n",
    "\n",
    "But it's so much worse than it was before sports betting became legal. Bettors don't seem to watch the game to enjoy it, or learn from it, or even just have something on in the background. It's all about \"the sweat\" -- anxiously watching the game, trying to will CJ McCollum to get his 4th rebound of the night or something. How could you ever learn anything about basketball in such a condition?\n",
    "\n",
    "Teams and players don't care about what the line is. Nobody in the locker room is sad because they won the game but didn't make a certain half of the bettors happy. Why would they care? Every game, around half the bettors are going to be disappointed.\n",
    "\n",
    "This bias towards favorites requires believing that only one side of the bet is reasonable to take, which is a failure to understand how sportsbooks work. \n",
    "\n",
    "Any time the \"unreasonable\" side of a 50:50 proposition wins, they talk about how Vegas \"screwed the public\", which is so weird because the world of social gambling is framed almost as a battle between the smart money and everybody else. \n",
    "\n",
    "Shouldn't someone want to on the side of the smart money? It's a game of skill, why wouldn't you emulate people with skills? If you wanted to get good at basketball, you should probably emulate people who are good at it, not commiserate with a bunch of other people who don't know how to do it after you lose a game."
   ]
  },
  {
   "cell_type": "markdown",
   "metadata": {},
   "source": [
    "![detroit](img/detroit.png)"
   ]
  },
  {
   "cell_type": "markdown",
   "metadata": {
    "vscode": {
     "languageId": "plaintext"
    }
   },
   "source": [
    "Funny how it's never rigged the other way. Say you knew a game was rigged, but didn't know which direction. If you flipped a coin, you'd have a 50% chance of picking the side that's guaranteed to win. Do these same bettors ever think they won a bet because it was rigged?\n",
    "\n",
    "To clarify the betting lingo here, \"his starters were close to early covers\" means this bettor took the over on a prop bet like Cade Cunningham over 20 points. Somehow, supposedly, the coach knew that his starters were close to going over on the prop bets, and pulled them from the game to prevent it from happening. [Because of reasons](https://knowyourmeme.com/photos/1155728-three-word-phrase).\n",
    "\n",
    "Because I need no excuse to look things up on basketball-reference, I checked out the games mentioned and nothing remotely like that happened. \n",
    "\n",
    "In [Utah vs. Detroit on December 19th](https://www.basketball-reference.com/boxscores/202412190DET.html), the starters played most of the 4th quarter. Detroit lost, but the bettor doesn't care about that. \n",
    "\n",
    "In [Detroit vs. Sacramento on December 26th, 2024](https://www.basketball-reference.com/boxscores/202412260SAC.html), the starters only played about half the fourth quarter.  But Detroit was trailing by 14 points going into the 4th, and they ended up winning the game by one point on the road. That's quite impressive. Even if the coach did it to mess with people who took the over on prop bets, he still won the game by playing the bench guys who led the comeback.\n",
    "\n",
    "If you've watched a bajillion basketball games, you've seen this before. The team is losing bad. The backups come in and get the team back in the game. Often they're playing against the other team's backups, which makes it easier. As fans, we love to watch games like that. It's a team sport, after all. I always feel a little vindicated when I keep watching a game that isn't close and it becomes competitive at the end.\n",
    "\n",
    "Some of these gripes seem a little self-aware, at least."
   ]
  },
  {
   "cell_type": "markdown",
   "metadata": {},
   "source": [
    "![wwe](img/wwe.png)"
   ]
  },
  {
   "cell_type": "markdown",
   "metadata": {},
   "source": [
    "Are there really a lot of people betting the first half unders on a random NBA game in January? Enough to risk a criminal conspiracy? Even somebody good at this stuff is going to lose 44% of the time. \n",
    "\n",
    "If there were millions of dollars on one side of a prop bet like that, people would notice. the line would move drastically, for one thing. Maybe a large event like the Super Bowl could be rigged without anybody noticing. But some random NBA game it would stick out like a sore thumb. Seems like it would be tens of millions of dollars to bribe players, officials, whoever. You'd have to hide so much money.\n",
    "\n",
    "![small stakes give you the minimum blues](img/smallstakes2.png)"
   ]
  },
  {
   "cell_type": "markdown",
   "metadata": {},
   "source": [
    "In the game in question, the Lakers were favored by 12 points and ended up losing by 3. They're claiming the game was rigged because the Lakers didn't beat the Charlotte Hornets.\n",
    "\n",
    "If the officials wanted the Lakers to lose, why call the foul and send Hachimura to the line with a chance to tie? So I suppose the implication is that the players rigged the game.\n",
    "\n",
    "Rui Hachimura makes $15 Million dollars a year. Luka Doncic makes $43 Million dollars a year. LeBron James makes $48 Million a year. Those players apparently risked their livelihoods and good names to throw a meaningless NBA game? Luka Doncic just joined the Lakers a few weeks ago. He's already in on a criminal conspiracy?\n",
    "\n",
    "The Los Angeles Lakers are the most valuable team in the NBA, the Hornets are one of the least valuable. A Lakers point shaving scandal would be catastrophic for the league while the Lakers winning another championship would be great for the league. LeBron James is obsessed with his legacy as one of the greatest of all time. A points shaving scandal would completely destroy that, and the NBA as a whole. And yet the Lakers losing is more believable than an underdog winning fair and square.\n",
    "\n",
    "The Lakers Money Line was -770, implying the Lakers had about an 11.5% chance of winning the game. If there are 7 games a night and they were all at -770 odds,  there's only a 43% chance that all 7 favorites would win:"
   ]
  },
  {
   "cell_type": "code",
   "execution_count": 6,
   "metadata": {},
   "outputs": [
    {
     "data": {
      "text/plain": [
       "0.42520943728899635"
      ]
     },
     "execution_count": 6,
     "metadata": {},
     "output_type": "execute_result"
    }
   ],
   "source": [
    ".885 **7"
   ]
  },
  {
   "cell_type": "markdown",
   "metadata": {},
   "source": [
    "Naive people tend to take favorites more often. It turns out they will do that [even when told the lines are biased against the favorites](https://academic.oup.com/jcr/article-abstract/38/1/1/1798316)! \n",
    "\n",
    "At least on reddit, the bettors most convinced that sports are rigged are the ones most addicted to gambling. This user has, in just the past 48 hours, alleged that tennis, NBA, college basketball, and soccer matches were all rigged against them.\n",
    "\n",
    "![misery loves company](img/mental.png)"
   ]
  },
  {
   "cell_type": "markdown",
   "metadata": {},
   "source": [
    "## This One Weird Trick to Always Bet the Favorites\n",
    "\n",
    "Some people have self-awareness that always betting the favorites is a losing strategy, but they feel compelled to do it anyway. So they look for ways to make it less costly.\n",
    "\n",
    "![first half spreads](img/firsthalf.png)"
   ]
  },
  {
   "cell_type": "markdown",
   "metadata": {},
   "source": [
    "Partial credit to this user for having a half-revelation (favorites can be a bad value). But they end up at the same place -- how about always betting the favorites on the first half spreads instead?\n",
    "\n",
    "Why would favorites win more than 50% of the time against the first half spreads? Over the long run, why would that be different?\n",
    "\n",
    "If someone believed that the full game spread was biased against the favorites, why not just take the underdogs? Betting on a favorite is more important than winning for some gamblers. A bet is almost like buying the jersey or the trading cards of their favorite team."
   ]
  },
  {
   "cell_type": "markdown",
   "metadata": {},
   "source": [
    "### \"Free Money\" Parlays\n",
    "\n",
    "I went over money line parlays a bit at the end of the last chapter. We saw that they can be an extremely bad value with a lot of hidden vig.\n",
    "\n",
    "It's unsurprising the internet has found a way to take a bad idea and make it worse: the \"free money\" parlay. A \"free money\" parlay is where a bettor will add a bunch of heavy favorites on the money line to a parlay until they get a bet that will pay out more than they risk. For instance, they might take a 4 team parlay of -500 favorites that will pay out +125 if it wins. \n",
    "\n",
    "These bettors genuinely believe that this technique is free money:\n",
    "\n",
    "![yes, the notorious generosity of Vegas casinos](img/freemoney.png)\n"
   ]
  },
  {
   "cell_type": "markdown",
   "metadata": {},
   "source": [
    "Once again, I'm gonna give partial credit for them realizing that \"all heavy favorites is a curse\". But they frame it as them being a wise bettor who does not fear Lady Luck and her magical curses -- they're not making the \"sexy\" pick like an average gambler would. They're using what they believe to be an advanced technique to take the \"unsexy\" free money.\n",
    "\n",
    "In case there is any free money reading this book, I want to make it clear I disagree with this guy. You're sexy to me, free money. I wouldn't kick you out of bed for eating crackers.\n",
    "\n",
    "They genuinely believe they know how this shit works and have hacked the system. How on earth do you de-program someone like that? It's pretty hard to use reason to change a belief that didn't come from reasoning in the first place.\n",
    "\n",
    "I'm not gonna go through the de-vigging math again, but the payout probably should have been at least +250 to break even on the bet. There's no \"curse\" involved, of course. The math says it's a bad bet, and you can't beat the math.\n",
    "\n",
    "As with every other type of \"fancy\" bet I've looked at, why would buying points ('taking an alt spread\") be a good deal? Why wouldn't the sportsbooks use that as a way to add even more vig to the bet? They're never going to willingly offer special options that lower their profitability. People would lose their jobs if that happened. Everybody's job is to separate the gambler from their cash as quickly and painlessly as possible.\n",
    "\n",
    "Options like alternative point spreads give the gambler a feeling of control, as though they can make the outcome more likely through the application of gambling lore "
   ]
  },
  {
   "cell_type": "markdown",
   "metadata": {},
   "source": [
    "### [Sweet revenge](https://www.youtube.com/watch?v=yVDRe_V-_wE)\n",
    "\n",
    "To normal-ass basketball fans, a \"revenge game\" is when a player goes against their former team, or another team that has supposedly wronged them. It's a running joke to find the most obscure player who got traded from one team to the other and call it the \"Ish Smith revenge game\" or something.\n",
    "\n",
    "In betting lingo, a \"revenge game\" is one where a team lost to the other one previously.  That's it. Team A beat Team B last time, therefore team B will want revenge and actually try hard to beat them, rather than mailing it in.\n",
    "\n",
    "\n",
    "![double revenge](img/doublerevenge.png)"
   ]
  },
  {
   "cell_type": "markdown",
   "metadata": {},
   "source": [
    "I don't feel like testing this one, but it seems silly. It's extra silly if you're talking about wins and losses against the spread. Or talking about multiple year trends, when there's so much roster turnover from year to year.\n",
    "\n",
    "Certainly there are times when a player is extra motivated to have a good game by their personal history. Maybe player performance would be better, but the whole team? They're really remembering a game from three months ago? \n",
    "\n",
    "I just don't buy this idea that teams, as a whole, would respond with a significantly better effort because they lost the last two games to another team. Maybe if there were playoff implications to the game. But in general I think if a coach said, \"we're 0-2 against this team this year, let's not get swept\", the reaction is going to be, \"OK, cool\", not ripping off their shirt and swearing a blood oath to destroy the ~~Tojo Clan~~ Orlando Magic.\n",
    "\n",
    "As an NBA fan, I would be inclined to go the other way. Every team has strengths and weaknesses, and they mesh together in different ways. I've seen so many times where one team was just a terrible matchup for the other one, even though they had similar records. Unless the teams have changed personnel, the first 2 games are usually pretty good predictors of the 3rd game. There's no reason why the 3rd game has to go differently than the first two."
   ]
  },
  {
   "cell_type": "markdown",
   "metadata": {},
   "source": [
    "### The banlist\n",
    "\n",
    "![banlist](img/banlist.png)"
   ]
  },
  {
   "cell_type": "markdown",
   "metadata": {},
   "source": [
    "This bettor took a parlay involving Steph Curry scoring over a certain number of points. Notice how this person speaks like Curry personally dissappointed them. \n",
    "\n",
    "The prop bet is a sort off instant parasocial relationship with a player where you get to be crappy and abusive at the guy on the internet because you bet on them. You're their business partner, see? Assuming you took the \"over\", you just want to see them do well, after all. The great thing about being mad at your new parasocial buddy is that enemies can't betray you, only friends. Either they win or they were betrayed, and it wasn't their fault that they lost. Curry blew it, not the gambler.\n",
    "\n",
    "For a non-bettor, \"Curry didn't show up\" means he didn't have a good game. That can be a fallacy, too. Players often get blamed by naive fans for not \"showing up\" when really the other side played great defense. Steph Curry is the best player on the Warriors. \"Double team the best guy and make somebody else beat you\" is a common defensive strategy, and it works a lot of the time, particularly in a regular season game where there's not a lot of time to adjust the gameplan. Nothing unfair about that! It's a team sport. Teams win and lose, not individuals. \n",
    "\n",
    "So maybe that's what happened in this game. But at least in this context, \"Curry didn't show up\" has something to do with the game itself. For a bettor, it means he didn't hit the over on the prop bet, which teams and players don't care about. It's not about the actual game anymore, only this player's performance relative to some arbitrary statistical threshold.\n",
    "\n",
    "*The banlist* is a common expression on the internet for players and teams that should not be bet on, for some reason. They somehow lose more than 50% of the time when you bet on them.\n",
    "\n",
    "If that really were true, it would be the handicapper's fault for doing the player's spreads wrong, not the player's fault. The player doesn't set the lines. Nor does the player decide to take bets on biased lines, the gambler does. The player/coach/team has nothing to do with the bet, and yet they're the problem?\n",
    "\n",
    "The lines are supposed to be fair. If a player was really going over on their prop bets a lot more or less than 50%, the oddsmakers would adjust the lines until they were only winning 50ish percent of the time. And if they don't, the perfectly rational bettor is supposed to punish them by being willing to take the other side of the bet, not complain that the over is too high for them to win by taking it. That's the name of the game!\n",
    "\n",
    "Obviously LeBron doesn't hit the over 90% of the time either, so it's this weird co-mingling of stuff people would say about basketball players before gambling went mainstream, and bettor specific gripes. LeBron is the real GOAT, not because he's scored a lot of points or won a lot of championships, but because he didn't ruin your parlay.\n",
    "\n",
    "It's sad that players are no longer \"clutch\" or \"bums\" because they win or lose games, but because prop bets on them win or lose, or their teams win and lose versus the spread. But there are two sides to every bet. Maybe you could say that Curry always screws half of bettors over. That's true of every bet and every player! They can't screw over *all* the bettors, no matter how well or poorly they do. Sportsbooks wouldn't exist if it was never profitable to take the under.\n",
    "\n",
    "I've never seen a losing bettor complain that the bookmakers set the line too high. They're not responsible for anyone taking an unfair bet. Nobody gets coerced into betting. But at least they're involved in the action in a way the player isn't. It's always the player's fault, for not meeting this arbitrary threshold that some math nerd decided was the midway point of all possible outcomes on the event."
   ]
  },
  {
   "cell_type": "markdown",
   "metadata": {},
   "source": [
    "### [These Foolish Things (Remind Me Of Yabu)](https://www.youtube.com/watch?v=1Uv1iIQEiqk)\n",
    "\n",
    "![throwing the game](img/throwin.png)\n",
    "\n",
    "These are from [a game](https://plaintextsports.com/nba/2025-02-02/bos-phi) where the defending champion Boston Celtics came from behind to beat the 76ers. \n",
    "\n",
    "Someone who loved the NBA and didn't bet would think \"the defending champs played bad at the beginning, but then they handled their business at the end once the undermanned 76ers got tired\". The 76ers have tons of injuries right now and have to field some players that I don't think would be playing for another NBA franchise. Kyle Lowry was born while Ronald Reagan was President, and he's their backup point guard. They're trying their hardest to win games, but they're definitely 19-29 for a reason. \n",
    "\n",
    "Even scrubs in the NBA are staggeringly athletic and have spent their whole lives perfecting their craft. So any team can play well in stretches even if they have a lot of injuries, but their best players remaining have have to come out at some point, otherwise they get tired and play worse (or get injured). The 76ers bench only played a combined 41 minutes in that game. All five starters played an average of 40 minutes. In essence, the 76ers ran a six man rotation. Even teams in the playoffs don't do that, because the game is so fast and athletic now. Having guys playing 44 minutes in the regular season is not sustainable.\n",
    "\n",
    "The 76ers coach, Nick Nurse, did what he believed would maximize the chances of his team winning this game. Probably to his team's detriment long-term. When 5 of your top 6 players are injured, you probably shouldn't be playing the best players you have left 40+ minutes a game versus the defending champs. Maybe just take the L and have all your guys rested for the next winnable game.\n",
    "\n",
    "Nick Nurse is known for overplaying his best guys and this is a perfect example of that. This bettor is mad because the 76ers lost a game that most fans would say they actually tried too hard to win. It would have been cool to beat the defending champs, but it would be cooler to not have to play even worse players in 2 weeks because of more injuries."
   ]
  },
  {
   "cell_type": "markdown",
   "metadata": {},
   "source": [
    "![solo monk](img/solomonk.png)\n",
    "\n",
    "Nick Nurse actually has a [Ph.D in philosophy](https://www.gq.com/story/nick-nurse-interview). I would love to talk shop with him. I majored in philosophy and used to have the sleeve for \"Solo Monk\", the very album he recommends in the interview, hanging on my door in college. I imagine him getting a chuckle out of my fantasy basketball team name, The Ricky Council of Gary Trent. We'd probably be fast friends.\n",
    "\n",
    "By the way, I [made a mixtape](https://listen.tidal.com/playlist/70dd82c0-fffb-4274-8abd-405d817ff528) of a bunch of songs mentioned in this piece. I'm Generation X, so you have to understand that's considered a great honor in my culture.\n",
    "\n",
    "I'm sure Nick Nurse would have some interesting things to say about the Dutch Book Theorem, and whether Bertrand Russell was the Bill Russell of philosophy or not. But I think I'd struggle with not getting snarky and asking what's the long term expected value of playing starters for 44 minutes in that game, and whether that choice maximizes the likelihood of him not getting fired.\n",
    "\n",
    "![sixers](img/sixers.png)\n",
    "\n",
    "The Celtics, on the other hand, are one of the best and deepest teams in the league. They're 35-15 but could easily be 40-10 right now. Based on SRS, a measurement of average win/loss margin adjusted by strength of schedule, the Celtics are 7.9 points better than the average team, and the 76ers are 3.28 points worse than the average. So, on a neutral court, the Celtics should be 11 point favorites. Subtract 2.5 points from Boston because the game is in Philly, and that gives a line of PHI +8.5, the exact opening line. \n",
    "\n",
    "While I doubt SRS is a great way to forecast lines overall, it's a pretty good ballpark figure. If you had to bet on Lithuanian Handball and knew nothing about the teams, or even the sport, it wouldn't be the worst way to do it. (I like Dragūnas Klaipėda tonight, guys.)\n",
    "\n",
    "Philly ended up losing by 8. The opening line couldn't be more accurate. As I talked about in the section on line movements, many sportsbooks, like MGM Grand, always keep the line at +.5 -- they would move the line from +7.5 to +8.5 without stopping at +8.\n",
    "\n",
    "The closing line was PHI +11.5. Philly did 3.5 points better than the free market said they would do. 3.5 points is two possessions, which is pretty significant. Anyone who bet for Philly on the spread won their bet, regardless of which line they took.\n",
    "\n",
    "The only people unhappy here were bettors who took Philly to win the game outright AND thought a lead in the 3rd quarter should mean that team wins the game. It's bizarre that so many people would take such a strange longshot bet, then be mad when their bet lost.\n",
    "\n",
    "I talked earlier about \"de-vigging\" and how I think it probably applies the vig to the side more likely to lose the bet. On NBA basketball, my cynical belief is that it's probably the underdog on small money lines, the favorite on big money lines, the over on prop bets, and the favorite on spreads. Those are the sides that I see naive bettors usually take -- the most plentiful oranges to squeeze \"the juice\" from.\n",
    "\n",
    "I know I kind of beat that one to death, but I've never seen an instance so perfect. The underdog played hard with most of their best players out, then ended up losing by the exact amount that SRS predicts they would do with their average lineup. Hand it to the 76ers, for almost winning a game with a depleted roster. They outperformed expectations, even though they lost."
   ]
  },
  {
   "cell_type": "markdown",
   "metadata": {},
   "source": [
    "### [The Public Wants What The Public Gets](https://www.youtube.com/watch?v=AE1ct5yEuVY)\n",
    "\n",
    "![the public gets what the public wants](img/thepublic.png)"
   ]
  },
  {
   "cell_type": "markdown",
   "metadata": {},
   "source": [
    "So many gripes come from people who clearly don't watch NBA at all. The Raptors have won 4 of their last 5 games, and 8 out of their last 10 against the spread. They're finally healthy as a team. And this game was in Toronto, who are always seem to give them a boost. \n",
    "\n",
    "The line was LAC -5, giving the Raptors a 34% chance of winning. Is it surprising when a .340 hitter in baseball gets a hit? If I roll a 6 sided die and it comes up \"1\" or \"2\", is that shocking? Is one roll proof that the dice are loaded?\n",
    "\n",
    "Toronto only won by 8. Nothing surprising here as an NBA fan. Toronto's an OK team that started out badly, but they've been rolling for several weeks now.\n",
    "\n",
    "The Portland game was very similar. Their opponents, Phoenix, were only 5 point favorites. The game was in Portland, who are also a great crowd. And Portland's also been hoopin' lately. They have won 4 out of their last 5 games outright, and 8 straight against the spread. It was also a bad matchup for Phoenix on paper.  Phoenix's big men are bad, and Portland's big men are good. Portland as a team is deep and young, and getting better every game. Phoenix is old and shallow as a team, and getting worse every game. Portland's vibes are immaculate right now, and Phoenix's... aren't.\n",
    "\n",
    "### Tanking\n",
    "\"Tanking\" is when the management of a basketball team decides to deliberately be bad in order to get better draft picks later on. The NBA is structured so that teams pretty much need to do this once a decade. Partly this is due to the salary cap, partly the effects of the 2nd law of thermodynamics upon the human body. Father Time is undefeated.\n",
    "\n",
    "Teams go all in to try to win a championship, and are left with a ton of big contracts and aging players after the window has closed. At some point they have to reorient towards building for the future instead of keeping fading players.\n",
    "\n",
    "But I would assume players and coaches don't tank, ever. It's an upper management decision, not a labor decision. They have absolutely no reason to deliberately suck at their jobs.  Maybe they perform worse because being on a tanking team is a bummer, but there's no reason for them to be bad on purpose. \n",
    "\n",
    "Imagine a marginal player on a team that's bad, and as an organization is trying to tank. Why wouldn't the player try hard? The worse the team is, the more likely they draft someone better than him and he loses his job. Every game is a potential to make a name for themselves and find the next job in basketball. Playing on a bad team is already a strike against them. Maybe they were part of the problem.\n",
    "\n",
    "I definitely don't think Portland is trying to tank. They have more young players than they have playing time, and several guys who are finally coming into their own this season. They could be pretty good next year with a couple veterans to show them the ropes. And the year after that, who knows? \n",
    "\n",
    "Maybe Toronto is trying to tank, but they're just kind of a weird team overall. sometimes bad teams are just bad, even though they're trying to be competitive. \n",
    "\n",
    "Low info NBA bettors don't understand any of this. They must think that taking the favorite against a team they've heard is tanking is a sure bet. Free money. Anyone who takes the other side must be the stupidest person on the face of the earth. Thus when they lose, rather than learn from the experience, they have to convince themselves that the league is somehow corrupt, because people who don't follow basketball closely can't predict who is going to win beforehand. \n",
    "\n",
    "Let that sink in. The NBA is a \"shit product\", because it's too competitive."
   ]
  },
  {
   "cell_type": "markdown",
   "metadata": {},
   "source": [
    "### [When the mental cannot be moved, there is no longer good or bad. There just is.](https://www.youtube.com/watch?v=X0XRqrRH2CY)\n",
    "Bad gamblers have their tells.   \n",
    "\n",
    "![nuggets](img/nuggs.png)\n",
    "\n",
    "On the internet, a \"unit\" is usually meant to be 1%, regardless of the advantage over the house, which is not how I've used it before, as a placeholder for calculating the bet size using the Kelly criterion, and then betting some fraction of the Kelly amount. I'll look at variable bet sizing a little further on.\n",
    "\n",
    "Assuming that's the case, this bettor has risked 9.5% of their entire bankroll on a single side in a single game. That's way too aggressive for even the best gamblers in the world. It's also just bad risk management. One bet per team max would be safer, so if something weird happens in the game you're not losing 4 bets at once.\n",
    "\n",
    "The payout of the same game parlay is only +1250, because the legs are correlated, and the legs may not all be at even odds. If every leg of the parlay were independent, a payout for the parlay would be +12700, over 10 times higher. The \"fair\" price is somewhere between +1250 and +12700, but we don't know where it is and I've never seen a gambler try to calculate it on their own. \n",
    "\n",
    "I won't beat the parlay thing to death, but I've never seen a same game parlay that wasn't all overs and favorites, like this one, and that's clearly bad strategy. Just from a common sense angle, if 7 things all have to happen a certain way for you to win, you should probably be getting better than +1250, even if they are pretty highly correlated.\n",
    "\n",
    "If both sides have a roughly equal chance of winning, then a sophisticated bettor should probably be taking an equal amount of overs and unders, dogs and favorites. Not deliberately, but if we looked at their betting record over hundreds of bets, it should probably balance out.\n",
    "\n",
    "Picking all overs on points for several players on the same team on a single game is doubly bad strategy. There's only one basketball! I don't know if picking one guy to outperform on rebounds, another on assists, another on steals, etc. would be more interesting or profitable, but at least you're not betting against yourself so blatantly.\n",
    "\n",
    "Finally, notice how the bettor doesn't mention the vigs paid? They can be huge on prop bets. Strawther -110 is a very different proposition from -150. \n",
    "\n",
    "Imagine me angrily tapping the \"Stop Tipping Your Bookie\" sign here."
   ]
  },
  {
   "cell_type": "markdown",
   "metadata": {},
   "source": [
    "### Will You Please Take the Over, Pleae\n",
    "People who talk about props online always take the overs.\n",
    "\n",
    "Here's [a daily thread of prop bet suggestions on reddit](https://www.reddit.com/r/sportsbook/comments/1ievq24/nba_prop_picks_today_2125_saturday/). \n",
    "\n",
    "I looked through several days' worth, and there's maybe 1 *under* prop bet suggested for every 50 *over* prop bets.\n",
    "\n",
    "The most common thing I see are parlays of overs. I'm just exhausted figuring out how dumb these bets are. All this \"imagine the blah blah blah\". Look, there are many, many more ways that 8 bets could end up being 4 overs and 4 unders, or 5 overs/unders and 3 unders/overs, than all 8 being overs. Even 7 overs and 1 under is vastly more plausible than all 8 overs.\n",
    "\n",
    "I don't hate your parlay man, combinatorics does. I have to do the binomial thing again, don't I? Sheesh."
   ]
  },
  {
   "cell_type": "code",
   "execution_count": 34,
   "metadata": {},
   "outputs": [],
   "source": [
    "import scipy\n",
    "import pandas as pd\n",
    "import matplotlib.pyplot as plt\n",
    "\n",
    "LEGS = 8\n",
    "OVER_UNDER_RATIO = .5 # half overs, half unders, from a random sample of prop bets. why would it be any different?\n",
    "\n",
    "coin = scipy.stats.binom(LEGS, OVER_UNDER_RATIO)\n",
    "\n",
    "coin_df = pd.DataFrame({\n",
    "    'x': [x for x in range(LEGS + 1)],\n",
    "    'y': [coin.pmf(x) for x in range(LEGS + 1)]\n",
    "\n",
    "})\n",
    "#plt.bar(coin_df.x, coin_df.y)"
   ]
  },
  {
   "cell_type": "markdown",
   "metadata": {},
   "source": [
    "![you vs the statistician she told you not to worry about](img/mevsyou.png)"
   ]
  },
  {
   "cell_type": "markdown",
   "metadata": {},
   "source": [
    "Dig it?\n",
    "\n",
    "All 8 bets going over is as likely as one unique combination of 4 players going over and 4 going under. From that perspective, it's not more crazy. But in aggregate, after seeing parlay after parlay of nothing but overs, it's bananas.\n",
    "\n",
    "If I gave a bettor a random sample of 8 prop bets every day and they actually had some skill, they would probably come back with 3-5 of one and 5-3 of the other most of the time. Not necessarily, but if they were really good and we tracked them over a whole season, the number of overs taken would look a whole lot like something like the chart above. Almost never all overs, or dogs, or favorites, or unders.\n",
    "\n",
    "Doesn't mean somebody should *try* to pick an even number of each. It's just more believable that the picks were a result of skill if the overs/unders are roughly balanced.\n",
    "\n",
    "Sure, if there are 8 prop bets, and someone bets on 4 or 5 of them to go over, that isn't totally irrational in a way that taking all 8 overs is. But every bet is going to go over or under. In that case, wouldn't the ones they didn't pick be very likely to be unders? Isn't saying \"this has a low likelihood of going over\" the same as saying \"this has a high likelihood of going under\"?\n",
    "\n",
    "I can't come up with a reason why a sharp bettor wouldn't see value on both sides, assuming there is value to be found. Maybe I have computer brain. A machine learning system for this task would spit out a number between 0 and 1, where 0 means \"high chance of being an under\" and 1 is \"high chance of being an over\", it's probably not going to be good at just the overs or the unders because it's a binary classification, and machine learning algorithms try to minimize the error both ways.\n",
    "\n",
    "![the duality of man](img/dualityofman.png)"
   ]
  },
  {
   "cell_type": "markdown",
   "metadata": {},
   "source": [
    "If there were an average number of games on that night (7-8), either outcome is extremely unlikely, happening maybe once or twice a season."
   ]
  },
  {
   "cell_type": "markdown",
   "metadata": {},
   "source": [
    "### Near misses\n",
    "One of the most common types of gambling gripes on the internet is the parlay that just missed by one leg. This is a crazy \"parlay of parlays\" I saw. You can make a same game parlay, and then combine it with other bets into some kind of H.R. Geiger style parlay.\n",
    "\n",
    "![justmissed](img/anotherparlay.png)\n",
    "\n",
    "As a longtime sofware engineer, I enjoy a good recursive data structure, but having nested points of failure like that makes me want to wretch. Same thing for putting the same bet in multiple parlays, which I've heard people do. They will have one bet they like, so they add it as a leg to a bunch of other parlays. Why have every bet you placed wiped out at once by one flukey game? \n",
    "\n",
    "Failure is always an option. The world just isn't that predictable.\n",
    "\n",
    "I guess it's fun, because the gambler feels like they're being strategic. Like it's an advanced strategy for the real parlay-knowers. But if you want to feel like a winner, why not bet in a way that minimizes your chances of feeling like a total chump? Parlays are the opposite of that.\n",
    "\n",
    "Like the last parlay, notice how they took the over 20+ points for both Porzingis and Jayson Tatum. The \"only one basketball\" problem rears its head again -- they play on the same team, so if one of them scores on a possession, the other one can't. \n",
    "\n",
    "It's hard to estimate how strong the correlation between those two events are without actually doing a bunch of math. It could be positive or negative. Of course, your pals at the sportsbook are happy to do that math for you. It's a little weird to me to bet both of them to go over when the payout is only +383 for a 4 leg parlay (fair price at even odds would be +1500). Maybe the sportsbook did that math fairly, but what incentive would they have? \n",
    "\n",
    "I think people are picking these crazy parlays because it's a semi-creative act. It's like putting together a little story of what's going to happen in the game, or what they wish would happen. \"The Celts are gonna come out wicked hawt. This one kid, Payton Pritchahd, he's gonna hit a dozen threes tonight!\"\n",
    "\n",
    "Why not just take one bet on the Celtics scoring a lot of points? Maybe do a 2 leg parlay that with an individual player you think will have a good game if you want a little extra sauce? Parlays are inherently stupid. But there's a difference between a 2 leg parlay with -5% EV and a 4 legger with -15% EV, or in the case of money line or Same Game Parlays, an unknown EV that is probably horrible. There are levels to this stuff.\n",
    "\n",
    "We can't see the whole thing, but this parlay has at least 8 legs to it. Let's assume it's 8. One might think that almost winning is about twice as likely as winning all 8. Like, you'll get 'em next time, right?\n",
    "\n",
    "Nope. If the bets were all at even odds, a bettor will have 8 of these \"near misses\" for every single win. There are 8 ways to miss by one leg, and only one way to win all 8 legs. \"Just barely missing\" on these huge parlays is going to be happening 8x more often than winning. You probably won't, in fact, get 'em next time."
   ]
  },
  {
   "cell_type": "code",
   "execution_count": 25,
   "metadata": {},
   "outputs": [
    {
     "name": "stdout",
     "output_type": "stream",
     "text": [
      "won 3912, almost won 31337, ratio 8.010480572597137\n"
     ]
    }
   ],
   "source": [
    "import scipy.stats\n",
    "import numpy as np\n",
    "\n",
    "def sim_almost_winning(chance_of_winning=.5, games_in_parlay=8, num_bets=1000000):\n",
    "    games_won = 0\n",
    "    almost_missed = 0\n",
    "    for x in range(num_bets):\n",
    "        outcomes = np.random.random_sample(games_in_parlay) < chance_of_winning\n",
    "        num_won = sum(outcomes)\n",
    "        if num_won == 8:\n",
    "            games_won += 1\n",
    "        elif num_won == 7:\n",
    "            almost_missed += 1\n",
    "\n",
    "    print(f\"won {games_won}, almost won {almost_missed}, ratio {almost_missed/games_won}\")\n",
    "\n",
    "\n",
    "sim_almost_winning()"
   ]
  },
  {
   "cell_type": "markdown",
   "metadata": {},
   "source": [
    "Someone who takes a lot of these might feel like they *could* win on parlays because of these frequent near-misses. If only they had taken a different bet."
   ]
  },
  {
   "cell_type": "markdown",
   "metadata": {},
   "source": [
    "The closer the odds of winning each leg are to 1, the lower the ratio will getImagine each leg had a 99% chance of winning, or some number really close to 1. Winning all 8 is going to be more likely than losing any bets. at 99%, losing even a single bet would only happen 7.7% of the time."
   ]
  },
  {
   "cell_type": "code",
   "execution_count": 36,
   "metadata": {},
   "outputs": [
    {
     "data": {
      "text/plain": [
       "0.07725530557207994"
      ]
     },
     "execution_count": 36,
     "metadata": {},
     "output_type": "execute_result"
    }
   ],
   "source": [
    "1 - (.99**8)"
   ]
  },
  {
   "cell_type": "markdown",
   "metadata": {},
   "source": [
    "\n",
    "If they were parlaying 8 bets with -400 odds (80% chance of winning) on each, the ratio is pretty close to the naive interpretation.\n",
    "\n",
    "But it's still higher than it *should* be if you really think about it. If the chance of winning the last bet is 80%, why should that \"last bet\" cause the parlay to lose half the time?"
   ]
  },
  {
   "cell_type": "code",
   "execution_count": 27,
   "metadata": {},
   "outputs": [
    {
     "name": "stdout",
     "output_type": "stream",
     "text": [
      "won 167617, almost won 335838, ratio 2.003603453110365\n"
     ]
    }
   ],
   "source": [
    "sim_almost_winning(chance_of_winning=.8)"
   ]
  },
  {
   "cell_type": "markdown",
   "metadata": {},
   "source": [
    "I put \"last bet\" in quotes because it's not.\n",
    "\n",
    "There's no inherent order to the legs of the parlay. People aren't posting these \"near misses\" because the last one they put on the ticket lost, or the last game of the night lost, though I'm sure that makes it extra heartbreaking. They're usually  complaining because 1 out of 8, in any order, lost. If only I hadn't taken that one leg!\n",
    "\n",
    "Parlays take the winnings of the first leg and feed it into the second leg, and so on. So if the 3rd bet loses, it's totally irrelevant what happened after that point. Those bets never went into play, so whether they won or lost doesn't matter."
   ]
  },
  {
   "cell_type": "markdown",
   "metadata": {},
   "source": [
    "### Sprinkling\n",
    "\n",
    "A common bit of internet parlance is \"sprinkling\". This refers to taking really small bets, usually on something crazy. FThe sportsbooks make it easy to follow someone else's crazy 15 leg parlay, so people will copy them, but only bet a buck or two.\n",
    "\n",
    "Becuase \"sprinkling\" is an established term, people will use that as a justification, like it's a technique that \"the pros\" use. It's more gambling lore that actually makes you worse at gambling.\n",
    "\n",
    "Why would a \"pro\" take a bet they didn't expect to make money long term? Betting a small amount on a bet with negative expected value is less crazy than betting a large amount, I suppose. But I would say that irrational is irrational -- any negative EV play indicates the player isn't really trying to maximize how much money they make. The correct amount to bet when you have negative EV is zero.\n",
    "\n",
    "It also creates a false dichotomy where the bettor's other plays are the \"smart\" ones. You know, normally they eat healthy food but today is their cheat day or something. We already know that for the overwhelming majority of bettors, that isn't the case.\n",
    "\n",
    "I think the belief that \"if I'm going to lose money, might as well be fun\" is a little defensible. Maybe the \"sprinking\" bets are less crazy than the \"safe\" bets, because they provide more joy and are done with the full expectation of losing expected value. But it makes no sense to have bets taken to make money, and bets taken to have fun, when neither category makes money. Maybe knowingly doing something crazy is less crazy than unknowingly doing so."
   ]
  },
  {
   "cell_type": "markdown",
   "metadata": {},
   "source": [
    "### Taking the same bet multiple ways\n",
    "\n",
    "![both ways](img/bothways.png)\n",
    "\n",
    "Another dubious technique I have seen is betting the same side in multiple ways. For instance, doing the parlay of a bunch of bets, and also taking the individual bets. Or betting the spread and the money line on the same game.\n",
    "\n",
    "It should be an either-or decision. Either the parlay or the individual bets have a higher expected value. Either the money line or the spread has a higher expected value. Why would a rational bettor put any money on the worse version of the bet? It isn't a way to control financial risk or maximize reward.\n",
    "\n",
    "The Warriors were \"sky high\" in the market because they had been consistently winning against the spread. I like the contrarianism, but it seems a little misplaced to risk 4% on that one angle. How do the teams actually match up? Have the Magic actually been playing good? The conventional wisdom is right a lot of the time, even when it's about a popular \"public\" team like the Warriors.\n",
    "\n",
    "Both bets lost. The one comment in that thread recommending taking the Warriors was downvoted, which is common. The wisdom of crowds can't really compete with the internet hivemind at work."
   ]
  },
  {
   "cell_type": "markdown",
   "metadata": {},
   "source": [
    "### Learning to Lose\n",
    "For many gamblers online, if they lose it was rigged. But if it's rigged, they can't really say they won or lost due to skill. They just happened to pick the \"rigged for\" side if they won, and the \"rigged against\" side if they lost. That definitely has nothing to do with understanding the NBA, or having skill as a gambler. These people are betting in what they believe is a rigged lottery, and losing. And they keep playing regardless. Learning how to rationalize and externalize losing better to avoid learning any useful lessons about life or gambling.\n",
    "\n",
    "It's hard to see any joy in that. And I'm sure it costs people a lot more than money in their lives. \n",
    "\n",
    "I'm willing to believe a lot of people get more entertainment out of betting than it costs them, even if they're pretty bad at it. But I don't think those people are claiming the game is rigged when their bets lose. If it wasn't fun, they wouldn't do it.\n",
    "\n",
    "That's true of any vice, I suppose. Some people can do a little, have fun, and be fine, but other people will turn into addicts. The big difference with sports betting is that people do it with the expectation of making money. I don't think many people start doing drugs or some other vice because they think it will make them rich.\n",
    "\n",
    "It also ruins sports discussions. People hate players because they \"don't try\" -- meaning hitting some arbitrary statistical threshold they should only be expected to hit 50% of the time. They root for teams to win them money, not play well. Is that all sports are good for? I don't think anyone hates sports as much as pathological sports gamblers do."
   ]
  }
 ],
 "metadata": {
  "kernelspec": {
   "display_name": "Python 3",
   "language": "python",
   "name": "python3"
  },
  "language_info": {
   "codemirror_mode": {
    "name": "ipython",
    "version": 3
   },
   "file_extension": ".py",
   "mimetype": "text/x-python",
   "name": "python",
   "nbconvert_exporter": "python",
   "pygments_lexer": "ipython3",
   "version": "3.11.9"
  }
 },
 "nbformat": 4,
 "nbformat_minor": 2
}
