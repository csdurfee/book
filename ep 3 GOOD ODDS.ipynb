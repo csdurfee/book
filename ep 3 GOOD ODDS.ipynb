{
 "cells": [
  {
   "cell_type": "markdown",
   "metadata": {},
   "source": [
    "\n",
    "# Don't Be a Sucker\n",
    "## Part 4\n",
    "by Casey Durfee <csdurfee@gmail.com>\n",
    "Copyright 2025\n",
    "\n",
    "## The Paradox of Mediocrity\n",
    "\n",
    "If the lines are unbiased, then choosing your bets by flipping a coin would lead to winning 50% of the time. Losing substantially more or less than 50% is equally improbable, for a coin or a human. \n",
    "\n",
    "Imagine an \"unlucky\" bettor who lost 60% of the time. They would actually be the greatest of all time, because you could just take the opposite side of their bets and win 60% of the time.\n",
    "\n",
    "If you assume the lines are fair, bad bettors don't go broke because they lose a lot. They go broke because they can't win often enough to beat the vig, or risk too much on each bet. They may do worse than flipping a coin, but not a lot worse. \n",
    "\n",
    "If a coin wins 50% of the time and somebody who is really into gambling also wins 50% of the time, then it's not really a game of skill. It's not a thing you can get better at by learning the lore and following the conventional wisdom.\n",
    "\n",
    "Being bad at betting means still being right half the time. Being good at betting means being right 56% of the time. I'm not sure how you would tell the difference, except on large volumes of bets. Bettors who lose always seem to be able to generate a story that explains why the bet didn't win. I'll have a lot more to say about these stories. But first, some math.\n",
    "\n",
    "### Handicapper vs Coin\n",
    "\n",
    "Say that a skilled handicapper who wins 56% of the time decides on the bets they like, then they do another set of picks by flipping a coin and track who wins. There are usually around 7 NBA games a night. The vig is the standard -110.\n",
    "\n",
    "1) What percent of the time will the handicapper get more the wins than coin? \n",
    "2) What percent of the time will the coin get more wins? \n",
    "3) What percent of the time will they tie?\n",
    "4) What percent of the time does the coin have a winning day? \n",
    "5) What percent of the time does the handicapper have a winning day? "
   ]
  },
  {
   "cell_type": "code",
   "execution_count": 1,
   "metadata": {},
   "outputs": [],
   "source": [
    "import numpy as np\n",
    "import pandas as pd\n",
    "import matplotlib.pyplot as plt\n",
    "import scipy.stats\n",
    "\n",
    "rng = np.random.default_rng(2718)"
   ]
  },
  {
   "cell_type": "code",
   "execution_count": 2,
   "metadata": {},
   "outputs": [],
   "source": [
    "WIN_PCT = .56\n",
    "FAIR_COIN = .5\n",
    "NIGHTS = 100000\n",
    "GAMES_A_NIGHT = 7\n",
    "\n",
    "VIG = 1.1\n",
    "MIN_WIN_PCT = .524 # breakeven win rate vs the vig\n",
    "\n",
    "def handi_vs_coin(games, unit=\"days\", emotional_support_bet=False):\n",
    "    handi_wins = handi_losses = handi_ties = handi_winning_days = coin_winning_days = 0\n",
    "    handi_overall_wins = handi_overall_losses = coin_overall_wins = coin_overall_losses = 0\n",
    "\n",
    "    for x in range(NIGHTS):\n",
    "        handicapper_record = [(rng.random() < WIN_PCT) for x in range(games)] # 1 for win, 0 for loss\n",
    "        coin_record = [(rng.random() < FAIR_COIN) for x in range(games)]\n",
    "\n",
    "        if emotional_support_bet:\n",
    "            handicapper_record.append((rng.random() < FAIR_COIN))\n",
    "\n",
    "        handi_day_wins = sum(handicapper_record)\n",
    "        handi_day_losses = len(handicapper_record) - handi_day_wins\n",
    "        handi_overall_wins += handi_day_wins\n",
    "        handi_overall_losses += handi_day_losses\n",
    "\n",
    "        coin_day_wins = sum(coin_record)\n",
    "        coin_day_losses = len(coin_record) - coin_day_wins\n",
    "        coin_overall_wins += coin_day_wins\n",
    "        coin_overall_losses += coin_day_losses\n",
    "\n",
    "        # who won the day -- the handicapper or the coin?\n",
    "        if handi_day_wins > coin_day_wins:\n",
    "            handi_wins += 1\n",
    "        elif handi_day_wins == coin_day_wins:\n",
    "            handi_ties += 1\n",
    "        else:\n",
    "            handi_losses += 1\n",
    "\n",
    "        # who had a winning day (including cost of the vig)?\n",
    "        if handi_day_wins > (MIN_WIN_PCT * games):\n",
    "            handi_winning_days += 1\n",
    "        if coin_day_wins > (MIN_WIN_PCT * games):\n",
    "            coin_winning_days += 1 \n",
    "\n",
    "    handi_profit_loss = handi_overall_wins - (VIG * handi_overall_losses)\n",
    "    coin_profit_loss = coin_overall_losses - (VIG * coin_overall_losses)\n",
    "\n",
    "    print(f\"w/l/t%: {handi_wins/1000}-{handi_losses/1000}-{handi_ties/1000}\")\n",
    "    print(f\"handicapper winning {unit}: {handi_winning_days/1000}%, coin winning {unit}: {coin_winning_days/1000}%\")\n",
    "    print(f\"handicapper overall record: {handi_overall_wins}-{handi_overall_losses} ({100*handi_overall_wins/(handi_overall_wins+handi_overall_losses):.2f} %)\")\n",
    "    print(f\"handicapper profit: {handi_profit_loss:.2f}\")\n",
    "    print(f\"coin overall record: {coin_overall_wins}-{coin_overall_losses}\")\n",
    "    print(f\"coin profit: {coin_profit_loss}\")\n",
    "    "
   ]
  },
  {
   "cell_type": "code",
   "execution_count": null,
   "metadata": {},
   "outputs": [],
   "source": [
    "handi_vs_coin(7)"
   ]
  },
  {
   "cell_type": "markdown",
   "metadata": {},
   "source": [
    "1. The handicapper beats the coin 49% of the time.\n",
    "2. The coin beats the handicapper 31% of the time.\n",
    "3. They tie 20% of the time.\n",
    "4. The coin has a winning day 50% of the time.\n",
    "5. The handicapper has a winning day 63% of the time."
   ]
  },
  {
   "cell_type": "markdown",
   "metadata": {},
   "source": [
    "Even though the coin has winning days half the time, it's still losing money long-term. Even though the handicapper is winning 56% of the time, they are having winning days 63% of the time.\n",
    "\n",
    "### Getting Good Odds on Odd Goods\n",
    "\n",
    "The fact that 7 is odd is significant. If there are an even number of bets per day, the proportion of winning days is going to change dramatically. Hitting 4/7 or better is going to be easier than 5/8 or better, or 4/6 or better. Almost half the time, someone who went 4/7 is going to lose that 8th bet and not have a winning day.\n",
    "\n",
    "Let's see how this plays out over a range of games per day."
   ]
  },
  {
   "cell_type": "code",
   "execution_count": null,
   "metadata": {},
   "outputs": [],
   "source": [
    "for x in range(3,9):\n",
    "    print(f\">>>>>>>>>> betting {x} games\")\n",
    "    handi_vs_coin(x)\n",
    "    print(\"\\n\")"
   ]
  },
  {
   "cell_type": "markdown",
   "metadata": {},
   "source": [
    "As the sample size increases, the handicapper wins more often against the coin. There is no such thing as luck, only small sample size.\n",
    "\n",
    "The odd number of days is signficant. Both the handicapper and the coin look more skilled (gauged by number of winning days) when taking an odd number of bets. Even at 3 games a day, the skilled bettor is winning 59% of the days.\n",
    "\n",
    "Let's look at a 49 game sample, roughly a week's worth of games, and 201 games, roughly a month."
   ]
  },
  {
   "cell_type": "code",
   "execution_count": null,
   "metadata": {},
   "outputs": [],
   "source": [
    "handi_vs_coin(49, unit=\"weeks\")"
   ]
  },
  {
   "cell_type": "markdown",
   "metadata": {},
   "source": [
    "The coin is still beating the bettor 24% of the time, and having winning weeks 39% of the time. Even at this sample size, there's a significant difference between 49 games and 48 as far as % winning days."
   ]
  },
  {
   "cell_type": "code",
   "execution_count": null,
   "metadata": {},
   "outputs": [],
   "source": [
    "handi_vs_coin(48, unit=\"weeks\")"
   ]
  },
  {
   "cell_type": "markdown",
   "metadata": {},
   "source": [
    "here's roughly a month of games. the coin is still putting up winning months 24% of the time, while losing massively."
   ]
  },
  {
   "cell_type": "code",
   "execution_count": null,
   "metadata": {},
   "outputs": [],
   "source": [
    "handi_vs_coin(200, unit=\"months\")"
   ]
  },
  {
   "cell_type": "markdown",
   "metadata": {},
   "source": [
    "The handicapper still has losing months 16% of the time on 200 bets."
   ]
  },
  {
   "cell_type": "markdown",
   "metadata": {},
   "source": [
    "There's a nugget of betting psychology in this. If you bet every day and wanted to optimize for the number of days per week you have a winning day, you should take an odd number of bets. Even a coin can have winning days half the time.\n",
    "\n",
    "No, this isn't one weird trick that statisticans hate. It all comes out in the wash. None of this changes the overall winning percentage or whether the bettor makes money in the long run, as you can see."
   ]
  },
  {
   "cell_type": "markdown",
   "metadata": {},
   "source": [
    "### The emotional support bet\n",
    "\n",
    "Say the handicapper from the above example has 6 bets they want to make. Each will win 56% of the time. They want to have as many winning days as possible. What if they took a seventh bet by flipping a coin?"
   ]
  },
  {
   "cell_type": "code",
   "execution_count": null,
   "metadata": {},
   "outputs": [],
   "source": [
    "handi_vs_coin(6)"
   ]
  },
  {
   "cell_type": "code",
   "execution_count": null,
   "metadata": {},
   "outputs": [],
   "source": [
    "handi_vs_coin(6, emotional_support_bet=True)"
   ]
  },
  {
   "cell_type": "markdown",
   "metadata": {},
   "source": [
    "TODO: fix these numbers"
   ]
  },
  {
   "cell_type": "code",
   "execution_count": null,
   "metadata": {},
   "outputs": [],
   "source": [
    "39031.31 / 46885.20"
   ]
  },
  {
   "cell_type": "code",
   "execution_count": null,
   "metadata": {},
   "outputs": [],
   "source": [
    "(60.895 - 46.312)/ 46.312"
   ]
  },
  {
   "cell_type": "markdown",
   "metadata": {},
   "source": [
    "The strategy works! The bettor's winning percent drops to 55%, which cuts into profits but increases the number of winning days by 30%.\n"
   ]
  },
  {
   "cell_type": "markdown",
   "metadata": {},
   "source": [
    "### Our pal, the binomial distribution\n",
    "Why are 63% of days winning days for the skilled handicapper? Shouldn't it be 56%, to match their win rate? Where are those \"free\" winning days coming from? Shouldn't the coin have losing days more than 50% of the time with the vig figured in?\n",
    "\n",
    "These might seem like silly, obvious questions, or they might not. Either way, stick with me. I swear there's a point to this.\n",
    "\n",
    "The number of winning bets in a week comes from something called the binomial distribution. It tells us the probability of a certain number of wins out of a number of trials, given a certain rate of success. If you flip a fair coin 10 times, how likely is it that you get more than 7 heads?\n",
    "\n",
    "The binomial is the same thing as what I was approximating above -- flipping a coin with the `rng.random()` function and adding up the binary results.\n",
    "\n",
    "First, 7 coin flips (p=.5). the x axis is number of successes and the y axis is the probability of that number."
   ]
  },
  {
   "cell_type": "code",
   "execution_count": null,
   "metadata": {},
   "outputs": [],
   "source": [
    "coin = scipy.stats.binom(GAMES_A_NIGHT, FAIR_COIN)\n",
    "\n",
    "coin_df = pd.DataFrame({\n",
    "    'x': [x for x in range(GAMES_A_NIGHT+1)],\n",
    "    'y': [coin.pmf(x) for x in range(GAMES_A_NIGHT+1)]\n",
    "\n",
    "})\n",
    "plt.bar(coin_df.x, coin_df.y)\n"
   ]
  },
  {
   "cell_type": "markdown",
   "metadata": {},
   "source": [
    "Notice how nice and symmetrical it is. going 3-4 and 4-3 are equally likely. The mean is clearly 3.5\n",
    "\n",
    "What about the bettor, with a 56% chance of winning each bet??"
   ]
  },
  {
   "cell_type": "code",
   "execution_count": null,
   "metadata": {},
   "outputs": [],
   "source": [
    "bettor = scipy.stats.binom(GAMES_A_NIGHT, WIN_PCT)\n",
    "\n",
    "binomial_df = pd.DataFrame({\n",
    "    'x': [x for x in range(GAMES_A_NIGHT+1)],\n",
    "    'y': [bettor.pmf(x) for x in range(GAMES_A_NIGHT+1)]\n",
    "\n",
    "})\n",
    "plt.bar(binomial_df.x, binomial_df.y)"
   ]
  },
  {
   "cell_type": "markdown",
   "metadata": {},
   "source": [
    "The curve gets shifted to the right a little bit and now it's no longer symmetrical. Now the most likely outcome is 4. Since 4/7=57.1%, that makes sense. 2 and 6 are now roughly equally likely, instead of 2 and 5. though 2 is more likely than 6, and 3 is more likely than 5. \n",
    "\n",
    "If you think about it, it can't be symmetrical anymore. Our bell curve got shifted to the right because we increased the winning percentage. \n",
    "\n",
    "The distribution people think of, if they have ever thought about distributions, is the normal distribution.\n",
    "\n",
    "We can plot the equivalent normal distribution over the top of the binomial outcomes. You can see, it's pretty close.  But there are some problems. \n",
    "1. the normal distribution is symmetrical and the binomial distribution isn't. \n",
    "2. the normal distribution has an infinite range -- for instance, it would give a non-zero chance to getting 8 heads in 7 coin flips. \n",
    "3. The normal distribution is continuous, which means it can give us the probability of getting 3.3 heads in 7 coin flips."
   ]
  },
  {
   "cell_type": "code",
   "execution_count": null,
   "metadata": {},
   "outputs": [],
   "source": [
    "mean = 7 * .56\n",
    "sd = np.sqrt(7 * .56 * (1-.56))\n",
    "\n",
    "x = np.linspace(0, 7, 200)\n",
    "plt.plot(x, scipy.stats.norm.pdf(x, mean, sd), color=\"r\")\n",
    "plt.bar(binomial_df.x, binomial_df.y)"
   ]
  },
  {
   "cell_type": "markdown",
   "metadata": {},
   "source": [
    "Just looking at the graph above, you can probably convince yourself that if we had a huge number of trials, the binomial distribution will look more and more like the normal distribution. But there can be significant differences when the number of outcomes is small.\n",
    "\n",
    "### Are you normal?\n",
    "\n",
    "I think we have a cognitive bias towards thinking everything is a normal distribution (the classic bell curve), where the left tail and right tail are the same.  \n",
    "\n",
    "That's true for average folks and stats newbies alike. It's great! You don't have to remember the difference between left-skewed and right-skewed, for one thing. And the equation for the normal distribution has $\\pi$ in it. Yeah, it's your old buddy from middle school geometry class! Small world, isn't it?\n",
    "\n",
    "The binomial distribution can be approximated by the normal distribution (or the poisson) under certain conditions. Approximations are fine when the number of trials are large, but prop bets are usually based on a fairly small number, where the difference can matter. Life is a game of inches and the inches are all around you.\n",
    "\n",
    "### Being binomial doubles the chances of misunderstanding\n",
    "Prop bets are where instead of betting on a team, you bet on an individual player's stats. For instance, whether they will get more or less than 7.5 rebounds. In order to understand these bets, we have to model them as a binomial distribution. They're not going to be symmetrical, so naive statistical intuition and the normal distribution will fail us.\n",
    "\n",
    "To model it as a binomial, we determine the proability a player gets a rebound on the average possession (the rebounding rate), and the number of possessions the player is in the game for. \n",
    "\n",
    "What would that mean if you're thinking about taking a prop bet like Giannis over/under 9 rebounds? Just from a geometry standpoint, which is the slightly better deal in the area closest to the middle of the curve?\n",
    "\n",
    "That's actually a trick question. I showed you a binomial distribution that was heavier on the left (making the under a possibly better value), but they can be heavier on the right as well.\n",
    "\n",
    "Let's say we're looking at a prop bet on CJ McCollum over 3.5 rebounds. \n",
    "\n",
    "![cj mccollum prop bet from covers.com](img/cj.png)"
   ]
  },
  {
   "cell_type": "markdown",
   "metadata": {},
   "source": [
    "We can pull his rebounds per 100 posessions rate from basketball-reference, then estimate the number of possessions by comparing it to his rebounds per game stat. Obviously, this is an extremely rough model, but we gotta start somewhere.\n",
    "\n",
    "Notice this time that the binomial distribution is a little taller on the right -- 4 bigger than 2, 5 bigger than 1, etc. You have to squint pretty hard to see it as a normal distribution."
   ]
  },
  {
   "cell_type": "code",
   "execution_count": null,
   "metadata": {},
   "outputs": [],
   "source": [
    "reb_per_100 = 5.3 # per 100 possessions numbers from bbref\n",
    "reb_per_possession  = reb_per_100/ 100 \n",
    "reb_per_game = 3.6\n",
    "poss_per_game = round(100 * (reb_per_game/reb_per_100))\n",
    "\n",
    "cj2 = scipy.stats.binom(poss_per_game, reb_per_possession)\n",
    "\n",
    "\n",
    "cj2_df = pd.DataFrame({\n",
    "    'x': [x for x in range(0,10)],\n",
    "    'y': [cj2.pmf(x) for x in range(0,10)]\n",
    "\n",
    "})\n",
    "plt.bar(cj2_df.x, cj2_df.y)"
   ]
  },
  {
   "cell_type": "markdown",
   "metadata": {},
   "source": [
    "the mean matches his rebounds per game, as expected."
   ]
  },
  {
   "cell_type": "code",
   "execution_count": null,
   "metadata": {},
   "outputs": [],
   "source": [
    "cj2.mean()"
   ]
  },
  {
   "cell_type": "code",
   "execution_count": null,
   "metadata": {},
   "outputs": [],
   "source": [
    "# probability of going under\n",
    "prob_under = sum(cj2_df[cj2_df.x < 3.5].y)\n",
    "prob_under"
   ]
  },
  {
   "cell_type": "markdown",
   "metadata": {},
   "source": [
    "Based on this simple model, there's a 51.1% chance of it going under. If it was 50% then the fair price would be be the same regardless of whether you take the over or the under, but if it's imbalanced, the more likely side should get a smaller payout when they do win. This is sort of like paying a higher vig on the bet. You have to put up more money than you win.\n",
    "\n",
    "[TODO: fix this awful prose]\n",
    "\n",
    "We can convert between the probability and the American style money line. In this case, a break-even price for the under would be -104, and correspondingly +104 for the over."
   ]
  },
  {
   "cell_type": "code",
   "execution_count": null,
   "metadata": {},
   "outputs": [],
   "source": [
    "def convert_proba(proba):\n",
    "    \n",
    "    if proba > .5:\n",
    "        money_line = -100 * (proba/(1-proba))\n",
    "    else:\n",
    "        money_line = 100 * ((1-proba) / proba)\n",
    "    return round(money_line)\n",
    "\n",
    "\n",
    "convert_proba(prob_under)"
   ]
  },
  {
   "cell_type": "markdown",
   "metadata": {},
   "source": [
    "So, under 3.5 rebounds at -105 is a pretty fair line, based on our assumptions. We'd still lose money over the long run, though, because of the tiny difference between -104 and -105. If the line were instead +105 for the under, it would be a bet we could expect to make money on.\n",
    "\n",
    "Even small changes to our assumptions can drastically change how good of a deal the bet is. In this game, he was playing against Chicago, which is a very fast paced team.  If we decided that CJ will play 10% more possessions than usual, due to faster pace, or a teammate being injured, or some other factor, the model changes:"
   ]
  },
  {
   "cell_type": "code",
   "execution_count": null,
   "metadata": {},
   "outputs": [],
   "source": [
    "reb_per_100 = 5.3 # per 100 possessions numbers from bbref\n",
    "reb_per_possession  = reb_per_100/ 100 \n",
    "reb_per_game = 3.6\n",
    "\n",
    "poss_per_game = round(1.1 * 100 * (reb_per_game/reb_per_100)) # increase number of possessions by 10%\n",
    "\n",
    "cj3 = scipy.stats.binom(poss_per_game, reb_per_possession)\n",
    "\n",
    "\n",
    "cj3_df = pd.DataFrame({\n",
    "    'x': [x for x in range(0,10)],\n",
    "    'y': [cj3.pmf(x) for x in range(0,10)]\n",
    "\n",
    "})\n",
    "plt.bar(cj3_df.x, cj3_df.y)"
   ]
  },
  {
   "cell_type": "code",
   "execution_count": null,
   "metadata": {},
   "outputs": [],
   "source": [
    "new_proba = sum(cj3_df[cj3_df.x < 3.5].y)\n",
    "\n",
    "new_proba"
   ]
  },
  {
   "cell_type": "code",
   "execution_count": null,
   "metadata": {},
   "outputs": [],
   "source": [
    "convert_proba(new_proba)"
   ]
  },
  {
   "cell_type": "markdown",
   "metadata": {},
   "source": [
    "Under these assumptions, the fair price for under 3.5 rebounds would be +131, making the -105 offer a terrible deal.\n",
    "\n",
    "\n",
    "To rationally be betting props you'd have to be doing all this binomial nonsense to figure out if the vig is fair or not on every single bet. It's a multiple step calculation process with lots of assumptions. \n",
    "\n",
    "I'd guess there are apps and websites that can help, but it's still betting on math homework more than it is betting on sports.\n",
    "\n",
    "It's not really a bet on whether CJ McCollum will have a good game tonight. He played poorly in the last game but got 4 rebounds, so the over would have paid. McCollum got 38 points the game before that, and only got 3 rebounds. He scored 50 points a month ago and got 3 rebounds.\n",
    "\n",
    "It's really a bet on whether the player gets more minutes than average, the team plays at a certain pace, what the opponent's rebounding rate is, etc. \n",
    "\n",
    "If you're a sicko like me, that could be fun, but do you think people are doing this big math problem every time they place a prop bet? \n",
    "\n",
    "Of course not. They're probably just taking the over regardless of price, because overs are more fun. Rooting against CJ McCollum getting his 4th rebound at the end of a meaningless game where he already scored 50 points is pathological.\n",
    "\n",
    "The sportsbooks aggressively push overs as well. Here's a screenshot from the ESPN Bet sportsbook:\n",
    "\n",
    "![a screen only offering over prop bets](img/prop_overs2.png)\n",
    "\n",
    "This is their main NBA betting page. They offer the ability to pick the overs on prop bets, but not the unders. You have to dig deep if you wnat to take them. I think they have legally allow bets on both sides, but they sure don't make it easy.\n",
    "\n",
    "If this is your first day in a capitalist country, welcome. If not, you should be suspicious about which side is a better value if they're only pushing one side of these bets."
   ]
  },
  {
   "cell_type": "markdown",
   "metadata": {},
   "source": [
    "The vig on prop bets is high enough on these bets that I don't know if savvy bettors could make money through arbitrage opportunities, and keep the lines honest. What I've seen is that when a line on a prop bet moves, the books also increase the size of the vig.\n",
    "\n",
    "The big idea I'm trying to convey is that one side of a prop bet will pretty much always be *slightly* more than 50%. Our naive mental model of probabilities assumes that things are symmetrical, but it's not, because the results have to be whole numbers. CJ McCollum is going to get 3 or 4 rebounds tonight, not 3.6. \n",
    "\n",
    "The smaller the counts, the crazier the vig. Here's one for Brook Lopez over/under 1.5 assists.\n",
    "\n",
    "![brook lopez assists](img/brolo.png)"
   ]
  },
  {
   "cell_type": "markdown",
   "metadata": {},
   "source": [
    "+155/-190 isn't even close to 50/50. When you're betting the point spreads, no bet is really all that crazy since both sides should win about 50% of the time. But if the odds are imbalanced, that changes both the math and psychology of betting. More on that later."
   ]
  },
  {
   "cell_type": "code",
   "execution_count": 1,
   "metadata": {},
   "outputs": [
    {
     "data": {
      "text/plain": [
       "0.39215686274509803"
      ]
     },
     "execution_count": 1,
     "metadata": {},
     "output_type": "execute_result"
    }
   ],
   "source": [
    "def convert_line(line):\n",
    "    if line < 0:\n",
    "        return abs(line)/(abs(line)+100)\n",
    "    else:\n",
    "        return 100/(100+line)\n",
    "    \n",
    "convert_line(155)"
   ]
  },
  {
   "cell_type": "code",
   "execution_count": 2,
   "metadata": {},
   "outputs": [
    {
     "data": {
      "text/plain": [
       "0.6551724137931034"
      ]
     },
     "execution_count": 2,
     "metadata": {},
     "output_type": "execute_result"
    }
   ],
   "source": [
    "convert_line(-190)"
   ]
  },
  {
   "cell_type": "markdown",
   "metadata": {},
   "source": [
    "The sum of these two probabilities is greater than one, which is how the sportsbook makes money. For instance, over 1.5 +155 bet might only win 35% of the time. However, it is priced like it will win 39% of the time. That difference is essentially the vig - the percent of the amount bet that the sportsbook will have at the end of the night, assuming equal amounts of money on both sides.\n",
    "\n",
    "Bet365 has the line at +155/-190, which is roughly equivalent to a -110 vig."
   ]
  },
  {
   "cell_type": "code",
   "execution_count": 5,
   "metadata": {},
   "outputs": [
    {
     "data": {
      "text/plain": [
       "0.047329276538201404"
      ]
     },
     "execution_count": 5,
     "metadata": {},
     "output_type": "execute_result"
    }
   ],
   "source": [
    "convert_line(155) + convert_line(-190) - 1"
   ]
  },
  {
   "cell_type": "markdown",
   "metadata": {},
   "source": [
    "However, Caesar's has it at +139/-192, which is much more lucrative for the sportsbook."
   ]
  },
  {
   "cell_type": "code",
   "execution_count": 6,
   "metadata": {},
   "outputs": [
    {
     "data": {
      "text/plain": [
       "0.0759442884163466"
      ]
     },
     "execution_count": 6,
     "metadata": {},
     "output_type": "execute_result"
    }
   ],
   "source": [
    "convert_line(139) + convert_line(-192) - 1"
   ]
  },
  {
   "cell_type": "markdown",
   "metadata": {},
   "source": [
    "This makes it equivalent to a bet at -115 vig.\n",
    "\n",
    "$winPct - ((1-winPct) * vig) = -7.59$\n",
    "\n",
    "$ 50 - (50 * vig) = -7.59$\n",
    "\n",
    "$ vig = 57.59/50 = 1.15$"
   ]
  },
  {
   "cell_type": "markdown",
   "metadata": {},
   "source": [
    "Next up: Which teams get the most money bet on them? Does this tell us anything about how sports betting works?"
   ]
  }
 ],
 "metadata": {
  "kernelspec": {
   "display_name": "Python 3",
   "language": "python",
   "name": "python3"
  },
  "language_info": {
   "codemirror_mode": {
    "name": "ipython",
    "version": 3
   },
   "file_extension": ".py",
   "mimetype": "text/x-python",
   "name": "python",
   "nbconvert_exporter": "python",
   "pygments_lexer": "ipython3",
   "version": "3.11.9"
  }
 },
 "nbformat": 4,
 "nbformat_minor": 2
}
