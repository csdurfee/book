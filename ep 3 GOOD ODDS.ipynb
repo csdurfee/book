{
 "cells": [
  {
   "cell_type": "markdown",
   "metadata": {},
   "source": [
    "\n",
    "# Don't Be a Sucker\n",
    "## Part 4\n",
    "by Casey Durfee <csdurfee@gmail.com>\n",
    "Copyright 2025\n",
    "\n",
    "## The Paradox of Mediocrity\n",
    "\n",
    "If the lines are unbiased, then choosing your bets by flipping a coin would lead to winning 50% of the time. Losing substantially more or less than 50% is equally improbable, for a coin or a human. \n",
    "\n",
    "Imagine an \"unlucky\" bettor who lost 60% of the time. They would actually be the greatest of all time, because you could just take the opposite side of their bets and win 60% of the time.\n",
    "\n",
    "If you assume the lines are fair, bad bettors don't go broke because they lose a lot. They go broke because they can't win often enough to beat the vig, or risk too much on each bet. They may do worse than flipping a coin, but not a lot worse. \n",
    "\n",
    "If a coin wins 50% of the time and somebody who is really into gambling also wins 50% of the time, then it's not really a game of skill. It's not a thing you can get better at by learning the lore and following the conventional wisdom.\n",
    "\n",
    "Being bad at betting means still being right half the time. Being good at betting means being right 56% of the time. I'm not sure how you would tell the difference, except on large volumes of bets. Bettors who lose always seem to be able to generate a story that explains why the bet didn't win. I'll have a lot more to say about these stories. But first, some math.\n",
    "\n",
    "### Handicapper vs Coin\n",
    "\n",
    "Say that a skilled handicapper who wins 56% of the time decides on the bets they like, then they do another set of picks by flipping a coin and track who wins. There are usually around 7 NBA games a night. The vig is the standard -110.\n",
    "\n",
    "1) What percent of the time will the handicapper get more the wins than coin? \n",
    "2) What percent of the time will the coin get more wins? \n",
    "3) What percent of the time will they tie?\n",
    "4) What percent of the time does the coin have a winning day? \n",
    "5) What percent of the time does the handicapper have a winning day? "
   ]
  },
  {
   "cell_type": "code",
   "execution_count": 9,
   "metadata": {},
   "outputs": [],
   "source": [
    "import numpy as np\n",
    "import pandas as pd\n",
    "import matplotlib.pyplot as plt\n",
    "import scipy.stats\n",
    "\n",
    "rng = np.random.default_rng(2718)"
   ]
  },
  {
   "cell_type": "code",
   "execution_count": 10,
   "metadata": {},
   "outputs": [],
   "source": [
    "WIN_PCT = .56\n",
    "FAIR_COIN = .5\n",
    "NIGHTS = 100000\n",
    "GAMES_A_NIGHT = 7\n",
    "\n",
    "VIG = 1.1\n",
    "MIN_WIN_PCT = .524 # breakeven win rate vs the vig\n",
    "\n",
    "def handi_vs_coin(games, unit=\"days\", emotional_support_bet=False):\n",
    "    handi_wins = handi_losses = handi_ties = handi_winning_days = coin_winning_days = 0\n",
    "    handi_overall_wins = handi_overall_losses = coin_overall_wins = coin_overall_losses = 0\n",
    "\n",
    "    for x in range(NIGHTS):\n",
    "        handicapper_record = [(rng.random() < WIN_PCT) for x in range(games)] # 1 for win, 0 for loss\n",
    "        coin_record = [(rng.random() < FAIR_COIN) for x in range(games)]\n",
    "\n",
    "        if emotional_support_bet:\n",
    "            handicapper_record.append((rng.random() < FAIR_COIN))\n",
    "\n",
    "        handi_day_wins = sum(handicapper_record)\n",
    "        handi_day_losses = len(handicapper_record) - handi_day_wins\n",
    "        handi_overall_wins += handi_day_wins\n",
    "        handi_overall_losses += handi_day_losses\n",
    "\n",
    "        coin_day_wins = sum(coin_record)\n",
    "        coin_day_losses = len(coin_record) - coin_day_wins\n",
    "        coin_overall_wins += coin_day_wins\n",
    "        coin_overall_losses += coin_day_losses\n",
    "\n",
    "        # who won the day -- the handicapper or the coin?\n",
    "        if handi_day_wins > coin_day_wins:\n",
    "            handi_wins += 1\n",
    "        elif handi_day_wins == coin_day_wins:\n",
    "            handi_ties += 1\n",
    "        else:\n",
    "            handi_losses += 1\n",
    "\n",
    "        # who had a winning day (including cost of the vig)?\n",
    "        if handi_day_wins > (MIN_WIN_PCT * games):\n",
    "            handi_winning_days += 1\n",
    "        if coin_day_wins > (MIN_WIN_PCT * games):\n",
    "            coin_winning_days += 1 \n",
    "\n",
    "    handi_profit_loss = handi_overall_wins - (VIG * handi_overall_losses)\n",
    "    coin_profit_loss = coin_overall_losses - (VIG * coin_overall_losses)\n",
    "\n",
    "    print(f\"w/l/t%: {handi_wins/1000}-{handi_losses/1000}-{handi_ties/1000}\")\n",
    "    print(f\"handicapper winning {unit}: {handi_winning_days/1000}%, coin winning {unit}: {coin_winning_days/1000}%\")\n",
    "    print(f\"handicapper overall record: {handi_overall_wins}-{handi_overall_losses} ({100*handi_overall_wins/(handi_overall_wins+handi_overall_losses):.2f} %)\")\n",
    "    print(f\"handicapper profit: {handi_profit_loss:.2f}\")\n",
    "    print(f\"coin overall record: {coin_overall_wins}-{coin_overall_losses}\")\n",
    "    print(f\"coin profit: {coin_profit_loss}\")\n",
    "    "
   ]
  },
  {
   "cell_type": "code",
   "execution_count": 11,
   "metadata": {},
   "outputs": [
    {
     "name": "stdout",
     "output_type": "stream",
     "text": [
      "w/l/t%: 48.678-31.064-20.258\n",
      "handicapper winning days: 63.113%, coin winning days: 50.066%\n",
      "handicapper overall record: 392557-307443 (56.08 %)\n",
      "handicapper profit: 54369.70\n",
      "coin overall record: 349969-350031\n",
      "coin profit: -35003.100000000035\n"
     ]
    }
   ],
   "source": [
    "handi_vs_coin(7)"
   ]
  },
  {
   "cell_type": "markdown",
   "metadata": {},
   "source": [
    "1. The handicapper beats the coin 49% of the time.\n",
    "2. The coin beats the handicapper 31% of the time.\n",
    "3. They tie 20% of the time.\n",
    "4. The coin has a winning day 50% of the time.\n",
    "5. The handicapper has a winning day 63% of the time."
   ]
  },
  {
   "cell_type": "markdown",
   "metadata": {},
   "source": [
    "Even though the coin has winning days half the time, it's still losing money long-term. Even though the handicapper is winning 56% of the time, they are having winning days 63% of the time.\n",
    "\n",
    "### Getting Good Odds on Odd Goods\n",
    "\n",
    "The fact that 7 is odd is significant. If there are an even number of bets per day, the proportion of winning days is going to change dramatically. Hitting 4/7 or better is going to be easier than 5/8 or better, or 4/6 or better. Almost half the time, someone who went 4/7 is going to lose that 8th bet and not have a winning day.\n",
    "\n",
    "Let's see how this plays out over a range of games per day."
   ]
  },
  {
   "cell_type": "code",
   "execution_count": 12,
   "metadata": {},
   "outputs": [
    {
     "name": "stdout",
     "output_type": "stream",
     "text": [
      ">>>>>>>>>> betting 3 games\n",
      "w/l/t%: 40.153-29.006-30.841\n",
      "handicapper winning days: 58.91%, coin winning days: 50.206%\n",
      "handicapper overall record: 168144-131856 (56.05 %)\n",
      "handicapper profit: 23102.40\n",
      "coin overall record: 150409-149591\n",
      "coin profit: -14959.100000000006\n",
      "\n",
      "\n",
      ">>>>>>>>>> betting 4 games\n",
      "w/l/t%: 43.031-29.878-27.091\n",
      "handicapper winning days: 40.477%, coin winning days: 31.174%\n",
      "handicapper overall record: 223649-176351 (55.91 %)\n",
      "handicapper profit: 29662.90\n",
      "coin overall record: 199591-200409\n",
      "coin profit: -20040.900000000023\n",
      "\n",
      "\n",
      ">>>>>>>>>> betting 5 games\n",
      "w/l/t%: 45.234-30.491-24.275\n",
      "handicapper winning days: 61.221%, coin winning days: 49.956%\n",
      "handicapper overall record: 279995-220005 (56.00 %)\n",
      "handicapper profit: 37989.50\n",
      "coin overall record: 249929-250071\n",
      "coin profit: -25007.100000000035\n",
      "\n",
      "\n",
      ">>>>>>>>>> betting 6 games\n",
      "w/l/t%: 47.062-30.956-21.982\n",
      "handicapper winning days: 46.232%, coin winning days: 34.368%\n",
      "handicapper overall record: 335905-264095 (55.98 %)\n",
      "handicapper profit: 45400.50\n",
      "coin overall record: 300016-299984\n",
      "coin profit: -29998.400000000023\n",
      "\n",
      "\n",
      ">>>>>>>>>> betting 7 games\n",
      "w/l/t%: 48.606-31.23-20.164\n",
      "handicapper winning days: 62.845%, coin winning days: 49.865%\n",
      "handicapper overall record: 391675-308325 (55.95 %)\n",
      "handicapper profit: 52517.50\n",
      "coin overall record: 349766-350234\n",
      "coin profit: -35023.40000000002\n",
      "\n",
      "\n",
      ">>>>>>>>>> betting 8 games\n",
      "w/l/t%: 49.905-31.077-19.018\n",
      "handicapper winning days: 50.196%, coin winning days: 36.326%\n",
      "handicapper overall record: 448385-351615 (56.05 %)\n",
      "handicapper profit: 61608.50\n",
      "coin overall record: 400119-399881\n",
      "coin profit: -39988.100000000035\n",
      "\n",
      "\n"
     ]
    }
   ],
   "source": [
    "for x in range(3,9):\n",
    "    print(f\">>>>>>>>>> betting {x} games\")\n",
    "    handi_vs_coin(x)\n",
    "    print(\"\\n\")"
   ]
  },
  {
   "cell_type": "markdown",
   "metadata": {},
   "source": [
    "As the sample size increases, the handicapper wins more often against the coin. There is no such thing as luck, only small sample size.\n",
    "\n",
    "The odd number of days is signficant. Both the handicapper and the coin look more skilled (gauged by number of winning days) when taking an odd number of bets. Even at 3 games a day, the skilled bettor is winning 59% of the days.\n",
    "\n",
    "Let's look at a 49 game sample, roughly a week's worth of games, and 201 games, roughly a month."
   ]
  },
  {
   "cell_type": "code",
   "execution_count": 13,
   "metadata": {},
   "outputs": [
    {
     "name": "stdout",
     "output_type": "stream",
     "text": [
      "w/l/t%: 69.16-24.156-6.684\n",
      "handicapper winning weeks: 71.538%, coin winning weeks: 38.97%\n",
      "handicapper overall record: 2744597-2155403 (56.01 %)\n",
      "handicapper profit: 373653.70\n",
      "coin overall record: 2451257-2448743\n",
      "coin profit: -244874.30000000028\n"
     ]
    }
   ],
   "source": [
    "handi_vs_coin(49, unit=\"weeks\")"
   ]
  },
  {
   "cell_type": "markdown",
   "metadata": {},
   "source": [
    "The coin is still beating the bettor 24% of the time, and having winning weeks 39% of the time. Even at this sample size, there's a significant difference between 49 games and 48 as far as % winning days."
   ]
  },
  {
   "cell_type": "code",
   "execution_count": 14,
   "metadata": {},
   "outputs": [
    {
     "name": "stdout",
     "output_type": "stream",
     "text": [
      "w/l/t%: 68.505-24.598-6.897\n",
      "handicapper winning weeks: 65.613%, coin winning weeks: 33.546%\n",
      "handicapper overall record: 2686534-2113466 (55.97 %)\n",
      "handicapper profit: 361721.40\n",
      "coin overall record: 2402055-2397945\n",
      "coin profit: -239794.5\n"
     ]
    }
   ],
   "source": [
    "handi_vs_coin(48, unit=\"weeks\")"
   ]
  },
  {
   "cell_type": "markdown",
   "metadata": {},
   "source": [
    "here's roughly a month of games. the coin is still putting up winning months 24% of the time, while losing massively."
   ]
  },
  {
   "cell_type": "code",
   "execution_count": 15,
   "metadata": {},
   "outputs": [
    {
     "name": "stdout",
     "output_type": "stream",
     "text": [
      "w/l/t%: 87.568-10.48-1.952\n",
      "handicapper winning months: 85.654%, coin winning months: 26.322%\n",
      "handicapper overall record: 11197897-8802103 (55.99 %)\n",
      "handicapper profit: 1515583.70\n",
      "coin overall record: 9999296-10000704\n",
      "coin profit: -1000070.4000000004\n"
     ]
    }
   ],
   "source": [
    "handi_vs_coin(200, unit=\"months\")"
   ]
  },
  {
   "cell_type": "markdown",
   "metadata": {},
   "source": [
    "The handicapper still has losing months 16% of the time on 200 bets."
   ]
  },
  {
   "cell_type": "markdown",
   "metadata": {},
   "source": [
    "There's a nugget of betting psychology in this. If you bet every day and wanted to optimize for the number of days per week you have a winning day, you should take an odd number of bets. Even a coin can have winning days half the time.\n",
    "\n",
    "No, this isn't one weird trick that statisticans hate. It all comes out in the wash. None of this changes the overall winning percentage or whether the bettor makes money in the long run, as you can see."
   ]
  },
  {
   "cell_type": "markdown",
   "metadata": {},
   "source": [
    "### The emotional support bet\n",
    "\n",
    "Say the handicapper from the above example has 6 bets they want to make. Each will win 56% of the time. They want to have as many winning days as possible. What if they took a seventh bet by flipping a coin?"
   ]
  },
  {
   "cell_type": "code",
   "execution_count": 16,
   "metadata": {},
   "outputs": [
    {
     "name": "stdout",
     "output_type": "stream",
     "text": [
      "w/l/t%: 47.071-30.707-22.222\n",
      "handicapper winning days: 46.158%, coin winning days: 34.215%\n",
      "handicapper overall record: 335753-264247 (55.96 %)\n",
      "handicapper profit: 45081.30\n",
      "coin overall record: 299516-300484\n",
      "coin profit: -30048.400000000023\n"
     ]
    }
   ],
   "source": [
    "handi_vs_coin(6)"
   ]
  },
  {
   "cell_type": "code",
   "execution_count": 17,
   "metadata": {},
   "outputs": [
    {
     "name": "stdout",
     "output_type": "stream",
     "text": [
      "w/l/t%: 58.232-22.309-19.459\n",
      "handicapper winning days: 61.308%, coin winning days: 34.231%\n",
      "handicapper overall record: 386707-313293 (55.24 %)\n",
      "handicapper profit: 42084.70\n",
      "coin overall record: 299667-300333\n",
      "coin profit: -30033.300000000047\n"
     ]
    }
   ],
   "source": [
    "handi_vs_coin(6, emotional_support_bet=True)"
   ]
  },
  {
   "cell_type": "markdown",
   "metadata": {},
   "source": [
    "TODO: fix these numbers"
   ]
  },
  {
   "cell_type": "code",
   "execution_count": 18,
   "metadata": {},
   "outputs": [
    {
     "data": {
      "text/plain": [
       "0.832486797539522"
      ]
     },
     "execution_count": 18,
     "metadata": {},
     "output_type": "execute_result"
    }
   ],
   "source": [
    "39031.31 / 46885.20"
   ]
  },
  {
   "cell_type": "code",
   "execution_count": 19,
   "metadata": {},
   "outputs": [
    {
     "data": {
      "text/plain": [
       "0.3148859906719642"
      ]
     },
     "execution_count": 19,
     "metadata": {},
     "output_type": "execute_result"
    }
   ],
   "source": [
    "(60.895 - 46.312)/ 46.312"
   ]
  },
  {
   "cell_type": "markdown",
   "metadata": {},
   "source": [
    "The strategy works! The bettor's winning percent drops to 55%, which cuts into profits but increases the number of winning days by 30%.\n"
   ]
  },
  {
   "cell_type": "markdown",
   "metadata": {},
   "source": [
    "### Our pal, the binomial distribution\n",
    "Why are 63% of days winning days for the skilled handicapper? Shouldn't it be 56%, to match their win rate? Where are those \"free\" winning days coming from? Shouldn't the coin have losing days more than 50% of the time with the vig figured in?\n",
    "\n",
    "These might seem like silly, obvious questions, or they might not. Either way, stick with me. I swear there's a point to this.\n",
    "\n",
    "The number of winning bets in a week comes from something called the binomial distribution. It tells us the probability of a certain number of wins out of a number of trials, given a certain rate of success. If you flip a fair coin 10 times, how likely is it that you get more than 7 heads?\n",
    "\n",
    "The binomial is the same thing as what I was approximating above -- flipping a coin with the `rng.random()` function and adding up the binary results.\n",
    "\n",
    "First, 7 coin flips (p=.5). the x axis is number of successes and the y axis is the probability of that number."
   ]
  },
  {
   "cell_type": "code",
   "execution_count": 20,
   "metadata": {},
   "outputs": [
    {
     "data": {
      "text/plain": [
       "<BarContainer object of 8 artists>"
      ]
     },
     "execution_count": 20,
     "metadata": {},
     "output_type": "execute_result"
    },
    {
     "data": {
      "image/png": "[encoded data removed]",
      "text/plain": [
       "<Figure size 640x480 with 1 Axes>"
      ]
     },
     "metadata": {},
     "output_type": "display_data"
    }
   ],
   "source": [
    "coin = scipy.stats.binom(GAMES_A_NIGHT, FAIR_COIN)\n",
    "\n",
    "coin_df = pd.DataFrame({\n",
    "    'x': [x for x in range(GAMES_A_NIGHT+1)],\n",
    "    'y': [coin.pmf(x) for x in range(GAMES_A_NIGHT+1)]\n",
    "\n",
    "})\n",
    "plt.bar(coin_df.x, coin_df.y)\n"
   ]
  },
  {
   "cell_type": "markdown",
   "metadata": {},
   "source": [
    "Notice how nice and symmetrical it is. going 3-4 and 4-3 are equally likely. The mean is clearly 3.5\n",
    "\n",
    "What about the bettor, with a 56% chance of winning each bet??"
   ]
  },
  {
   "cell_type": "code",
   "execution_count": 21,
   "metadata": {},
   "outputs": [
    {
     "data": {
      "text/plain": [
       "<BarContainer object of 8 artists>"
      ]
     },
     "execution_count": 21,
     "metadata": {},
     "output_type": "execute_result"
    },
    {
     "data": {
      "image/png": "[encoded data removed]",
      "text/plain": [
       "<Figure size 640x480 with 1 Axes>"
      ]
     },
     "metadata": {},
     "output_type": "display_data"
    }
   ],
   "source": [
    "bettor = scipy.stats.binom(GAMES_A_NIGHT, WIN_PCT)\n",
    "\n",
    "binomial_df = pd.DataFrame({\n",
    "    'x': [x for x in range(GAMES_A_NIGHT+1)],\n",
    "    'y': [bettor.pmf(x) for x in range(GAMES_A_NIGHT+1)]\n",
    "\n",
    "})\n",
    "plt.bar(binomial_df.x, binomial_df.y)"
   ]
  },
  {
   "cell_type": "markdown",
   "metadata": {},
   "source": [
    "The curve gets shifted to the right a little bit and now it's no longer symmetrical. Now the most likely outcome is 4. Since 4/7=57.1%, that makes sense. 2 and 6 are now roughly equally likely, instead of 2 and 5. though 2 is more likely than 6, and 3 is more likely than 5. \n",
    "\n",
    "If you think about it, it can't be symmetrical anymore. Our bell curve got shifted to the right because we increased the winning percentage. \n",
    "\n",
    "The distribution people think of, if they have ever thought about distributions, is the normal distribution.\n",
    "\n",
    "We can plot the equivalent normal distribution over the top of the binomial outcomes. You can see, it's pretty close.  But there are some problems. \n",
    "1. the normal distribution is symmetrical and the binomial distribution isn't. \n",
    "2. the normal distribution has an infinite range -- for instance, it would give a non-zero chance to getting 8 heads in 7 coin flips. \n",
    "3. The normal distribution is continuous, which means it can give us the probability of getting 3.3 heads in 7 coin flips."
   ]
  },
  {
   "cell_type": "code",
   "execution_count": 22,
   "metadata": {},
   "outputs": [
    {
     "data": {
      "text/plain": [
       "<BarContainer object of 8 artists>"
      ]
     },
     "execution_count": 22,
     "metadata": {},
     "output_type": "execute_result"
    },
    {
     "data": {
      "image/png": "[encoded data removed]",
      "text/plain": [
       "<Figure size 640x480 with 1 Axes>"
      ]
     },
     "metadata": {},
     "output_type": "display_data"
    }
   ],
   "source": [
    "mean = 7 * .56\n",
    "sd = np.sqrt(7 * .56 * (1-.56))\n",
    "\n",
    "x = np.linspace(0, 7, 200)\n",
    "plt.plot(x, scipy.stats.norm.pdf(x, mean, sd), color=\"r\")\n",
    "plt.bar(binomial_df.x, binomial_df.y)"
   ]
  },
  {
   "cell_type": "markdown",
   "metadata": {},
   "source": [
    "Just looking at the graph above, you can probably convince yourself that if we had a huge number of trials, the binomial distribution will look more and more like the normal distribution. But there can be significant differences when the number of outcomes is small.\n",
    "\n",
    "### Are you normal?\n",
    "\n",
    "I think we have a cognitive bias towards thinking everything is a normal distribution (the classic bell curve), where the left tail and right tail are the same.  \n",
    "\n",
    "That's true for average folks and stats newbies alike. It's great! You don't have to remember the difference between left-skewed and right-skewed, for one thing. And the equation for the normal distribution has $\\pi$ in it. Yeah, it's your old buddy from middle school geometry class! Small world, isn't it?\n",
    "\n",
    "The binomial distribution can be approximated by the normal distribution (or the poisson) under certain conditions. Approximations are fine when the number of trials are large, but prop bets are usually based on a fairly small number, where the difference can matter. Life is a game of inches and the inches are all around you.\n",
    "\n",
    "### Being binomial doubles the chances of misunderstanding\n",
    "Prop bets are where instead of betting on a team, you bet on an individual player's stats. For instance, whether they will get more or less than 7.5 rebounds. In order to understand these bets, we have to model them as a binomial distribution. They're not going to be symmetrical, so naive statistical intuition and the normal distribution will fail us.\n",
    "\n",
    "To model it as a binomial, we determine the proability a player gets a rebound on the average possession (the rebounding rate), and the number of possessions the player is in the game for. \n",
    "\n",
    "What would that mean if you're thinking about taking a prop bet like Giannis over/under 9 rebounds? Just from a geometry standpoint, which is the slightly better deal in the area closest to the middle of the curve?\n",
    "\n",
    "That's actually a trick question. I showed you a binomial distribution that was heavier on the left (making the under a possibly better value), but they can be heavier on the right as well.\n",
    "\n",
    "Let's say we're looking at a prop bet on CJ McCollum over 3.5 rebounds. \n",
    "\n",
    "![cj mccollum prop bet from covers.com](img/cj.png)"
   ]
  },
  {
   "cell_type": "markdown",
   "metadata": {},
   "source": [
    "We can pull his rebounds per 100 posessions rate from basketball-reference, then estimate the number of possessions by comparing it to his rebounds per game stat. Obviously, this is an extremely rough model, but we gotta start somewhere.\n",
    "\n",
    "Notice this time that the binomial distribution is a little taller on the right -- 4 bigger than 2, 5 bigger than 1, etc. You have to squint pretty hard to see it as a normal distribution."
   ]
  },
  {
   "cell_type": "code",
   "execution_count": 23,
   "metadata": {},
   "outputs": [
    {
     "data": {
      "text/plain": [
       "<BarContainer object of 10 artists>"
      ]
     },
     "execution_count": 23,
     "metadata": {},
     "output_type": "execute_result"
    },
    {
     "data": {
      "image/png": "[encoded data removed]",
      "text/plain": [
       "<Figure size 640x480 with 1 Axes>"
      ]
     },
     "metadata": {},
     "output_type": "display_data"
    }
   ],
   "source": [
    "reb_per_100 = 5.3 # per 100 possessions numbers from bbref\n",
    "reb_per_possession  = reb_per_100/ 100 \n",
    "reb_per_game = 3.6\n",
    "poss_per_game = round(100 * (reb_per_game/reb_per_100))\n",
    "\n",
    "cj2 = scipy.stats.binom(poss_per_game, reb_per_possession)\n",
    "\n",
    "\n",
    "cj2_df = pd.DataFrame({\n",
    "    'x': [x for x in range(0,10)],\n",
    "    'y': [cj2.pmf(x) for x in range(0,10)]\n",
    "\n",
    "})\n",
    "plt.bar(cj2_df.x, cj2_df.y)"
   ]
  },
  {
   "cell_type": "markdown",
   "metadata": {},
   "source": [
    "the mean matches his rebounds per game, as expected."
   ]
  },
  {
   "cell_type": "code",
   "execution_count": 24,
   "metadata": {},
   "outputs": [
    {
     "data": {
      "text/plain": [
       "np.float64(3.604)"
      ]
     },
     "execution_count": 24,
     "metadata": {},
     "output_type": "execute_result"
    }
   ],
   "source": [
    "cj2.mean()"
   ]
  },
  {
   "cell_type": "code",
   "execution_count": 25,
   "metadata": {},
   "outputs": [
    {
     "data": {
      "text/plain": [
       "0.5108777749415454"
      ]
     },
     "execution_count": 25,
     "metadata": {},
     "output_type": "execute_result"
    }
   ],
   "source": [
    "# probability of going under\n",
    "prob_under = sum(cj2_df[cj2_df.x < 3.5].y)\n",
    "prob_under"
   ]
  },
  {
   "cell_type": "markdown",
   "metadata": {},
   "source": [
    "Based on this simple model, there's a 51.1% chance of it going under. If it was 50% then the fair price would be be the same regardless of whether you take the over or the under, but if it's imbalanced, the more likely side should get a smaller payout when they do win. This is sort of like paying a higher vig on the bet. You have to put up more money than you win.\n",
    "\n",
    "[TODO: fix this awful prose]\n",
    "\n",
    "We can convert between the probability and the American style money line. In this case, a no-vig price for the under would be -104, and correspondingly +104 for the over."
   ]
  },
  {
   "cell_type": "code",
   "execution_count": 47,
   "metadata": {},
   "outputs": [
    {
     "data": {
      "text/plain": [
       "-104"
      ]
     },
     "execution_count": 47,
     "metadata": {},
     "output_type": "execute_result"
    }
   ],
   "source": [
    "def convert_prob_to_money_line(proba):\n",
    "    \n",
    "    if proba > .5:\n",
    "        money_line = -100 * (proba/(1-proba))\n",
    "    else:\n",
    "        money_line = 100 * ((1-proba) / proba)\n",
    "    return round(money_line)\n",
    "\n",
    "\n",
    "convert_prob_to_money_line(prob_under)"
   ]
  },
  {
   "cell_type": "markdown",
   "metadata": {},
   "source": [
    "So, under 3.5 rebounds at -105 is a pretty fair line, based on our assumptions. We'd still lose money over the long run, though, because of the tiny difference between -104 and -105. If the line were instead +105 for the under, it would be a bet we could expect to make money on.\n",
    "\n",
    "Even small changes to our assumptions can drastically change how good of a deal the bet is. In this game, he was playing against Chicago, which is a very fast paced team.  If we decided that CJ will play 10% more possessions than usual, due to faster pace, or a teammate being injured, or some other factor, the model changes:"
   ]
  },
  {
   "cell_type": "code",
   "execution_count": 27,
   "metadata": {},
   "outputs": [
    {
     "data": {
      "text/plain": [
       "<BarContainer object of 10 artists>"
      ]
     },
     "execution_count": 27,
     "metadata": {},
     "output_type": "execute_result"
    },
    {
     "data": {
      "image/png": "[encoded data removed]",
      "text/plain": [
       "<Figure size 640x480 with 1 Axes>"
      ]
     },
     "metadata": {},
     "output_type": "display_data"
    }
   ],
   "source": [
    "reb_per_100 = 5.3 # per 100 possessions numbers from bbref\n",
    "reb_per_possession  = reb_per_100/ 100 \n",
    "reb_per_game = 3.6\n",
    "\n",
    "poss_per_game = round(1.1 * 100 * (reb_per_game/reb_per_100)) # increase number of possessions by 10%\n",
    "\n",
    "cj3 = scipy.stats.binom(poss_per_game, reb_per_possession)\n",
    "\n",
    "\n",
    "cj3_df = pd.DataFrame({\n",
    "    'x': [x for x in range(0,10)],\n",
    "    'y': [cj3.pmf(x) for x in range(0,10)]\n",
    "\n",
    "})\n",
    "plt.bar(cj3_df.x, cj3_df.y)"
   ]
  },
  {
   "cell_type": "code",
   "execution_count": 28,
   "metadata": {},
   "outputs": [
    {
     "data": {
      "text/plain": [
       "0.43313887452989086"
      ]
     },
     "execution_count": 28,
     "metadata": {},
     "output_type": "execute_result"
    }
   ],
   "source": [
    "new_proba = sum(cj3_df[cj3_df.x < 3.5].y)\n",
    "\n",
    "new_proba"
   ]
  },
  {
   "cell_type": "code",
   "execution_count": 29,
   "metadata": {},
   "outputs": [
    {
     "data": {
      "text/plain": [
       "131"
      ]
     },
     "execution_count": 29,
     "metadata": {},
     "output_type": "execute_result"
    }
   ],
   "source": [
    "convert_proba(new_proba)"
   ]
  },
  {
   "cell_type": "markdown",
   "metadata": {},
   "source": [
    "Under these assumptions, the fair price for under 3.5 rebounds would be +131, making the -105 offer a terrible deal.\n",
    "\n",
    "To rationally be betting props you'd have to be doing all this binomial nonsense to figure out if the vig is fair or not on every single bet. It's a multiple step calculation process with lots of assumptions. \n",
    "\n",
    "I'd guess there are apps and websites that can help, but it's still betting on how well you did your math homework more than it is betting on sports.\n",
    "\n",
    "It's not really a bet on whether CJ McCollum will have a good game tonight. He played poorly in the last game but got 4 rebounds, so the over would have paid. McCollum got 38 points the game before that, and only got 3 rebounds. He scored 50 points a month ago and got 3 rebounds.\n",
    "\n",
    "It's really a bet on whether the player gets more minutes than average, the team plays at a certain pace, what the opponent's rebounding rate is, etc.\n",
    "\n",
    "It seems like a much more variable thing to bet on than who wins versus the spread.\n",
    "\n",
    "If you're a sicko like me, that could be fun, but do you think people are doing this big math problem every time they place a prop bet? \n",
    "\n",
    "Of course not. They're probably just taking the over regardless of price, because overs are more fun. Rooting against CJ McCollum getting his 4th rebound at the end of a meaningless game where he already scored 50 points is pathological.\n",
    "\n",
    "The sportsbooks aggressively push overs as well. Here's a screenshot from the ESPN Bet sportsbook:\n",
    "\n",
    "![a screen only offering over prop bets](img/prop_overs2.png)\n",
    "\n",
    "This is their main NBA betting page on 1/30/2025. They offer the ability to pick the overs on prop bets from that page, but not the unders. You have to dig deep if you want to take the unders. I think they have to legally allow bets on both sides, but they sure don't make it easy.\n",
    "\n",
    "FanDuel does the same thing. When I visit their site, I'm directed to the \"parlay lounge\" from the homepage, which offers a bunch of premade parlays that are all overs. You can't change the legs of those parlays to be unders, you can only change which player you're taking the over on.\n",
    "\n",
    "To bet the under, you have to pick the game in question, then select \"player points\", then scroll down through several pages of over-only bets.\n",
    "\n",
    "![fanduel](img/fanduel.png)\n",
    "\n",
    "If this is your first day in a capitalist country, welcome. If not, you should be suspicious about which side is a better value if they're only pushing one side of these bets. With high vig on these bets\n",
    "\n",
    "It's a small sample size, but all three of the suggested prop bets from ESPN bet lost, and you would end up paying as much vig on 3 bets as if you lost 5 bets at -110 or 10 bets at -105."
   ]
  },
  {
   "cell_type": "markdown",
   "metadata": {},
   "source": [
    "The vig on prop bets is high enough on these bets that I don't know if savvy bettors could make money through arbitrage opportunities, and keep the lines honest. What I've seen is that when a line on a prop bet moves, the books also increase the size of the vig to a point where neither side could make money.\n",
    "\n",
    "The smaller the counts, the crazier the vig. Here's one for Brook Lopez over/under 1.5 assists.\n",
    "\n",
    "![brook lopez assists](img/brolo.png)"
   ]
  },
  {
   "cell_type": "markdown",
   "metadata": {},
   "source": [
    "+155/-190 isn't even close to 50/50. When you're betting the point spreads, no bet is really all that crazy since both sides should win about 50% of the time. But if the odds are imbalanced, that changes both the math and psychology of betting. More on that later.\n",
    "\n",
    "We can convert from American-style lines to probabilities of winning."
   ]
  },
  {
   "cell_type": "code",
   "execution_count": 38,
   "metadata": {},
   "outputs": [
    {
     "data": {
      "text/plain": [
       "0.39215686274509803"
      ]
     },
     "execution_count": 38,
     "metadata": {},
     "output_type": "execute_result"
    }
   ],
   "source": [
    "def convert_line(line):\n",
    "    if line < 0:\n",
    "        return abs(line)/(abs(line)+100)\n",
    "    else:\n",
    "        return 100/(100+line)"
   ]
  },
  {
   "cell_type": "code",
   "execution_count": 45,
   "metadata": {},
   "outputs": [
    {
     "data": {
      "text/plain": [
       "0.39215686274509803"
      ]
     },
     "execution_count": 45,
     "metadata": {},
     "output_type": "execute_result"
    }
   ],
   "source": [
    "convert_line(155)"
   ]
  },
  {
   "cell_type": "code",
   "execution_count": 39,
   "metadata": {},
   "outputs": [
    {
     "data": {
      "text/plain": [
       "0.6551724137931034"
      ]
     },
     "execution_count": 39,
     "metadata": {},
     "output_type": "execute_result"
    }
   ],
   "source": [
    "convert_line(-190)"
   ]
  },
  {
   "cell_type": "markdown",
   "metadata": {},
   "source": [
    "The sum of these two probabilities is greater than one, which is how the sportsbook makes money. For instance, over 1.5 +155 bet might only win 35% of the time. However, it is priced like it will win 39% of the time. That difference is essentially the vig - the percent of the amount bet that the sportsbook will have at the end of the night, assuming equal amounts of money on both sides.\n",
    "\n",
    "This is sometimes called \"the overrun\".\n",
    "\n",
    "Bet365 has the line at +155/-190, which is roughly equivalent to a -110 vig."
   ]
  },
  {
   "cell_type": "code",
   "execution_count": 40,
   "metadata": {},
   "outputs": [
    {
     "data": {
      "text/plain": [
       "0.047329276538201404"
      ]
     },
     "execution_count": 40,
     "metadata": {},
     "output_type": "execute_result"
    }
   ],
   "source": [
    "convert_line(155) + convert_line(-190) - 1"
   ]
  },
  {
   "cell_type": "markdown",
   "metadata": {},
   "source": [
    "However, Caesar's has it at +139/-192, which is much more lucrative for the sportsbook."
   ]
  },
  {
   "cell_type": "code",
   "execution_count": 41,
   "metadata": {},
   "outputs": [
    {
     "data": {
      "text/plain": [
       "0.0759442884163466"
      ]
     },
     "execution_count": 41,
     "metadata": {},
     "output_type": "execute_result"
    }
   ],
   "source": [
    "convert_line(139) + convert_line(-192) - 1"
   ]
  },
  {
   "cell_type": "markdown",
   "metadata": {},
   "source": [
    "This makes it equivalent to a bet at -115 vig.\n",
    "\n",
    "$winPct - ((1-winPct) * vig) = -7.59$\n",
    "\n",
    "$ 50 - (50 * vig) = -7.59$\n",
    "\n",
    "$ vig = 57.59/50 = 1.15$"
   ]
  },
  {
   "cell_type": "markdown",
   "metadata": {},
   "source": [
    "### Devigging\n",
    "\n",
    "What side of the bet get applied to, though? the sportsbooks decide what the fair (no-vig) price is, and then add their cut on top of that. So the fair price might be +180, which goes to +155 when the vig is added on top.\n",
    "\n",
    "It would be nice to \"de-vig\" the price, to get the true estimated probability. For one thing, this might present arbitrage opportunities. If a sportsbook is really good at handicapping, you could de-vig their prices and then look for other sportsbooks that are offering that bet at a price better than that.\n",
    "\n",
    "It turns out it's hard to determine the best way to de-vig. The most common way of de-vigging ends up deciding that it's the underdog that pays the vig, known as the favorite-longshot bias. The sportsbooks make the underdog a slightly less better value than the \"overcat\". I'm not sure I'm totally sold; I think [this article](https://www.football-data.co.uk/blog/favourite_longshot_bias_revisited_again.php) presents a good argument against it.\n",
    "\n",
    "My own personal take would be they're probably adding the vig on the side they think is going to get more action. Sometimes that could be an underdog, sometimes it could be the favorite. \n",
    "\n",
    "The sportsbooks know what teams and players people like to bet on. They have a huge amount of data about their users, and hand-create parlays with cutesy names:\n",
    "\n",
    "![prop bet name with greengrocer's comma](img/heros.png)\n",
    "\n",
    "Why wouldn't they use that to maximize the amount of vig people are paying? Then use dark patterns to encourage people to take those bets?\n",
    "\n",
    "Clearly somebody creates those parlays every day. I think I'd be good at that job, though I'd be tempted to do the \"Cards Against Humanity\" versions. Gradey Dick would be in so many parlays, man. \n",
    "\n",
    "I have some safe for work ideas, too. All unders, to provide a little balance.\n",
    "\n",
    "* \"Chess Masters\": Lebron \"King\" James, Stephon Castle, Trevelin Queen\n",
    "* \"White Boy Spring\": Nikola Jokic/Christian Braun/Franz Wagner\n",
    "* \"Good Eaters\": Zion Williams, Luka Doncic, Guerschon Yabusele\n",
    "* \"There Are Two Many Jalens These Days, Please Eliminate Two\": Jaylen Brown, Jaylen Wells, Jalen Brunson, Jalen Green, Jalen Williams, Jalen Johnson, Jalen Suggs\n",
    "\n",
    "By the way, that prop bet is shit. Just going off the home records of those teams, the fair price should be +2994. All three teams are playing against slightly above average opponents (Lakers, Timberwolves, Hawks), so it's a lazy way to estimate the price, but it's not unfair. It might even be underestimating it a bit, if you think their opponents are playing better than their records.\n",
    "\n",
    "Based on my estimate, on the 3% chance you do win, you basically have to turn around and give most of it back to the bookie for the privilege of taking the bet."
   ]
  },
  {
   "cell_type": "code",
   "execution_count": 107,
   "metadata": {},
   "outputs": [
    {
     "name": "stdout",
     "output_type": "stream",
     "text": [
      "est true odds: 0.03232323232323232\n",
      "fair bet: risk 100 to win $2994\n",
      "bookie's cut $1624\n",
      "your cut: $1370\n",
      "sucker tax: 54.24%\n"
     ]
    }
   ],
   "source": [
    "# this is from january 30th, 2025.\n",
    "\n",
    "# washington are 4-18 at home\n",
    "# utah are 5-20 at home\n",
    "# clebeland is 24-3\n",
    "# their opponents tonight are all average, so using the home records as probability estimate isn't crazy\n",
    "\n",
    "# actual money lines were was +280 wizards, +196 jazz, -600 clebeland\n",
    "payout = 1370\n",
    "\n",
    "true_odds = (4 / 22) * (5/25) * (24/27)\n",
    "\n",
    "print(f\"est true odds: {true_odds}\")\n",
    "\n",
    "ml = convert_prob_to_money_line(true_odds)\n",
    "\n",
    "print(f\"fair bet: risk 100 to win ${ml}\")\n",
    "print(f\"bookie's cut ${ml - payout}\")\n",
    "print(f\"your cut: ${payout}\")\n",
    "print(f\"sucker tax: {100 * (ml-payout)/ml:.2f}%\")"
   ]
  },
  {
   "cell_type": "markdown",
   "metadata": {},
   "source": [
    "the money lines for those games were +280/+196/-600. we can multiply those together to get another estimate of the \"fair\" money line. (Why did I put \"fair\" in scare quotes?)"
   ]
  },
  {
   "cell_type": "code",
   "execution_count": 67,
   "metadata": {},
   "outputs": [
    {
     "name": "stdout",
     "output_type": "stream",
     "text": [
      "odds based on money lines: 0.07620402357244462\n",
      "supposedly fair money line: $1212\n"
     ]
    }
   ],
   "source": [
    "odds_based_on_mls = convert_line(280) * convert_line(196) * convert_line(-600)\n",
    "\n",
    "print(f\"odds based on money lines: {odds_based_on_mls}\")\n",
    "print(f\"supposedly fair money line: ${convert_prob_to_money_line(odds_based_on_mls)}\")"
   ]
  },
  {
   "cell_type": "markdown",
   "metadata": {},
   "source": [
    "Wait, they're offering a bet with a fair price of $1212 for $1370? Isn't that actually a good deal? Wouldn't you have to be crazy *not* to offer it to you? Am I lying to you? \n",
    "\n",
    "No! The original money lines all have vig on them, so we can't multiply them together.  We can use the same moneyline-spread conversion chart we've been using to get the fair (no vig) money lines.\n",
    "\n",
    "Spreads were: Wizards +9, Jazz +6, Cavs -10.5.    \n",
    "Corresponding no-vig ML prices are: +459, +251, -709"
   ]
  },
  {
   "cell_type": "code",
   "execution_count": 92,
   "metadata": {},
   "outputs": [
    {
     "name": "stdout",
     "output_type": "stream",
     "text": [
      "prob based on spreads: 0.044666177682269013\n",
      "fair money line, based on spreads: $2139\n",
      "bookie's cut $769\n",
      "your cut: $1370\n",
      "sucker tax: 35.95%\n"
     ]
    }
   ],
   "source": [
    "prob_based_on_spreads = convert_line(459) * convert_line(251) * convert_line(-709)\n",
    "ml2 = convert_prob_to_money_line(prob_based_on_spreads)\n",
    "\n",
    "print(f\"prob based on spreads: {prob_based_on_spreads}\")\n",
    "print(f\"no-vig money line, based on spreads: ${ml2}\")\n",
    "print(f\"bookie's cut ${ml2 - payout}\")\n",
    "print(f\"your cut: ${payout}\")\n",
    "print(f\"sucker tax: {100 * (ml2-payout)/ml2:.2f}%\")\n"
   ]
  },
  {
   "cell_type": "markdown",
   "metadata": {},
   "source": [
    "Based on that estimation, the sucker tax is only 36% instead of 52%, but that's still crazy.\n",
    "\n",
    "Note that the actual Cavs moneyline was -600 and the no-vig price based on spread was -709. So the favorite was a bargain, and the underdog a bad bet.\n",
    "\n",
    "How much of a bargain? Well, the bet wins around 7/8 of the time, but it's priced like it wins 6/7 of the time and loses 1/7 of the time."
   ]
  },
  {
   "cell_type": "code",
   "execution_count": 105,
   "metadata": {},
   "outputs": [
    {
     "data": {
      "text/plain": [
       "0.019247748543174972"
      ]
     },
     "execution_count": 105,
     "metadata": {},
     "output_type": "execute_result"
    }
   ],
   "source": [
    "# chances of winning minus chances of losing\n",
    "(convert_line(600) * convert_line(-709)) - (convert_line(-600) * convert_line(+709))"
   ]
  },
  {
   "cell_type": "markdown",
   "metadata": {},
   "source": [
    "So there's a maybe , assuming the spread is perfectly fair. It's possible that the money line might be a slightly better value on heavy favorites. I'm not going to draw too many conclusions from one data point.\n",
    "\n",
    "Speaking of which, the Cavs won by 22, Utah lost by 25, and Washington lost by 38. I know that's hindsight bias, but my original estimate of the parlay using home records was closer to the true outcome than the money lines set by the sportsbooks.\n",
    "\n",
    "I think it's time for something new. Let's take a break from the math. Sorta."
   ]
  }
 ],
 "metadata": {
  "kernelspec": {
   "display_name": "Python 3",
   "language": "python",
   "name": "python3"
  },
  "language_info": {
   "codemirror_mode": {
    "name": "ipython",
    "version": 3
   },
   "file_extension": ".py",
   "mimetype": "text/x-python",
   "name": "python",
   "nbconvert_exporter": "python",
   "pygments_lexer": "ipython3",
   "version": "3.11.9"
  }
 },
 "nbformat": 4,
 "nbformat_minor": 2
}
