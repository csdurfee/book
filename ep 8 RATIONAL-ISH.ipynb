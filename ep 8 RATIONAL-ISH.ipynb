{
 "cells": [
  {
   "cell_type": "markdown",
   "metadata": {},
   "source": [
    "# Don't Be a Sucker\n",
    "## Chapter whatever: Rational-ish Betting"
   ]
  },
  {
   "cell_type": "markdown",
   "metadata": {},
   "source": [
    "I don't know you. Obviously you're a smart person, because you read my book. Is that enough to make money long term? Of course not\n",
    "\n",
    "I won't do the lecture about how 97% of people will lose money long term, blah blah blah, again. \n",
    "\n",
    "Say you do want to place some bets? What's the least crazy way to do that?"
   ]
  },
  {
   "cell_type": "markdown",
   "metadata": {},
   "source": [
    "### No Fancy Bets\n",
    "\n",
    "Nothing but bets against the spread, at the best terms you can find. I have shown how every \"fancy\" option -- parlays, teasers, buying points, live bets, money lines, etc. -- can be ways to take more money from the gambler. They make the gambler feel special, like they're doing something sophisticated or clever, getting free money, working the system. Or they make the gambler feel like they are taking a less risky bet. Or they make the gambler feel like they are doing something gutsy. You just don't have the *huevos* to appreciate their 12 team parlay. It might only hit once in 20 years, but that 50 dollar payout will be so sweet.\n",
    "\n",
    "### Pinch Every Penny\n",
    "\n",
    "Find a way to bet at reduced juice. By now it should be obvious that only suckers pay more vig than they have to. \n",
    "\n",
    "There are two types of sportsbooks. There are retail sportsbooks that make money off of recreational players. advertise heavily, and specialize in sucker bets. They tend to ban winning players rather than adjust the lines based on the sides they take.\n",
    "\n",
    "There are also betting markets, who make money off of volume and specialize in reduced juice. Retail sportsbooks have no reason to allow players with an advantage to play. Market makers are happy to take those bets, because they're not the ones losing money when you win. Their lines are sharper, because they move the lines in response to sharp players.\n",
    "\n",
    "The best handicappers in the world are only a little bit better than flipping a coin. There's no margin for error or being lazy. Every half point and every vig matters. Every bet is a math problem and a business transaction. Take the best odds you can, and don't take bad odds.  There are websites like [unabated](https://unabated.com/nba/odds) that show the odds at every major sportsbook. A bet is only a good idea at a particular price.\n",
    "\n",
    "### Do Something Original\n",
    "If you do what most people do, expect the results most people get. If 97% of people can't do a thing, you should imitate the 3% who can. That doesn't guarantee success, of course. But it's more noble to fail trying something original than fail doing something you know will fail.\n",
    "\n",
    "I definitely don't mean some kind of fancy scheme, or betting system, or \"free money\" parlay that you think is somehow breaking the game. Quite the opposite. That's what most people do -- they think their emotions are more real than the math. Or they think it's some puzzle that can be cracked through pure reason, like a detective game. If you just put the clues together in the right way, you can predict the winner with 100% certainty.\n",
    "\n",
    "It's not like that at all, based on the numbers. It's more like there's a bowl of coins on a table. Some are fair coins. Both sides come up 50% of the time. Some are biased to come up heads 60% of the time, and the rest are biased to come up tails 60% of the time. \n",
    "\n",
    "The coins are slightly different based on weight or color or something, but it's so subtle that most people can't tell which is which. There aren't any simple rules to follow. Some people can do it, some can't. A whole lot of people think they can do it but can't.\n",
    "\n",
    "The gambler gets to choose which coins to flip, and which side they want to bet. They have to risk 11 to win 10.\n",
    "\n",
    "If they're good, they bet heads on the ones biased towards heads, tails on the ones biased towards tails, and they don't bet on the fair coins. But there's still a huge element of chance in the outcome. It's at best a biased coin flip. The gambler can lose even when they make the right call, and win when they make the wrong call.\n",
    "\n",
    "In the long run, if the gambler is good at distinguish the coins, they'll win more than they lose. But most people will lose. The unbiased coins are losers no matter which side you pick, due to needing to risk more than you win.\n",
    "\n",
    "Anybody with aspirations of winning at a game like this should have a good answer to the question, \"what do you know that other people don't know?\" Understanding the math, avoiding bad bets, and getting lots of practice are a good start, but probably not enough.\n"
   ]
  },
  {
   "cell_type": "markdown",
   "metadata": {},
   "source": [
    "### Assume Everyone Else is Bad At This\n",
    "\n",
    "We saw buying picks are a bad idea, even from somebody with proven success as a handicapper, because they end up being ridiculously expensive. If a tout is right 55% of the time, someone taking their picks can expect to go 55-45 over 100 bets, netting 5.5 units of profit. If the picks cost $30 a game, the gambler has to win $3000 to cover the picks, which means risking over $500 on every single game just to cover that cost. \n",
    "\n",
    "There are countless websites and podcasts offering free picks. They're probably worth what you pay for them! I found several \"AI powered\" prediction sites that were no better than a coin flip over 100+ bets. These models are probably trained on the same conventional statistics everybody has access to. No matter what algorithm the model uses, it's probably going to produce similar results\n",
    "\n",
    "There are basketball podcasters that know a lot about basketball. With gambling sponsorships being so common these days, many of them will give their picks. Maybe this is a less bad idea, because you're listening to someone who knows basketball, but why would those picks be good just because they know a lot about the game?\n",
    "\n",
    "Right now, the Chicago Bulls are considered an unwatchable tire fire, a laughingstock, an objectively terrible team. Same for the Raptors and Kings. (I enjoy watching all of those teams, because I am a sicko.) If social media or podcasters are talking about them, it's about what's wrong with them, about how they'll never win anything. What *hoop knower* in their right mind would bet on those teams? You'd have to be a silly casual fan to bet on them, right?\n",
    "\n",
    "Wrong. Those teams are 27-13 against the spread since the All Star Break, for the same reason I kind of like watching them -- they're better than you might think. They could lose their next 9 games in a row against the spread, and somebody betting all of their games would still be winning 55% of the time.\n",
    "\n",
    "Toronto and Brooklyn are two more teams that have been far better at winning bets than winning games this season. This happens every year. The teams are bad, but not quite as bad as people think. The conventional wisdom is superficially true, but extremely shallow. Yes, they are bad. But are they +9 points bad, or +6 points bad? The team they are playing is good. But are they -11 good, or -7 good? That's a very different kind of thinking than \"who will win in a 7 game series\". It's sort of an alternate kingdom of basketball, where Coby White is a god.\n",
    "\n",
    "The internet has added a new social element to betting, where people will seek out advice on what bets to take, or offer their own picks. If 97% of people lose money long term on betting, how good will the consensus opinion be? If you average together a bunch of nonsense, you get more nonsense.\n",
    "\n",
    "Let's say a line really was off by several points. One side of the bet will win 60% of the time. Like, the best angle anyone's ever going to find. Why would social media pick up on that? Isn't social media just going to amplify whatever biases that led to the line being wrong in the first place? \n",
    "\n",
    "Survivorship bias is very likely for amateur touts. For everyone with an impressive record offering picks, there are many people who tried and stopped, so you have no way of knowing the probability that some rando on reddit is actually good. The survivors weren't necessarily the good ones, but the lucky ones. If I flip enough coins, some of them will have impressive winning records after 100 flips/picks. That doesn't mean those \"winners\" will keep winning over the long term. They just won the coin flipping contest. For a while, at least."
   ]
  },
  {
   "cell_type": "markdown",
   "metadata": {},
   "source": [
    "### Assume You're Bad Until You Prove Otherwise\n",
    "If you don't know, you should assume you're not very good. There's no reason to believe that you can consistently win without a lot of practice first. \n",
    "\n",
    "Track everything. Team, exact line taken, exact vig. Make it realistic and be honest with yourself.\n"
   ]
  }
 ],
 "metadata": {
  "kernelspec": {
   "display_name": "Python 3",
   "language": "python",
   "name": "python3"
  },
  "language_info": {
   "codemirror_mode": {
    "name": "ipython",
    "version": 3
   },
   "file_extension": ".py",
   "mimetype": "text/x-python",
   "name": "python",
   "nbconvert_exporter": "python",
   "pygments_lexer": "ipython3",
   "version": "3.11.9"
  }
 },
 "nbformat": 4,
 "nbformat_minor": 2
}
